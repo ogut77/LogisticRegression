{
  "nbformat": 4,
  "nbformat_minor": 0,
  "metadata": {
    "colab": {
      "name": "Santander3.ipynb",
      "version": "0.3.2",
      "provenance": [],
      "collapsed_sections": [],
      "include_colab_link": true
    },
    "kernelspec": {
      "name": "python3",
      "display_name": "Python 3"
    }
  },
  "cells": [
    {
      "cell_type": "markdown",
      "metadata": {
        "id": "view-in-github",
        "colab_type": "text"
      },
      "source": [
        "<a href=\"https://colab.research.google.com/github/ogut77/LogisticRegression/blob/master/Santander3.ipynb\" target=\"_parent\"><img src=\"https://colab.research.google.com/assets/colab-badge.svg\" alt=\"Open In Colab\"/></a>"
      ]
    },
    {
      "metadata": {
        "id": "5Oy-FBOFe7K1",
        "colab_type": "code",
        "outputId": "9959d271-8b5a-4a9d-cd08-e3b2cd8e117f",
        "colab": {
          "base_uri": "https://localhost:8080/",
          "height": 121
        }
      },
      "cell_type": "code",
      "source": [
        "import pandas as pd\n",
        "from google.colab import drive\n",
        "\n",
        "# This will prompt for authorization.\n",
        "drive.mount('/content/drive')\n",
        "   "
      ],
      "execution_count": 1,
      "outputs": [
        {
          "output_type": "stream",
          "text": [
            "Go to this URL in a browser: https://accounts.google.com/o/oauth2/auth?client_id=947318989803-6bn6qk8qdgf4n4g3pfee6491hc0brc4i.apps.googleusercontent.com&redirect_uri=urn%3Aietf%3Awg%3Aoauth%3A2.0%3Aoob&scope=email%20https%3A%2F%2Fwww.googleapis.com%2Fauth%2Fdocs.test%20https%3A%2F%2Fwww.googleapis.com%2Fauth%2Fdrive%20https%3A%2F%2Fwww.googleapis.com%2Fauth%2Fdrive.photos.readonly%20https%3A%2F%2Fwww.googleapis.com%2Fauth%2Fpeopleapi.readonly&response_type=code\n",
            "\n",
            "Enter your authorization code:\n",
            "··········\n",
            "Mounted at /content/drive\n"
          ],
          "name": "stdout"
        }
      ]
    },
    {
      "metadata": {
        "id": "LUNC1WewPKlH",
        "colab_type": "code",
        "outputId": "0b74ab14-d05d-414f-b90a-b04c34951985",
        "colab": {
          "base_uri": "https://localhost:8080/",
          "height": 202
        }
      },
      "cell_type": "code",
      "source": [
        "!pip install kaggle"
      ],
      "execution_count": 8,
      "outputs": [
        {
          "output_type": "stream",
          "text": [
            "Requirement already satisfied: kaggle in /usr/local/lib/python3.6/dist-packages (1.5.3)\n",
            "Requirement already satisfied: urllib3<1.25,>=1.21.1 in /usr/local/lib/python3.6/dist-packages (from kaggle) (1.22)\n",
            "Requirement already satisfied: six>=1.10 in /usr/local/lib/python3.6/dist-packages (from kaggle) (1.11.0)\n",
            "Requirement already satisfied: certifi in /usr/local/lib/python3.6/dist-packages (from kaggle) (2019.3.9)\n",
            "Requirement already satisfied: python-dateutil in /usr/local/lib/python3.6/dist-packages (from kaggle) (2.5.3)\n",
            "Requirement already satisfied: requests in /usr/local/lib/python3.6/dist-packages (from kaggle) (2.18.4)\n",
            "Requirement already satisfied: tqdm in /usr/local/lib/python3.6/dist-packages (from kaggle) (4.28.1)\n",
            "Requirement already satisfied: python-slugify in /usr/local/lib/python3.6/dist-packages (from kaggle) (3.0.0)\n",
            "Requirement already satisfied: idna<2.7,>=2.5 in /usr/local/lib/python3.6/dist-packages (from requests->kaggle) (2.6)\n",
            "Requirement already satisfied: chardet<3.1.0,>=3.0.2 in /usr/local/lib/python3.6/dist-packages (from requests->kaggle) (3.0.4)\n",
            "Requirement already satisfied: text-unidecode==1.2 in /usr/local/lib/python3.6/dist-packages (from python-slugify->kaggle) (1.2)\n"
          ],
          "name": "stdout"
        }
      ]
    },
    {
      "metadata": {
        "id": "Yhf-eYWiPnld",
        "colab_type": "code",
        "colab": {}
      },
      "cell_type": "code",
      "source": [
        "!mkdir '/content/.kaggle/'"
      ],
      "execution_count": 0,
      "outputs": []
    },
    {
      "metadata": {
        "id": "ZNFh7SvFQwCN",
        "colab_type": "code",
        "outputId": "2813ebb5-72e7-4289-b232-e5d36f6caf4c",
        "colab": {
          "base_uri": "https://localhost:8080/",
          "height": 34
        }
      },
      "cell_type": "code",
      "source": [
        "!ls '/content/santander/'"
      ],
      "execution_count": 27,
      "outputs": [
        {
          "output_type": "stream",
          "text": [
            "sample_submission.csv.zip  test.csv.zip  train.csv.zip\n"
          ],
          "name": "stdout"
        }
      ]
    },
    {
      "metadata": {
        "id": "L9oluC0eQW1b",
        "colab_type": "code",
        "colab": {}
      },
      "cell_type": "code",
      "source": [
        "import json\n",
        "token = {\"username\":\"hulisi\",\"key\":\"4163066d5cebf9ad2cc14e4ef9a71c3c\"}\n",
        "with open('/content/.kaggle/kaggle.json', 'w') as file:\n",
        "    json.dump(token, file)"
      ],
      "execution_count": 0,
      "outputs": []
    },
    {
      "metadata": {
        "id": "bSzSmL1DQgzC",
        "colab_type": "code",
        "colab": {}
      },
      "cell_type": "code",
      "source": [
        "!cp '/content/.kaggle/kaggle.json' ~/.kaggle/kaggle.json"
      ],
      "execution_count": 0,
      "outputs": []
    },
    {
      "metadata": {
        "id": "uDK6cUrvQnbp",
        "colab_type": "code",
        "outputId": "2bd75c2e-290b-443a-fe9f-5f1badf28577",
        "colab": {
          "base_uri": "https://localhost:8080/",
          "height": 50
        }
      },
      "cell_type": "code",
      "source": [
        "!kaggle config set -n path -v{/content/}"
      ],
      "execution_count": 20,
      "outputs": [
        {
          "output_type": "stream",
          "text": [
            "Warning: Your Kaggle API key is readable by other users on this system! To fix this, you can run 'chmod 600 /root/.kaggle/kaggle.json'\n",
            "- path is now set to: {/content/}\n"
          ],
          "name": "stdout"
        }
      ]
    },
    {
      "metadata": {
        "id": "FhGz7PSuRzi9",
        "colab_type": "code",
        "outputId": "26df649b-6b73-46cd-f256-d186cce3274b",
        "colab": {
          "base_uri": "https://localhost:8080/",
          "height": 185
        }
      },
      "cell_type": "code",
      "source": [
        "!kaggle competitions download -c santander-customer-transaction-prediction -p /content/"
      ],
      "execution_count": 33,
      "outputs": [
        {
          "output_type": "stream",
          "text": [
            "Warning: Your Kaggle API key is readable by other users on this system! To fix this, you can run 'chmod 600 /root/.kaggle/kaggle.json'\n",
            "Downloading train.csv.zip to /content\n",
            " 99% 121M/122M [00:02<00:00, 28.7MB/s]\n",
            "100% 122M/122M [00:02<00:00, 44.6MB/s]\n",
            "Downloading sample_submission.csv.zip to /content\n",
            "  0% 0.00/463k [00:00<?, ?B/s]\n",
            "100% 463k/463k [00:00<00:00, 106MB/s]\n",
            "Downloading test.csv.zip to /content\n",
            " 98% 119M/122M [00:00<00:00, 144MB/s]\n",
            "100% 122M/122M [00:00<00:00, 141MB/s]\n"
          ],
          "name": "stdout"
        }
      ]
    },
    {
      "metadata": {
        "id": "05UOpdKESEml",
        "colab_type": "code",
        "outputId": "44b900d8-0cb9-4813-fe60-b6a36f9a54ec",
        "colab": {
          "base_uri": "https://localhost:8080/",
          "height": 50
        }
      },
      "cell_type": "code",
      "source": [
        "!ls '/content/'"
      ],
      "execution_count": 34,
      "outputs": [
        {
          "output_type": "stream",
          "text": [
            "drive\t     sample_submission.csv.zip\ttest.csv.zip\n",
            "sample_data  santander\t\t\ttrain.csv.zip\n"
          ],
          "name": "stdout"
        }
      ]
    },
    {
      "metadata": {
        "id": "UT7LM27dV0o4",
        "colab_type": "code",
        "outputId": "888acb57-8cc2-4a12-fb92-ab8c5794d349",
        "colab": {
          "base_uri": "https://localhost:8080/",
          "height": 261
        }
      },
      "cell_type": "code",
      "source": [
        "d2 = pd.read_csv('/content/drive/My Drive/Santander/train.csv')\n",
        "d2.head()"
      ],
      "execution_count": 132,
      "outputs": [
        {
          "output_type": "execute_result",
          "data": {
            "text/html": [
              "<div>\n",
              "<style scoped>\n",
              "    .dataframe tbody tr th:only-of-type {\n",
              "        vertical-align: middle;\n",
              "    }\n",
              "\n",
              "    .dataframe tbody tr th {\n",
              "        vertical-align: top;\n",
              "    }\n",
              "\n",
              "    .dataframe thead th {\n",
              "        text-align: right;\n",
              "    }\n",
              "</style>\n",
              "<table border=\"1\" class=\"dataframe\">\n",
              "  <thead>\n",
              "    <tr style=\"text-align: right;\">\n",
              "      <th></th>\n",
              "      <th>Unnamed: 0</th>\n",
              "      <th>ID_code</th>\n",
              "      <th>target</th>\n",
              "      <th>var_0</th>\n",
              "      <th>var_1</th>\n",
              "      <th>var_2</th>\n",
              "      <th>var_3</th>\n",
              "      <th>var_4</th>\n",
              "      <th>var_5</th>\n",
              "      <th>var_6</th>\n",
              "      <th>...</th>\n",
              "      <th>var_190</th>\n",
              "      <th>var_191</th>\n",
              "      <th>var_192</th>\n",
              "      <th>var_193</th>\n",
              "      <th>var_194</th>\n",
              "      <th>var_195</th>\n",
              "      <th>var_196</th>\n",
              "      <th>var_197</th>\n",
              "      <th>var_198</th>\n",
              "      <th>var_199</th>\n",
              "    </tr>\n",
              "  </thead>\n",
              "  <tbody>\n",
              "    <tr>\n",
              "      <th>0</th>\n",
              "      <td>0</td>\n",
              "      <td>train_0</td>\n",
              "      <td>0</td>\n",
              "      <td>8.9255</td>\n",
              "      <td>-6.7863</td>\n",
              "      <td>11.9081</td>\n",
              "      <td>5.0930</td>\n",
              "      <td>11.4607</td>\n",
              "      <td>-9.2834</td>\n",
              "      <td>5.1187</td>\n",
              "      <td>...</td>\n",
              "      <td>4.4354</td>\n",
              "      <td>3.9642</td>\n",
              "      <td>3.1364</td>\n",
              "      <td>1.6910</td>\n",
              "      <td>18.5227</td>\n",
              "      <td>-2.3978</td>\n",
              "      <td>7.8784</td>\n",
              "      <td>8.5635</td>\n",
              "      <td>12.7803</td>\n",
              "      <td>-1.0914</td>\n",
              "    </tr>\n",
              "    <tr>\n",
              "      <th>1</th>\n",
              "      <td>1</td>\n",
              "      <td>train_1</td>\n",
              "      <td>0</td>\n",
              "      <td>11.5006</td>\n",
              "      <td>-4.1473</td>\n",
              "      <td>13.8588</td>\n",
              "      <td>5.3890</td>\n",
              "      <td>12.3622</td>\n",
              "      <td>7.0433</td>\n",
              "      <td>5.6208</td>\n",
              "      <td>...</td>\n",
              "      <td>7.6421</td>\n",
              "      <td>7.7214</td>\n",
              "      <td>2.5837</td>\n",
              "      <td>10.9516</td>\n",
              "      <td>15.4305</td>\n",
              "      <td>2.0339</td>\n",
              "      <td>8.1267</td>\n",
              "      <td>8.7889</td>\n",
              "      <td>18.3560</td>\n",
              "      <td>1.9518</td>\n",
              "    </tr>\n",
              "    <tr>\n",
              "      <th>2</th>\n",
              "      <td>2</td>\n",
              "      <td>train_2</td>\n",
              "      <td>0</td>\n",
              "      <td>8.6093</td>\n",
              "      <td>-2.7457</td>\n",
              "      <td>12.0805</td>\n",
              "      <td>7.8928</td>\n",
              "      <td>10.5825</td>\n",
              "      <td>-9.0837</td>\n",
              "      <td>6.9427</td>\n",
              "      <td>...</td>\n",
              "      <td>2.9057</td>\n",
              "      <td>9.7905</td>\n",
              "      <td>1.6704</td>\n",
              "      <td>1.6858</td>\n",
              "      <td>21.6042</td>\n",
              "      <td>3.1417</td>\n",
              "      <td>-6.5213</td>\n",
              "      <td>8.2675</td>\n",
              "      <td>14.7222</td>\n",
              "      <td>0.3965</td>\n",
              "    </tr>\n",
              "    <tr>\n",
              "      <th>3</th>\n",
              "      <td>3</td>\n",
              "      <td>train_3</td>\n",
              "      <td>0</td>\n",
              "      <td>11.0604</td>\n",
              "      <td>-2.1518</td>\n",
              "      <td>8.9522</td>\n",
              "      <td>7.1957</td>\n",
              "      <td>12.5846</td>\n",
              "      <td>-1.8361</td>\n",
              "      <td>5.8428</td>\n",
              "      <td>...</td>\n",
              "      <td>4.4666</td>\n",
              "      <td>4.7433</td>\n",
              "      <td>0.7178</td>\n",
              "      <td>1.4214</td>\n",
              "      <td>23.0347</td>\n",
              "      <td>-1.2706</td>\n",
              "      <td>-2.9275</td>\n",
              "      <td>10.2922</td>\n",
              "      <td>17.9697</td>\n",
              "      <td>-8.9996</td>\n",
              "    </tr>\n",
              "    <tr>\n",
              "      <th>4</th>\n",
              "      <td>4</td>\n",
              "      <td>train_4</td>\n",
              "      <td>0</td>\n",
              "      <td>9.8369</td>\n",
              "      <td>-1.4834</td>\n",
              "      <td>12.8746</td>\n",
              "      <td>6.6375</td>\n",
              "      <td>12.2772</td>\n",
              "      <td>2.4486</td>\n",
              "      <td>5.9405</td>\n",
              "      <td>...</td>\n",
              "      <td>-1.4905</td>\n",
              "      <td>9.5214</td>\n",
              "      <td>-0.1508</td>\n",
              "      <td>9.1942</td>\n",
              "      <td>13.2876</td>\n",
              "      <td>-1.5121</td>\n",
              "      <td>3.9267</td>\n",
              "      <td>9.5031</td>\n",
              "      <td>17.9974</td>\n",
              "      <td>-8.8104</td>\n",
              "    </tr>\n",
              "  </tbody>\n",
              "</table>\n",
              "<p>5 rows × 203 columns</p>\n",
              "</div>"
            ],
            "text/plain": [
              "   Unnamed: 0  ID_code  target    var_0   var_1    var_2   var_3    var_4  \\\n",
              "0           0  train_0       0   8.9255 -6.7863  11.9081  5.0930  11.4607   \n",
              "1           1  train_1       0  11.5006 -4.1473  13.8588  5.3890  12.3622   \n",
              "2           2  train_2       0   8.6093 -2.7457  12.0805  7.8928  10.5825   \n",
              "3           3  train_3       0  11.0604 -2.1518   8.9522  7.1957  12.5846   \n",
              "4           4  train_4       0   9.8369 -1.4834  12.8746  6.6375  12.2772   \n",
              "\n",
              "    var_5   var_6   ...     var_190  var_191  var_192  var_193  var_194  \\\n",
              "0 -9.2834  5.1187   ...      4.4354   3.9642   3.1364   1.6910  18.5227   \n",
              "1  7.0433  5.6208   ...      7.6421   7.7214   2.5837  10.9516  15.4305   \n",
              "2 -9.0837  6.9427   ...      2.9057   9.7905   1.6704   1.6858  21.6042   \n",
              "3 -1.8361  5.8428   ...      4.4666   4.7433   0.7178   1.4214  23.0347   \n",
              "4  2.4486  5.9405   ...     -1.4905   9.5214  -0.1508   9.1942  13.2876   \n",
              "\n",
              "   var_195  var_196  var_197  var_198  var_199  \n",
              "0  -2.3978   7.8784   8.5635  12.7803  -1.0914  \n",
              "1   2.0339   8.1267   8.7889  18.3560   1.9518  \n",
              "2   3.1417  -6.5213   8.2675  14.7222   0.3965  \n",
              "3  -1.2706  -2.9275  10.2922  17.9697  -8.9996  \n",
              "4  -1.5121   3.9267   9.5031  17.9974  -8.8104  \n",
              "\n",
              "[5 rows x 203 columns]"
            ]
          },
          "metadata": {
            "tags": []
          },
          "execution_count": 132
        }
      ]
    },
    {
      "metadata": {
        "id": "cziuHOHNCKH1",
        "colab_type": "code",
        "colab": {}
      },
      "cell_type": "code",
      "source": [
        "d2.drop(['Unnamed: 0'], axis = 1, inplace = True)"
      ],
      "execution_count": 0,
      "outputs": []
    },
    {
      "metadata": {
        "id": "rb_xkC9A_J8O",
        "colab_type": "code",
        "colab": {}
      },
      "cell_type": "code",
      "source": [
        "d2.drop(['ID_code'], axis = 1, inplace = True)"
      ],
      "execution_count": 0,
      "outputs": []
    },
    {
      "metadata": {
        "id": "d7O3VgxcDt9h",
        "colab_type": "code",
        "colab": {
          "base_uri": "https://localhost:8080/",
          "height": 244
        },
        "outputId": "06ba065a-dcb8-46da-eb86-8e911a127ff9"
      },
      "cell_type": "code",
      "source": [
        "d2.head()"
      ],
      "execution_count": 135,
      "outputs": [
        {
          "output_type": "execute_result",
          "data": {
            "text/html": [
              "<div>\n",
              "<style scoped>\n",
              "    .dataframe tbody tr th:only-of-type {\n",
              "        vertical-align: middle;\n",
              "    }\n",
              "\n",
              "    .dataframe tbody tr th {\n",
              "        vertical-align: top;\n",
              "    }\n",
              "\n",
              "    .dataframe thead th {\n",
              "        text-align: right;\n",
              "    }\n",
              "</style>\n",
              "<table border=\"1\" class=\"dataframe\">\n",
              "  <thead>\n",
              "    <tr style=\"text-align: right;\">\n",
              "      <th></th>\n",
              "      <th>target</th>\n",
              "      <th>var_0</th>\n",
              "      <th>var_1</th>\n",
              "      <th>var_2</th>\n",
              "      <th>var_3</th>\n",
              "      <th>var_4</th>\n",
              "      <th>var_5</th>\n",
              "      <th>var_6</th>\n",
              "      <th>var_7</th>\n",
              "      <th>var_8</th>\n",
              "      <th>...</th>\n",
              "      <th>var_190</th>\n",
              "      <th>var_191</th>\n",
              "      <th>var_192</th>\n",
              "      <th>var_193</th>\n",
              "      <th>var_194</th>\n",
              "      <th>var_195</th>\n",
              "      <th>var_196</th>\n",
              "      <th>var_197</th>\n",
              "      <th>var_198</th>\n",
              "      <th>var_199</th>\n",
              "    </tr>\n",
              "  </thead>\n",
              "  <tbody>\n",
              "    <tr>\n",
              "      <th>0</th>\n",
              "      <td>0</td>\n",
              "      <td>8.9255</td>\n",
              "      <td>-6.7863</td>\n",
              "      <td>11.9081</td>\n",
              "      <td>5.0930</td>\n",
              "      <td>11.4607</td>\n",
              "      <td>-9.2834</td>\n",
              "      <td>5.1187</td>\n",
              "      <td>18.6266</td>\n",
              "      <td>-4.9200</td>\n",
              "      <td>...</td>\n",
              "      <td>4.4354</td>\n",
              "      <td>3.9642</td>\n",
              "      <td>3.1364</td>\n",
              "      <td>1.6910</td>\n",
              "      <td>18.5227</td>\n",
              "      <td>-2.3978</td>\n",
              "      <td>7.8784</td>\n",
              "      <td>8.5635</td>\n",
              "      <td>12.7803</td>\n",
              "      <td>-1.0914</td>\n",
              "    </tr>\n",
              "    <tr>\n",
              "      <th>1</th>\n",
              "      <td>0</td>\n",
              "      <td>11.5006</td>\n",
              "      <td>-4.1473</td>\n",
              "      <td>13.8588</td>\n",
              "      <td>5.3890</td>\n",
              "      <td>12.3622</td>\n",
              "      <td>7.0433</td>\n",
              "      <td>5.6208</td>\n",
              "      <td>16.5338</td>\n",
              "      <td>3.1468</td>\n",
              "      <td>...</td>\n",
              "      <td>7.6421</td>\n",
              "      <td>7.7214</td>\n",
              "      <td>2.5837</td>\n",
              "      <td>10.9516</td>\n",
              "      <td>15.4305</td>\n",
              "      <td>2.0339</td>\n",
              "      <td>8.1267</td>\n",
              "      <td>8.7889</td>\n",
              "      <td>18.3560</td>\n",
              "      <td>1.9518</td>\n",
              "    </tr>\n",
              "    <tr>\n",
              "      <th>2</th>\n",
              "      <td>0</td>\n",
              "      <td>8.6093</td>\n",
              "      <td>-2.7457</td>\n",
              "      <td>12.0805</td>\n",
              "      <td>7.8928</td>\n",
              "      <td>10.5825</td>\n",
              "      <td>-9.0837</td>\n",
              "      <td>6.9427</td>\n",
              "      <td>14.6155</td>\n",
              "      <td>-4.9193</td>\n",
              "      <td>...</td>\n",
              "      <td>2.9057</td>\n",
              "      <td>9.7905</td>\n",
              "      <td>1.6704</td>\n",
              "      <td>1.6858</td>\n",
              "      <td>21.6042</td>\n",
              "      <td>3.1417</td>\n",
              "      <td>-6.5213</td>\n",
              "      <td>8.2675</td>\n",
              "      <td>14.7222</td>\n",
              "      <td>0.3965</td>\n",
              "    </tr>\n",
              "    <tr>\n",
              "      <th>3</th>\n",
              "      <td>0</td>\n",
              "      <td>11.0604</td>\n",
              "      <td>-2.1518</td>\n",
              "      <td>8.9522</td>\n",
              "      <td>7.1957</td>\n",
              "      <td>12.5846</td>\n",
              "      <td>-1.8361</td>\n",
              "      <td>5.8428</td>\n",
              "      <td>14.9250</td>\n",
              "      <td>-5.8609</td>\n",
              "      <td>...</td>\n",
              "      <td>4.4666</td>\n",
              "      <td>4.7433</td>\n",
              "      <td>0.7178</td>\n",
              "      <td>1.4214</td>\n",
              "      <td>23.0347</td>\n",
              "      <td>-1.2706</td>\n",
              "      <td>-2.9275</td>\n",
              "      <td>10.2922</td>\n",
              "      <td>17.9697</td>\n",
              "      <td>-8.9996</td>\n",
              "    </tr>\n",
              "    <tr>\n",
              "      <th>4</th>\n",
              "      <td>0</td>\n",
              "      <td>9.8369</td>\n",
              "      <td>-1.4834</td>\n",
              "      <td>12.8746</td>\n",
              "      <td>6.6375</td>\n",
              "      <td>12.2772</td>\n",
              "      <td>2.4486</td>\n",
              "      <td>5.9405</td>\n",
              "      <td>19.2514</td>\n",
              "      <td>6.2654</td>\n",
              "      <td>...</td>\n",
              "      <td>-1.4905</td>\n",
              "      <td>9.5214</td>\n",
              "      <td>-0.1508</td>\n",
              "      <td>9.1942</td>\n",
              "      <td>13.2876</td>\n",
              "      <td>-1.5121</td>\n",
              "      <td>3.9267</td>\n",
              "      <td>9.5031</td>\n",
              "      <td>17.9974</td>\n",
              "      <td>-8.8104</td>\n",
              "    </tr>\n",
              "  </tbody>\n",
              "</table>\n",
              "<p>5 rows × 201 columns</p>\n",
              "</div>"
            ],
            "text/plain": [
              "   target    var_0   var_1    var_2   var_3    var_4   var_5   var_6    var_7  \\\n",
              "0       0   8.9255 -6.7863  11.9081  5.0930  11.4607 -9.2834  5.1187  18.6266   \n",
              "1       0  11.5006 -4.1473  13.8588  5.3890  12.3622  7.0433  5.6208  16.5338   \n",
              "2       0   8.6093 -2.7457  12.0805  7.8928  10.5825 -9.0837  6.9427  14.6155   \n",
              "3       0  11.0604 -2.1518   8.9522  7.1957  12.5846 -1.8361  5.8428  14.9250   \n",
              "4       0   9.8369 -1.4834  12.8746  6.6375  12.2772  2.4486  5.9405  19.2514   \n",
              "\n",
              "    var_8   ...     var_190  var_191  var_192  var_193  var_194  var_195  \\\n",
              "0 -4.9200   ...      4.4354   3.9642   3.1364   1.6910  18.5227  -2.3978   \n",
              "1  3.1468   ...      7.6421   7.7214   2.5837  10.9516  15.4305   2.0339   \n",
              "2 -4.9193   ...      2.9057   9.7905   1.6704   1.6858  21.6042   3.1417   \n",
              "3 -5.8609   ...      4.4666   4.7433   0.7178   1.4214  23.0347  -1.2706   \n",
              "4  6.2654   ...     -1.4905   9.5214  -0.1508   9.1942  13.2876  -1.5121   \n",
              "\n",
              "   var_196  var_197  var_198  var_199  \n",
              "0   7.8784   8.5635  12.7803  -1.0914  \n",
              "1   8.1267   8.7889  18.3560   1.9518  \n",
              "2  -6.5213   8.2675  14.7222   0.3965  \n",
              "3  -2.9275  10.2922  17.9697  -8.9996  \n",
              "4   3.9267   9.5031  17.9974  -8.8104  \n",
              "\n",
              "[5 rows x 201 columns]"
            ]
          },
          "metadata": {
            "tags": []
          },
          "execution_count": 135
        }
      ]
    },
    {
      "metadata": {
        "id": "KChM4XPV_Hnf",
        "colab_type": "code",
        "colab": {}
      },
      "cell_type": "code",
      "source": [
        ""
      ],
      "execution_count": 0,
      "outputs": []
    },
    {
      "metadata": {
        "id": "sWuUSK95OoZS",
        "colab_type": "code",
        "colab": {}
      },
      "cell_type": "code",
      "source": [
        "dx=d2.iloc[:,1:]"
      ],
      "execution_count": 0,
      "outputs": []
    },
    {
      "metadata": {
        "id": "cVvhYw69SHmG",
        "colab_type": "code",
        "colab": {}
      },
      "cell_type": "code",
      "source": [
        "dy=d2.iloc[:,0:1]"
      ],
      "execution_count": 0,
      "outputs": []
    },
    {
      "metadata": {
        "id": "7YY41XFFOthp",
        "colab_type": "code",
        "colab": {
          "base_uri": "https://localhost:8080/",
          "height": 244
        },
        "outputId": "ac00b04c-4df6-4a8e-ea86-7249aeed1286"
      },
      "cell_type": "code",
      "source": [
        "dx = pd.DataFrame(dx)\n",
        "dx.head()"
      ],
      "execution_count": 138,
      "outputs": [
        {
          "output_type": "execute_result",
          "data": {
            "text/html": [
              "<div>\n",
              "<style scoped>\n",
              "    .dataframe tbody tr th:only-of-type {\n",
              "        vertical-align: middle;\n",
              "    }\n",
              "\n",
              "    .dataframe tbody tr th {\n",
              "        vertical-align: top;\n",
              "    }\n",
              "\n",
              "    .dataframe thead th {\n",
              "        text-align: right;\n",
              "    }\n",
              "</style>\n",
              "<table border=\"1\" class=\"dataframe\">\n",
              "  <thead>\n",
              "    <tr style=\"text-align: right;\">\n",
              "      <th></th>\n",
              "      <th>var_0</th>\n",
              "      <th>var_1</th>\n",
              "      <th>var_2</th>\n",
              "      <th>var_3</th>\n",
              "      <th>var_4</th>\n",
              "      <th>var_5</th>\n",
              "      <th>var_6</th>\n",
              "      <th>var_7</th>\n",
              "      <th>var_8</th>\n",
              "      <th>var_9</th>\n",
              "      <th>...</th>\n",
              "      <th>var_190</th>\n",
              "      <th>var_191</th>\n",
              "      <th>var_192</th>\n",
              "      <th>var_193</th>\n",
              "      <th>var_194</th>\n",
              "      <th>var_195</th>\n",
              "      <th>var_196</th>\n",
              "      <th>var_197</th>\n",
              "      <th>var_198</th>\n",
              "      <th>var_199</th>\n",
              "    </tr>\n",
              "  </thead>\n",
              "  <tbody>\n",
              "    <tr>\n",
              "      <th>0</th>\n",
              "      <td>8.9255</td>\n",
              "      <td>-6.7863</td>\n",
              "      <td>11.9081</td>\n",
              "      <td>5.0930</td>\n",
              "      <td>11.4607</td>\n",
              "      <td>-9.2834</td>\n",
              "      <td>5.1187</td>\n",
              "      <td>18.6266</td>\n",
              "      <td>-4.9200</td>\n",
              "      <td>5.7470</td>\n",
              "      <td>...</td>\n",
              "      <td>4.4354</td>\n",
              "      <td>3.9642</td>\n",
              "      <td>3.1364</td>\n",
              "      <td>1.6910</td>\n",
              "      <td>18.5227</td>\n",
              "      <td>-2.3978</td>\n",
              "      <td>7.8784</td>\n",
              "      <td>8.5635</td>\n",
              "      <td>12.7803</td>\n",
              "      <td>-1.0914</td>\n",
              "    </tr>\n",
              "    <tr>\n",
              "      <th>1</th>\n",
              "      <td>11.5006</td>\n",
              "      <td>-4.1473</td>\n",
              "      <td>13.8588</td>\n",
              "      <td>5.3890</td>\n",
              "      <td>12.3622</td>\n",
              "      <td>7.0433</td>\n",
              "      <td>5.6208</td>\n",
              "      <td>16.5338</td>\n",
              "      <td>3.1468</td>\n",
              "      <td>8.0851</td>\n",
              "      <td>...</td>\n",
              "      <td>7.6421</td>\n",
              "      <td>7.7214</td>\n",
              "      <td>2.5837</td>\n",
              "      <td>10.9516</td>\n",
              "      <td>15.4305</td>\n",
              "      <td>2.0339</td>\n",
              "      <td>8.1267</td>\n",
              "      <td>8.7889</td>\n",
              "      <td>18.3560</td>\n",
              "      <td>1.9518</td>\n",
              "    </tr>\n",
              "    <tr>\n",
              "      <th>2</th>\n",
              "      <td>8.6093</td>\n",
              "      <td>-2.7457</td>\n",
              "      <td>12.0805</td>\n",
              "      <td>7.8928</td>\n",
              "      <td>10.5825</td>\n",
              "      <td>-9.0837</td>\n",
              "      <td>6.9427</td>\n",
              "      <td>14.6155</td>\n",
              "      <td>-4.9193</td>\n",
              "      <td>5.9525</td>\n",
              "      <td>...</td>\n",
              "      <td>2.9057</td>\n",
              "      <td>9.7905</td>\n",
              "      <td>1.6704</td>\n",
              "      <td>1.6858</td>\n",
              "      <td>21.6042</td>\n",
              "      <td>3.1417</td>\n",
              "      <td>-6.5213</td>\n",
              "      <td>8.2675</td>\n",
              "      <td>14.7222</td>\n",
              "      <td>0.3965</td>\n",
              "    </tr>\n",
              "    <tr>\n",
              "      <th>3</th>\n",
              "      <td>11.0604</td>\n",
              "      <td>-2.1518</td>\n",
              "      <td>8.9522</td>\n",
              "      <td>7.1957</td>\n",
              "      <td>12.5846</td>\n",
              "      <td>-1.8361</td>\n",
              "      <td>5.8428</td>\n",
              "      <td>14.9250</td>\n",
              "      <td>-5.8609</td>\n",
              "      <td>8.2450</td>\n",
              "      <td>...</td>\n",
              "      <td>4.4666</td>\n",
              "      <td>4.7433</td>\n",
              "      <td>0.7178</td>\n",
              "      <td>1.4214</td>\n",
              "      <td>23.0347</td>\n",
              "      <td>-1.2706</td>\n",
              "      <td>-2.9275</td>\n",
              "      <td>10.2922</td>\n",
              "      <td>17.9697</td>\n",
              "      <td>-8.9996</td>\n",
              "    </tr>\n",
              "    <tr>\n",
              "      <th>4</th>\n",
              "      <td>9.8369</td>\n",
              "      <td>-1.4834</td>\n",
              "      <td>12.8746</td>\n",
              "      <td>6.6375</td>\n",
              "      <td>12.2772</td>\n",
              "      <td>2.4486</td>\n",
              "      <td>5.9405</td>\n",
              "      <td>19.2514</td>\n",
              "      <td>6.2654</td>\n",
              "      <td>7.6784</td>\n",
              "      <td>...</td>\n",
              "      <td>-1.4905</td>\n",
              "      <td>9.5214</td>\n",
              "      <td>-0.1508</td>\n",
              "      <td>9.1942</td>\n",
              "      <td>13.2876</td>\n",
              "      <td>-1.5121</td>\n",
              "      <td>3.9267</td>\n",
              "      <td>9.5031</td>\n",
              "      <td>17.9974</td>\n",
              "      <td>-8.8104</td>\n",
              "    </tr>\n",
              "  </tbody>\n",
              "</table>\n",
              "<p>5 rows × 200 columns</p>\n",
              "</div>"
            ],
            "text/plain": [
              "     var_0   var_1    var_2   var_3    var_4   var_5   var_6    var_7   var_8  \\\n",
              "0   8.9255 -6.7863  11.9081  5.0930  11.4607 -9.2834  5.1187  18.6266 -4.9200   \n",
              "1  11.5006 -4.1473  13.8588  5.3890  12.3622  7.0433  5.6208  16.5338  3.1468   \n",
              "2   8.6093 -2.7457  12.0805  7.8928  10.5825 -9.0837  6.9427  14.6155 -4.9193   \n",
              "3  11.0604 -2.1518   8.9522  7.1957  12.5846 -1.8361  5.8428  14.9250 -5.8609   \n",
              "4   9.8369 -1.4834  12.8746  6.6375  12.2772  2.4486  5.9405  19.2514  6.2654   \n",
              "\n",
              "    var_9   ...     var_190  var_191  var_192  var_193  var_194  var_195  \\\n",
              "0  5.7470   ...      4.4354   3.9642   3.1364   1.6910  18.5227  -2.3978   \n",
              "1  8.0851   ...      7.6421   7.7214   2.5837  10.9516  15.4305   2.0339   \n",
              "2  5.9525   ...      2.9057   9.7905   1.6704   1.6858  21.6042   3.1417   \n",
              "3  8.2450   ...      4.4666   4.7433   0.7178   1.4214  23.0347  -1.2706   \n",
              "4  7.6784   ...     -1.4905   9.5214  -0.1508   9.1942  13.2876  -1.5121   \n",
              "\n",
              "   var_196  var_197  var_198  var_199  \n",
              "0   7.8784   8.5635  12.7803  -1.0914  \n",
              "1   8.1267   8.7889  18.3560   1.9518  \n",
              "2  -6.5213   8.2675  14.7222   0.3965  \n",
              "3  -2.9275  10.2922  17.9697  -8.9996  \n",
              "4   3.9267   9.5031  17.9974  -8.8104  \n",
              "\n",
              "[5 rows x 200 columns]"
            ]
          },
          "metadata": {
            "tags": []
          },
          "execution_count": 138
        }
      ]
    },
    {
      "metadata": {
        "id": "Q2-da6OJOWZa",
        "colab_type": "code",
        "colab": {}
      },
      "cell_type": "code",
      "source": [
        "from sklearn.preprocessing import StandardScaler\n",
        "\n",
        "sc = StandardScaler()  \n",
        "dx = sc.fit_transform(dx) "
      ],
      "execution_count": 0,
      "outputs": []
    },
    {
      "metadata": {
        "id": "FtrfQ3qgOmkf",
        "colab_type": "code",
        "colab": {
          "base_uri": "https://localhost:8080/",
          "height": 244
        },
        "outputId": "5d2e7003-5eae-44a9-9fa9-7421d79f39de"
      },
      "cell_type": "code",
      "source": [
        "dx = pd.DataFrame(dx)\n",
        "dx.shape\n",
        "dx.head()"
      ],
      "execution_count": 144,
      "outputs": [
        {
          "output_type": "execute_result",
          "data": {
            "text/html": [
              "<div>\n",
              "<style scoped>\n",
              "    .dataframe tbody tr th:only-of-type {\n",
              "        vertical-align: middle;\n",
              "    }\n",
              "\n",
              "    .dataframe tbody tr th {\n",
              "        vertical-align: top;\n",
              "    }\n",
              "\n",
              "    .dataframe thead th {\n",
              "        text-align: right;\n",
              "    }\n",
              "</style>\n",
              "<table border=\"1\" class=\"dataframe\">\n",
              "  <thead>\n",
              "    <tr style=\"text-align: right;\">\n",
              "      <th></th>\n",
              "      <th>0</th>\n",
              "      <th>1</th>\n",
              "      <th>2</th>\n",
              "      <th>3</th>\n",
              "      <th>4</th>\n",
              "      <th>5</th>\n",
              "      <th>6</th>\n",
              "      <th>7</th>\n",
              "      <th>8</th>\n",
              "      <th>9</th>\n",
              "      <th>...</th>\n",
              "      <th>140</th>\n",
              "      <th>141</th>\n",
              "      <th>142</th>\n",
              "      <th>143</th>\n",
              "      <th>144</th>\n",
              "      <th>145</th>\n",
              "      <th>146</th>\n",
              "      <th>147</th>\n",
              "      <th>148</th>\n",
              "      <th>149</th>\n",
              "    </tr>\n",
              "  </thead>\n",
              "  <tbody>\n",
              "    <tr>\n",
              "      <th>0</th>\n",
              "      <td>-0.529144</td>\n",
              "      <td>-1.321758</td>\n",
              "      <td>0.331936</td>\n",
              "      <td>0.076037</td>\n",
              "      <td>0.486149</td>\n",
              "      <td>0.986322</td>\n",
              "      <td>0.604114</td>\n",
              "      <td>-0.113983</td>\n",
              "      <td>0.300075</td>\n",
              "      <td>0.068793</td>\n",
              "      <td>...</td>\n",
              "      <td>0.083548</td>\n",
              "      <td>-1.600708</td>\n",
              "      <td>0.111059</td>\n",
              "      <td>-1.042115</td>\n",
              "      <td>0.194579</td>\n",
              "      <td>-1.750237</td>\n",
              "      <td>-0.228065</td>\n",
              "      <td>-0.362497</td>\n",
              "      <td>0.546830</td>\n",
              "      <td>-0.981711</td>\n",
              "    </tr>\n",
              "    <tr>\n",
              "      <th>1</th>\n",
              "      <td>2.314702</td>\n",
              "      <td>-0.094768</td>\n",
              "      <td>0.597315</td>\n",
              "      <td>1.263057</td>\n",
              "      <td>0.106570</td>\n",
              "      <td>-1.259286</td>\n",
              "      <td>-1.378099</td>\n",
              "      <td>0.131403</td>\n",
              "      <td>-1.170218</td>\n",
              "      <td>-0.672782</td>\n",
              "      <td>...</td>\n",
              "      <td>1.181679</td>\n",
              "      <td>-0.612212</td>\n",
              "      <td>-0.845026</td>\n",
              "      <td>-0.567252</td>\n",
              "      <td>0.009273</td>\n",
              "      <td>-1.354643</td>\n",
              "      <td>1.360647</td>\n",
              "      <td>-0.131858</td>\n",
              "      <td>0.100923</td>\n",
              "      <td>-0.259530</td>\n",
              "    </tr>\n",
              "    <tr>\n",
              "      <th>2</th>\n",
              "      <td>0.047399</td>\n",
              "      <td>-1.543014</td>\n",
              "      <td>0.533194</td>\n",
              "      <td>-0.327538</td>\n",
              "      <td>-0.173090</td>\n",
              "      <td>0.350186</td>\n",
              "      <td>0.801021</td>\n",
              "      <td>-0.058825</td>\n",
              "      <td>-1.404957</td>\n",
              "      <td>2.290167</td>\n",
              "      <td>...</td>\n",
              "      <td>-0.038384</td>\n",
              "      <td>0.686378</td>\n",
              "      <td>0.391925</td>\n",
              "      <td>-0.009180</td>\n",
              "      <td>0.058755</td>\n",
              "      <td>-0.208516</td>\n",
              "      <td>-0.699995</td>\n",
              "      <td>1.719948</td>\n",
              "      <td>0.691847</td>\n",
              "      <td>-0.307908</td>\n",
              "    </tr>\n",
              "    <tr>\n",
              "      <th>3</th>\n",
              "      <td>1.189880</td>\n",
              "      <td>0.602456</td>\n",
              "      <td>-0.771092</td>\n",
              "      <td>1.488016</td>\n",
              "      <td>-0.410913</td>\n",
              "      <td>0.092598</td>\n",
              "      <td>0.494689</td>\n",
              "      <td>0.101114</td>\n",
              "      <td>-1.005328</td>\n",
              "      <td>0.713937</td>\n",
              "      <td>...</td>\n",
              "      <td>1.622116</td>\n",
              "      <td>1.794875</td>\n",
              "      <td>0.705301</td>\n",
              "      <td>0.494924</td>\n",
              "      <td>0.268217</td>\n",
              "      <td>-0.841420</td>\n",
              "      <td>1.050389</td>\n",
              "      <td>-0.135779</td>\n",
              "      <td>0.336008</td>\n",
              "      <td>-1.680223</td>\n",
              "    </tr>\n",
              "    <tr>\n",
              "      <th>4</th>\n",
              "      <td>0.554619</td>\n",
              "      <td>0.183962</td>\n",
              "      <td>-1.264786</td>\n",
              "      <td>-0.230476</td>\n",
              "      <td>-0.053585</td>\n",
              "      <td>-1.156959</td>\n",
              "      <td>-0.019276</td>\n",
              "      <td>-1.028456</td>\n",
              "      <td>1.599331</td>\n",
              "      <td>-0.005554</td>\n",
              "      <td>...</td>\n",
              "      <td>1.086851</td>\n",
              "      <td>-1.445677</td>\n",
              "      <td>0.382634</td>\n",
              "      <td>-0.184068</td>\n",
              "      <td>-1.206265</td>\n",
              "      <td>0.626516</td>\n",
              "      <td>-0.246147</td>\n",
              "      <td>-0.738633</td>\n",
              "      <td>0.287940</td>\n",
              "      <td>2.448163</td>\n",
              "    </tr>\n",
              "  </tbody>\n",
              "</table>\n",
              "<p>5 rows × 150 columns</p>\n",
              "</div>"
            ],
            "text/plain": [
              "        0         1         2         3         4         5         6    \\\n",
              "0 -0.529144 -1.321758  0.331936  0.076037  0.486149  0.986322  0.604114   \n",
              "1  2.314702 -0.094768  0.597315  1.263057  0.106570 -1.259286 -1.378099   \n",
              "2  0.047399 -1.543014  0.533194 -0.327538 -0.173090  0.350186  0.801021   \n",
              "3  1.189880  0.602456 -0.771092  1.488016 -0.410913  0.092598  0.494689   \n",
              "4  0.554619  0.183962 -1.264786 -0.230476 -0.053585 -1.156959 -0.019276   \n",
              "\n",
              "        7         8         9      ...          140       141       142  \\\n",
              "0 -0.113983  0.300075  0.068793    ...     0.083548 -1.600708  0.111059   \n",
              "1  0.131403 -1.170218 -0.672782    ...     1.181679 -0.612212 -0.845026   \n",
              "2 -0.058825 -1.404957  2.290167    ...    -0.038384  0.686378  0.391925   \n",
              "3  0.101114 -1.005328  0.713937    ...     1.622116  1.794875  0.705301   \n",
              "4 -1.028456  1.599331 -0.005554    ...     1.086851 -1.445677  0.382634   \n",
              "\n",
              "        143       144       145       146       147       148       149  \n",
              "0 -1.042115  0.194579 -1.750237 -0.228065 -0.362497  0.546830 -0.981711  \n",
              "1 -0.567252  0.009273 -1.354643  1.360647 -0.131858  0.100923 -0.259530  \n",
              "2 -0.009180  0.058755 -0.208516 -0.699995  1.719948  0.691847 -0.307908  \n",
              "3  0.494924  0.268217 -0.841420  1.050389 -0.135779  0.336008 -1.680223  \n",
              "4 -0.184068 -1.206265  0.626516 -0.246147 -0.738633  0.287940  2.448163  \n",
              "\n",
              "[5 rows x 150 columns]"
            ]
          },
          "metadata": {
            "tags": []
          },
          "execution_count": 144
        }
      ]
    },
    {
      "metadata": {
        "id": "Ws3tDBTdJRHb",
        "colab_type": "code",
        "colab": {
          "base_uri": "https://localhost:8080/",
          "height": 333
        },
        "outputId": "da6dceb6-e947-4182-8f45-0fb83094fcaa"
      },
      "cell_type": "code",
      "source": [
        "dx.describe()"
      ],
      "execution_count": 145,
      "outputs": [
        {
          "output_type": "execute_result",
          "data": {
            "text/html": [
              "<div>\n",
              "<style scoped>\n",
              "    .dataframe tbody tr th:only-of-type {\n",
              "        vertical-align: middle;\n",
              "    }\n",
              "\n",
              "    .dataframe tbody tr th {\n",
              "        vertical-align: top;\n",
              "    }\n",
              "\n",
              "    .dataframe thead th {\n",
              "        text-align: right;\n",
              "    }\n",
              "</style>\n",
              "<table border=\"1\" class=\"dataframe\">\n",
              "  <thead>\n",
              "    <tr style=\"text-align: right;\">\n",
              "      <th></th>\n",
              "      <th>0</th>\n",
              "      <th>1</th>\n",
              "      <th>2</th>\n",
              "      <th>3</th>\n",
              "      <th>4</th>\n",
              "      <th>5</th>\n",
              "      <th>6</th>\n",
              "      <th>7</th>\n",
              "      <th>8</th>\n",
              "      <th>9</th>\n",
              "      <th>...</th>\n",
              "      <th>140</th>\n",
              "      <th>141</th>\n",
              "      <th>142</th>\n",
              "      <th>143</th>\n",
              "      <th>144</th>\n",
              "      <th>145</th>\n",
              "      <th>146</th>\n",
              "      <th>147</th>\n",
              "      <th>148</th>\n",
              "      <th>149</th>\n",
              "    </tr>\n",
              "  </thead>\n",
              "  <tbody>\n",
              "    <tr>\n",
              "      <th>count</th>\n",
              "      <td>2.000000e+05</td>\n",
              "      <td>2.000000e+05</td>\n",
              "      <td>2.000000e+05</td>\n",
              "      <td>2.000000e+05</td>\n",
              "      <td>2.000000e+05</td>\n",
              "      <td>2.000000e+05</td>\n",
              "      <td>2.000000e+05</td>\n",
              "      <td>2.000000e+05</td>\n",
              "      <td>2.000000e+05</td>\n",
              "      <td>2.000000e+05</td>\n",
              "      <td>...</td>\n",
              "      <td>2.000000e+05</td>\n",
              "      <td>2.000000e+05</td>\n",
              "      <td>2.000000e+05</td>\n",
              "      <td>2.000000e+05</td>\n",
              "      <td>2.000000e+05</td>\n",
              "      <td>2.000000e+05</td>\n",
              "      <td>2.000000e+05</td>\n",
              "      <td>2.000000e+05</td>\n",
              "      <td>2.000000e+05</td>\n",
              "      <td>2.000000e+05</td>\n",
              "    </tr>\n",
              "    <tr>\n",
              "      <th>mean</th>\n",
              "      <td>3.264278e-17</td>\n",
              "      <td>-5.508927e-17</td>\n",
              "      <td>1.326324e-17</td>\n",
              "      <td>-2.429723e-17</td>\n",
              "      <td>-8.046896e-18</td>\n",
              "      <td>-7.552292e-18</td>\n",
              "      <td>-3.663458e-17</td>\n",
              "      <td>-3.237743e-17</td>\n",
              "      <td>-1.852185e-17</td>\n",
              "      <td>-4.054534e-17</td>\n",
              "      <td>...</td>\n",
              "      <td>1.392775e-17</td>\n",
              "      <td>2.286782e-17</td>\n",
              "      <td>-5.823120e-18</td>\n",
              "      <td>3.290118e-17</td>\n",
              "      <td>2.576554e-17</td>\n",
              "      <td>5.896894e-17</td>\n",
              "      <td>5.128439e-17</td>\n",
              "      <td>1.405709e-17</td>\n",
              "      <td>4.406031e-17</td>\n",
              "      <td>2.398137e-17</td>\n",
              "    </tr>\n",
              "    <tr>\n",
              "      <th>std</th>\n",
              "      <td>1.101493e+00</td>\n",
              "      <td>1.027496e+00</td>\n",
              "      <td>1.026879e+00</td>\n",
              "      <td>1.026419e+00</td>\n",
              "      <td>1.026193e+00</td>\n",
              "      <td>1.025398e+00</td>\n",
              "      <td>1.024444e+00</td>\n",
              "      <td>1.023834e+00</td>\n",
              "      <td>1.023558e+00</td>\n",
              "      <td>1.023296e+00</td>\n",
              "      <td>...</td>\n",
              "      <td>9.825309e-01</td>\n",
              "      <td>9.822446e-01</td>\n",
              "      <td>9.818502e-01</td>\n",
              "      <td>9.813593e-01</td>\n",
              "      <td>9.806733e-01</td>\n",
              "      <td>9.805768e-01</td>\n",
              "      <td>9.804181e-01</td>\n",
              "      <td>9.800299e-01</td>\n",
              "      <td>9.798573e-01</td>\n",
              "      <td>9.792997e-01</td>\n",
              "    </tr>\n",
              "    <tr>\n",
              "      <th>min</th>\n",
              "      <td>-4.683073e+00</td>\n",
              "      <td>-4.370615e+00</td>\n",
              "      <td>-4.398201e+00</td>\n",
              "      <td>-4.500944e+00</td>\n",
              "      <td>-4.335169e+00</td>\n",
              "      <td>-4.252212e+00</td>\n",
              "      <td>-4.467492e+00</td>\n",
              "      <td>-4.442514e+00</td>\n",
              "      <td>-4.683042e+00</td>\n",
              "      <td>-4.215258e+00</td>\n",
              "      <td>...</td>\n",
              "      <td>-4.103992e+00</td>\n",
              "      <td>-4.187268e+00</td>\n",
              "      <td>-4.702061e+00</td>\n",
              "      <td>-4.591094e+00</td>\n",
              "      <td>-4.190143e+00</td>\n",
              "      <td>-4.239434e+00</td>\n",
              "      <td>-4.226821e+00</td>\n",
              "      <td>-4.270482e+00</td>\n",
              "      <td>-4.365201e+00</td>\n",
              "      <td>-4.547678e+00</td>\n",
              "    </tr>\n",
              "    <tr>\n",
              "      <th>25%</th>\n",
              "      <td>-7.489999e-01</td>\n",
              "      <td>-6.937100e-01</td>\n",
              "      <td>-6.939401e-01</td>\n",
              "      <td>-6.920381e-01</td>\n",
              "      <td>-6.940512e-01</td>\n",
              "      <td>-6.914661e-01</td>\n",
              "      <td>-6.906722e-01</td>\n",
              "      <td>-6.924129e-01</td>\n",
              "      <td>-6.902483e-01</td>\n",
              "      <td>-6.922952e-01</td>\n",
              "      <td>...</td>\n",
              "      <td>-6.639196e-01</td>\n",
              "      <td>-6.618830e-01</td>\n",
              "      <td>-6.613212e-01</td>\n",
              "      <td>-6.633255e-01</td>\n",
              "      <td>-6.618081e-01</td>\n",
              "      <td>-6.618037e-01</td>\n",
              "      <td>-6.624127e-01</td>\n",
              "      <td>-6.621547e-01</td>\n",
              "      <td>-6.618566e-01</td>\n",
              "      <td>-6.584941e-01</td>\n",
              "    </tr>\n",
              "    <tr>\n",
              "      <th>50%</th>\n",
              "      <td>-3.936950e-02</td>\n",
              "      <td>-3.969168e-04</td>\n",
              "      <td>1.755160e-03</td>\n",
              "      <td>-3.024970e-04</td>\n",
              "      <td>2.032858e-03</td>\n",
              "      <td>-2.909175e-03</td>\n",
              "      <td>-8.183166e-04</td>\n",
              "      <td>3.971031e-04</td>\n",
              "      <td>2.125918e-03</td>\n",
              "      <td>1.748285e-03</td>\n",
              "      <td>...</td>\n",
              "      <td>3.014346e-04</td>\n",
              "      <td>-3.052135e-03</td>\n",
              "      <td>-2.647545e-03</td>\n",
              "      <td>-1.746989e-03</td>\n",
              "      <td>-3.303214e-03</td>\n",
              "      <td>-4.235263e-04</td>\n",
              "      <td>-2.902051e-03</td>\n",
              "      <td>-1.491405e-03</td>\n",
              "      <td>1.722111e-03</td>\n",
              "      <td>1.776928e-03</td>\n",
              "    </tr>\n",
              "    <tr>\n",
              "      <th>75%</th>\n",
              "      <td>7.020343e-01</td>\n",
              "      <td>6.930307e-01</td>\n",
              "      <td>6.938623e-01</td>\n",
              "      <td>6.933638e-01</td>\n",
              "      <td>6.906039e-01</td>\n",
              "      <td>6.925068e-01</td>\n",
              "      <td>6.897978e-01</td>\n",
              "      <td>6.893202e-01</td>\n",
              "      <td>6.895185e-01</td>\n",
              "      <td>6.910309e-01</td>\n",
              "      <td>...</td>\n",
              "      <td>6.623036e-01</td>\n",
              "      <td>6.634971e-01</td>\n",
              "      <td>6.605371e-01</td>\n",
              "      <td>6.634623e-01</td>\n",
              "      <td>6.615050e-01</td>\n",
              "      <td>6.624758e-01</td>\n",
              "      <td>6.629554e-01</td>\n",
              "      <td>6.597647e-01</td>\n",
              "      <td>6.631402e-01</td>\n",
              "      <td>6.629438e-01</td>\n",
              "    </tr>\n",
              "    <tr>\n",
              "      <th>max</th>\n",
              "      <td>5.938376e+00</td>\n",
              "      <td>4.819486e+00</td>\n",
              "      <td>4.488833e+00</td>\n",
              "      <td>4.585744e+00</td>\n",
              "      <td>6.166446e+00</td>\n",
              "      <td>4.567724e+00</td>\n",
              "      <td>4.488799e+00</td>\n",
              "      <td>4.873452e+00</td>\n",
              "      <td>4.729443e+00</td>\n",
              "      <td>4.937578e+00</td>\n",
              "      <td>...</td>\n",
              "      <td>5.431009e+00</td>\n",
              "      <td>4.871860e+00</td>\n",
              "      <td>4.717397e+00</td>\n",
              "      <td>4.990465e+00</td>\n",
              "      <td>4.251100e+00</td>\n",
              "      <td>4.410511e+00</td>\n",
              "      <td>4.289014e+00</td>\n",
              "      <td>4.271594e+00</td>\n",
              "      <td>5.168137e+00</td>\n",
              "      <td>4.966518e+00</td>\n",
              "    </tr>\n",
              "  </tbody>\n",
              "</table>\n",
              "<p>8 rows × 150 columns</p>\n",
              "</div>"
            ],
            "text/plain": [
              "                0             1             2             3             4    \\\n",
              "count  2.000000e+05  2.000000e+05  2.000000e+05  2.000000e+05  2.000000e+05   \n",
              "mean   3.264278e-17 -5.508927e-17  1.326324e-17 -2.429723e-17 -8.046896e-18   \n",
              "std    1.101493e+00  1.027496e+00  1.026879e+00  1.026419e+00  1.026193e+00   \n",
              "min   -4.683073e+00 -4.370615e+00 -4.398201e+00 -4.500944e+00 -4.335169e+00   \n",
              "25%   -7.489999e-01 -6.937100e-01 -6.939401e-01 -6.920381e-01 -6.940512e-01   \n",
              "50%   -3.936950e-02 -3.969168e-04  1.755160e-03 -3.024970e-04  2.032858e-03   \n",
              "75%    7.020343e-01  6.930307e-01  6.938623e-01  6.933638e-01  6.906039e-01   \n",
              "max    5.938376e+00  4.819486e+00  4.488833e+00  4.585744e+00  6.166446e+00   \n",
              "\n",
              "                5             6             7             8             9    \\\n",
              "count  2.000000e+05  2.000000e+05  2.000000e+05  2.000000e+05  2.000000e+05   \n",
              "mean  -7.552292e-18 -3.663458e-17 -3.237743e-17 -1.852185e-17 -4.054534e-17   \n",
              "std    1.025398e+00  1.024444e+00  1.023834e+00  1.023558e+00  1.023296e+00   \n",
              "min   -4.252212e+00 -4.467492e+00 -4.442514e+00 -4.683042e+00 -4.215258e+00   \n",
              "25%   -6.914661e-01 -6.906722e-01 -6.924129e-01 -6.902483e-01 -6.922952e-01   \n",
              "50%   -2.909175e-03 -8.183166e-04  3.971031e-04  2.125918e-03  1.748285e-03   \n",
              "75%    6.925068e-01  6.897978e-01  6.893202e-01  6.895185e-01  6.910309e-01   \n",
              "max    4.567724e+00  4.488799e+00  4.873452e+00  4.729443e+00  4.937578e+00   \n",
              "\n",
              "           ...                140           141           142           143  \\\n",
              "count      ...       2.000000e+05  2.000000e+05  2.000000e+05  2.000000e+05   \n",
              "mean       ...       1.392775e-17  2.286782e-17 -5.823120e-18  3.290118e-17   \n",
              "std        ...       9.825309e-01  9.822446e-01  9.818502e-01  9.813593e-01   \n",
              "min        ...      -4.103992e+00 -4.187268e+00 -4.702061e+00 -4.591094e+00   \n",
              "25%        ...      -6.639196e-01 -6.618830e-01 -6.613212e-01 -6.633255e-01   \n",
              "50%        ...       3.014346e-04 -3.052135e-03 -2.647545e-03 -1.746989e-03   \n",
              "75%        ...       6.623036e-01  6.634971e-01  6.605371e-01  6.634623e-01   \n",
              "max        ...       5.431009e+00  4.871860e+00  4.717397e+00  4.990465e+00   \n",
              "\n",
              "                144           145           146           147           148  \\\n",
              "count  2.000000e+05  2.000000e+05  2.000000e+05  2.000000e+05  2.000000e+05   \n",
              "mean   2.576554e-17  5.896894e-17  5.128439e-17  1.405709e-17  4.406031e-17   \n",
              "std    9.806733e-01  9.805768e-01  9.804181e-01  9.800299e-01  9.798573e-01   \n",
              "min   -4.190143e+00 -4.239434e+00 -4.226821e+00 -4.270482e+00 -4.365201e+00   \n",
              "25%   -6.618081e-01 -6.618037e-01 -6.624127e-01 -6.621547e-01 -6.618566e-01   \n",
              "50%   -3.303214e-03 -4.235263e-04 -2.902051e-03 -1.491405e-03  1.722111e-03   \n",
              "75%    6.615050e-01  6.624758e-01  6.629554e-01  6.597647e-01  6.631402e-01   \n",
              "max    4.251100e+00  4.410511e+00  4.289014e+00  4.271594e+00  5.168137e+00   \n",
              "\n",
              "                149  \n",
              "count  2.000000e+05  \n",
              "mean   2.398137e-17  \n",
              "std    9.792997e-01  \n",
              "min   -4.547678e+00  \n",
              "25%   -6.584941e-01  \n",
              "50%    1.776928e-03  \n",
              "75%    6.629438e-01  \n",
              "max    4.966518e+00  \n",
              "\n",
              "[8 rows x 150 columns]"
            ]
          },
          "metadata": {
            "tags": []
          },
          "execution_count": 145
        }
      ]
    },
    {
      "metadata": {
        "id": "lBpR2xqBR_Y6",
        "colab_type": "code",
        "colab": {}
      },
      "cell_type": "code",
      "source": [
        "#merge dx with dy if scale \n",
        "\n",
        "dt=pd.concat([dy, dx], axis=1)\n"
      ],
      "execution_count": 0,
      "outputs": []
    },
    {
      "metadata": {
        "id": "9WAyHXXUaUc7",
        "colab_type": "code",
        "colab": {
          "base_uri": "https://localhost:8080/",
          "height": 155
        },
        "outputId": "f2ea2ced-1b5a-4b85-a824-a7b20b88e29a"
      },
      "cell_type": "code",
      "source": [
        "dt.head(2)"
      ],
      "execution_count": 147,
      "outputs": [
        {
          "output_type": "execute_result",
          "data": {
            "text/html": [
              "<div>\n",
              "<style scoped>\n",
              "    .dataframe tbody tr th:only-of-type {\n",
              "        vertical-align: middle;\n",
              "    }\n",
              "\n",
              "    .dataframe tbody tr th {\n",
              "        vertical-align: top;\n",
              "    }\n",
              "\n",
              "    .dataframe thead th {\n",
              "        text-align: right;\n",
              "    }\n",
              "</style>\n",
              "<table border=\"1\" class=\"dataframe\">\n",
              "  <thead>\n",
              "    <tr style=\"text-align: right;\">\n",
              "      <th></th>\n",
              "      <th>target</th>\n",
              "      <th>0</th>\n",
              "      <th>1</th>\n",
              "      <th>2</th>\n",
              "      <th>3</th>\n",
              "      <th>4</th>\n",
              "      <th>5</th>\n",
              "      <th>6</th>\n",
              "      <th>7</th>\n",
              "      <th>8</th>\n",
              "      <th>...</th>\n",
              "      <th>140</th>\n",
              "      <th>141</th>\n",
              "      <th>142</th>\n",
              "      <th>143</th>\n",
              "      <th>144</th>\n",
              "      <th>145</th>\n",
              "      <th>146</th>\n",
              "      <th>147</th>\n",
              "      <th>148</th>\n",
              "      <th>149</th>\n",
              "    </tr>\n",
              "  </thead>\n",
              "  <tbody>\n",
              "    <tr>\n",
              "      <th>0</th>\n",
              "      <td>0</td>\n",
              "      <td>-0.529144</td>\n",
              "      <td>-1.321758</td>\n",
              "      <td>0.331936</td>\n",
              "      <td>0.076037</td>\n",
              "      <td>0.486149</td>\n",
              "      <td>0.986322</td>\n",
              "      <td>0.604114</td>\n",
              "      <td>-0.113983</td>\n",
              "      <td>0.300075</td>\n",
              "      <td>...</td>\n",
              "      <td>0.083548</td>\n",
              "      <td>-1.600708</td>\n",
              "      <td>0.111059</td>\n",
              "      <td>-1.042115</td>\n",
              "      <td>0.194579</td>\n",
              "      <td>-1.750237</td>\n",
              "      <td>-0.228065</td>\n",
              "      <td>-0.362497</td>\n",
              "      <td>0.546830</td>\n",
              "      <td>-0.981711</td>\n",
              "    </tr>\n",
              "    <tr>\n",
              "      <th>1</th>\n",
              "      <td>0</td>\n",
              "      <td>2.314702</td>\n",
              "      <td>-0.094768</td>\n",
              "      <td>0.597315</td>\n",
              "      <td>1.263057</td>\n",
              "      <td>0.106570</td>\n",
              "      <td>-1.259286</td>\n",
              "      <td>-1.378099</td>\n",
              "      <td>0.131403</td>\n",
              "      <td>-1.170218</td>\n",
              "      <td>...</td>\n",
              "      <td>1.181679</td>\n",
              "      <td>-0.612212</td>\n",
              "      <td>-0.845026</td>\n",
              "      <td>-0.567252</td>\n",
              "      <td>0.009273</td>\n",
              "      <td>-1.354643</td>\n",
              "      <td>1.360647</td>\n",
              "      <td>-0.131858</td>\n",
              "      <td>0.100923</td>\n",
              "      <td>-0.259530</td>\n",
              "    </tr>\n",
              "  </tbody>\n",
              "</table>\n",
              "<p>2 rows × 151 columns</p>\n",
              "</div>"
            ],
            "text/plain": [
              "   target         0         1         2         3         4         5  \\\n",
              "0       0 -0.529144 -1.321758  0.331936  0.076037  0.486149  0.986322   \n",
              "1       0  2.314702 -0.094768  0.597315  1.263057  0.106570 -1.259286   \n",
              "\n",
              "          6         7         8    ...          140       141       142  \\\n",
              "0  0.604114 -0.113983  0.300075    ...     0.083548 -1.600708  0.111059   \n",
              "1 -1.378099  0.131403 -1.170218    ...     1.181679 -0.612212 -0.845026   \n",
              "\n",
              "        143       144       145       146       147       148       149  \n",
              "0 -1.042115  0.194579 -1.750237 -0.228065 -0.362497  0.546830 -0.981711  \n",
              "1 -0.567252  0.009273 -1.354643  1.360647 -0.131858  0.100923 -0.259530  \n",
              "\n",
              "[2 rows x 151 columns]"
            ]
          },
          "metadata": {
            "tags": []
          },
          "execution_count": 147
        }
      ]
    },
    {
      "metadata": {
        "id": "0I6JrfxaWEat",
        "colab_type": "code",
        "colab": {}
      },
      "cell_type": "code",
      "source": [
        "from sklearn.model_selection import train_test_split\n",
        "\n",
        "train, test = train_test_split(dt, test_size=0.2)"
      ],
      "execution_count": 0,
      "outputs": []
    },
    {
      "metadata": {
        "id": "nvT1-3aYOUUb",
        "colab_type": "code",
        "colab": {
          "base_uri": "https://localhost:8080/",
          "height": 333
        },
        "outputId": "b48b79ad-1fd7-4969-e11c-ea870353feed"
      },
      "cell_type": "code",
      "source": [
        "train.describe()"
      ],
      "execution_count": 149,
      "outputs": [
        {
          "output_type": "execute_result",
          "data": {
            "text/html": [
              "<div>\n",
              "<style scoped>\n",
              "    .dataframe tbody tr th:only-of-type {\n",
              "        vertical-align: middle;\n",
              "    }\n",
              "\n",
              "    .dataframe tbody tr th {\n",
              "        vertical-align: top;\n",
              "    }\n",
              "\n",
              "    .dataframe thead th {\n",
              "        text-align: right;\n",
              "    }\n",
              "</style>\n",
              "<table border=\"1\" class=\"dataframe\">\n",
              "  <thead>\n",
              "    <tr style=\"text-align: right;\">\n",
              "      <th></th>\n",
              "      <th>target</th>\n",
              "      <th>0</th>\n",
              "      <th>1</th>\n",
              "      <th>2</th>\n",
              "      <th>3</th>\n",
              "      <th>4</th>\n",
              "      <th>5</th>\n",
              "      <th>6</th>\n",
              "      <th>7</th>\n",
              "      <th>8</th>\n",
              "      <th>...</th>\n",
              "      <th>140</th>\n",
              "      <th>141</th>\n",
              "      <th>142</th>\n",
              "      <th>143</th>\n",
              "      <th>144</th>\n",
              "      <th>145</th>\n",
              "      <th>146</th>\n",
              "      <th>147</th>\n",
              "      <th>148</th>\n",
              "      <th>149</th>\n",
              "    </tr>\n",
              "  </thead>\n",
              "  <tbody>\n",
              "    <tr>\n",
              "      <th>count</th>\n",
              "      <td>160000.000000</td>\n",
              "      <td>160000.000000</td>\n",
              "      <td>160000.000000</td>\n",
              "      <td>160000.000000</td>\n",
              "      <td>160000.000000</td>\n",
              "      <td>160000.000000</td>\n",
              "      <td>160000.000000</td>\n",
              "      <td>160000.000000</td>\n",
              "      <td>160000.000000</td>\n",
              "      <td>160000.000000</td>\n",
              "      <td>...</td>\n",
              "      <td>160000.000000</td>\n",
              "      <td>160000.000000</td>\n",
              "      <td>160000.000000</td>\n",
              "      <td>160000.000000</td>\n",
              "      <td>160000.000000</td>\n",
              "      <td>160000.000000</td>\n",
              "      <td>160000.000000</td>\n",
              "      <td>160000.000000</td>\n",
              "      <td>160000.000000</td>\n",
              "      <td>160000.000000</td>\n",
              "    </tr>\n",
              "    <tr>\n",
              "      <th>mean</th>\n",
              "      <td>0.100388</td>\n",
              "      <td>0.002492</td>\n",
              "      <td>0.000215</td>\n",
              "      <td>0.000915</td>\n",
              "      <td>0.001937</td>\n",
              "      <td>0.000719</td>\n",
              "      <td>0.001928</td>\n",
              "      <td>0.002439</td>\n",
              "      <td>-0.000157</td>\n",
              "      <td>0.001634</td>\n",
              "      <td>...</td>\n",
              "      <td>-0.000814</td>\n",
              "      <td>-0.000191</td>\n",
              "      <td>-0.000834</td>\n",
              "      <td>-0.000099</td>\n",
              "      <td>-0.000090</td>\n",
              "      <td>-0.000208</td>\n",
              "      <td>-0.001015</td>\n",
              "      <td>0.000917</td>\n",
              "      <td>0.000576</td>\n",
              "      <td>-0.000832</td>\n",
              "    </tr>\n",
              "    <tr>\n",
              "      <th>std</th>\n",
              "      <td>0.300517</td>\n",
              "      <td>1.098849</td>\n",
              "      <td>1.027368</td>\n",
              "      <td>1.025951</td>\n",
              "      <td>1.027237</td>\n",
              "      <td>1.027026</td>\n",
              "      <td>1.025883</td>\n",
              "      <td>1.024131</td>\n",
              "      <td>1.023585</td>\n",
              "      <td>1.023739</td>\n",
              "      <td>...</td>\n",
              "      <td>0.982454</td>\n",
              "      <td>0.983224</td>\n",
              "      <td>0.982086</td>\n",
              "      <td>0.981465</td>\n",
              "      <td>0.980780</td>\n",
              "      <td>0.981010</td>\n",
              "      <td>0.981055</td>\n",
              "      <td>0.979325</td>\n",
              "      <td>0.980505</td>\n",
              "      <td>0.979388</td>\n",
              "    </tr>\n",
              "    <tr>\n",
              "      <th>min</th>\n",
              "      <td>0.000000</td>\n",
              "      <td>-4.343509</td>\n",
              "      <td>-4.370615</td>\n",
              "      <td>-4.358870</td>\n",
              "      <td>-4.500944</td>\n",
              "      <td>-4.335169</td>\n",
              "      <td>-4.083969</td>\n",
              "      <td>-4.369663</td>\n",
              "      <td>-4.442514</td>\n",
              "      <td>-4.683042</td>\n",
              "      <td>...</td>\n",
              "      <td>-4.103992</td>\n",
              "      <td>-4.187268</td>\n",
              "      <td>-4.702061</td>\n",
              "      <td>-4.181393</td>\n",
              "      <td>-4.190143</td>\n",
              "      <td>-4.239434</td>\n",
              "      <td>-4.226821</td>\n",
              "      <td>-4.270482</td>\n",
              "      <td>-4.365201</td>\n",
              "      <td>-4.547678</td>\n",
              "    </tr>\n",
              "    <tr>\n",
              "      <th>25%</th>\n",
              "      <td>0.000000</td>\n",
              "      <td>-0.747033</td>\n",
              "      <td>-0.694194</td>\n",
              "      <td>-0.690232</td>\n",
              "      <td>-0.689406</td>\n",
              "      <td>-0.694120</td>\n",
              "      <td>-0.688119</td>\n",
              "      <td>-0.686038</td>\n",
              "      <td>-0.693471</td>\n",
              "      <td>-0.688825</td>\n",
              "      <td>...</td>\n",
              "      <td>-0.665525</td>\n",
              "      <td>-0.663582</td>\n",
              "      <td>-0.662257</td>\n",
              "      <td>-0.663117</td>\n",
              "      <td>-0.661910</td>\n",
              "      <td>-0.661606</td>\n",
              "      <td>-0.662722</td>\n",
              "      <td>-0.660989</td>\n",
              "      <td>-0.661804</td>\n",
              "      <td>-0.658554</td>\n",
              "    </tr>\n",
              "    <tr>\n",
              "      <th>50%</th>\n",
              "      <td>0.000000</td>\n",
              "      <td>-0.036403</td>\n",
              "      <td>-0.001356</td>\n",
              "      <td>0.002104</td>\n",
              "      <td>0.002335</td>\n",
              "      <td>0.003219</td>\n",
              "      <td>0.000171</td>\n",
              "      <td>0.001891</td>\n",
              "      <td>0.000155</td>\n",
              "      <td>0.003665</td>\n",
              "      <td>...</td>\n",
              "      <td>-0.000175</td>\n",
              "      <td>-0.004319</td>\n",
              "      <td>-0.003457</td>\n",
              "      <td>-0.001323</td>\n",
              "      <td>-0.003468</td>\n",
              "      <td>0.000082</td>\n",
              "      <td>-0.003104</td>\n",
              "      <td>-0.001591</td>\n",
              "      <td>0.002405</td>\n",
              "      <td>0.000486</td>\n",
              "    </tr>\n",
              "    <tr>\n",
              "      <th>75%</th>\n",
              "      <td>0.000000</td>\n",
              "      <td>0.704788</td>\n",
              "      <td>0.693595</td>\n",
              "      <td>0.694576</td>\n",
              "      <td>0.694821</td>\n",
              "      <td>0.691018</td>\n",
              "      <td>0.695197</td>\n",
              "      <td>0.693147</td>\n",
              "      <td>0.689741</td>\n",
              "      <td>0.691011</td>\n",
              "      <td>...</td>\n",
              "      <td>0.659255</td>\n",
              "      <td>0.665139</td>\n",
              "      <td>0.661263</td>\n",
              "      <td>0.663886</td>\n",
              "      <td>0.662483</td>\n",
              "      <td>0.661970</td>\n",
              "      <td>0.661004</td>\n",
              "      <td>0.659765</td>\n",
              "      <td>0.664705</td>\n",
              "      <td>0.661572</td>\n",
              "    </tr>\n",
              "    <tr>\n",
              "      <th>max</th>\n",
              "      <td>1.000000</td>\n",
              "      <td>5.707648</td>\n",
              "      <td>4.254368</td>\n",
              "      <td>4.488833</td>\n",
              "      <td>4.585744</td>\n",
              "      <td>6.166446</td>\n",
              "      <td>4.567724</td>\n",
              "      <td>4.488799</td>\n",
              "      <td>4.873452</td>\n",
              "      <td>4.729443</td>\n",
              "      <td>...</td>\n",
              "      <td>5.431009</td>\n",
              "      <td>4.871860</td>\n",
              "      <td>4.717397</td>\n",
              "      <td>4.990465</td>\n",
              "      <td>4.251100</td>\n",
              "      <td>4.410511</td>\n",
              "      <td>4.289014</td>\n",
              "      <td>4.271594</td>\n",
              "      <td>5.168137</td>\n",
              "      <td>4.966518</td>\n",
              "    </tr>\n",
              "  </tbody>\n",
              "</table>\n",
              "<p>8 rows × 151 columns</p>\n",
              "</div>"
            ],
            "text/plain": [
              "              target              0              1              2  \\\n",
              "count  160000.000000  160000.000000  160000.000000  160000.000000   \n",
              "mean        0.100388       0.002492       0.000215       0.000915   \n",
              "std         0.300517       1.098849       1.027368       1.025951   \n",
              "min         0.000000      -4.343509      -4.370615      -4.358870   \n",
              "25%         0.000000      -0.747033      -0.694194      -0.690232   \n",
              "50%         0.000000      -0.036403      -0.001356       0.002104   \n",
              "75%         0.000000       0.704788       0.693595       0.694576   \n",
              "max         1.000000       5.707648       4.254368       4.488833   \n",
              "\n",
              "                   3              4              5              6  \\\n",
              "count  160000.000000  160000.000000  160000.000000  160000.000000   \n",
              "mean        0.001937       0.000719       0.001928       0.002439   \n",
              "std         1.027237       1.027026       1.025883       1.024131   \n",
              "min        -4.500944      -4.335169      -4.083969      -4.369663   \n",
              "25%        -0.689406      -0.694120      -0.688119      -0.686038   \n",
              "50%         0.002335       0.003219       0.000171       0.001891   \n",
              "75%         0.694821       0.691018       0.695197       0.693147   \n",
              "max         4.585744       6.166446       4.567724       4.488799   \n",
              "\n",
              "                   7              8      ...                  140  \\\n",
              "count  160000.000000  160000.000000      ...        160000.000000   \n",
              "mean       -0.000157       0.001634      ...            -0.000814   \n",
              "std         1.023585       1.023739      ...             0.982454   \n",
              "min        -4.442514      -4.683042      ...            -4.103992   \n",
              "25%        -0.693471      -0.688825      ...            -0.665525   \n",
              "50%         0.000155       0.003665      ...            -0.000175   \n",
              "75%         0.689741       0.691011      ...             0.659255   \n",
              "max         4.873452       4.729443      ...             5.431009   \n",
              "\n",
              "                 141            142            143            144  \\\n",
              "count  160000.000000  160000.000000  160000.000000  160000.000000   \n",
              "mean       -0.000191      -0.000834      -0.000099      -0.000090   \n",
              "std         0.983224       0.982086       0.981465       0.980780   \n",
              "min        -4.187268      -4.702061      -4.181393      -4.190143   \n",
              "25%        -0.663582      -0.662257      -0.663117      -0.661910   \n",
              "50%        -0.004319      -0.003457      -0.001323      -0.003468   \n",
              "75%         0.665139       0.661263       0.663886       0.662483   \n",
              "max         4.871860       4.717397       4.990465       4.251100   \n",
              "\n",
              "                 145            146            147            148  \\\n",
              "count  160000.000000  160000.000000  160000.000000  160000.000000   \n",
              "mean       -0.000208      -0.001015       0.000917       0.000576   \n",
              "std         0.981010       0.981055       0.979325       0.980505   \n",
              "min        -4.239434      -4.226821      -4.270482      -4.365201   \n",
              "25%        -0.661606      -0.662722      -0.660989      -0.661804   \n",
              "50%         0.000082      -0.003104      -0.001591       0.002405   \n",
              "75%         0.661970       0.661004       0.659765       0.664705   \n",
              "max         4.410511       4.289014       4.271594       5.168137   \n",
              "\n",
              "                 149  \n",
              "count  160000.000000  \n",
              "mean       -0.000832  \n",
              "std         0.979388  \n",
              "min        -4.547678  \n",
              "25%        -0.658554  \n",
              "50%         0.000486  \n",
              "75%         0.661572  \n",
              "max         4.966518  \n",
              "\n",
              "[8 rows x 151 columns]"
            ]
          },
          "metadata": {
            "tags": []
          },
          "execution_count": 149
        }
      ]
    },
    {
      "metadata": {
        "id": "OjtBplKkB7Tq",
        "colab_type": "code",
        "colab": {
          "base_uri": "https://localhost:8080/",
          "height": 50
        },
        "outputId": "f2980cf5-6c5a-49c3-8212-2ab7b49aa992"
      },
      "cell_type": "code",
      "source": [
        "print(train.shape)\n",
        "test.shape"
      ],
      "execution_count": 150,
      "outputs": [
        {
          "output_type": "stream",
          "text": [
            "(160000, 151)\n"
          ],
          "name": "stdout"
        },
        {
          "output_type": "execute_result",
          "data": {
            "text/plain": [
              "(40000, 151)"
            ]
          },
          "metadata": {
            "tags": []
          },
          "execution_count": 150
        }
      ]
    },
    {
      "metadata": {
        "id": "xgsHaHHj-4PI",
        "colab_type": "code",
        "colab": {
          "base_uri": "https://localhost:8080/",
          "height": 244
        },
        "outputId": "73f4908a-48c1-4665-e2fc-328defd48cc5"
      },
      "cell_type": "code",
      "source": [
        "train.head()"
      ],
      "execution_count": 128,
      "outputs": [
        {
          "output_type": "execute_result",
          "data": {
            "text/html": [
              "<div>\n",
              "<style scoped>\n",
              "    .dataframe tbody tr th:only-of-type {\n",
              "        vertical-align: middle;\n",
              "    }\n",
              "\n",
              "    .dataframe tbody tr th {\n",
              "        vertical-align: top;\n",
              "    }\n",
              "\n",
              "    .dataframe thead th {\n",
              "        text-align: right;\n",
              "    }\n",
              "</style>\n",
              "<table border=\"1\" class=\"dataframe\">\n",
              "  <thead>\n",
              "    <tr style=\"text-align: right;\">\n",
              "      <th></th>\n",
              "      <th>target</th>\n",
              "      <th>0</th>\n",
              "      <th>1</th>\n",
              "      <th>2</th>\n",
              "      <th>3</th>\n",
              "      <th>4</th>\n",
              "      <th>5</th>\n",
              "      <th>6</th>\n",
              "      <th>7</th>\n",
              "      <th>8</th>\n",
              "      <th>...</th>\n",
              "      <th>140</th>\n",
              "      <th>141</th>\n",
              "      <th>142</th>\n",
              "      <th>143</th>\n",
              "      <th>144</th>\n",
              "      <th>145</th>\n",
              "      <th>146</th>\n",
              "      <th>147</th>\n",
              "      <th>148</th>\n",
              "      <th>149</th>\n",
              "    </tr>\n",
              "  </thead>\n",
              "  <tbody>\n",
              "    <tr>\n",
              "      <th>39846</th>\n",
              "      <td>0</td>\n",
              "      <td>0.895911</td>\n",
              "      <td>-1.269637</td>\n",
              "      <td>1.595172</td>\n",
              "      <td>-1.122883</td>\n",
              "      <td>1.769802</td>\n",
              "      <td>-1.734320</td>\n",
              "      <td>-0.152944</td>\n",
              "      <td>-1.437989</td>\n",
              "      <td>-1.456765</td>\n",
              "      <td>...</td>\n",
              "      <td>2.017390</td>\n",
              "      <td>-0.661444</td>\n",
              "      <td>-0.140218</td>\n",
              "      <td>-0.920221</td>\n",
              "      <td>-1.191208</td>\n",
              "      <td>1.895771</td>\n",
              "      <td>-0.122796</td>\n",
              "      <td>-0.409913</td>\n",
              "      <td>1.258262</td>\n",
              "      <td>1.654723</td>\n",
              "    </tr>\n",
              "    <tr>\n",
              "      <th>92623</th>\n",
              "      <td>0</td>\n",
              "      <td>0.081698</td>\n",
              "      <td>0.874491</td>\n",
              "      <td>1.148380</td>\n",
              "      <td>0.612312</td>\n",
              "      <td>1.308467</td>\n",
              "      <td>-0.961393</td>\n",
              "      <td>1.829876</td>\n",
              "      <td>1.515396</td>\n",
              "      <td>1.408539</td>\n",
              "      <td>...</td>\n",
              "      <td>0.010329</td>\n",
              "      <td>1.865223</td>\n",
              "      <td>-0.063733</td>\n",
              "      <td>1.276376</td>\n",
              "      <td>-1.105407</td>\n",
              "      <td>-0.432226</td>\n",
              "      <td>0.767482</td>\n",
              "      <td>-2.316392</td>\n",
              "      <td>-1.432714</td>\n",
              "      <td>0.160592</td>\n",
              "    </tr>\n",
              "    <tr>\n",
              "      <th>21222</th>\n",
              "      <td>0</td>\n",
              "      <td>-0.824188</td>\n",
              "      <td>-0.799838</td>\n",
              "      <td>0.552824</td>\n",
              "      <td>2.025502</td>\n",
              "      <td>-0.581667</td>\n",
              "      <td>1.984731</td>\n",
              "      <td>-0.365197</td>\n",
              "      <td>0.091290</td>\n",
              "      <td>-0.106883</td>\n",
              "      <td>...</td>\n",
              "      <td>0.884960</td>\n",
              "      <td>1.244404</td>\n",
              "      <td>1.367107</td>\n",
              "      <td>0.473790</td>\n",
              "      <td>1.403777</td>\n",
              "      <td>-0.230374</td>\n",
              "      <td>1.187457</td>\n",
              "      <td>0.987276</td>\n",
              "      <td>-1.838769</td>\n",
              "      <td>-1.719960</td>\n",
              "    </tr>\n",
              "    <tr>\n",
              "      <th>179748</th>\n",
              "      <td>0</td>\n",
              "      <td>-0.493687</td>\n",
              "      <td>-0.263326</td>\n",
              "      <td>-1.276952</td>\n",
              "      <td>0.076836</td>\n",
              "      <td>0.349561</td>\n",
              "      <td>0.875967</td>\n",
              "      <td>-0.440738</td>\n",
              "      <td>-0.262466</td>\n",
              "      <td>-1.270441</td>\n",
              "      <td>...</td>\n",
              "      <td>-1.168887</td>\n",
              "      <td>-1.408755</td>\n",
              "      <td>-1.400412</td>\n",
              "      <td>-1.344836</td>\n",
              "      <td>-1.768302</td>\n",
              "      <td>0.714203</td>\n",
              "      <td>0.485513</td>\n",
              "      <td>1.186778</td>\n",
              "      <td>-0.528214</td>\n",
              "      <td>0.139086</td>\n",
              "    </tr>\n",
              "    <tr>\n",
              "      <th>150051</th>\n",
              "      <td>0</td>\n",
              "      <td>0.145983</td>\n",
              "      <td>-0.559017</td>\n",
              "      <td>1.621252</td>\n",
              "      <td>-1.564150</td>\n",
              "      <td>-0.435437</td>\n",
              "      <td>0.862154</td>\n",
              "      <td>1.107377</td>\n",
              "      <td>0.110321</td>\n",
              "      <td>-0.349958</td>\n",
              "      <td>...</td>\n",
              "      <td>-0.390180</td>\n",
              "      <td>-0.156766</td>\n",
              "      <td>0.322884</td>\n",
              "      <td>-0.334683</td>\n",
              "      <td>-0.379085</td>\n",
              "      <td>-0.639884</td>\n",
              "      <td>0.097211</td>\n",
              "      <td>0.978555</td>\n",
              "      <td>-0.600003</td>\n",
              "      <td>0.645232</td>\n",
              "    </tr>\n",
              "  </tbody>\n",
              "</table>\n",
              "<p>5 rows × 151 columns</p>\n",
              "</div>"
            ],
            "text/plain": [
              "        target         0         1         2         3         4         5  \\\n",
              "39846        0  0.895911 -1.269637  1.595172 -1.122883  1.769802 -1.734320   \n",
              "92623        0  0.081698  0.874491  1.148380  0.612312  1.308467 -0.961393   \n",
              "21222        0 -0.824188 -0.799838  0.552824  2.025502 -0.581667  1.984731   \n",
              "179748       0 -0.493687 -0.263326 -1.276952  0.076836  0.349561  0.875967   \n",
              "150051       0  0.145983 -0.559017  1.621252 -1.564150 -0.435437  0.862154   \n",
              "\n",
              "               6         7         8    ...          140       141       142  \\\n",
              "39846  -0.152944 -1.437989 -1.456765    ...     2.017390 -0.661444 -0.140218   \n",
              "92623   1.829876  1.515396  1.408539    ...     0.010329  1.865223 -0.063733   \n",
              "21222  -0.365197  0.091290 -0.106883    ...     0.884960  1.244404  1.367107   \n",
              "179748 -0.440738 -0.262466 -1.270441    ...    -1.168887 -1.408755 -1.400412   \n",
              "150051  1.107377  0.110321 -0.349958    ...    -0.390180 -0.156766  0.322884   \n",
              "\n",
              "             143       144       145       146       147       148       149  \n",
              "39846  -0.920221 -1.191208  1.895771 -0.122796 -0.409913  1.258262  1.654723  \n",
              "92623   1.276376 -1.105407 -0.432226  0.767482 -2.316392 -1.432714  0.160592  \n",
              "21222   0.473790  1.403777 -0.230374  1.187457  0.987276 -1.838769 -1.719960  \n",
              "179748 -1.344836 -1.768302  0.714203  0.485513  1.186778 -0.528214  0.139086  \n",
              "150051 -0.334683 -0.379085 -0.639884  0.097211  0.978555 -0.600003  0.645232  \n",
              "\n",
              "[5 rows x 151 columns]"
            ]
          },
          "metadata": {
            "tags": []
          },
          "execution_count": 128
        }
      ]
    },
    {
      "metadata": {
        "id": "ILxtyU7FCYE6",
        "colab_type": "code",
        "colab": {}
      },
      "cell_type": "code",
      "source": [
        "X_train=train.iloc[:,1:]\n",
        "X_test=test.iloc[:,1:]\n",
        "y_train=train.iloc[:,0:1]\n",
        "y_test=test.iloc[:,0:1]"
      ],
      "execution_count": 0,
      "outputs": []
    },
    {
      "metadata": {
        "id": "kZIza5Z4AAXf",
        "colab_type": "code",
        "colab": {
          "base_uri": "https://localhost:8080/",
          "height": 333
        },
        "outputId": "8aaaa4a8-aa56-45ba-927d-16d6808717d3"
      },
      "cell_type": "code",
      "source": [
        "X_test.describe()"
      ],
      "execution_count": 152,
      "outputs": [
        {
          "output_type": "execute_result",
          "data": {
            "text/html": [
              "<div>\n",
              "<style scoped>\n",
              "    .dataframe tbody tr th:only-of-type {\n",
              "        vertical-align: middle;\n",
              "    }\n",
              "\n",
              "    .dataframe tbody tr th {\n",
              "        vertical-align: top;\n",
              "    }\n",
              "\n",
              "    .dataframe thead th {\n",
              "        text-align: right;\n",
              "    }\n",
              "</style>\n",
              "<table border=\"1\" class=\"dataframe\">\n",
              "  <thead>\n",
              "    <tr style=\"text-align: right;\">\n",
              "      <th></th>\n",
              "      <th>0</th>\n",
              "      <th>1</th>\n",
              "      <th>2</th>\n",
              "      <th>3</th>\n",
              "      <th>4</th>\n",
              "      <th>5</th>\n",
              "      <th>6</th>\n",
              "      <th>7</th>\n",
              "      <th>8</th>\n",
              "      <th>9</th>\n",
              "      <th>...</th>\n",
              "      <th>140</th>\n",
              "      <th>141</th>\n",
              "      <th>142</th>\n",
              "      <th>143</th>\n",
              "      <th>144</th>\n",
              "      <th>145</th>\n",
              "      <th>146</th>\n",
              "      <th>147</th>\n",
              "      <th>148</th>\n",
              "      <th>149</th>\n",
              "    </tr>\n",
              "  </thead>\n",
              "  <tbody>\n",
              "    <tr>\n",
              "      <th>count</th>\n",
              "      <td>40000.000000</td>\n",
              "      <td>40000.000000</td>\n",
              "      <td>40000.000000</td>\n",
              "      <td>40000.000000</td>\n",
              "      <td>40000.000000</td>\n",
              "      <td>40000.000000</td>\n",
              "      <td>40000.000000</td>\n",
              "      <td>40000.000000</td>\n",
              "      <td>40000.000000</td>\n",
              "      <td>40000.000000</td>\n",
              "      <td>...</td>\n",
              "      <td>40000.000000</td>\n",
              "      <td>40000.000000</td>\n",
              "      <td>40000.000000</td>\n",
              "      <td>40000.000000</td>\n",
              "      <td>40000.000000</td>\n",
              "      <td>40000.000000</td>\n",
              "      <td>40000.000000</td>\n",
              "      <td>40000.000000</td>\n",
              "      <td>40000.000000</td>\n",
              "      <td>40000.000000</td>\n",
              "    </tr>\n",
              "    <tr>\n",
              "      <th>mean</th>\n",
              "      <td>-0.009969</td>\n",
              "      <td>-0.000861</td>\n",
              "      <td>-0.003661</td>\n",
              "      <td>-0.007749</td>\n",
              "      <td>-0.002877</td>\n",
              "      <td>-0.007710</td>\n",
              "      <td>-0.009757</td>\n",
              "      <td>0.000628</td>\n",
              "      <td>-0.006537</td>\n",
              "      <td>-0.003391</td>\n",
              "      <td>...</td>\n",
              "      <td>0.003258</td>\n",
              "      <td>0.000764</td>\n",
              "      <td>0.003336</td>\n",
              "      <td>0.000396</td>\n",
              "      <td>0.000359</td>\n",
              "      <td>0.000831</td>\n",
              "      <td>0.004061</td>\n",
              "      <td>-0.003667</td>\n",
              "      <td>-0.002305</td>\n",
              "      <td>0.003330</td>\n",
              "    </tr>\n",
              "    <tr>\n",
              "      <th>std</th>\n",
              "      <td>1.111967</td>\n",
              "      <td>1.028025</td>\n",
              "      <td>1.030586</td>\n",
              "      <td>1.023116</td>\n",
              "      <td>1.022865</td>\n",
              "      <td>1.023433</td>\n",
              "      <td>1.025653</td>\n",
              "      <td>1.024842</td>\n",
              "      <td>1.022819</td>\n",
              "      <td>1.024262</td>\n",
              "      <td>...</td>\n",
              "      <td>0.982844</td>\n",
              "      <td>0.978328</td>\n",
              "      <td>0.980911</td>\n",
              "      <td>0.980949</td>\n",
              "      <td>0.980259</td>\n",
              "      <td>0.978852</td>\n",
              "      <td>0.977869</td>\n",
              "      <td>0.982850</td>\n",
              "      <td>0.977271</td>\n",
              "      <td>0.978953</td>\n",
              "    </tr>\n",
              "    <tr>\n",
              "      <th>min</th>\n",
              "      <td>-4.683073</td>\n",
              "      <td>-4.085822</td>\n",
              "      <td>-4.398201</td>\n",
              "      <td>-4.227556</td>\n",
              "      <td>-4.171722</td>\n",
              "      <td>-4.252212</td>\n",
              "      <td>-4.467492</td>\n",
              "      <td>-4.323473</td>\n",
              "      <td>-4.375755</td>\n",
              "      <td>-4.035621</td>\n",
              "      <td>...</td>\n",
              "      <td>-3.837154</td>\n",
              "      <td>-4.022554</td>\n",
              "      <td>-4.210793</td>\n",
              "      <td>-4.591094</td>\n",
              "      <td>-4.109285</td>\n",
              "      <td>-3.798605</td>\n",
              "      <td>-3.923197</td>\n",
              "      <td>-4.015625</td>\n",
              "      <td>-4.160880</td>\n",
              "      <td>-3.855955</td>\n",
              "    </tr>\n",
              "    <tr>\n",
              "      <th>25%</th>\n",
              "      <td>-0.756994</td>\n",
              "      <td>-0.691476</td>\n",
              "      <td>-0.707846</td>\n",
              "      <td>-0.703444</td>\n",
              "      <td>-0.693633</td>\n",
              "      <td>-0.704269</td>\n",
              "      <td>-0.706656</td>\n",
              "      <td>-0.689891</td>\n",
              "      <td>-0.696226</td>\n",
              "      <td>-0.694412</td>\n",
              "      <td>...</td>\n",
              "      <td>-0.658364</td>\n",
              "      <td>-0.654687</td>\n",
              "      <td>-0.656663</td>\n",
              "      <td>-0.664909</td>\n",
              "      <td>-0.661228</td>\n",
              "      <td>-0.662664</td>\n",
              "      <td>-0.660405</td>\n",
              "      <td>-0.666342</td>\n",
              "      <td>-0.662049</td>\n",
              "      <td>-0.658112</td>\n",
              "    </tr>\n",
              "    <tr>\n",
              "      <th>50%</th>\n",
              "      <td>-0.053580</td>\n",
              "      <td>0.004223</td>\n",
              "      <td>0.000308</td>\n",
              "      <td>-0.012687</td>\n",
              "      <td>-0.002991</td>\n",
              "      <td>-0.015451</td>\n",
              "      <td>-0.011694</td>\n",
              "      <td>0.002122</td>\n",
              "      <td>-0.003435</td>\n",
              "      <td>-0.001606</td>\n",
              "      <td>...</td>\n",
              "      <td>0.002633</td>\n",
              "      <td>0.001498</td>\n",
              "      <td>-0.000798</td>\n",
              "      <td>-0.003280</td>\n",
              "      <td>-0.002778</td>\n",
              "      <td>-0.003044</td>\n",
              "      <td>-0.002424</td>\n",
              "      <td>-0.001132</td>\n",
              "      <td>-0.000940</td>\n",
              "      <td>0.006711</td>\n",
              "    </tr>\n",
              "    <tr>\n",
              "      <th>75%</th>\n",
              "      <td>0.691868</td>\n",
              "      <td>0.690616</td>\n",
              "      <td>0.691151</td>\n",
              "      <td>0.685165</td>\n",
              "      <td>0.687644</td>\n",
              "      <td>0.681655</td>\n",
              "      <td>0.674864</td>\n",
              "      <td>0.687978</td>\n",
              "      <td>0.682214</td>\n",
              "      <td>0.687811</td>\n",
              "      <td>...</td>\n",
              "      <td>0.673246</td>\n",
              "      <td>0.656682</td>\n",
              "      <td>0.657334</td>\n",
              "      <td>0.662245</td>\n",
              "      <td>0.658149</td>\n",
              "      <td>0.664583</td>\n",
              "      <td>0.671543</td>\n",
              "      <td>0.659681</td>\n",
              "      <td>0.656259</td>\n",
              "      <td>0.668834</td>\n",
              "    </tr>\n",
              "    <tr>\n",
              "      <th>max</th>\n",
              "      <td>5.938376</td>\n",
              "      <td>4.819486</td>\n",
              "      <td>4.084691</td>\n",
              "      <td>4.201175</td>\n",
              "      <td>4.774795</td>\n",
              "      <td>4.030600</td>\n",
              "      <td>4.107842</td>\n",
              "      <td>4.296896</td>\n",
              "      <td>4.702594</td>\n",
              "      <td>4.241332</td>\n",
              "      <td>...</td>\n",
              "      <td>3.494462</td>\n",
              "      <td>3.918164</td>\n",
              "      <td>3.728241</td>\n",
              "      <td>3.732705</td>\n",
              "      <td>3.883194</td>\n",
              "      <td>3.874704</td>\n",
              "      <td>4.048236</td>\n",
              "      <td>3.966050</td>\n",
              "      <td>3.931646</td>\n",
              "      <td>4.196551</td>\n",
              "    </tr>\n",
              "  </tbody>\n",
              "</table>\n",
              "<p>8 rows × 150 columns</p>\n",
              "</div>"
            ],
            "text/plain": [
              "                0             1             2             3             4    \\\n",
              "count  40000.000000  40000.000000  40000.000000  40000.000000  40000.000000   \n",
              "mean      -0.009969     -0.000861     -0.003661     -0.007749     -0.002877   \n",
              "std        1.111967      1.028025      1.030586      1.023116      1.022865   \n",
              "min       -4.683073     -4.085822     -4.398201     -4.227556     -4.171722   \n",
              "25%       -0.756994     -0.691476     -0.707846     -0.703444     -0.693633   \n",
              "50%       -0.053580      0.004223      0.000308     -0.012687     -0.002991   \n",
              "75%        0.691868      0.690616      0.691151      0.685165      0.687644   \n",
              "max        5.938376      4.819486      4.084691      4.201175      4.774795   \n",
              "\n",
              "                5             6             7             8             9    \\\n",
              "count  40000.000000  40000.000000  40000.000000  40000.000000  40000.000000   \n",
              "mean      -0.007710     -0.009757      0.000628     -0.006537     -0.003391   \n",
              "std        1.023433      1.025653      1.024842      1.022819      1.024262   \n",
              "min       -4.252212     -4.467492     -4.323473     -4.375755     -4.035621   \n",
              "25%       -0.704269     -0.706656     -0.689891     -0.696226     -0.694412   \n",
              "50%       -0.015451     -0.011694      0.002122     -0.003435     -0.001606   \n",
              "75%        0.681655      0.674864      0.687978      0.682214      0.687811   \n",
              "max        4.030600      4.107842      4.296896      4.702594      4.241332   \n",
              "\n",
              "           ...                140           141           142           143  \\\n",
              "count      ...       40000.000000  40000.000000  40000.000000  40000.000000   \n",
              "mean       ...           0.003258      0.000764      0.003336      0.000396   \n",
              "std        ...           0.982844      0.978328      0.980911      0.980949   \n",
              "min        ...          -3.837154     -4.022554     -4.210793     -4.591094   \n",
              "25%        ...          -0.658364     -0.654687     -0.656663     -0.664909   \n",
              "50%        ...           0.002633      0.001498     -0.000798     -0.003280   \n",
              "75%        ...           0.673246      0.656682      0.657334      0.662245   \n",
              "max        ...           3.494462      3.918164      3.728241      3.732705   \n",
              "\n",
              "                144           145           146           147           148  \\\n",
              "count  40000.000000  40000.000000  40000.000000  40000.000000  40000.000000   \n",
              "mean       0.000359      0.000831      0.004061     -0.003667     -0.002305   \n",
              "std        0.980259      0.978852      0.977869      0.982850      0.977271   \n",
              "min       -4.109285     -3.798605     -3.923197     -4.015625     -4.160880   \n",
              "25%       -0.661228     -0.662664     -0.660405     -0.666342     -0.662049   \n",
              "50%       -0.002778     -0.003044     -0.002424     -0.001132     -0.000940   \n",
              "75%        0.658149      0.664583      0.671543      0.659681      0.656259   \n",
              "max        3.883194      3.874704      4.048236      3.966050      3.931646   \n",
              "\n",
              "                149  \n",
              "count  40000.000000  \n",
              "mean       0.003330  \n",
              "std        0.978953  \n",
              "min       -3.855955  \n",
              "25%       -0.658112  \n",
              "50%        0.006711  \n",
              "75%        0.668834  \n",
              "max        4.196551  \n",
              "\n",
              "[8 rows x 150 columns]"
            ]
          },
          "metadata": {
            "tags": []
          },
          "execution_count": 152
        }
      ]
    },
    {
      "metadata": {
        "id": "hWuLehhxEPoI",
        "colab_type": "code",
        "colab": {
          "base_uri": "https://localhost:8080/",
          "height": 154
        },
        "outputId": "70cb23c1-7807-4381-c924-7001c0df4fb4"
      },
      "cell_type": "code",
      "source": [
        "from sklearn.ensemble import RandomForestClassifier\n",
        "from sklearn.metrics import confusion_matrix,accuracy_score\n",
        "RFC = RandomForestClassifier()  \n",
        "             \n",
        "RFC.fit(X_train, y_train)  \n",
        "y_pred = RFC.predict(X_test)\n",
        "\n",
        "print(confusion_matrix(y_test,y_pred))\n",
        "print(\"Accuracy score is \"+str(accuracy_score(y_test,y_pred)))"
      ],
      "execution_count": 73,
      "outputs": [
        {
          "output_type": "stream",
          "text": [
            "/usr/local/lib/python3.6/dist-packages/sklearn/ensemble/forest.py:246: FutureWarning: The default value of n_estimators will change from 10 in version 0.20 to 100 in 0.22.\n",
            "  \"10 in version 0.20 to 100 in 0.22.\", FutureWarning)\n",
            "/usr/local/lib/python3.6/dist-packages/ipykernel_launcher.py:5: DataConversionWarning: A column-vector y was passed when a 1d array was expected. Please change the shape of y to (n_samples,), for example using ravel().\n",
            "  \"\"\"\n"
          ],
          "name": "stderr"
        },
        {
          "output_type": "stream",
          "text": [
            "[[35945    48]\n",
            " [ 3947    60]]\n",
            "Accuracy score is 0.900125\n"
          ],
          "name": "stdout"
        }
      ]
    },
    {
      "metadata": {
        "id": "Kj0kc-CXbZYc",
        "colab_type": "code",
        "colab": {}
      },
      "cell_type": "code",
      "source": [
        ""
      ],
      "execution_count": 0,
      "outputs": []
    },
    {
      "metadata": {
        "id": "WZ2cFvaLE4Nc",
        "colab_type": "code",
        "colab": {
          "base_uri": "https://localhost:8080/",
          "height": 67
        },
        "outputId": "fb460399-99cf-41ae-fc41-972cc5605074"
      },
      "cell_type": "code",
      "source": [
        ""
      ],
      "execution_count": 8,
      "outputs": [
        {
          "output_type": "stream",
          "text": [
            "[[35822    54]\n",
            " [ 4050    74]]\n",
            "Accuracy score is 0.8974\n"
          ],
          "name": "stdout"
        }
      ]
    },
    {
      "metadata": {
        "id": "0jyQbif_E78E",
        "colab_type": "code",
        "colab": {
          "base_uri": "https://localhost:8080/",
          "height": 154
        },
        "outputId": "5510f461-38d1-4652-975e-02fb93151291"
      },
      "cell_type": "code",
      "source": [
        "from sklearn.linear_model import LogisticRegression \n",
        "from sklearn.metrics import confusion_matrix,accuracy_score\n",
        "\n",
        "model = LogisticRegression()\n",
        "model.fit(X_train, y_train)\n",
        "y_pred = model.predict(X_test)\n",
        "\n",
        "print(confusion_matrix(y_test,y_pred))\n",
        "print(\"Accuracy score is \"+str(accuracy_score(y_test,y_pred)))"
      ],
      "execution_count": 83,
      "outputs": [
        {
          "output_type": "stream",
          "text": [
            "/usr/local/lib/python3.6/dist-packages/sklearn/linear_model/logistic.py:433: FutureWarning: Default solver will be changed to 'lbfgs' in 0.22. Specify a solver to silence this warning.\n",
            "  FutureWarning)\n",
            "/usr/local/lib/python3.6/dist-packages/sklearn/utils/validation.py:761: DataConversionWarning: A column-vector y was passed when a 1d array was expected. Please change the shape of y to (n_samples, ), for example using ravel().\n",
            "  y = column_or_1d(y, warn=True)\n"
          ],
          "name": "stderr"
        },
        {
          "output_type": "stream",
          "text": [
            "[[35449   544]\n",
            " [ 2903  1104]]\n",
            "Accuracy score is 0.913825\n"
          ],
          "name": "stdout"
        }
      ]
    },
    {
      "metadata": {
        "id": "xkEPPp3PLF9s",
        "colab_type": "code",
        "colab": {
          "base_uri": "https://localhost:8080/",
          "height": 67
        },
        "outputId": "73ba261f-e60d-46b2-927e-563edbb9a672"
      },
      "cell_type": "code",
      "source": [
        ""
      ],
      "execution_count": 10,
      "outputs": [
        {
          "output_type": "stream",
          "text": [
            "[[35367   509]\n",
            " [ 3020  1104]]\n",
            "Accuracy score is 0.911775\n"
          ],
          "name": "stdout"
        }
      ]
    },
    {
      "metadata": {
        "id": "-f7nHUjRLMdy",
        "colab_type": "code",
        "colab": {}
      },
      "cell_type": "code",
      "source": [
        ""
      ],
      "execution_count": 0,
      "outputs": []
    },
    {
      "metadata": {
        "id": "CDLN61vhFVI_",
        "colab_type": "code",
        "colab": {
          "base_uri": "https://localhost:8080/",
          "height": 154
        },
        "outputId": "f6b19d78-a8cc-4a9b-df2f-e2c8b10f8f1a"
      },
      "cell_type": "code",
      "source": [
        "from xgboost import XGBClassifier\n",
        "from sklearn.metrics import accuracy_score,confusion_matrix\n",
        "\n",
        "model = XGBClassifier()\n",
        "model.fit(X_train, y_train)\n",
        "y_pred = model.predict(X_test)\n",
        "\n",
        "print(confusion_matrix(y_test,y_pred))\n",
        "print(\"Accuracy score is \"+str(accuracy_score(y_test,y_pred)))"
      ],
      "execution_count": 11,
      "outputs": [
        {
          "output_type": "stream",
          "text": [
            "/usr/local/lib/python3.6/dist-packages/sklearn/preprocessing/label.py:219: DataConversionWarning: A column-vector y was passed when a 1d array was expected. Please change the shape of y to (n_samples, ), for example using ravel().\n",
            "  y = column_or_1d(y, warn=True)\n",
            "/usr/local/lib/python3.6/dist-packages/sklearn/preprocessing/label.py:252: DataConversionWarning: A column-vector y was passed when a 1d array was expected. Please change the shape of y to (n_samples, ), for example using ravel().\n",
            "  y = column_or_1d(y, warn=True)\n"
          ],
          "name": "stderr"
        },
        {
          "output_type": "stream",
          "text": [
            "[[35867     9]\n",
            " [ 4058    66]]\n",
            "Accuracy score is 0.898325\n"
          ],
          "name": "stdout"
        }
      ]
    },
    {
      "metadata": {
        "id": "-0mzF7necvTE",
        "colab_type": "code",
        "colab": {
          "base_uri": "https://localhost:8080/",
          "height": 154
        },
        "outputId": "4223b799-718c-43a3-e8a0-d3a40e934e2c"
      },
      "cell_type": "code",
      "source": [
        "from xgboost import XGBClassifier\n",
        "from sklearn.metrics import accuracy_score,confusion_matrix\n",
        "\n",
        "model = XGBClassifier()\n",
        "model.fit(X_train, y_train)\n",
        "y_pred = model.predict(X_test)\n",
        "\n",
        "print(confusion_matrix(y_test,y_pred))\n",
        "print(\"Accuracy score is \"+str(accuracy_score(y_test,y_pred)))"
      ],
      "execution_count": 84,
      "outputs": [
        {
          "output_type": "stream",
          "text": [
            "/usr/local/lib/python3.6/dist-packages/sklearn/preprocessing/label.py:219: DataConversionWarning: A column-vector y was passed when a 1d array was expected. Please change the shape of y to (n_samples, ), for example using ravel().\n",
            "  y = column_or_1d(y, warn=True)\n",
            "/usr/local/lib/python3.6/dist-packages/sklearn/preprocessing/label.py:252: DataConversionWarning: A column-vector y was passed when a 1d array was expected. Please change the shape of y to (n_samples, ), for example using ravel().\n",
            "  y = column_or_1d(y, warn=True)\n"
          ],
          "name": "stderr"
        },
        {
          "output_type": "stream",
          "text": [
            "[[35989     4]\n",
            " [ 3942    65]]\n",
            "Accuracy score is 0.90135\n"
          ],
          "name": "stdout"
        }
      ]
    },
    {
      "metadata": {
        "id": "2uaDvSc9Nl_m",
        "colab_type": "code",
        "colab": {
          "base_uri": "https://localhost:8080/",
          "height": 121
        },
        "outputId": "e368e954-f0e8-4993-d591-c658b4c23546"
      },
      "cell_type": "code",
      "source": [
        "from sklearn.discriminant_analysis import LinearDiscriminantAnalysis as LDA\n",
        "\n",
        "lda = LDA(n_components=2)  \n",
        "lda.fit_transform(X_train, y_train)\n",
        "\n",
        "y_pred = lda.predict(X_test) \n",
        "print(confusion_matrix(y_test,y_pred))\n",
        "print(\"Accuracy score is \"+str(accuracy_score(y_test,y_pred)))"
      ],
      "execution_count": 12,
      "outputs": [
        {
          "output_type": "stream",
          "text": [
            "/usr/local/lib/python3.6/dist-packages/sklearn/utils/validation.py:761: DataConversionWarning: A column-vector y was passed when a 1d array was expected. Please change the shape of y to (n_samples, ), for example using ravel().\n",
            "  y = column_or_1d(y, warn=True)\n"
          ],
          "name": "stderr"
        },
        {
          "output_type": "stream",
          "text": [
            "[[35334   542]\n",
            " [ 2986  1138]]\n",
            "Accuracy score is 0.9118\n"
          ],
          "name": "stdout"
        }
      ]
    },
    {
      "metadata": {
        "id": "Z9XL2t1sbEg8",
        "colab_type": "code",
        "colab": {
          "base_uri": "https://localhost:8080/",
          "height": 530
        },
        "outputId": "087cf070-1d77-491a-9913-d2a56ba3a7e5"
      },
      "cell_type": "code",
      "source": [
        "from sklearn.discriminant_analysis import LinearDiscriminantAnalysis as LDA\n",
        "from sklearn.metrics import accuracy_score,confusion_matrix\n",
        "from sklearn.metrics import roc_curve, auc, roc_auc_score\n",
        "import matplotlib.pyplot as plt\n",
        "lda = LDA(n_components=2)  \n",
        "lda.fit_transform(X_train, y_train)\n",
        "\n",
        "y_pred = lda.predict(X_test) \n",
        "predictions = lda.predict_proba(X_test)\n",
        "print(confusion_matrix(y_test,y_pred))\n",
        "print(\"Accuracy score is \"+str(accuracy_score(y_test,y_pred)))\n",
        "false_positive_rate, true_positive_rate, thresholds = roc_curve(y_test, lda.predict(X_test))\n",
        "print(auc(false_positive_rate, true_positive_rate))\n",
        "print(roc_auc_score(y_test, lda.predict(X_test)))\n",
        "predictions = lda.predict_proba(X_test)\n",
        "\n",
        "print(roc_auc_score(y_test, predictions[:,1]))\n",
        "\n",
        "fpr, tpr, _ = roc_curve(y_test, predictions[:,1])\n",
        "\n",
        "plt.clf()\n",
        "plt.plot(fpr, tpr)\n",
        "plt.xlabel('FPR')\n",
        "plt.ylabel('TPR')\n",
        "plt.title('ROC curve')\n",
        "plt.show()\n"
      ],
      "execution_count": 98,
      "outputs": [
        {
          "output_type": "stream",
          "text": [
            "/usr/local/lib/python3.6/dist-packages/sklearn/utils/validation.py:761: DataConversionWarning: A column-vector y was passed when a 1d array was expected. Please change the shape of y to (n_samples, ), for example using ravel().\n",
            "  y = column_or_1d(y, warn=True)\n"
          ],
          "name": "stderr"
        },
        {
          "output_type": "stream",
          "text": [
            "[[35333   504]\n",
            " [ 2997  1166]]\n",
            "Accuracy score is 0.912475\n",
            "0.633011399446922\n",
            "0.633011399446922\n",
            "0.8652957527534239\n"
          ],
          "name": "stdout"
        },
        {
          "output_type": "display_data",
          "data": {
            "image/png": "[encoded data removed]",
            "text/plain": [
              "<Figure size 576x396 with 1 Axes>"
            ]
          },
          "metadata": {
            "tags": []
          }
        }
      ]
    },
    {
      "metadata": {
        "id": "hjqThKEZQT5L",
        "colab_type": "text"
      },
      "cell_type": "markdown",
      "source": [
        "[[35333   504]\n",
        " [ 2997  1166]]\n",
        "Accuracy score is 0.912475\n",
        "0.633011399446922\n",
        "0.633011399446922\n",
        "0.8652957527534239"
      ]
    },
    {
      "metadata": {
        "id": "4RpRq3DxQckn",
        "colab_type": "code",
        "colab": {
          "base_uri": "https://localhost:8080/",
          "height": 188
        },
        "outputId": "5cde2e0c-270d-474e-a672-70eff619c9cd"
      },
      "cell_type": "code",
      "source": [
        "from xgboost import XGBClassifier\n",
        "from sklearn.metrics import accuracy_score,confusion_matrix\n",
        "from sklearn.metrics import roc_curve, auc, roc_auc_score\n",
        "import matplotlib.pyplot as plt\n",
        "model = XGBClassifier()\n",
        "model.fit(X_train, y_train)\n",
        "y_pred = model.predict(X_test)\n",
        "predictions = model.predict_proba(X_test)\n",
        "\n",
        "print(confusion_matrix(y_test,y_pred))\n",
        "print(\"Accuracy score is \"+str(accuracy_score(y_test,y_pred)))\n",
        "false_positive_rate, true_positive_rate, thresholds = roc_curve(y_test, y_pred)\n",
        "print(auc(false_positive_rate, true_positive_rate))\n",
        "print(roc_auc_score(y_test, y_pred))"
      ],
      "execution_count": 100,
      "outputs": [
        {
          "output_type": "stream",
          "text": [
            "/usr/local/lib/python3.6/dist-packages/sklearn/preprocessing/label.py:219: DataConversionWarning: A column-vector y was passed when a 1d array was expected. Please change the shape of y to (n_samples, ), for example using ravel().\n",
            "  y = column_or_1d(y, warn=True)\n",
            "/usr/local/lib/python3.6/dist-packages/sklearn/preprocessing/label.py:252: DataConversionWarning: A column-vector y was passed when a 1d array was expected. Please change the shape of y to (n_samples, ), for example using ravel().\n",
            "  y = column_or_1d(y, warn=True)\n"
          ],
          "name": "stderr"
        },
        {
          "output_type": "stream",
          "text": [
            "[[35832     5]\n",
            " [ 4090    73]]\n",
            "Accuracy score is 0.897625\n",
            "0.5086979552861222\n",
            "0.5086979552861222\n"
          ],
          "name": "stdout"
        }
      ]
    },
    {
      "metadata": {
        "id": "8gd91MSxWqpP",
        "colab_type": "text"
      },
      "cell_type": "markdown",
      "source": [
        "[[35832     5]\n",
        " [ 4090    73]]\n",
        "Accuracy score is 0.897625\n",
        "0.5086979552861222\n",
        "0.5086979552861222"
      ]
    },
    {
      "metadata": {
        "id": "s1kUdo5PWsqG",
        "colab_type": "code",
        "colab": {
          "base_uri": "https://localhost:8080/",
          "height": 188
        },
        "outputId": "4038d153-b9f5-472f-fa05-e557ee594349"
      },
      "cell_type": "code",
      "source": [
        "import sklearn.linear_model as lm\n",
        "from sklearn.metrics import confusion_matrix,accuracy_score\n",
        "from sklearn.metrics import roc_curve, auc, roc_auc_score\n",
        "import matplotlib.pyplot as plt\n",
        "model = lm.LogisticRegression()\n",
        "\n",
        "a=model.fit(X_train, y_train)\n",
        "y_pred = model.predict(X_test)\n",
        "\n",
        "y_pred = model.predict(X_test)\n",
        "predictions = model.predict_proba(X_test)\n",
        "\n",
        "print(confusion_matrix(y_test,y_pred))\n",
        "print(\"Accuracy score is \"+str(accuracy_score(y_test,y_pred)))\n",
        "false_positive_rate, true_positive_rate, thresholds = roc_curve(y_test, y_pred)\n",
        "print(auc(false_positive_rate, true_positive_rate))\n",
        "print(roc_auc_score(y_test, y_pred))"
      ],
      "execution_count": 109,
      "outputs": [
        {
          "output_type": "stream",
          "text": [
            "/usr/local/lib/python3.6/dist-packages/sklearn/linear_model/logistic.py:433: FutureWarning: Default solver will be changed to 'lbfgs' in 0.22. Specify a solver to silence this warning.\n",
            "  FutureWarning)\n",
            "/usr/local/lib/python3.6/dist-packages/sklearn/utils/validation.py:761: DataConversionWarning: A column-vector y was passed when a 1d array was expected. Please change the shape of y to (n_samples, ), for example using ravel().\n",
            "  y = column_or_1d(y, warn=True)\n"
          ],
          "name": "stderr"
        },
        {
          "output_type": "stream",
          "text": [
            "[[35360   477]\n",
            " [ 3036  1127]]\n",
            "Accuracy score is 0.912175\n",
            "0.6287039830589609\n",
            "0.6287039830589609\n"
          ],
          "name": "stdout"
        }
      ]
    },
    {
      "metadata": {
        "id": "9Vhc8sPIW2TE",
        "colab_type": "code",
        "colab": {}
      },
      "cell_type": "code",
      "source": [
        "[[35360   477]\n",
        " [ 3036  1127]]\n",
        "Accuracy score is 0.912175\n",
        "0.6287039830589609\n",
        "0.6287039830589609"
      ],
      "execution_count": 0,
      "outputs": []
    },
    {
      "metadata": {
        "id": "Nlv-Y2rAXGR1",
        "colab_type": "text"
      },
      "cell_type": "markdown",
      "source": [
        "[[35360   477]\n",
        " [ 3036  1127]]\n",
        "Accuracy score is 0.912175\n",
        "0.6287039830589609\n",
        "0.6287039830589609"
      ]
    },
    {
      "metadata": {
        "id": "cfoePsCEZxOz",
        "colab_type": "code",
        "colab": {
          "base_uri": "https://localhost:8080/",
          "height": 188
        },
        "outputId": "382ed8cd-e4d2-4c5d-da35-ff6f1af7e729"
      },
      "cell_type": "code",
      "source": [
        "from sklearn.ensemble import RandomForestClassifier\n",
        "from sklearn.metrics import confusion_matrix,accuracy_score\n",
        "from sklearn.metrics import roc_curve, auc, roc_auc_score\n",
        "\n",
        "RFC = RandomForestClassifier()  \n",
        "             \n",
        "RFC.fit(X_train, y_train)  \n",
        "y_pred = RFC.predict(X_test)\n",
        "\n",
        "\n",
        "\n",
        "print(confusion_matrix(y_test,y_pred))\n",
        "print(\"Accuracy score is \"+str(accuracy_score(y_test,y_pred)))\n",
        "false_positive_rate, true_positive_rate, thresholds = roc_curve(y_test, y_pred)\n",
        "print(auc(false_positive_rate, true_positive_rate))\n",
        "print(roc_auc_score(y_test, y_pred))"
      ],
      "execution_count": 150,
      "outputs": [
        {
          "output_type": "stream",
          "text": [
            "/usr/local/lib/python3.6/dist-packages/sklearn/ensemble/forest.py:246: FutureWarning: The default value of n_estimators will change from 10 in version 0.20 to 100 in 0.22.\n",
            "  \"10 in version 0.20 to 100 in 0.22.\", FutureWarning)\n",
            "/usr/local/lib/python3.6/dist-packages/ipykernel_launcher.py:7: DataConversionWarning: A column-vector y was passed when a 1d array was expected. Please change the shape of y to (n_samples,), for example using ravel().\n",
            "  import sys\n"
          ],
          "name": "stderr"
        },
        {
          "output_type": "stream",
          "text": [
            "[[35889    51]\n",
            " [ 3998    62]]\n",
            "Accuracy score is 0.898775\n",
            "0.5069259521205294\n",
            "0.5069259521205294\n"
          ],
          "name": "stdout"
        }
      ]
    },
    {
      "metadata": {
        "id": "pxZWxGIPXL9x",
        "colab_type": "code",
        "colab": {}
      },
      "cell_type": "code",
      "source": [
        "def rf_feature_importance(m,df):\n",
        "    return pd.DataFrame({'cols':df.columns, 'imp':m.feature_importances_}\n",
        "                       ).sort_values('imp', ascending=False)"
      ],
      "execution_count": 0,
      "outputs": []
    },
    {
      "metadata": {
        "id": "ouYyT9Akhhnp",
        "colab_type": "code",
        "colab": {}
      },
      "cell_type": "code",
      "source": [
        ""
      ],
      "execution_count": 0,
      "outputs": []
    },
    {
      "metadata": {
        "id": "GPqriZJXYG5c",
        "colab_type": "code",
        "colab": {
          "base_uri": "https://localhost:8080/",
          "height": 935
        },
        "outputId": "a1b04064-9695-46c5-a8a9-2620ab98a44b"
      },
      "cell_type": "code",
      "source": [
        "fi = rf_feature_importance(RFC, X_train); fi[:30]"
      ],
      "execution_count": 152,
      "outputs": [
        {
          "output_type": "execute_result",
          "data": {
            "text/html": [
              "<div>\n",
              "<style scoped>\n",
              "    .dataframe tbody tr th:only-of-type {\n",
              "        vertical-align: middle;\n",
              "    }\n",
              "\n",
              "    .dataframe tbody tr th {\n",
              "        vertical-align: top;\n",
              "    }\n",
              "\n",
              "    .dataframe thead th {\n",
              "        text-align: right;\n",
              "    }\n",
              "</style>\n",
              "<table border=\"1\" class=\"dataframe\">\n",
              "  <thead>\n",
              "    <tr style=\"text-align: right;\">\n",
              "      <th></th>\n",
              "      <th>cols</th>\n",
              "      <th>imp</th>\n",
              "    </tr>\n",
              "  </thead>\n",
              "  <tbody>\n",
              "    <tr>\n",
              "      <th>81</th>\n",
              "      <td>81</td>\n",
              "      <td>0.011674</td>\n",
              "    </tr>\n",
              "    <tr>\n",
              "      <th>139</th>\n",
              "      <td>139</td>\n",
              "      <td>0.009756</td>\n",
              "    </tr>\n",
              "    <tr>\n",
              "      <th>12</th>\n",
              "      <td>12</td>\n",
              "      <td>0.009626</td>\n",
              "    </tr>\n",
              "    <tr>\n",
              "      <th>80</th>\n",
              "      <td>80</td>\n",
              "      <td>0.008441</td>\n",
              "    </tr>\n",
              "    <tr>\n",
              "      <th>110</th>\n",
              "      <td>110</td>\n",
              "      <td>0.008403</td>\n",
              "    </tr>\n",
              "    <tr>\n",
              "      <th>109</th>\n",
              "      <td>109</td>\n",
              "      <td>0.008236</td>\n",
              "    </tr>\n",
              "    <tr>\n",
              "      <th>26</th>\n",
              "      <td>26</td>\n",
              "      <td>0.008102</td>\n",
              "    </tr>\n",
              "    <tr>\n",
              "      <th>53</th>\n",
              "      <td>53</td>\n",
              "      <td>0.008084</td>\n",
              "    </tr>\n",
              "    <tr>\n",
              "      <th>166</th>\n",
              "      <td>166</td>\n",
              "      <td>0.007941</td>\n",
              "    </tr>\n",
              "    <tr>\n",
              "      <th>174</th>\n",
              "      <td>174</td>\n",
              "      <td>0.007842</td>\n",
              "    </tr>\n",
              "    <tr>\n",
              "      <th>22</th>\n",
              "      <td>22</td>\n",
              "      <td>0.007762</td>\n",
              "    </tr>\n",
              "    <tr>\n",
              "      <th>146</th>\n",
              "      <td>146</td>\n",
              "      <td>0.007762</td>\n",
              "    </tr>\n",
              "    <tr>\n",
              "      <th>6</th>\n",
              "      <td>6</td>\n",
              "      <td>0.007720</td>\n",
              "    </tr>\n",
              "    <tr>\n",
              "      <th>190</th>\n",
              "      <td>190</td>\n",
              "      <td>0.007504</td>\n",
              "    </tr>\n",
              "    <tr>\n",
              "      <th>0</th>\n",
              "      <td>0</td>\n",
              "      <td>0.007445</td>\n",
              "    </tr>\n",
              "    <tr>\n",
              "      <th>44</th>\n",
              "      <td>44</td>\n",
              "      <td>0.007376</td>\n",
              "    </tr>\n",
              "    <tr>\n",
              "      <th>76</th>\n",
              "      <td>76</td>\n",
              "      <td>0.007253</td>\n",
              "    </tr>\n",
              "    <tr>\n",
              "      <th>13</th>\n",
              "      <td>13</td>\n",
              "      <td>0.007141</td>\n",
              "    </tr>\n",
              "    <tr>\n",
              "      <th>198</th>\n",
              "      <td>198</td>\n",
              "      <td>0.007021</td>\n",
              "    </tr>\n",
              "    <tr>\n",
              "      <th>133</th>\n",
              "      <td>133</td>\n",
              "      <td>0.006914</td>\n",
              "    </tr>\n",
              "    <tr>\n",
              "      <th>2</th>\n",
              "      <td>2</td>\n",
              "      <td>0.006842</td>\n",
              "    </tr>\n",
              "    <tr>\n",
              "      <th>94</th>\n",
              "      <td>94</td>\n",
              "      <td>0.006741</td>\n",
              "    </tr>\n",
              "    <tr>\n",
              "      <th>21</th>\n",
              "      <td>21</td>\n",
              "      <td>0.006670</td>\n",
              "    </tr>\n",
              "    <tr>\n",
              "      <th>99</th>\n",
              "      <td>99</td>\n",
              "      <td>0.006630</td>\n",
              "    </tr>\n",
              "    <tr>\n",
              "      <th>78</th>\n",
              "      <td>78</td>\n",
              "      <td>0.006595</td>\n",
              "    </tr>\n",
              "    <tr>\n",
              "      <th>165</th>\n",
              "      <td>165</td>\n",
              "      <td>0.006584</td>\n",
              "    </tr>\n",
              "    <tr>\n",
              "      <th>179</th>\n",
              "      <td>179</td>\n",
              "      <td>0.006569</td>\n",
              "    </tr>\n",
              "    <tr>\n",
              "      <th>33</th>\n",
              "      <td>33</td>\n",
              "      <td>0.006480</td>\n",
              "    </tr>\n",
              "    <tr>\n",
              "      <th>40</th>\n",
              "      <td>40</td>\n",
              "      <td>0.006351</td>\n",
              "    </tr>\n",
              "    <tr>\n",
              "      <th>170</th>\n",
              "      <td>170</td>\n",
              "      <td>0.006327</td>\n",
              "    </tr>\n",
              "  </tbody>\n",
              "</table>\n",
              "</div>"
            ],
            "text/plain": [
              "    cols       imp\n",
              "81    81  0.011674\n",
              "139  139  0.009756\n",
              "12    12  0.009626\n",
              "80    80  0.008441\n",
              "110  110  0.008403\n",
              "109  109  0.008236\n",
              "26    26  0.008102\n",
              "53    53  0.008084\n",
              "166  166  0.007941\n",
              "174  174  0.007842\n",
              "22    22  0.007762\n",
              "146  146  0.007762\n",
              "6      6  0.007720\n",
              "190  190  0.007504\n",
              "0      0  0.007445\n",
              "44    44  0.007376\n",
              "76    76  0.007253\n",
              "13    13  0.007141\n",
              "198  198  0.007021\n",
              "133  133  0.006914\n",
              "2      2  0.006842\n",
              "94    94  0.006741\n",
              "21    21  0.006670\n",
              "99    99  0.006630\n",
              "78    78  0.006595\n",
              "165  165  0.006584\n",
              "179  179  0.006569\n",
              "33    33  0.006480\n",
              "40    40  0.006351\n",
              "170  170  0.006327"
            ]
          },
          "metadata": {
            "tags": []
          },
          "execution_count": 152
        }
      ]
    },
    {
      "metadata": {
        "id": "xgphLVbFcbKI",
        "colab_type": "code",
        "colab": {
          "base_uri": "https://localhost:8080/",
          "height": 389
        },
        "outputId": "70fe2e94-5ec3-4c39-d482-7a74a8e4c66c"
      },
      "cell_type": "code",
      "source": [
        "fi.plot('cols', 'imp', figsize=(10,6), legend=False);"
      ],
      "execution_count": 153,
      "outputs": [
        {
          "output_type": "display_data",
          "data": {
            "image/png": "[encoded data removed]",
            "text/plain": [
              "<Figure size 720x432 with 1 Axes>"
            ]
          },
          "metadata": {
            "tags": []
          }
        }
      ]
    },
    {
      "metadata": {
        "id": "XuMlAM2mdMPV",
        "colab_type": "code",
        "colab": {
          "base_uri": "https://localhost:8080/",
          "height": 34
        },
        "outputId": "7d831f3a-04c0-4efd-f6ad-d12fcb04d06e"
      },
      "cell_type": "code",
      "source": [
        "to_keep = fi[fi.imp>0.005].cols; len(to_keep)"
      ],
      "execution_count": 154,
      "outputs": [
        {
          "output_type": "execute_result",
          "data": {
            "text/plain": [
              "71"
            ]
          },
          "metadata": {
            "tags": []
          },
          "execution_count": 154
        }
      ]
    },
    {
      "metadata": {
        "id": "4e-ZHiqUdtho",
        "colab_type": "code",
        "colab": {}
      },
      "cell_type": "code",
      "source": [
        "X_train2 = X_train[to_keep].copy()"
      ],
      "execution_count": 0,
      "outputs": []
    },
    {
      "metadata": {
        "id": "PBdxwTOed1Ja",
        "colab_type": "code",
        "colab": {}
      },
      "cell_type": "code",
      "source": [
        "X_test2 = X_test[to_keep].copy()"
      ],
      "execution_count": 0,
      "outputs": []
    },
    {
      "metadata": {
        "id": "u6p2_0STefDx",
        "colab_type": "code",
        "colab": {
          "base_uri": "https://localhost:8080/",
          "height": 34
        },
        "outputId": "71063040-aa11-44e1-f294-988e4515e624"
      },
      "cell_type": "code",
      "source": [
        "X_train.shape"
      ],
      "execution_count": 125,
      "outputs": [
        {
          "output_type": "execute_result",
          "data": {
            "text/plain": [
              "(160000, 37)"
            ]
          },
          "metadata": {
            "tags": []
          },
          "execution_count": 125
        }
      ]
    },
    {
      "metadata": {
        "id": "IpwLO_vreDbi",
        "colab_type": "code",
        "colab": {
          "base_uri": "https://localhost:8080/",
          "height": 551
        },
        "outputId": "92dbcf07-1d40-4cf3-b82f-a095786a854c"
      },
      "cell_type": "code",
      "source": [
        "from sklearn.discriminant_analysis import LinearDiscriminantAnalysis as LDA\n",
        "from sklearn.metrics import accuracy_score,confusion_matrix\n",
        "from sklearn.metrics import roc_curve, auc, roc_auc_score\n",
        "import matplotlib.pyplot as plt\n",
        "lda = LDA(n_components=2)  \n",
        "lda.fit_transform(X_train2, y_train)\n",
        "\n",
        "y_pred = lda.predict(X_test2) \n",
        "predictions = lda.predict_proba(X_test2)\n",
        "print(confusion_matrix(y_test,y_pred))\n",
        "print(\"Accuracy score is \"+str(accuracy_score(y_test,y_pred)))\n",
        "false_positive_rate, true_positive_rate, thresholds = roc_curve(y_test, y_pred)\n",
        "print(auc(false_positive_rate, true_positive_rate))\n",
        "print(roc_auc_score(y_test, y_pred))"
      ],
      "execution_count": 157,
      "outputs": [
        {
          "output_type": "stream",
          "text": [
            "/usr/local/lib/python3.6/dist-packages/sklearn/utils/validation.py:761: DataConversionWarning: A column-vector y was passed when a 1d array was expected. Please change the shape of y to (n_samples, ), for example using ravel().\n",
            "  y = column_or_1d(y, warn=True)\n"
          ],
          "name": "stderr"
        },
        {
          "output_type": "stream",
          "text": [
            "[[35540   400]\n",
            " [ 3261   799]]\n",
            "Accuracy score is 0.908475\n",
            "0.5928341845056485\n"
          ],
          "name": "stdout"
        },
        {
          "output_type": "error",
          "ename": "ValueError",
          "evalue": "ignored",
          "traceback": [
            "\u001b[0;31m---------------------------------------------------------------------------\u001b[0m",
            "\u001b[0;31mValueError\u001b[0m                                Traceback (most recent call last)",
            "\u001b[0;32m<ipython-input-157-01e94d77dbff>\u001b[0m in \u001b[0;36m<module>\u001b[0;34m()\u001b[0m\n\u001b[1;32m     12\u001b[0m \u001b[0mfalse_positive_rate\u001b[0m\u001b[0;34m,\u001b[0m \u001b[0mtrue_positive_rate\u001b[0m\u001b[0;34m,\u001b[0m \u001b[0mthresholds\u001b[0m \u001b[0;34m=\u001b[0m \u001b[0mroc_curve\u001b[0m\u001b[0;34m(\u001b[0m\u001b[0my_test\u001b[0m\u001b[0;34m,\u001b[0m \u001b[0my_pred\u001b[0m\u001b[0;34m)\u001b[0m\u001b[0;34m\u001b[0m\u001b[0;34m\u001b[0m\u001b[0m\n\u001b[1;32m     13\u001b[0m \u001b[0mprint\u001b[0m\u001b[0;34m(\u001b[0m\u001b[0mauc\u001b[0m\u001b[0;34m(\u001b[0m\u001b[0mfalse_positive_rate\u001b[0m\u001b[0;34m,\u001b[0m \u001b[0mtrue_positive_rate\u001b[0m\u001b[0;34m)\u001b[0m\u001b[0;34m)\u001b[0m\u001b[0;34m\u001b[0m\u001b[0;34m\u001b[0m\u001b[0m\n\u001b[0;32m---> 14\u001b[0;31m \u001b[0mprint\u001b[0m\u001b[0;34m(\u001b[0m\u001b[0mroc_auc_score\u001b[0m\u001b[0;34m(\u001b[0m\u001b[0my_test\u001b[0m\u001b[0;34m,\u001b[0m \u001b[0mlda\u001b[0m\u001b[0;34m.\u001b[0m\u001b[0mpredict\u001b[0m\u001b[0;34m(\u001b[0m\u001b[0mX_test\u001b[0m\u001b[0;34m)\u001b[0m\u001b[0;34m)\u001b[0m\u001b[0;34m)\u001b[0m\u001b[0;34m\u001b[0m\u001b[0;34m\u001b[0m\u001b[0m\n\u001b[0m",
            "\u001b[0;32m/usr/local/lib/python3.6/dist-packages/sklearn/linear_model/base.py\u001b[0m in \u001b[0;36mpredict\u001b[0;34m(self, X)\u001b[0m\n\u001b[1;32m    279\u001b[0m             \u001b[0mPredicted\u001b[0m \u001b[0;32mclass\u001b[0m \u001b[0mlabel\u001b[0m \u001b[0mper\u001b[0m \u001b[0msample\u001b[0m\u001b[0;34m.\u001b[0m\u001b[0;34m\u001b[0m\u001b[0;34m\u001b[0m\u001b[0m\n\u001b[1;32m    280\u001b[0m         \"\"\"\n\u001b[0;32m--> 281\u001b[0;31m         \u001b[0mscores\u001b[0m \u001b[0;34m=\u001b[0m \u001b[0mself\u001b[0m\u001b[0;34m.\u001b[0m\u001b[0mdecision_function\u001b[0m\u001b[0;34m(\u001b[0m\u001b[0mX\u001b[0m\u001b[0;34m)\u001b[0m\u001b[0;34m\u001b[0m\u001b[0;34m\u001b[0m\u001b[0m\n\u001b[0m\u001b[1;32m    282\u001b[0m         \u001b[0;32mif\u001b[0m \u001b[0mlen\u001b[0m\u001b[0;34m(\u001b[0m\u001b[0mscores\u001b[0m\u001b[0;34m.\u001b[0m\u001b[0mshape\u001b[0m\u001b[0;34m)\u001b[0m \u001b[0;34m==\u001b[0m \u001b[0;36m1\u001b[0m\u001b[0;34m:\u001b[0m\u001b[0;34m\u001b[0m\u001b[0;34m\u001b[0m\u001b[0m\n\u001b[1;32m    283\u001b[0m             \u001b[0mindices\u001b[0m \u001b[0;34m=\u001b[0m \u001b[0;34m(\u001b[0m\u001b[0mscores\u001b[0m \u001b[0;34m>\u001b[0m \u001b[0;36m0\u001b[0m\u001b[0;34m)\u001b[0m\u001b[0;34m.\u001b[0m\u001b[0mastype\u001b[0m\u001b[0;34m(\u001b[0m\u001b[0mnp\u001b[0m\u001b[0;34m.\u001b[0m\u001b[0mint\u001b[0m\u001b[0;34m)\u001b[0m\u001b[0;34m\u001b[0m\u001b[0;34m\u001b[0m\u001b[0m\n",
            "\u001b[0;32m/usr/local/lib/python3.6/dist-packages/sklearn/linear_model/base.py\u001b[0m in \u001b[0;36mdecision_function\u001b[0;34m(self, X)\u001b[0m\n\u001b[1;32m    260\u001b[0m         \u001b[0;32mif\u001b[0m \u001b[0mX\u001b[0m\u001b[0;34m.\u001b[0m\u001b[0mshape\u001b[0m\u001b[0;34m[\u001b[0m\u001b[0;36m1\u001b[0m\u001b[0;34m]\u001b[0m \u001b[0;34m!=\u001b[0m \u001b[0mn_features\u001b[0m\u001b[0;34m:\u001b[0m\u001b[0;34m\u001b[0m\u001b[0;34m\u001b[0m\u001b[0m\n\u001b[1;32m    261\u001b[0m             raise ValueError(\"X has %d features per sample; expecting %d\"\n\u001b[0;32m--> 262\u001b[0;31m                              % (X.shape[1], n_features))\n\u001b[0m\u001b[1;32m    263\u001b[0m \u001b[0;34m\u001b[0m\u001b[0m\n\u001b[1;32m    264\u001b[0m         scores = safe_sparse_dot(X, self.coef_.T,\n",
            "\u001b[0;31mValueError\u001b[0m: X has 200 features per sample; expecting 71"
          ]
        }
      ]
    },
    {
      "metadata": {
        "id": "OPMX-iRMhJvE",
        "colab_type": "code",
        "colab": {
          "base_uri": "https://localhost:8080/",
          "height": 188
        },
        "outputId": "472b0ac1-fb77-41d9-d4b3-32e9cd5ecd16"
      },
      "cell_type": "code",
      "source": [
        "from sklearn.ensemble import RandomForestClassifier\n",
        "from sklearn.metrics import confusion_matrix,accuracy_score\n",
        "from sklearn.metrics import roc_curve, auc, roc_auc_score\n",
        "\n",
        "RFC = RandomForestClassifier()  \n",
        "             \n",
        "RFC.fit(X_train2, y_train)  \n",
        "y_pred = RFC.predict(X_test2)\n",
        "\n",
        "\n",
        "\n",
        "print(confusion_matrix(y_test,y_pred))\n",
        "print(\"Accuracy score is \"+str(accuracy_score(y_test,y_pred)))\n",
        "false_positive_rate, true_positive_rate, thresholds = roc_curve(y_test, y_pred)\n",
        "print(auc(false_positive_rate, true_positive_rate))\n",
        "print(roc_auc_score(y_test, y_pred))"
      ],
      "execution_count": 158,
      "outputs": [
        {
          "output_type": "stream",
          "text": [
            "/usr/local/lib/python3.6/dist-packages/sklearn/ensemble/forest.py:246: FutureWarning: The default value of n_estimators will change from 10 in version 0.20 to 100 in 0.22.\n",
            "  \"10 in version 0.20 to 100 in 0.22.\", FutureWarning)\n",
            "/usr/local/lib/python3.6/dist-packages/ipykernel_launcher.py:7: DataConversionWarning: A column-vector y was passed when a 1d array was expected. Please change the shape of y to (n_samples,), for example using ravel().\n",
            "  import sys\n"
          ],
          "name": "stderr"
        },
        {
          "output_type": "stream",
          "text": [
            "[[35851    89]\n",
            " [ 3934   126]]\n",
            "Accuracy score is 0.899425\n",
            "0.5142790666436398\n",
            "0.5142790666436398\n"
          ],
          "name": "stdout"
        }
      ]
    },
    {
      "metadata": {
        "id": "P_NjSmDGhrw4",
        "colab_type": "code",
        "colab": {}
      },
      "cell_type": "code",
      "source": [
        "def logistic_feature_importance(m,df):\n",
        "    return pd.DataFrame({'cols':df.columns, 'imp':abs(m.coef_[0])}\n",
        "                       ).sort_values('imp', ascending=False)"
      ],
      "execution_count": 0,
      "outputs": []
    },
    {
      "metadata": {
        "id": "cljgvuHUiEmh",
        "colab_type": "code",
        "colab": {
          "base_uri": "https://localhost:8080/",
          "height": 935
        },
        "outputId": "dfe5e482-b3ba-451f-d054-f5a134ef07d0"
      },
      "cell_type": "code",
      "source": [
        "lfi=logistic_feature_importance(model,X_train); lfi[:30]"
      ],
      "execution_count": 166,
      "outputs": [
        {
          "output_type": "execute_result",
          "data": {
            "text/html": [
              "<div>\n",
              "<style scoped>\n",
              "    .dataframe tbody tr th:only-of-type {\n",
              "        vertical-align: middle;\n",
              "    }\n",
              "\n",
              "    .dataframe tbody tr th {\n",
              "        vertical-align: top;\n",
              "    }\n",
              "\n",
              "    .dataframe thead th {\n",
              "        text-align: right;\n",
              "    }\n",
              "</style>\n",
              "<table border=\"1\" class=\"dataframe\">\n",
              "  <thead>\n",
              "    <tr style=\"text-align: right;\">\n",
              "      <th></th>\n",
              "      <th>cols</th>\n",
              "      <th>imp</th>\n",
              "    </tr>\n",
              "  </thead>\n",
              "  <tbody>\n",
              "    <tr>\n",
              "      <th>81</th>\n",
              "      <td>81</td>\n",
              "      <td>0.255369</td>\n",
              "    </tr>\n",
              "    <tr>\n",
              "      <th>139</th>\n",
              "      <td>139</td>\n",
              "      <td>0.232759</td>\n",
              "    </tr>\n",
              "    <tr>\n",
              "      <th>6</th>\n",
              "      <td>6</td>\n",
              "      <td>0.228867</td>\n",
              "    </tr>\n",
              "    <tr>\n",
              "      <th>76</th>\n",
              "      <td>76</td>\n",
              "      <td>0.214066</td>\n",
              "    </tr>\n",
              "    <tr>\n",
              "      <th>12</th>\n",
              "      <td>12</td>\n",
              "      <td>0.213014</td>\n",
              "    </tr>\n",
              "    <tr>\n",
              "      <th>110</th>\n",
              "      <td>110</td>\n",
              "      <td>0.207541</td>\n",
              "    </tr>\n",
              "    <tr>\n",
              "      <th>21</th>\n",
              "      <td>21</td>\n",
              "      <td>0.204904</td>\n",
              "    </tr>\n",
              "    <tr>\n",
              "      <th>53</th>\n",
              "      <td>53</td>\n",
              "      <td>0.203433</td>\n",
              "    </tr>\n",
              "    <tr>\n",
              "      <th>146</th>\n",
              "      <td>146</td>\n",
              "      <td>0.200756</td>\n",
              "    </tr>\n",
              "    <tr>\n",
              "      <th>174</th>\n",
              "      <td>174</td>\n",
              "      <td>0.198823</td>\n",
              "    </tr>\n",
              "    <tr>\n",
              "      <th>22</th>\n",
              "      <td>22</td>\n",
              "      <td>0.196476</td>\n",
              "    </tr>\n",
              "    <tr>\n",
              "      <th>26</th>\n",
              "      <td>26</td>\n",
              "      <td>0.195150</td>\n",
              "    </tr>\n",
              "    <tr>\n",
              "      <th>165</th>\n",
              "      <td>165</td>\n",
              "      <td>0.191218</td>\n",
              "    </tr>\n",
              "    <tr>\n",
              "      <th>80</th>\n",
              "      <td>80</td>\n",
              "      <td>0.187960</td>\n",
              "    </tr>\n",
              "    <tr>\n",
              "      <th>99</th>\n",
              "      <td>99</td>\n",
              "      <td>0.186087</td>\n",
              "    </tr>\n",
              "    <tr>\n",
              "      <th>190</th>\n",
              "      <td>190</td>\n",
              "      <td>0.182117</td>\n",
              "    </tr>\n",
              "    <tr>\n",
              "      <th>34</th>\n",
              "      <td>34</td>\n",
              "      <td>0.176318</td>\n",
              "    </tr>\n",
              "    <tr>\n",
              "      <th>13</th>\n",
              "      <td>13</td>\n",
              "      <td>0.175539</td>\n",
              "    </tr>\n",
              "    <tr>\n",
              "      <th>166</th>\n",
              "      <td>166</td>\n",
              "      <td>0.175404</td>\n",
              "    </tr>\n",
              "    <tr>\n",
              "      <th>0</th>\n",
              "      <td>0</td>\n",
              "      <td>0.172527</td>\n",
              "    </tr>\n",
              "    <tr>\n",
              "      <th>133</th>\n",
              "      <td>133</td>\n",
              "      <td>0.171845</td>\n",
              "    </tr>\n",
              "    <tr>\n",
              "      <th>2</th>\n",
              "      <td>2</td>\n",
              "      <td>0.170079</td>\n",
              "    </tr>\n",
              "    <tr>\n",
              "      <th>44</th>\n",
              "      <td>44</td>\n",
              "      <td>0.169035</td>\n",
              "    </tr>\n",
              "    <tr>\n",
              "      <th>198</th>\n",
              "      <td>198</td>\n",
              "      <td>0.168370</td>\n",
              "    </tr>\n",
              "    <tr>\n",
              "      <th>78</th>\n",
              "      <td>78</td>\n",
              "      <td>0.168160</td>\n",
              "    </tr>\n",
              "    <tr>\n",
              "      <th>148</th>\n",
              "      <td>148</td>\n",
              "      <td>0.167037</td>\n",
              "    </tr>\n",
              "    <tr>\n",
              "      <th>40</th>\n",
              "      <td>40</td>\n",
              "      <td>0.165429</td>\n",
              "    </tr>\n",
              "    <tr>\n",
              "      <th>179</th>\n",
              "      <td>179</td>\n",
              "      <td>0.165092</td>\n",
              "    </tr>\n",
              "    <tr>\n",
              "      <th>94</th>\n",
              "      <td>94</td>\n",
              "      <td>0.159642</td>\n",
              "    </tr>\n",
              "    <tr>\n",
              "      <th>169</th>\n",
              "      <td>169</td>\n",
              "      <td>0.158698</td>\n",
              "    </tr>\n",
              "  </tbody>\n",
              "</table>\n",
              "</div>"
            ],
            "text/plain": [
              "    cols       imp\n",
              "81    81  0.255369\n",
              "139  139  0.232759\n",
              "6      6  0.228867\n",
              "76    76  0.214066\n",
              "12    12  0.213014\n",
              "110  110  0.207541\n",
              "21    21  0.204904\n",
              "53    53  0.203433\n",
              "146  146  0.200756\n",
              "174  174  0.198823\n",
              "22    22  0.196476\n",
              "26    26  0.195150\n",
              "165  165  0.191218\n",
              "80    80  0.187960\n",
              "99    99  0.186087\n",
              "190  190  0.182117\n",
              "34    34  0.176318\n",
              "13    13  0.175539\n",
              "166  166  0.175404\n",
              "0      0  0.172527\n",
              "133  133  0.171845\n",
              "2      2  0.170079\n",
              "44    44  0.169035\n",
              "198  198  0.168370\n",
              "78    78  0.168160\n",
              "148  148  0.167037\n",
              "40    40  0.165429\n",
              "179  179  0.165092\n",
              "94    94  0.159642\n",
              "169  169  0.158698"
            ]
          },
          "metadata": {
            "tags": []
          },
          "execution_count": 166
        }
      ]
    },
    {
      "metadata": {
        "id": "doBuID7Bi2lg",
        "colab_type": "code",
        "colab": {
          "base_uri": "https://localhost:8080/",
          "height": 34
        },
        "outputId": "3103cdd0-6fee-4135-8a9d-25df7359653f"
      },
      "cell_type": "code",
      "source": [
        "to_keep = lfi[lfi.imp>0.1].cols; len(to_keep)"
      ],
      "execution_count": 168,
      "outputs": [
        {
          "output_type": "execute_result",
          "data": {
            "text/plain": [
              "79"
            ]
          },
          "metadata": {
            "tags": []
          },
          "execution_count": 168
        }
      ]
    },
    {
      "metadata": {
        "id": "cx6HVifIjMMa",
        "colab_type": "code",
        "colab": {}
      },
      "cell_type": "code",
      "source": [
        "X_train2 = X_train[to_keep].copy()"
      ],
      "execution_count": 0,
      "outputs": []
    },
    {
      "metadata": {
        "id": "U6IqeFbAjTll",
        "colab_type": "code",
        "colab": {}
      },
      "cell_type": "code",
      "source": [
        "X_test2 = X_test[to_keep].copy()"
      ],
      "execution_count": 0,
      "outputs": []
    },
    {
      "metadata": {
        "id": "a0wh0ILWjdrz",
        "colab_type": "code",
        "colab": {
          "base_uri": "https://localhost:8080/",
          "height": 154
        },
        "outputId": "03168b6e-a496-428e-e0b2-d521785c48b7"
      },
      "cell_type": "code",
      "source": [
        "from sklearn.discriminant_analysis import LinearDiscriminantAnalysis as LDA\n",
        "from sklearn.metrics import accuracy_score,confusion_matrix\n",
        "from sklearn.metrics import roc_curve, auc, roc_auc_score\n",
        "import matplotlib.pyplot as plt\n",
        "lda = LDA(n_components=2)  \n",
        "lda.fit_transform(X_train2, y_train)\n",
        "\n",
        "y_pred = lda.predict(X_test2) \n",
        "predictions = lda.predict_proba(X_test2)\n",
        "print(confusion_matrix(y_test,y_pred))\n",
        "print(\"Accuracy score is \"+str(accuracy_score(y_test,y_pred)))\n",
        "false_positive_rate, true_positive_rate, thresholds = roc_curve(y_test, y_pred)\n",
        "print(auc(false_positive_rate, true_positive_rate))\n",
        "print(roc_auc_score(y_test, y_pred))"
      ],
      "execution_count": 171,
      "outputs": [
        {
          "output_type": "stream",
          "text": [
            "/usr/local/lib/python3.6/dist-packages/sklearn/utils/validation.py:761: DataConversionWarning: A column-vector y was passed when a 1d array was expected. Please change the shape of y to (n_samples, ), for example using ravel().\n",
            "  y = column_or_1d(y, warn=True)\n"
          ],
          "name": "stderr"
        },
        {
          "output_type": "stream",
          "text": [
            "[[35516   424]\n",
            " [ 3164   896]]\n",
            "Accuracy score is 0.9103\n",
            "0.6044461074971695\n",
            "0.6044461074971695\n"
          ],
          "name": "stdout"
        }
      ]
    },
    {
      "metadata": {
        "id": "BBZBwHKcjtUP",
        "colab_type": "text"
      },
      "cell_type": "markdown",
      "source": [
        "\n",
        "\n",
        "```[[35516   424]\n",
        " [ 3164   896]]\n",
        "Accuracy score is 0.9103\n",
        "0.6044461074971695\n",
        "0.6044461074971695\n",
        "# This is formatted as code\n",
        "```\n",
        "\n"
      ]
    },
    {
      "metadata": {
        "id": "mg2b9rjsjxvn",
        "colab_type": "code",
        "colab": {
          "base_uri": "https://localhost:8080/",
          "height": 171
        },
        "outputId": "19a86585-5719-4d8b-b422-a09f45688a8b"
      },
      "cell_type": "code",
      "source": [
        "print(X_test.shape)\n",
        "from sklearn.discriminant_analysis import LinearDiscriminantAnalysis as LDA\n",
        "from sklearn.metrics import accuracy_score,confusion_matrix\n",
        "from sklearn.metrics import roc_curve, auc, roc_auc_score\n",
        "import matplotlib.pyplot as plt\n",
        "lda = LDA(n_components=2)  \n",
        "lda.fit_transform(X_train, y_train)\n",
        "\n",
        "y_pred = lda.predict(X_test) \n",
        "predictions = lda.predict_proba(X_test)\n",
        "print(confusion_matrix(y_test,y_pred))\n",
        "print(\"Accuracy score is \"+str(accuracy_score(y_test,y_pred)))\n",
        "false_positive_rate, true_positive_rate, thresholds = roc_curve(y_test, y_pred)\n",
        "print(\"Area under ROC is \"+str(auc(false_positive_rate, true_positive_rate)))\n",
        "print(roc_auc_score(y_test, y_pred))"
      ],
      "execution_count": 111,
      "outputs": [
        {
          "output_type": "stream",
          "text": [
            "(40000, 100)\n"
          ],
          "name": "stdout"
        },
        {
          "output_type": "stream",
          "text": [
            "/usr/local/lib/python3.6/dist-packages/sklearn/utils/validation.py:761: DataConversionWarning: A column-vector y was passed when a 1d array was expected. Please change the shape of y to (n_samples, ), for example using ravel().\n",
            "  y = column_or_1d(y, warn=True)\n"
          ],
          "name": "stderr"
        },
        {
          "output_type": "stream",
          "text": [
            "[[35484   445]\n",
            " [ 3157   914]]\n",
            "Accuracy score is 0.90995\n",
            "Area under ROC is 0.6060646615343934\n",
            "0.6060646615343934\n"
          ],
          "name": "stdout"
        }
      ]
    },
    {
      "metadata": {
        "id": "leAy7aTfLDO4",
        "colab_type": "text"
      },
      "cell_type": "markdown",
      "source": [
        "[[35484   445]\n",
        " [ 3157   914]]\n",
        "Accuracy score is 0.90995\n",
        "Area under ROC is 0.6060646615343934 /X with PCA(100) scaled"
      ]
    },
    {
      "metadata": {
        "id": "RtEUv21PV4sm",
        "colab_type": "text"
      },
      "cell_type": "markdown",
      "source": [
        "[[35558   414]\n",
        " [ 3244   784]]\n",
        "Accuracy score is 0.90855\n",
        "Area under ROC is 0.5915642929163375 // LDA with PCA(150)"
      ]
    },
    {
      "metadata": {
        "id": "agtsKzBhKHyp",
        "colab_type": "text"
      },
      "cell_type": "markdown",
      "source": [
        "[[35870   203]\n",
        " [ 3588   339]]\n",
        "Accuracy score is 0.905225\n",
        "Area under ROC is 0.5403489808258896 //LDA X with PCA(100) no scaled"
      ]
    },
    {
      "metadata": {
        "id": "PCRPgstkB2t_",
        "colab_type": "text"
      },
      "cell_type": "markdown",
      "source": [
        "[[35448   516]\n",
        " [ 2914  1122]]\n",
        "Accuracy score is 0.91425\n",
        "Area under ROC is 0.6318251684125487 // X with scaling"
      ]
    },
    {
      "metadata": {
        "id": "52aZCl5C_1_R",
        "colab_type": "text"
      },
      "cell_type": "markdown",
      "source": [
        "[[35484   526]\n",
        " [ 2849  1141]]\n",
        "Accuracy score is 0.915625\n",
        "Area under ROC is 0.6356789293422392\n",
        "0.6356789293422392 // LDA with no scaling full X (base)"
      ]
    },
    {
      "metadata": {
        "id": "40WDv1Y9Alef",
        "colab_type": "code",
        "colab": {}
      },
      "cell_type": "code",
      "source": [
        "%matplotlib inline\n",
        "import numpy as np\n",
        "import matplotlib.pyplot as plt\n",
        "import seaborn as sns; sns.set()"
      ],
      "execution_count": 0,
      "outputs": []
    },
    {
      "metadata": {
        "id": "6bMBs2xoFtHd",
        "colab_type": "code",
        "colab": {
          "base_uri": "https://localhost:8080/",
          "height": 361
        },
        "outputId": "b5c956a9-e3ae-4af5-add9-2cde90fc6846"
      },
      "cell_type": "code",
      "source": [
        "from sklearn.decomposition import PCA\n",
        "pca = PCA().fit(dx)\n",
        "plt.plot(np.cumsum(pca.explained_variance_ratio_))\n",
        "plt.xlabel('number of components')\n",
        "plt.ylabel('cumulative explained variance');"
      ],
      "execution_count": 59,
      "outputs": [
        {
          "output_type": "display_data",
          "data": {
            "image/png": "[encoded data removed]",
            "text/plain": [
              "<Figure size 576x396 with 1 Axes>"
            ]
          },
          "metadata": {
            "tags": []
          }
        }
      ]
    },
    {
      "metadata": {
        "id": "WazueB5DGbZ9",
        "colab_type": "code",
        "colab": {
          "base_uri": "https://localhost:8080/",
          "height": 34
        },
        "outputId": "ab533cbd-ff00-4aca-e12e-f0bf2a3e1b5c"
      },
      "cell_type": "code",
      "source": [
        "pca = PCA(n_components=150)\n",
        "pca.fit(dx)\n",
        "dx = pca.transform(dx)\n",
        "dx.shape"
      ],
      "execution_count": 141,
      "outputs": [
        {
          "output_type": "execute_result",
          "data": {
            "text/plain": [
              "(200000, 150)"
            ]
          },
          "metadata": {
            "tags": []
          },
          "execution_count": 141
        }
      ]
    },
    {
      "metadata": {
        "id": "ucLuq-P-M5Zs",
        "colab_type": "code",
        "colab": {}
      },
      "cell_type": "code",
      "source": [
        "def ldaf(X_train, y_train, X_test, y_test):\n",
        "  print(X_test.shape)\n",
        "  from sklearn.discriminant_analysis import LinearDiscriminantAnalysis as LDA\n",
        "  from sklearn.metrics import accuracy_score,confusion_matrix\n",
        "  from sklearn.metrics import roc_curve, auc, roc_auc_score\n",
        "  import matplotlib.pyplot as plt\n",
        "  lda = LDA(n_components=2)  \n",
        "  lda.fit_transform(X_train, y_train)\n",
        "\n",
        "  y_pred = lda.predict(X_test) \n",
        "  predictions = lda.predict_proba(X_test)\n",
        "  print(confusion_matrix(y_test,y_pred))\n",
        "  print(\"Accuracy score is \"+str(accuracy_score(y_test,y_pred)))\n",
        "  false_positive_rate, true_positive_rate, thresholds = roc_curve(y_test, y_pred)\n",
        "  print(\"Area under ROC is \"+str(auc(false_positive_rate, true_positive_rate)))\n",
        "  return auc(false_positive_rate, true_positive_rate)"
      ],
      "execution_count": 0,
      "outputs": []
    },
    {
      "metadata": {
        "id": "DQY7qe37OeEN",
        "colab_type": "code",
        "colab": {
          "base_uri": "https://localhost:8080/",
          "height": 171
        },
        "outputId": "94c2a5f6-a198-4c5a-968d-b690e8aa7d98"
      },
      "cell_type": "code",
      "source": [
        "ldaf(X_train, y_train, X_test, y_test)"
      ],
      "execution_count": 153,
      "outputs": [
        {
          "output_type": "stream",
          "text": [
            "(40000, 150)\n"
          ],
          "name": "stdout"
        },
        {
          "output_type": "stream",
          "text": [
            "/usr/local/lib/python3.6/dist-packages/sklearn/utils/validation.py:761: DataConversionWarning: A column-vector y was passed when a 1d array was expected. Please change the shape of y to (n_samples, ), for example using ravel().\n",
            "  y = column_or_1d(y, warn=True)\n"
          ],
          "name": "stderr"
        },
        {
          "output_type": "stream",
          "text": [
            "[[35423   541]\n",
            " [ 2945  1091]]\n",
            "Accuracy score is 0.91285\n",
            "Area under ROC is 0.6276371625452123\n"
          ],
          "name": "stdout"
        },
        {
          "output_type": "execute_result",
          "data": {
            "text/plain": [
              "0.6276371625452123"
            ]
          },
          "metadata": {
            "tags": []
          },
          "execution_count": 153
        }
      ]
    },
    {
      "metadata": {
        "id": "FN2SmVUJXM-H",
        "colab_type": "code",
        "colab": {}
      },
      "cell_type": "code",
      "source": [
        "#run k-means where k=3\n",
        "from sklearn.cluster import KMeans\n",
        "# Initializing KMeans\n",
        "kmeans = KMeans(n_clusters=3)\n",
        "# Fitting with inputs\n",
        "kmeans = kmeans.fit(dx)\n",
        "# Predicting the clusters\n",
        "labels = kmeans.predict(X)\n",
        "# Getting the cluster centers\n",
        "C = kmeans.cluster_centers_"
      ],
      "execution_count": 0,
      "outputs": []
    }
  ]
}