{
  "nbformat": 4,
  "nbformat_minor": 0,
  "metadata": {
    "colab": {
      "name": "XGBoost.ipynb",
      "version": "0.3.2",
      "provenance": [],
      "collapsed_sections": [],
      "include_colab_link": true
    },
    "kernelspec": {
      "name": "python3",
      "display_name": "Python 3"
    }
  },
  "cells": [
    {
      "cell_type": "markdown",
      "metadata": {
        "id": "view-in-github",
        "colab_type": "text"
      },
      "source": [
        "<a href=\"https://colab.research.google.com/github/ogut77/LogisticRegression/blob/master/XGBoost.ipynb\" target=\"_parent\"><img src=\"https://colab.research.google.com/assets/colab-badge.svg\" alt=\"Open In Colab\"/></a>"
      ]
    },
    {
      "metadata": {
        "id": "X32X_qggLe-3",
        "colab_type": "code",
        "outputId": "536fcbf4-c0ab-457a-8a09-18ae4847368c",
        "colab": {
          "base_uri": "https://localhost:8080/",
          "height": 235
        }
      },
      "cell_type": "code",
      "source": [
        "#import data\n",
        "import pandas as pd\n",
        "data=pd.read_excel(\"https://hogut.weebly.com/uploads/1/8/1/6/18163409/bookbinder2.xls\")\n",
        "#Let's see first five observation\n",
        "print(data[:5])\n",
        "\n"
      ],
      "execution_count": 80,
      "outputs": [
        {
          "output_type": "stream",
          "text": [
            "   Gender  Amount purchased  Frequency  Last purchase  First purchase  \\\n",
            "0       1               113          8              1               8   \n",
            "1       1               418          6             11              66   \n",
            "2       1               336         18              6              32   \n",
            "3       1               180         16              5              42   \n",
            "4       0               320          2              3              18   \n",
            "\n",
            "   P_Child  P_Youth  P_Cook  P_DIY  P_Art     Staus Choice  \n",
            "0        0        1       0      0      0  Training      Y  \n",
            "1        0        2       3      2      3  Training      Y  \n",
            "2        2        0       1      1      2  Training      Y  \n",
            "3        2        0       0      1      1  Training      Y  \n",
            "4        0        0       0      1      2  Training      Y  \n"
          ],
          "name": "stdout"
        }
      ]
    },
    {
      "metadata": {
        "id": "TpCluNcXUqRn",
        "colab_type": "code",
        "outputId": "01eb33dd-b27b-4a70-c957-8dadca99cdd4",
        "colab": {
          "base_uri": "https://localhost:8080/",
          "height": 504
        }
      },
      "cell_type": "code",
      "source": [
        "#Descriptive Statistics\n",
        "print(data.describe())"
      ],
      "execution_count": 81,
      "outputs": [
        {
          "output_type": "stream",
          "text": [
            "            Gender  Amount purchased    Frequency  Last purchase  \\\n",
            "count  3900.000000       3900.000000  3900.000000     3900.00000   \n",
            "mean      0.675128        197.590256    12.897949        3.11641   \n",
            "std       0.468387         95.784258     8.085644        2.94487   \n",
            "min       0.000000         15.000000     2.000000        1.00000   \n",
            "25%       0.000000        122.000000     8.000000        1.00000   \n",
            "50%       1.000000        200.000000    12.000000        2.00000   \n",
            "75%       1.000000        270.000000    16.000000        4.00000   \n",
            "max       1.000000        474.000000    36.000000       12.00000   \n",
            "\n",
            "       First purchase      P_Child      P_Youth       P_Cook        P_DIY  \\\n",
            "count     3900.000000  3900.000000  3900.000000  3900.000000  3900.000000   \n",
            "mean        22.736410     0.733077     0.340513     0.775128     0.400000   \n",
            "std         15.900152     1.031578     0.629651     1.050628     0.698439   \n",
            "min          2.000000     0.000000     0.000000     0.000000     0.000000   \n",
            "25%         12.000000     0.000000     0.000000     0.000000     0.000000   \n",
            "50%         18.000000     0.000000     0.000000     0.000000     0.000000   \n",
            "75%         30.000000     1.000000     1.000000     1.000000     1.000000   \n",
            "max         96.000000     8.000000     5.000000     6.000000     4.000000   \n",
            "\n",
            "             P_Art  \n",
            "count  3900.000000  \n",
            "mean      0.368974  \n",
            "std       0.667274  \n",
            "min       0.000000  \n",
            "25%       0.000000  \n",
            "50%       0.000000  \n",
            "75%       1.000000  \n",
            "max       5.000000  \n"
          ],
          "name": "stdout"
        }
      ]
    },
    {
      "metadata": {
        "id": "TkqOw57bOTR0",
        "colab_type": "code",
        "outputId": "2f93d1c5-21e4-422f-f1cd-c2750c062fca",
        "colab": {
          "base_uri": "https://localhost:8080/",
          "height": 67
        }
      },
      "cell_type": "code",
      "source": [
        "#Descriptive Statistcs of Categoric Variable Staus\n",
        "data['Staus'].value_counts()\n"
      ],
      "execution_count": 82,
      "outputs": [
        {
          "output_type": "execute_result",
          "data": {
            "text/plain": [
              "Test        2300\n",
              "Training    1600\n",
              "Name: Staus, dtype: int64"
            ]
          },
          "metadata": {
            "tags": []
          },
          "execution_count": 82
        }
      ]
    },
    {
      "metadata": {
        "id": "4PS1r9DMV-oS",
        "colab_type": "code",
        "outputId": "a2ae7407-1c61-403e-ee38-36e515733638",
        "colab": {
          "base_uri": "https://localhost:8080/",
          "height": 67
        }
      },
      "cell_type": "code",
      "source": [
        "#Descriptive Statistcs of Categoric Variable Choice\n",
        "#Choice is dependent variable\n",
        "data['Choice'].value_counts()"
      ],
      "execution_count": 3,
      "outputs": [
        {
          "output_type": "execute_result",
          "data": {
            "text/plain": [
              "N    3296\n",
              "Y     604\n",
              "Name: Choice, dtype: int64"
            ]
          },
          "metadata": {
            "tags": []
          },
          "execution_count": 3
        }
      ]
    },
    {
      "metadata": {
        "id": "rKTR5EXdQnnv",
        "colab_type": "code",
        "outputId": "41adc134-963a-48ae-a7aa-dce73b93acb2",
        "colab": {
          "base_uri": "https://localhost:8080/",
          "height": 195
        }
      },
      "cell_type": "code",
      "source": [
        "#Descriptive Statistics of Numeric Variables\n",
        "#when it is group by Choice ans Staus\n",
        "data.groupby(['Choice','Staus']).mean()"
      ],
      "execution_count": 4,
      "outputs": [
        {
          "output_type": "execute_result",
          "data": {
            "text/html": [
              "<div>\n",
              "<style scoped>\n",
              "    .dataframe tbody tr th:only-of-type {\n",
              "        vertical-align: middle;\n",
              "    }\n",
              "\n",
              "    .dataframe tbody tr th {\n",
              "        vertical-align: top;\n",
              "    }\n",
              "\n",
              "    .dataframe thead th {\n",
              "        text-align: right;\n",
              "    }\n",
              "</style>\n",
              "<table border=\"1\" class=\"dataframe\">\n",
              "  <thead>\n",
              "    <tr style=\"text-align: right;\">\n",
              "      <th></th>\n",
              "      <th></th>\n",
              "      <th>Gender</th>\n",
              "      <th>Amount purchased</th>\n",
              "      <th>Frequency</th>\n",
              "      <th>Last purchase</th>\n",
              "      <th>First purchase</th>\n",
              "      <th>P_Child</th>\n",
              "      <th>P_Youth</th>\n",
              "      <th>P_Cook</th>\n",
              "      <th>P_DIY</th>\n",
              "      <th>P_Art</th>\n",
              "    </tr>\n",
              "    <tr>\n",
              "      <th>Choice</th>\n",
              "      <th>Staus</th>\n",
              "      <th></th>\n",
              "      <th></th>\n",
              "      <th></th>\n",
              "      <th></th>\n",
              "      <th></th>\n",
              "      <th></th>\n",
              "      <th></th>\n",
              "      <th></th>\n",
              "      <th></th>\n",
              "      <th></th>\n",
              "    </tr>\n",
              "  </thead>\n",
              "  <tbody>\n",
              "    <tr>\n",
              "      <th rowspan=\"2\" valign=\"top\">N</th>\n",
              "      <th>Test</th>\n",
              "      <td>0.70229</td>\n",
              "      <td>193.533397</td>\n",
              "      <td>13.720420</td>\n",
              "      <td>2.999046</td>\n",
              "      <td>22.969466</td>\n",
              "      <td>0.729485</td>\n",
              "      <td>0.341603</td>\n",
              "      <td>0.791985</td>\n",
              "      <td>0.413645</td>\n",
              "      <td>0.284351</td>\n",
              "    </tr>\n",
              "    <tr>\n",
              "      <th>Training</th>\n",
              "      <td>0.69750</td>\n",
              "      <td>194.416667</td>\n",
              "      <td>13.336667</td>\n",
              "      <td>2.951667</td>\n",
              "      <td>22.546667</td>\n",
              "      <td>0.734167</td>\n",
              "      <td>0.327500</td>\n",
              "      <td>0.784167</td>\n",
              "      <td>0.393333</td>\n",
              "      <td>0.273333</td>\n",
              "    </tr>\n",
              "    <tr>\n",
              "      <th rowspan=\"2\" valign=\"top\">Y</th>\n",
              "      <th>Test</th>\n",
              "      <td>0.52451</td>\n",
              "      <td>213.191176</td>\n",
              "      <td>9.029412</td>\n",
              "      <td>3.676471</td>\n",
              "      <td>21.598039</td>\n",
              "      <td>0.720588</td>\n",
              "      <td>0.352941</td>\n",
              "      <td>0.720588</td>\n",
              "      <td>0.328431</td>\n",
              "      <td>0.799020</td>\n",
              "    </tr>\n",
              "    <tr>\n",
              "      <th>Training</th>\n",
              "      <td>0.54250</td>\n",
              "      <td>220.412500</td>\n",
              "      <td>9.245000</td>\n",
              "      <td>3.940000</td>\n",
              "      <td>22.665000</td>\n",
              "      <td>0.755000</td>\n",
              "      <td>0.367500</td>\n",
              "      <td>0.687500</td>\n",
              "      <td>0.385000</td>\n",
              "      <td>0.880000</td>\n",
              "    </tr>\n",
              "  </tbody>\n",
              "</table>\n",
              "</div>"
            ],
            "text/plain": [
              "                  Gender  Amount purchased  Frequency  Last purchase  \\\n",
              "Choice Staus                                                           \n",
              "N      Test      0.70229        193.533397  13.720420       2.999046   \n",
              "       Training  0.69750        194.416667  13.336667       2.951667   \n",
              "Y      Test      0.52451        213.191176   9.029412       3.676471   \n",
              "       Training  0.54250        220.412500   9.245000       3.940000   \n",
              "\n",
              "                 First purchase   P_Child   P_Youth    P_Cook     P_DIY  \\\n",
              "Choice Staus                                                              \n",
              "N      Test           22.969466  0.729485  0.341603  0.791985  0.413645   \n",
              "       Training       22.546667  0.734167  0.327500  0.784167  0.393333   \n",
              "Y      Test           21.598039  0.720588  0.352941  0.720588  0.328431   \n",
              "       Training       22.665000  0.755000  0.367500  0.687500  0.385000   \n",
              "\n",
              "                    P_Art  \n",
              "Choice Staus               \n",
              "N      Test      0.284351  \n",
              "       Training  0.273333  \n",
              "Y      Test      0.799020  \n",
              "       Training  0.880000  "
            ]
          },
          "metadata": {
            "tags": []
          },
          "execution_count": 4
        }
      ]
    },
    {
      "metadata": {
        "id": "jq7a3d35Dfe7",
        "colab_type": "code",
        "colab": {
          "base_uri": "https://localhost:8080/",
          "height": 195
        },
        "outputId": "96584700-66fd-4161-c4ed-f5263e496677"
      },
      "cell_type": "code",
      "source": [
        "data.groupby(['Choice','Staus']).count()"
      ],
      "execution_count": 5,
      "outputs": [
        {
          "output_type": "execute_result",
          "data": {
            "text/html": [
              "<div>\n",
              "<style scoped>\n",
              "    .dataframe tbody tr th:only-of-type {\n",
              "        vertical-align: middle;\n",
              "    }\n",
              "\n",
              "    .dataframe tbody tr th {\n",
              "        vertical-align: top;\n",
              "    }\n",
              "\n",
              "    .dataframe thead th {\n",
              "        text-align: right;\n",
              "    }\n",
              "</style>\n",
              "<table border=\"1\" class=\"dataframe\">\n",
              "  <thead>\n",
              "    <tr style=\"text-align: right;\">\n",
              "      <th></th>\n",
              "      <th></th>\n",
              "      <th>Gender</th>\n",
              "      <th>Amount purchased</th>\n",
              "      <th>Frequency</th>\n",
              "      <th>Last purchase</th>\n",
              "      <th>First purchase</th>\n",
              "      <th>P_Child</th>\n",
              "      <th>P_Youth</th>\n",
              "      <th>P_Cook</th>\n",
              "      <th>P_DIY</th>\n",
              "      <th>P_Art</th>\n",
              "    </tr>\n",
              "    <tr>\n",
              "      <th>Choice</th>\n",
              "      <th>Staus</th>\n",
              "      <th></th>\n",
              "      <th></th>\n",
              "      <th></th>\n",
              "      <th></th>\n",
              "      <th></th>\n",
              "      <th></th>\n",
              "      <th></th>\n",
              "      <th></th>\n",
              "      <th></th>\n",
              "      <th></th>\n",
              "    </tr>\n",
              "  </thead>\n",
              "  <tbody>\n",
              "    <tr>\n",
              "      <th rowspan=\"2\" valign=\"top\">N</th>\n",
              "      <th>Test</th>\n",
              "      <td>2096</td>\n",
              "      <td>2096</td>\n",
              "      <td>2096</td>\n",
              "      <td>2096</td>\n",
              "      <td>2096</td>\n",
              "      <td>2096</td>\n",
              "      <td>2096</td>\n",
              "      <td>2096</td>\n",
              "      <td>2096</td>\n",
              "      <td>2096</td>\n",
              "    </tr>\n",
              "    <tr>\n",
              "      <th>Training</th>\n",
              "      <td>1200</td>\n",
              "      <td>1200</td>\n",
              "      <td>1200</td>\n",
              "      <td>1200</td>\n",
              "      <td>1200</td>\n",
              "      <td>1200</td>\n",
              "      <td>1200</td>\n",
              "      <td>1200</td>\n",
              "      <td>1200</td>\n",
              "      <td>1200</td>\n",
              "    </tr>\n",
              "    <tr>\n",
              "      <th rowspan=\"2\" valign=\"top\">Y</th>\n",
              "      <th>Test</th>\n",
              "      <td>204</td>\n",
              "      <td>204</td>\n",
              "      <td>204</td>\n",
              "      <td>204</td>\n",
              "      <td>204</td>\n",
              "      <td>204</td>\n",
              "      <td>204</td>\n",
              "      <td>204</td>\n",
              "      <td>204</td>\n",
              "      <td>204</td>\n",
              "    </tr>\n",
              "    <tr>\n",
              "      <th>Training</th>\n",
              "      <td>400</td>\n",
              "      <td>400</td>\n",
              "      <td>400</td>\n",
              "      <td>400</td>\n",
              "      <td>400</td>\n",
              "      <td>400</td>\n",
              "      <td>400</td>\n",
              "      <td>400</td>\n",
              "      <td>400</td>\n",
              "      <td>400</td>\n",
              "    </tr>\n",
              "  </tbody>\n",
              "</table>\n",
              "</div>"
            ],
            "text/plain": [
              "                 Gender  Amount purchased  Frequency  Last purchase  \\\n",
              "Choice Staus                                                          \n",
              "N      Test        2096              2096       2096           2096   \n",
              "       Training    1200              1200       1200           1200   \n",
              "Y      Test         204               204        204            204   \n",
              "       Training     400               400        400            400   \n",
              "\n",
              "                 First purchase  P_Child  P_Youth  P_Cook  P_DIY  P_Art  \n",
              "Choice Staus                                                             \n",
              "N      Test                2096     2096     2096    2096   2096   2096  \n",
              "       Training            1200     1200     1200    1200   1200   1200  \n",
              "Y      Test                 204      204      204     204    204    204  \n",
              "       Training             400      400      400     400    400    400  "
            ]
          },
          "metadata": {
            "tags": []
          },
          "execution_count": 5
        }
      ]
    },
    {
      "metadata": {
        "id": "ohqVH_ZAX2mj",
        "colab_type": "code",
        "outputId": "aacb8615-c643-41d2-c5df-be258daae976",
        "colab": {
          "base_uri": "https://localhost:8080/",
          "height": 195
        }
      },
      "cell_type": "code",
      "source": [
        "from sklearn import preprocessing\n",
        "import numpy as np\n",
        "#Convert Categoric Data to 1 if Choice==Y and Choice==N \n",
        "data['Ch']=np.where(data['Choice'] =='Y', 1,0)\n",
        "\n",
        "data.head(5)\n",
        "\n",
        "\n"
      ],
      "execution_count": 108,
      "outputs": [
        {
          "output_type": "execute_result",
          "data": {
            "text/html": [
              "<div>\n",
              "<style scoped>\n",
              "    .dataframe tbody tr th:only-of-type {\n",
              "        vertical-align: middle;\n",
              "    }\n",
              "\n",
              "    .dataframe tbody tr th {\n",
              "        vertical-align: top;\n",
              "    }\n",
              "\n",
              "    .dataframe thead th {\n",
              "        text-align: right;\n",
              "    }\n",
              "</style>\n",
              "<table border=\"1\" class=\"dataframe\">\n",
              "  <thead>\n",
              "    <tr style=\"text-align: right;\">\n",
              "      <th></th>\n",
              "      <th>Gender</th>\n",
              "      <th>Amount purchased</th>\n",
              "      <th>Frequency</th>\n",
              "      <th>Last purchase</th>\n",
              "      <th>First purchase</th>\n",
              "      <th>P_Child</th>\n",
              "      <th>P_Youth</th>\n",
              "      <th>P_Cook</th>\n",
              "      <th>P_DIY</th>\n",
              "      <th>P_Art</th>\n",
              "      <th>Staus</th>\n",
              "      <th>Choice</th>\n",
              "      <th>Ch</th>\n",
              "    </tr>\n",
              "  </thead>\n",
              "  <tbody>\n",
              "    <tr>\n",
              "      <th>0</th>\n",
              "      <td>1</td>\n",
              "      <td>113</td>\n",
              "      <td>8</td>\n",
              "      <td>1</td>\n",
              "      <td>8</td>\n",
              "      <td>0</td>\n",
              "      <td>1</td>\n",
              "      <td>0</td>\n",
              "      <td>0</td>\n",
              "      <td>0</td>\n",
              "      <td>Training</td>\n",
              "      <td>Y</td>\n",
              "      <td>1</td>\n",
              "    </tr>\n",
              "    <tr>\n",
              "      <th>1</th>\n",
              "      <td>1</td>\n",
              "      <td>418</td>\n",
              "      <td>6</td>\n",
              "      <td>11</td>\n",
              "      <td>66</td>\n",
              "      <td>0</td>\n",
              "      <td>2</td>\n",
              "      <td>3</td>\n",
              "      <td>2</td>\n",
              "      <td>3</td>\n",
              "      <td>Training</td>\n",
              "      <td>Y</td>\n",
              "      <td>1</td>\n",
              "    </tr>\n",
              "    <tr>\n",
              "      <th>2</th>\n",
              "      <td>1</td>\n",
              "      <td>336</td>\n",
              "      <td>18</td>\n",
              "      <td>6</td>\n",
              "      <td>32</td>\n",
              "      <td>2</td>\n",
              "      <td>0</td>\n",
              "      <td>1</td>\n",
              "      <td>1</td>\n",
              "      <td>2</td>\n",
              "      <td>Training</td>\n",
              "      <td>Y</td>\n",
              "      <td>1</td>\n",
              "    </tr>\n",
              "    <tr>\n",
              "      <th>3</th>\n",
              "      <td>1</td>\n",
              "      <td>180</td>\n",
              "      <td>16</td>\n",
              "      <td>5</td>\n",
              "      <td>42</td>\n",
              "      <td>2</td>\n",
              "      <td>0</td>\n",
              "      <td>0</td>\n",
              "      <td>1</td>\n",
              "      <td>1</td>\n",
              "      <td>Training</td>\n",
              "      <td>Y</td>\n",
              "      <td>1</td>\n",
              "    </tr>\n",
              "    <tr>\n",
              "      <th>4</th>\n",
              "      <td>0</td>\n",
              "      <td>320</td>\n",
              "      <td>2</td>\n",
              "      <td>3</td>\n",
              "      <td>18</td>\n",
              "      <td>0</td>\n",
              "      <td>0</td>\n",
              "      <td>0</td>\n",
              "      <td>1</td>\n",
              "      <td>2</td>\n",
              "      <td>Training</td>\n",
              "      <td>Y</td>\n",
              "      <td>1</td>\n",
              "    </tr>\n",
              "  </tbody>\n",
              "</table>\n",
              "</div>"
            ],
            "text/plain": [
              "   Gender  Amount purchased  Frequency  Last purchase  First purchase  \\\n",
              "0       1               113          8              1               8   \n",
              "1       1               418          6             11              66   \n",
              "2       1               336         18              6              32   \n",
              "3       1               180         16              5              42   \n",
              "4       0               320          2              3              18   \n",
              "\n",
              "   P_Child  P_Youth  P_Cook  P_DIY  P_Art     Staus Choice  Ch  \n",
              "0        0        1       0      0      0  Training      Y   1  \n",
              "1        0        2       3      2      3  Training      Y   1  \n",
              "2        2        0       1      1      2  Training      Y   1  \n",
              "3        2        0       0      1      1  Training      Y   1  \n",
              "4        0        0       0      1      2  Training      Y   1  "
            ]
          },
          "metadata": {
            "tags": []
          },
          "execution_count": 108
        }
      ]
    },
    {
      "metadata": {
        "id": "GENh4-OCmCY9",
        "colab_type": "code",
        "colab": {
          "base_uri": "https://localhost:8080/",
          "height": 1058
        },
        "outputId": "1a12dbc0-ee4b-49ec-a988-f512d1d8eca2"
      },
      "cell_type": "code",
      "source": [
        "Training = data['Staus']=='Training'\n",
        "Test = data['Staus']=='Test'\n",
        "TrainingData=data[Training]\n",
        "TestData=data[Test]\n",
        "#Select dependent variables and independent variables for Test and Train data\n",
        "X_train=TrainingData.iloc[:,:-3]\n",
        "X_test=TestData.iloc[:,:-3]\n",
        "y_train=TrainingData.iloc[:,-1]\n",
        "y_test=TestData.iloc[:,-1]\n",
        "\n",
        "print(y_test)"
      ],
      "execution_count": 109,
      "outputs": [
        {
          "output_type": "stream",
          "text": [
            "1600    1\n",
            "1601    1\n",
            "1602    1\n",
            "1603    1\n",
            "1604    1\n",
            "1605    1\n",
            "1606    1\n",
            "1607    1\n",
            "1608    1\n",
            "1609    1\n",
            "1610    1\n",
            "1611    1\n",
            "1612    1\n",
            "1613    1\n",
            "1614    1\n",
            "1615    1\n",
            "1616    1\n",
            "1617    1\n",
            "1618    1\n",
            "1619    1\n",
            "1620    1\n",
            "1621    1\n",
            "1622    1\n",
            "1623    1\n",
            "1624    1\n",
            "1625    1\n",
            "1626    1\n",
            "1627    1\n",
            "1628    1\n",
            "1629    1\n",
            "       ..\n",
            "3870    0\n",
            "3871    0\n",
            "3872    0\n",
            "3873    0\n",
            "3874    0\n",
            "3875    0\n",
            "3876    0\n",
            "3877    0\n",
            "3878    0\n",
            "3879    0\n",
            "3880    0\n",
            "3881    0\n",
            "3882    0\n",
            "3883    0\n",
            "3884    0\n",
            "3885    0\n",
            "3886    0\n",
            "3887    0\n",
            "3888    0\n",
            "3889    0\n",
            "3890    0\n",
            "3891    0\n",
            "3892    0\n",
            "3893    0\n",
            "3894    0\n",
            "3895    0\n",
            "3896    0\n",
            "3897    0\n",
            "3898    0\n",
            "3899    0\n",
            "Name: Ch, Length: 2300, dtype: int64\n"
          ],
          "name": "stdout"
        }
      ]
    },
    {
      "metadata": {
        "id": "SycBIHkCP9t1",
        "colab_type": "code",
        "colab": {
          "base_uri": "https://localhost:8080/",
          "height": 67
        },
        "outputId": "a1a26565-e6e6-479e-f0df-3291e31e7690"
      },
      "cell_type": "code",
      "source": [
        "\n",
        "\n",
        "\n",
        "from xgboost import XGBClassifier\n",
        "\n",
        "from sklearn.metrics import accuracy_score,confusion_matrix\n",
        "\n",
        "model = XGBClassifier()\n",
        "model.fit(X_train, y_train)\n",
        "# make predictions for test data\n",
        "y_pred = model.predict(X_test)\n",
        "print(confusion_matrix(y_test,y_pred))\n",
        "print(\"Accuracy score is \"+str(accuracy_score(y_test,y_pred)))"
      ],
      "execution_count": 112,
      "outputs": [
        {
          "output_type": "stream",
          "text": [
            "[[1982  114]\n",
            " [ 139   65]]\n",
            "Accuracy score is 0.89\n"
          ],
          "name": "stdout"
        }
      ]
    }
  ]
}