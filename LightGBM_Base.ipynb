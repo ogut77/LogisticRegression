{
  "nbformat": 4,
  "nbformat_minor": 0,
  "metadata": {
    "colab": {
      "name": "LightGBM-Base.ipynb",
      "version": "0.3.2",
      "provenance": [],
      "include_colab_link": true
    },
    "kernelspec": {
      "name": "python3",
      "display_name": "Python 3"
    }
  },
  "cells": [
    {
      "cell_type": "markdown",
      "metadata": {
        "id": "view-in-github",
        "colab_type": "text"
      },
      "source": [
        "<a href=\"https://colab.research.google.com/github/ogut77/LogisticRegression/blob/master/LightGBM_Base.ipynb\" target=\"_parent\"><img src=\"https://colab.research.google.com/assets/colab-badge.svg\" alt=\"Open In Colab\"/></a>"
      ]
    },
    {
      "metadata": {
        "id": "qRDkkmcNnLKY",
        "colab_type": "code",
        "colab": {
          "base_uri": "https://localhost:8080/",
          "height": 34
        },
        "outputId": "a2051729-1cab-4f4f-b34d-b1605d5ad159"
      },
      "cell_type": "code",
      "source": [
        "import pandas as pd\n",
        "from google.colab import drive\n",
        "from sklearn.model_selection import train_test_split\n",
        "from sklearn.metrics import roc_auc_score, accuracy_score\n",
        "# Grafik çizdirmek için gerekli paket.\n",
        "import matplotlib.pyplot as plt\n",
        "# LightGBM paketi.\n",
        "import lightgbm as lgb\n",
        "import numpy as np\n",
        "#Uyarı mesajlarını kapatmak için\n",
        "import warnings\n",
        "warnings.filterwarnings(\"ignore\")\n",
        "# Veri çerçevelerini daha güzel görselleştirmek için\n",
        "from IPython.display import display, HTML\n",
        "# This will prompt for authorization.\n",
        "drive.mount('/content/drive')"
      ],
      "execution_count": 5,
      "outputs": [
        {
          "output_type": "stream",
          "text": [
            "Drive already mounted at /content/drive; to attempt to forcibly remount, call drive.mount(\"/content/drive\", force_remount=True).\n"
          ],
          "name": "stdout"
        }
      ]
    },
    {
      "metadata": {
        "id": "ijYKJd8TpW0K",
        "colab_type": "code",
        "colab": {
          "base_uri": "https://localhost:8080/",
          "height": 155
        },
        "outputId": "b428dbb3-8b4d-4fde-b04b-3ed67f045aaa"
      },
      "cell_type": "code",
      "source": [
        "d2 = pd.read_csv('/content/drive/My Drive/Santander/train.csv')\n",
        "d2.drop(['Unnamed: 0'], axis = 1, inplace = True)\n",
        "d2.drop(['ID_code'], axis = 1, inplace = True)\n",
        "d2.head(2)"
      ],
      "execution_count": 6,
      "outputs": [
        {
          "output_type": "execute_result",
          "data": {
            "text/html": [
              "<div>\n",
              "<style scoped>\n",
              "    .dataframe tbody tr th:only-of-type {\n",
              "        vertical-align: middle;\n",
              "    }\n",
              "\n",
              "    .dataframe tbody tr th {\n",
              "        vertical-align: top;\n",
              "    }\n",
              "\n",
              "    .dataframe thead th {\n",
              "        text-align: right;\n",
              "    }\n",
              "</style>\n",
              "<table border=\"1\" class=\"dataframe\">\n",
              "  <thead>\n",
              "    <tr style=\"text-align: right;\">\n",
              "      <th></th>\n",
              "      <th>target</th>\n",
              "      <th>var_0</th>\n",
              "      <th>var_1</th>\n",
              "      <th>var_2</th>\n",
              "      <th>var_3</th>\n",
              "      <th>var_4</th>\n",
              "      <th>var_5</th>\n",
              "      <th>var_6</th>\n",
              "      <th>var_7</th>\n",
              "      <th>var_8</th>\n",
              "      <th>...</th>\n",
              "      <th>var_190</th>\n",
              "      <th>var_191</th>\n",
              "      <th>var_192</th>\n",
              "      <th>var_193</th>\n",
              "      <th>var_194</th>\n",
              "      <th>var_195</th>\n",
              "      <th>var_196</th>\n",
              "      <th>var_197</th>\n",
              "      <th>var_198</th>\n",
              "      <th>var_199</th>\n",
              "    </tr>\n",
              "  </thead>\n",
              "  <tbody>\n",
              "    <tr>\n",
              "      <th>0</th>\n",
              "      <td>0</td>\n",
              "      <td>8.9255</td>\n",
              "      <td>-6.7863</td>\n",
              "      <td>11.9081</td>\n",
              "      <td>5.093</td>\n",
              "      <td>11.4607</td>\n",
              "      <td>-9.2834</td>\n",
              "      <td>5.1187</td>\n",
              "      <td>18.6266</td>\n",
              "      <td>-4.9200</td>\n",
              "      <td>...</td>\n",
              "      <td>4.4354</td>\n",
              "      <td>3.9642</td>\n",
              "      <td>3.1364</td>\n",
              "      <td>1.6910</td>\n",
              "      <td>18.5227</td>\n",
              "      <td>-2.3978</td>\n",
              "      <td>7.8784</td>\n",
              "      <td>8.5635</td>\n",
              "      <td>12.7803</td>\n",
              "      <td>-1.0914</td>\n",
              "    </tr>\n",
              "    <tr>\n",
              "      <th>1</th>\n",
              "      <td>0</td>\n",
              "      <td>11.5006</td>\n",
              "      <td>-4.1473</td>\n",
              "      <td>13.8588</td>\n",
              "      <td>5.389</td>\n",
              "      <td>12.3622</td>\n",
              "      <td>7.0433</td>\n",
              "      <td>5.6208</td>\n",
              "      <td>16.5338</td>\n",
              "      <td>3.1468</td>\n",
              "      <td>...</td>\n",
              "      <td>7.6421</td>\n",
              "      <td>7.7214</td>\n",
              "      <td>2.5837</td>\n",
              "      <td>10.9516</td>\n",
              "      <td>15.4305</td>\n",
              "      <td>2.0339</td>\n",
              "      <td>8.1267</td>\n",
              "      <td>8.7889</td>\n",
              "      <td>18.3560</td>\n",
              "      <td>1.9518</td>\n",
              "    </tr>\n",
              "  </tbody>\n",
              "</table>\n",
              "<p>2 rows × 201 columns</p>\n",
              "</div>"
            ],
            "text/plain": [
              "   target    var_0   var_1    var_2  var_3    var_4   var_5   var_6    var_7  \\\n",
              "0       0   8.9255 -6.7863  11.9081  5.093  11.4607 -9.2834  5.1187  18.6266   \n",
              "1       0  11.5006 -4.1473  13.8588  5.389  12.3622  7.0433  5.6208  16.5338   \n",
              "\n",
              "    var_8   ...     var_190  var_191  var_192  var_193  var_194  var_195  \\\n",
              "0 -4.9200   ...      4.4354   3.9642   3.1364   1.6910  18.5227  -2.3978   \n",
              "1  3.1468   ...      7.6421   7.7214   2.5837  10.9516  15.4305   2.0339   \n",
              "\n",
              "   var_196  var_197  var_198  var_199  \n",
              "0   7.8784   8.5635  12.7803  -1.0914  \n",
              "1   8.1267   8.7889  18.3560   1.9518  \n",
              "\n",
              "[2 rows x 201 columns]"
            ]
          },
          "metadata": {
            "tags": []
          },
          "execution_count": 6
        }
      ]
    },
    {
      "metadata": {
        "id": "j6bPsZCepo_v",
        "colab_type": "code",
        "colab": {
          "base_uri": "https://localhost:8080/",
          "height": 34
        },
        "outputId": "6489daa2-a3b3-4578-9c81-cd6b6a9efaf9"
      },
      "cell_type": "code",
      "source": [
        "from sklearn.model_selection import train_test_split\n",
        "\n",
        "df, te = train_test_split(d2, test_size=0.2)\n",
        "df.shape"
      ],
      "execution_count": 7,
      "outputs": [
        {
          "output_type": "execute_result",
          "data": {
            "text/plain": [
              "(160000, 201)"
            ]
          },
          "metadata": {
            "tags": []
          },
          "execution_count": 7
        }
      ]
    },
    {
      "metadata": {
        "id": "IJHqcbflpug_",
        "colab_type": "code",
        "colab": {}
      },
      "cell_type": "code",
      "source": [
        "X_train=df.iloc[:,1:]\n",
        "X_test=te.iloc[:,1:]\n",
        "y_train=df.iloc[:,0:1]\n",
        "y_test=te.iloc[:,0:1]"
      ],
      "execution_count": 0,
      "outputs": []
    },
    {
      "metadata": {
        "id": "5GgE-kpnpAdt",
        "colab_type": "code",
        "colab": {}
      },
      "cell_type": "code",
      "source": [
        "print(d2.isnull().sum())"
      ],
      "execution_count": 0,
      "outputs": []
    },
    {
      "metadata": {
        "id": "l683u72MKUJo",
        "colab_type": "code",
        "colab": {}
      },
      "cell_type": "code",
      "source": [
        "lgb_train = lgb.Dataset(data=X_train, label=y_train,  free_raw_data=False)"
      ],
      "execution_count": 0,
      "outputs": []
    },
    {
      "metadata": {
        "id": "rWkdkGmDK93O",
        "colab_type": "code",
        "colab": {}
      },
      "cell_type": "code",
      "source": [
        "parameters = {\n",
        "    'application': 'binary',\n",
        "    'objective': 'binary',\n",
        "    'metric': 'auc',\n",
        "    'is_unbalance': 'true',\n",
        "    'boosting': 'rf',\n",
        "    'num_leaves': 31,\n",
        "    'feature_fraction': 0.5,\n",
        "    'bagging_fraction': 0.5,\n",
        "    'bagging_freq': 20,\n",
        "    'learning_rate': 0.05,\n",
        "    'verbose': 0\n",
        "}\n"
      ],
      "execution_count": 0,
      "outputs": []
    },
    {
      "metadata": {
        "id": "1Ykyl1iPLFbU",
        "colab_type": "code",
        "colab": {}
      },
      "cell_type": "code",
      "source": [
        "gbm = lgb.train(parameters ,lgb_train)"
      ],
      "execution_count": 0,
      "outputs": []
    },
    {
      "metadata": {
        "id": "pfKhuNOuLO68",
        "colab_type": "code",
        "colab": {
          "base_uri": "https://localhost:8080/",
          "height": 50
        },
        "outputId": "e403a6bc-4e5b-4912-a0fb-aeecac43973b"
      },
      "cell_type": "code",
      "source": [
        "y_pred = gbm.predict(X_test)\n",
        "\n",
        "print('Eğri altı alan değeri:', roc_auc_score(y_test, y_pred))\n",
        "print('İsabetlilik değeri:', accuracy_score(y_test, ( y_pred>= 0.5)*1))"
      ],
      "execution_count": 18,
      "outputs": [
        {
          "output_type": "stream",
          "text": [
            "Eğri altı alan değeri: 0.7726133550297062\n",
            "İsabetlilik değeri: 0.123425\n"
          ],
          "name": "stdout"
        }
      ]
    },
    {
      "metadata": {
        "id": "VT_Epl_4MKXn",
        "colab_type": "code",
        "colab": {}
      },
      "cell_type": "code",
      "source": [
        "params = {\n",
        "    'task': 'train',\n",
        "    'boosting_type': 'gbdt',\n",
        "    'objective': 'binary',\n",
        "    'metric': 'auc',\n",
        "    'num_leaves': 31,\n",
        "    'learning_rate': 0.05,\n",
        "    'verbose': -1\n",
        "}"
      ],
      "execution_count": 0,
      "outputs": []
    },
    {
      "metadata": {
        "id": "FAF9pOHbMMCG",
        "colab_type": "code",
        "colab": {}
      },
      "cell_type": "code",
      "source": [
        "gbm = lgb.train(params ,lgb_train)"
      ],
      "execution_count": 0,
      "outputs": []
    },
    {
      "metadata": {
        "id": "19J2jKtQMRt-",
        "colab_type": "code",
        "colab": {
          "base_uri": "https://localhost:8080/",
          "height": 50
        },
        "outputId": "e5ad4962-c9c2-4056-bf3b-56164795a8b3"
      },
      "cell_type": "code",
      "source": [
        "y_pred = gbm.predict(X_test)\n",
        "\n",
        "print('Eğri altı alan değeri:', roc_auc_score(y_test, y_pred))\n",
        "print('İsabetlilik değeri:', accuracy_score(y_test, ( y_pred>= 0.5)*1))"
      ],
      "execution_count": 21,
      "outputs": [
        {
          "output_type": "stream",
          "text": [
            "Eğri altı alan değeri: 0.8482986139588877\n",
            "İsabetlilik değeri: 0.899625\n"
          ],
          "name": "stdout"
        }
      ]
    },
    {
      "metadata": {
        "id": "6e_clkUMNz0z",
        "colab_type": "code",
        "colab": {
          "base_uri": "https://localhost:8080/",
          "height": 2671
        },
        "outputId": "ec89e935-3f3b-452d-e65d-4d69bf71d1f9"
      },
      "cell_type": "code",
      "source": [
        "# Değerlendirme veri kümesini oluşturuyoruz.\n",
        "lgb_eval = lgb.Dataset(data=X_test, label=y_test, reference=lgb_train,  free_raw_data=False)\n",
        "\n",
        "# Eğitim parametrelerini belirleyelim\n",
        "params = {\n",
        "    'task': 'train',\n",
        "    'boosting_type': 'gbdt',\n",
        "    'objective': 'binary',\n",
        "    'metric': 'auc',\n",
        "    'num_leaves': 31,\n",
        "    'learning_rate': 0.05,\n",
        "    'verbose': -1\n",
        "}\n",
        "\n",
        "print('Eğitim...')\n",
        "# Modeli eğitelim\n",
        "# Bu sefer değerlendirme veri kümesini de tanıtıyoruz.\n",
        "evals_result={}\n",
        "gbm = lgb.train(params,\n",
        "                lgb_train,\n",
        "                valid_sets = lgb_eval,\n",
        "                num_boost_round= 150,\n",
        "                early_stopping_rounds= 25,\n",
        "                evals_result=evals_result)\n",
        "print('Eğitim bitti...')\n",
        "\n",
        "# Tahmin ve değerlendirme\n",
        "y_pred = gbm.predict(X_test, num_iteration=gbm.best_iteration)\n",
        "\n",
        "print('En iyi sonucu veren iterasyon: ', gbm.best_iteration)\n",
        "print('Eğri altı alan değeri:', roc_auc_score(y_test, y_pred))\n",
        "print('İsabetlilik değeri:', accuracy_score(y_test, ( y_pred>= 0.5)*1))"
      ],
      "execution_count": 23,
      "outputs": [
        {
          "output_type": "stream",
          "text": [
            "Eğitim...\n",
            "[1]\tvalid_0's auc: 0.669785\n",
            "Training until validation scores don't improve for 25 rounds.\n",
            "[2]\tvalid_0's auc: 0.688388\n",
            "[3]\tvalid_0's auc: 0.694886\n",
            "[4]\tvalid_0's auc: 0.70407\n",
            "[5]\tvalid_0's auc: 0.71333\n",
            "[6]\tvalid_0's auc: 0.718896\n",
            "[7]\tvalid_0's auc: 0.724208\n",
            "[8]\tvalid_0's auc: 0.730342\n",
            "[9]\tvalid_0's auc: 0.736257\n",
            "[10]\tvalid_0's auc: 0.741067\n",
            "[11]\tvalid_0's auc: 0.746541\n",
            "[12]\tvalid_0's auc: 0.750804\n",
            "[13]\tvalid_0's auc: 0.75172\n",
            "[14]\tvalid_0's auc: 0.756402\n",
            "[15]\tvalid_0's auc: 0.760911\n",
            "[16]\tvalid_0's auc: 0.764473\n",
            "[17]\tvalid_0's auc: 0.767871\n",
            "[18]\tvalid_0's auc: 0.7703\n",
            "[19]\tvalid_0's auc: 0.773639\n",
            "[20]\tvalid_0's auc: 0.776336\n",
            "[21]\tvalid_0's auc: 0.778881\n",
            "[22]\tvalid_0's auc: 0.780761\n",
            "[23]\tvalid_0's auc: 0.783787\n",
            "[24]\tvalid_0's auc: 0.786513\n",
            "[25]\tvalid_0's auc: 0.787998\n",
            "[26]\tvalid_0's auc: 0.789574\n",
            "[27]\tvalid_0's auc: 0.790825\n",
            "[28]\tvalid_0's auc: 0.793047\n",
            "[29]\tvalid_0's auc: 0.794395\n",
            "[30]\tvalid_0's auc: 0.795771\n",
            "[31]\tvalid_0's auc: 0.797249\n",
            "[32]\tvalid_0's auc: 0.798961\n",
            "[33]\tvalid_0's auc: 0.800191\n",
            "[34]\tvalid_0's auc: 0.801682\n",
            "[35]\tvalid_0's auc: 0.803157\n",
            "[36]\tvalid_0's auc: 0.804369\n",
            "[37]\tvalid_0's auc: 0.805563\n",
            "[38]\tvalid_0's auc: 0.80684\n",
            "[39]\tvalid_0's auc: 0.808218\n",
            "[40]\tvalid_0's auc: 0.808997\n",
            "[41]\tvalid_0's auc: 0.809969\n",
            "[42]\tvalid_0's auc: 0.811416\n",
            "[43]\tvalid_0's auc: 0.812931\n",
            "[44]\tvalid_0's auc: 0.813917\n",
            "[45]\tvalid_0's auc: 0.815408\n",
            "[46]\tvalid_0's auc: 0.816059\n",
            "[47]\tvalid_0's auc: 0.817062\n",
            "[48]\tvalid_0's auc: 0.818069\n",
            "[49]\tvalid_0's auc: 0.819154\n",
            "[50]\tvalid_0's auc: 0.820227\n",
            "[51]\tvalid_0's auc: 0.821268\n",
            "[52]\tvalid_0's auc: 0.822019\n",
            "[53]\tvalid_0's auc: 0.822814\n",
            "[54]\tvalid_0's auc: 0.82353\n",
            "[55]\tvalid_0's auc: 0.824088\n",
            "[56]\tvalid_0's auc: 0.824735\n",
            "[57]\tvalid_0's auc: 0.825646\n",
            "[58]\tvalid_0's auc: 0.826251\n",
            "[59]\tvalid_0's auc: 0.827235\n",
            "[60]\tvalid_0's auc: 0.827972\n",
            "[61]\tvalid_0's auc: 0.828571\n",
            "[62]\tvalid_0's auc: 0.829424\n",
            "[63]\tvalid_0's auc: 0.830121\n",
            "[64]\tvalid_0's auc: 0.830946\n",
            "[65]\tvalid_0's auc: 0.831828\n",
            "[66]\tvalid_0's auc: 0.832557\n",
            "[67]\tvalid_0's auc: 0.832866\n",
            "[68]\tvalid_0's auc: 0.833289\n",
            "[69]\tvalid_0's auc: 0.833774\n",
            "[70]\tvalid_0's auc: 0.834421\n",
            "[71]\tvalid_0's auc: 0.834592\n",
            "[72]\tvalid_0's auc: 0.835135\n",
            "[73]\tvalid_0's auc: 0.835809\n",
            "[74]\tvalid_0's auc: 0.836226\n",
            "[75]\tvalid_0's auc: 0.836756\n",
            "[76]\tvalid_0's auc: 0.837302\n",
            "[77]\tvalid_0's auc: 0.837701\n",
            "[78]\tvalid_0's auc: 0.838289\n",
            "[79]\tvalid_0's auc: 0.83889\n",
            "[80]\tvalid_0's auc: 0.839656\n",
            "[81]\tvalid_0's auc: 0.840083\n",
            "[82]\tvalid_0's auc: 0.840566\n",
            "[83]\tvalid_0's auc: 0.841034\n",
            "[84]\tvalid_0's auc: 0.841382\n",
            "[85]\tvalid_0's auc: 0.841854\n",
            "[86]\tvalid_0's auc: 0.842133\n",
            "[87]\tvalid_0's auc: 0.842547\n",
            "[88]\tvalid_0's auc: 0.843171\n",
            "[89]\tvalid_0's auc: 0.843735\n",
            "[90]\tvalid_0's auc: 0.844061\n",
            "[91]\tvalid_0's auc: 0.844514\n",
            "[92]\tvalid_0's auc: 0.844929\n",
            "[93]\tvalid_0's auc: 0.845267\n",
            "[94]\tvalid_0's auc: 0.845821\n",
            "[95]\tvalid_0's auc: 0.846314\n",
            "[96]\tvalid_0's auc: 0.846693\n",
            "[97]\tvalid_0's auc: 0.847182\n",
            "[98]\tvalid_0's auc: 0.847649\n",
            "[99]\tvalid_0's auc: 0.847973\n",
            "[100]\tvalid_0's auc: 0.848299\n",
            "[101]\tvalid_0's auc: 0.848831\n",
            "[102]\tvalid_0's auc: 0.849098\n",
            "[103]\tvalid_0's auc: 0.849404\n",
            "[104]\tvalid_0's auc: 0.849649\n",
            "[105]\tvalid_0's auc: 0.849897\n",
            "[106]\tvalid_0's auc: 0.850134\n",
            "[107]\tvalid_0's auc: 0.850614\n",
            "[108]\tvalid_0's auc: 0.851127\n",
            "[109]\tvalid_0's auc: 0.851483\n",
            "[110]\tvalid_0's auc: 0.851583\n",
            "[111]\tvalid_0's auc: 0.852181\n",
            "[112]\tvalid_0's auc: 0.852691\n",
            "[113]\tvalid_0's auc: 0.853094\n",
            "[114]\tvalid_0's auc: 0.853249\n",
            "[115]\tvalid_0's auc: 0.853504\n",
            "[116]\tvalid_0's auc: 0.853641\n",
            "[117]\tvalid_0's auc: 0.853919\n",
            "[118]\tvalid_0's auc: 0.854228\n",
            "[119]\tvalid_0's auc: 0.854622\n",
            "[120]\tvalid_0's auc: 0.854993\n",
            "[121]\tvalid_0's auc: 0.855308\n",
            "[122]\tvalid_0's auc: 0.855495\n",
            "[123]\tvalid_0's auc: 0.855817\n",
            "[124]\tvalid_0's auc: 0.85618\n",
            "[125]\tvalid_0's auc: 0.856326\n",
            "[126]\tvalid_0's auc: 0.856641\n",
            "[127]\tvalid_0's auc: 0.856875\n",
            "[128]\tvalid_0's auc: 0.857215\n",
            "[129]\tvalid_0's auc: 0.857436\n",
            "[130]\tvalid_0's auc: 0.85768\n",
            "[131]\tvalid_0's auc: 0.857985\n",
            "[132]\tvalid_0's auc: 0.858268\n",
            "[133]\tvalid_0's auc: 0.858502\n",
            "[134]\tvalid_0's auc: 0.85861\n",
            "[135]\tvalid_0's auc: 0.858821\n",
            "[136]\tvalid_0's auc: 0.859011\n",
            "[137]\tvalid_0's auc: 0.859283\n",
            "[138]\tvalid_0's auc: 0.859611\n",
            "[139]\tvalid_0's auc: 0.859904\n",
            "[140]\tvalid_0's auc: 0.860211\n",
            "[141]\tvalid_0's auc: 0.860508\n",
            "[142]\tvalid_0's auc: 0.860693\n",
            "[143]\tvalid_0's auc: 0.86088\n",
            "[144]\tvalid_0's auc: 0.861105\n",
            "[145]\tvalid_0's auc: 0.861285\n",
            "[146]\tvalid_0's auc: 0.86155\n",
            "[147]\tvalid_0's auc: 0.861827\n",
            "[148]\tvalid_0's auc: 0.86189\n",
            "[149]\tvalid_0's auc: 0.862025\n",
            "[150]\tvalid_0's auc: 0.86228\n",
            "Did not meet early stopping. Best iteration is:\n",
            "[150]\tvalid_0's auc: 0.86228\n",
            "Eğitim bitti...\n",
            "En iyi sonucu veren iterasyon:  150\n",
            "Eğri altı alan değeri: 0.8622797542809567\n",
            "İsabetlilik değeri: 0.902825\n"
          ],
          "name": "stdout"
        }
      ]
    }
  ]
}