{
  "nbformat": 4,
  "nbformat_minor": 0,
  "metadata": {
    "colab": {
      "name": "LR+DA+RF.ipynb",
      "version": "0.3.2",
      "provenance": [],
      "collapsed_sections": [],
      "include_colab_link": true
    },
    "kernelspec": {
      "name": "python3",
      "display_name": "Python 3"
    }
  },
  "cells": [
    {
      "cell_type": "markdown",
      "metadata": {
        "id": "view-in-github",
        "colab_type": "text"
      },
      "source": [
        "<a href=\"https://colab.research.google.com/github/ogut77/LogisticRegression/blob/master/LR%2BDA%2BRF.ipynb\" target=\"_parent\"><img src=\"https://colab.research.google.com/assets/colab-badge.svg\" alt=\"Open In Colab\"/></a>"
      ]
    },
    {
      "metadata": {
        "id": "X32X_qggLe-3",
        "colab_type": "code",
        "outputId": "b5f75ce8-c7a4-45b6-adc8-d01a258bacc0",
        "colab": {
          "base_uri": "https://localhost:8080/",
          "height": 235
        }
      },
      "cell_type": "code",
      "source": [
        "#import data\n",
        "import pandas as pd\n",
        "data=pd.read_excel(\"https://hogut.weebly.com/uploads/1/8/1/6/18163409/bookbinder2.xls\")\n",
        "#Let's see first five observation\n",
        "print(data[:5])\n",
        "\n"
      ],
      "execution_count": 1,
      "outputs": [
        {
          "output_type": "stream",
          "text": [
            "   Gender  Amount purchased  Frequency  Last purchase  First purchase  \\\n",
            "0       1               113          8              1               8   \n",
            "1       1               418          6             11              66   \n",
            "2       1               336         18              6              32   \n",
            "3       1               180         16              5              42   \n",
            "4       0               320          2              3              18   \n",
            "\n",
            "   P_Child  P_Youth  P_Cook  P_DIY  P_Art     Staus Choice  \n",
            "0        0        1       0      0      0  Training      Y  \n",
            "1        0        2       3      2      3  Training      Y  \n",
            "2        2        0       1      1      2  Training      Y  \n",
            "3        2        0       0      1      1  Training      Y  \n",
            "4        0        0       0      1      2  Training      Y  \n"
          ],
          "name": "stdout"
        }
      ]
    },
    {
      "metadata": {
        "id": "TpCluNcXUqRn",
        "colab_type": "code",
        "outputId": "573d224a-80c2-4463-dfd2-5c1baeb8466c",
        "colab": {
          "base_uri": "https://localhost:8080/",
          "height": 504
        }
      },
      "cell_type": "code",
      "source": [
        "#Descriptive Statistics\n",
        "print(data.describe())"
      ],
      "execution_count": 2,
      "outputs": [
        {
          "output_type": "stream",
          "text": [
            "            Gender  Amount purchased    Frequency  Last purchase  \\\n",
            "count  3900.000000       3900.000000  3900.000000     3900.00000   \n",
            "mean      0.675128        197.590256    12.897949        3.11641   \n",
            "std       0.468387         95.784258     8.085644        2.94487   \n",
            "min       0.000000         15.000000     2.000000        1.00000   \n",
            "25%       0.000000        122.000000     8.000000        1.00000   \n",
            "50%       1.000000        200.000000    12.000000        2.00000   \n",
            "75%       1.000000        270.000000    16.000000        4.00000   \n",
            "max       1.000000        474.000000    36.000000       12.00000   \n",
            "\n",
            "       First purchase      P_Child      P_Youth       P_Cook        P_DIY  \\\n",
            "count     3900.000000  3900.000000  3900.000000  3900.000000  3900.000000   \n",
            "mean        22.736410     0.733077     0.340513     0.775128     0.400000   \n",
            "std         15.900152     1.031578     0.629651     1.050628     0.698439   \n",
            "min          2.000000     0.000000     0.000000     0.000000     0.000000   \n",
            "25%         12.000000     0.000000     0.000000     0.000000     0.000000   \n",
            "50%         18.000000     0.000000     0.000000     0.000000     0.000000   \n",
            "75%         30.000000     1.000000     1.000000     1.000000     1.000000   \n",
            "max         96.000000     8.000000     5.000000     6.000000     4.000000   \n",
            "\n",
            "             P_Art  \n",
            "count  3900.000000  \n",
            "mean      0.368974  \n",
            "std       0.667274  \n",
            "min       0.000000  \n",
            "25%       0.000000  \n",
            "50%       0.000000  \n",
            "75%       1.000000  \n",
            "max       5.000000  \n"
          ],
          "name": "stdout"
        }
      ]
    },
    {
      "metadata": {
        "id": "TkqOw57bOTR0",
        "colab_type": "code",
        "outputId": "b002689e-197c-4c08-9167-e4abfa0bc3a4",
        "colab": {
          "base_uri": "https://localhost:8080/",
          "height": 67
        }
      },
      "cell_type": "code",
      "source": [
        "#Descriptive Statistcs of Categoric Variable Staus\n",
        "data['Staus'].value_counts()\n"
      ],
      "execution_count": 3,
      "outputs": [
        {
          "output_type": "execute_result",
          "data": {
            "text/plain": [
              "Test        2300\n",
              "Training    1600\n",
              "Name: Staus, dtype: int64"
            ]
          },
          "metadata": {
            "tags": []
          },
          "execution_count": 3
        }
      ]
    },
    {
      "metadata": {
        "id": "4PS1r9DMV-oS",
        "colab_type": "code",
        "outputId": "71c57902-2198-48bb-ba3d-0204696cab34",
        "colab": {
          "base_uri": "https://localhost:8080/",
          "height": 67
        }
      },
      "cell_type": "code",
      "source": [
        "#Descriptive Statistcs of Categoric Variable Choice\n",
        "#Choice is dependent variable\n",
        "data['Choice'].value_counts()"
      ],
      "execution_count": 4,
      "outputs": [
        {
          "output_type": "execute_result",
          "data": {
            "text/plain": [
              "N    3296\n",
              "Y     604\n",
              "Name: Choice, dtype: int64"
            ]
          },
          "metadata": {
            "tags": []
          },
          "execution_count": 4
        }
      ]
    },
    {
      "metadata": {
        "id": "rKTR5EXdQnnv",
        "colab_type": "code",
        "outputId": "07420673-9f74-4819-e0fc-6195840a4f74",
        "colab": {
          "base_uri": "https://localhost:8080/",
          "height": 195
        }
      },
      "cell_type": "code",
      "source": [
        "#Descriptive Statistics of Numeric Variables\n",
        "#when it is group by Choice ans Staus\n",
        "data.groupby(['Choice','Staus']).mean()"
      ],
      "execution_count": 5,
      "outputs": [
        {
          "output_type": "execute_result",
          "data": {
            "text/html": [
              "<div>\n",
              "<style scoped>\n",
              "    .dataframe tbody tr th:only-of-type {\n",
              "        vertical-align: middle;\n",
              "    }\n",
              "\n",
              "    .dataframe tbody tr th {\n",
              "        vertical-align: top;\n",
              "    }\n",
              "\n",
              "    .dataframe thead th {\n",
              "        text-align: right;\n",
              "    }\n",
              "</style>\n",
              "<table border=\"1\" class=\"dataframe\">\n",
              "  <thead>\n",
              "    <tr style=\"text-align: right;\">\n",
              "      <th></th>\n",
              "      <th></th>\n",
              "      <th>Gender</th>\n",
              "      <th>Amount purchased</th>\n",
              "      <th>Frequency</th>\n",
              "      <th>Last purchase</th>\n",
              "      <th>First purchase</th>\n",
              "      <th>P_Child</th>\n",
              "      <th>P_Youth</th>\n",
              "      <th>P_Cook</th>\n",
              "      <th>P_DIY</th>\n",
              "      <th>P_Art</th>\n",
              "    </tr>\n",
              "    <tr>\n",
              "      <th>Choice</th>\n",
              "      <th>Staus</th>\n",
              "      <th></th>\n",
              "      <th></th>\n",
              "      <th></th>\n",
              "      <th></th>\n",
              "      <th></th>\n",
              "      <th></th>\n",
              "      <th></th>\n",
              "      <th></th>\n",
              "      <th></th>\n",
              "      <th></th>\n",
              "    </tr>\n",
              "  </thead>\n",
              "  <tbody>\n",
              "    <tr>\n",
              "      <th rowspan=\"2\" valign=\"top\">N</th>\n",
              "      <th>Test</th>\n",
              "      <td>0.70229</td>\n",
              "      <td>193.533397</td>\n",
              "      <td>13.720420</td>\n",
              "      <td>2.999046</td>\n",
              "      <td>22.969466</td>\n",
              "      <td>0.729485</td>\n",
              "      <td>0.341603</td>\n",
              "      <td>0.791985</td>\n",
              "      <td>0.413645</td>\n",
              "      <td>0.284351</td>\n",
              "    </tr>\n",
              "    <tr>\n",
              "      <th>Training</th>\n",
              "      <td>0.69750</td>\n",
              "      <td>194.416667</td>\n",
              "      <td>13.336667</td>\n",
              "      <td>2.951667</td>\n",
              "      <td>22.546667</td>\n",
              "      <td>0.734167</td>\n",
              "      <td>0.327500</td>\n",
              "      <td>0.784167</td>\n",
              "      <td>0.393333</td>\n",
              "      <td>0.273333</td>\n",
              "    </tr>\n",
              "    <tr>\n",
              "      <th rowspan=\"2\" valign=\"top\">Y</th>\n",
              "      <th>Test</th>\n",
              "      <td>0.52451</td>\n",
              "      <td>213.191176</td>\n",
              "      <td>9.029412</td>\n",
              "      <td>3.676471</td>\n",
              "      <td>21.598039</td>\n",
              "      <td>0.720588</td>\n",
              "      <td>0.352941</td>\n",
              "      <td>0.720588</td>\n",
              "      <td>0.328431</td>\n",
              "      <td>0.799020</td>\n",
              "    </tr>\n",
              "    <tr>\n",
              "      <th>Training</th>\n",
              "      <td>0.54250</td>\n",
              "      <td>220.412500</td>\n",
              "      <td>9.245000</td>\n",
              "      <td>3.940000</td>\n",
              "      <td>22.665000</td>\n",
              "      <td>0.755000</td>\n",
              "      <td>0.367500</td>\n",
              "      <td>0.687500</td>\n",
              "      <td>0.385000</td>\n",
              "      <td>0.880000</td>\n",
              "    </tr>\n",
              "  </tbody>\n",
              "</table>\n",
              "</div>"
            ],
            "text/plain": [
              "                  Gender  Amount purchased  Frequency  Last purchase  \\\n",
              "Choice Staus                                                           \n",
              "N      Test      0.70229        193.533397  13.720420       2.999046   \n",
              "       Training  0.69750        194.416667  13.336667       2.951667   \n",
              "Y      Test      0.52451        213.191176   9.029412       3.676471   \n",
              "       Training  0.54250        220.412500   9.245000       3.940000   \n",
              "\n",
              "                 First purchase   P_Child   P_Youth    P_Cook     P_DIY  \\\n",
              "Choice Staus                                                              \n",
              "N      Test           22.969466  0.729485  0.341603  0.791985  0.413645   \n",
              "       Training       22.546667  0.734167  0.327500  0.784167  0.393333   \n",
              "Y      Test           21.598039  0.720588  0.352941  0.720588  0.328431   \n",
              "       Training       22.665000  0.755000  0.367500  0.687500  0.385000   \n",
              "\n",
              "                    P_Art  \n",
              "Choice Staus               \n",
              "N      Test      0.284351  \n",
              "       Training  0.273333  \n",
              "Y      Test      0.799020  \n",
              "       Training  0.880000  "
            ]
          },
          "metadata": {
            "tags": []
          },
          "execution_count": 5
        }
      ]
    },
    {
      "metadata": {
        "id": "ohqVH_ZAX2mj",
        "colab_type": "code",
        "outputId": "585c543b-e140-4555-8515-a659f8f21c3e",
        "colab": {
          "base_uri": "https://localhost:8080/",
          "height": 195
        }
      },
      "cell_type": "code",
      "source": [
        "import numpy as np\n",
        "#Convert Categoric Data to 1 if Choice==Y and Choice==N \n",
        "data['Ch']=np.where(data['Choice'] =='Y', 1,0)\n",
        "data.head(5)\n",
        "\n",
        "\n"
      ],
      "execution_count": 10,
      "outputs": [
        {
          "output_type": "execute_result",
          "data": {
            "text/html": [
              "<div>\n",
              "<style scoped>\n",
              "    .dataframe tbody tr th:only-of-type {\n",
              "        vertical-align: middle;\n",
              "    }\n",
              "\n",
              "    .dataframe tbody tr th {\n",
              "        vertical-align: top;\n",
              "    }\n",
              "\n",
              "    .dataframe thead th {\n",
              "        text-align: right;\n",
              "    }\n",
              "</style>\n",
              "<table border=\"1\" class=\"dataframe\">\n",
              "  <thead>\n",
              "    <tr style=\"text-align: right;\">\n",
              "      <th></th>\n",
              "      <th>Gender</th>\n",
              "      <th>Amount purchased</th>\n",
              "      <th>Frequency</th>\n",
              "      <th>Last purchase</th>\n",
              "      <th>First purchase</th>\n",
              "      <th>P_Child</th>\n",
              "      <th>P_Youth</th>\n",
              "      <th>P_Cook</th>\n",
              "      <th>P_DIY</th>\n",
              "      <th>P_Art</th>\n",
              "      <th>Staus</th>\n",
              "      <th>Choice</th>\n",
              "      <th>Ch</th>\n",
              "    </tr>\n",
              "  </thead>\n",
              "  <tbody>\n",
              "    <tr>\n",
              "      <th>0</th>\n",
              "      <td>1</td>\n",
              "      <td>113</td>\n",
              "      <td>8</td>\n",
              "      <td>1</td>\n",
              "      <td>8</td>\n",
              "      <td>0</td>\n",
              "      <td>1</td>\n",
              "      <td>0</td>\n",
              "      <td>0</td>\n",
              "      <td>0</td>\n",
              "      <td>Training</td>\n",
              "      <td>Y</td>\n",
              "      <td>1</td>\n",
              "    </tr>\n",
              "    <tr>\n",
              "      <th>1</th>\n",
              "      <td>1</td>\n",
              "      <td>418</td>\n",
              "      <td>6</td>\n",
              "      <td>11</td>\n",
              "      <td>66</td>\n",
              "      <td>0</td>\n",
              "      <td>2</td>\n",
              "      <td>3</td>\n",
              "      <td>2</td>\n",
              "      <td>3</td>\n",
              "      <td>Training</td>\n",
              "      <td>Y</td>\n",
              "      <td>1</td>\n",
              "    </tr>\n",
              "    <tr>\n",
              "      <th>2</th>\n",
              "      <td>1</td>\n",
              "      <td>336</td>\n",
              "      <td>18</td>\n",
              "      <td>6</td>\n",
              "      <td>32</td>\n",
              "      <td>2</td>\n",
              "      <td>0</td>\n",
              "      <td>1</td>\n",
              "      <td>1</td>\n",
              "      <td>2</td>\n",
              "      <td>Training</td>\n",
              "      <td>Y</td>\n",
              "      <td>1</td>\n",
              "    </tr>\n",
              "    <tr>\n",
              "      <th>3</th>\n",
              "      <td>1</td>\n",
              "      <td>180</td>\n",
              "      <td>16</td>\n",
              "      <td>5</td>\n",
              "      <td>42</td>\n",
              "      <td>2</td>\n",
              "      <td>0</td>\n",
              "      <td>0</td>\n",
              "      <td>1</td>\n",
              "      <td>1</td>\n",
              "      <td>Training</td>\n",
              "      <td>Y</td>\n",
              "      <td>1</td>\n",
              "    </tr>\n",
              "    <tr>\n",
              "      <th>4</th>\n",
              "      <td>0</td>\n",
              "      <td>320</td>\n",
              "      <td>2</td>\n",
              "      <td>3</td>\n",
              "      <td>18</td>\n",
              "      <td>0</td>\n",
              "      <td>0</td>\n",
              "      <td>0</td>\n",
              "      <td>1</td>\n",
              "      <td>2</td>\n",
              "      <td>Training</td>\n",
              "      <td>Y</td>\n",
              "      <td>1</td>\n",
              "    </tr>\n",
              "  </tbody>\n",
              "</table>\n",
              "</div>"
            ],
            "text/plain": [
              "   Gender  Amount purchased  Frequency  Last purchase  First purchase  \\\n",
              "0       1               113          8              1               8   \n",
              "1       1               418          6             11              66   \n",
              "2       1               336         18              6              32   \n",
              "3       1               180         16              5              42   \n",
              "4       0               320          2              3              18   \n",
              "\n",
              "   P_Child  P_Youth  P_Cook  P_DIY  P_Art     Staus Choice  Ch  \n",
              "0        0        1       0      0      0  Training      Y   1  \n",
              "1        0        2       3      2      3  Training      Y   1  \n",
              "2        2        0       1      1      2  Training      Y   1  \n",
              "3        2        0       0      1      1  Training      Y   1  \n",
              "4        0        0       0      1      2  Training      Y   1  "
            ]
          },
          "metadata": {
            "tags": []
          },
          "execution_count": 10
        }
      ]
    },
    {
      "metadata": {
        "id": "GENh4-OCmCY9",
        "colab_type": "code",
        "colab": {}
      },
      "cell_type": "code",
      "source": [
        "#Split Data into Trainig and Test if Staus Trainig and TEst respectively\n",
        "Training = data['Staus']=='Training'\n",
        "Test = data['Staus']=='Test'\n",
        "TrainingData=data[Training]\n",
        "TestData=data[Test]\n",
        "#Select dependent variables and independent variables for Test and Train data\n",
        "X_train=TrainingData.iloc[:,:-3]\n",
        "X_test=TestData.iloc[:,:-3]\n",
        "y_train=TrainingData.iloc[:,-1]\n",
        "y_test=TestData.iloc[:,-1]\n"
      ],
      "execution_count": 0,
      "outputs": []
    },
    {
      "metadata": {
        "id": "ZhxcTymKoWwV",
        "colab_type": "code",
        "colab": {
          "base_uri": "https://localhost:8080/",
          "height": 70
        },
        "outputId": "ea94b587-68a1-403e-c74b-c6fefcaa3d4b"
      },
      "cell_type": "code",
      "source": [
        "from sklearn.ensemble import RandomForestClassifier\n",
        "\n",
        "RFC = RandomForestClassifier()  \n",
        "             \n",
        "RFC.fit(X_train, y_train)  \n",
        "y_pred = RFC.predict(X_test)  \n",
        " "
      ],
      "execution_count": 13,
      "outputs": [
        {
          "output_type": "stream",
          "text": [
            "/usr/local/lib/python3.6/dist-packages/sklearn/ensemble/forest.py:246: FutureWarning: The default value of n_estimators will change from 10 in version 0.20 to 100 in 0.22.\n",
            "  \"10 in version 0.20 to 100 in 0.22.\", FutureWarning)\n"
          ],
          "name": "stderr"
        }
      ]
    },
    {
      "metadata": {
        "id": "VXPW85aIotHr",
        "colab_type": "code",
        "outputId": "2edd7766-f4b0-45bd-fcd6-04440d770c62",
        "colab": {
          "base_uri": "https://localhost:8080/",
          "height": 67
        }
      },
      "cell_type": "code",
      "source": [
        "from sklearn.metrics import confusion_matrix,accuracy_score\n",
        "print(confusion_matrix(y_test,y_pred))\n",
        "print(\"Accuracy score is \"+str(accuracy_score(y_test,y_pred)))"
      ],
      "execution_count": 15,
      "outputs": [
        {
          "output_type": "stream",
          "text": [
            "[[1919  177]\n",
            " [ 138   66]]\n",
            "Accuracy score is 0.8630434782608696\n"
          ],
          "name": "stdout"
        }
      ]
    },
    {
      "metadata": {
        "id": "WTeE6bRNZGgp",
        "colab_type": "code",
        "outputId": "c5fca189-e1df-4bb1-93d8-9a41416bfb34",
        "colab": {
          "base_uri": "https://localhost:8080/",
          "height": 470
        }
      },
      "cell_type": "code",
      "source": [
        "#Logistic Regression Model\n",
        "import statsmodels.api as sm\n",
        "\n",
        "logit_model=sm.Logit(y_train,X_train)\n",
        "result=logit_model.fit()\n",
        "print(result.summary2())\n"
      ],
      "execution_count": 17,
      "outputs": [
        {
          "output_type": "stream",
          "text": [
            "Optimization terminated successfully.\n",
            "         Current function value: 0.435889\n",
            "         Iterations 6\n",
            "                         Results: Logit\n",
            "================================================================\n",
            "Model:              Logit            No. Iterations:   6.0000   \n",
            "Dependent Variable: Ch               Pseudo R-squared: 0.225    \n",
            "Date:               2019-03-10 01:59 AIC:              1414.8455\n",
            "No. Observations:   1600             BIC:              1468.6230\n",
            "Df Model:           9                Log-Likelihood:   -697.42  \n",
            "Df Residuals:       1590             LL-Null:          -899.74  \n",
            "Converged:          1.0000           Scale:            1.0000   \n",
            "----------------------------------------------------------------\n",
            "                  Coef.  Std.Err.    z    P>|z|   [0.025  0.975]\n",
            "----------------------------------------------------------------\n",
            "Gender           -0.9471   0.1271 -7.4510 0.0000 -1.1962 -0.6979\n",
            "Amount purchased  0.0011   0.0006  1.7283 0.0839 -0.0001  0.0024\n",
            "Frequency        -0.0898   0.0143 -6.2697 0.0000 -0.1178 -0.0617\n",
            "Last purchase     0.5919   0.0930  6.3646 0.0000  0.4096  0.7742\n",
            "First purchase   -0.0090   0.0124 -0.7318 0.4643 -0.0333  0.0152\n",
            "P_Child          -0.8210   0.1168 -7.0266 0.0000 -1.0500 -0.5920\n",
            "P_Youth          -0.6520   0.1438 -4.5356 0.0000 -0.9338 -0.3703\n",
            "P_Cook           -0.9322   0.1196 -7.7969 0.0000 -1.1666 -0.6979\n",
            "P_DIY            -0.9160   0.1438 -6.3716 0.0000 -1.1977 -0.6342\n",
            "P_Art             0.6834   0.1277  5.3531 0.0000  0.4332  0.9336\n",
            "================================================================\n",
            "\n"
          ],
          "name": "stdout"
        }
      ]
    },
    {
      "metadata": {
        "id": "eZW31EUhm8M6",
        "colab_type": "code",
        "outputId": "3b2f0df7-c3a9-482d-fb4f-e5d21dd6f8e9",
        "colab": {
          "base_uri": "https://localhost:8080/",
          "height": 67
        }
      },
      "cell_type": "code",
      "source": [
        "#Confusion Matrix and Accuracy of Test Data\n",
        "\n",
        "Y_TestScore = result.predict(X_test)\n",
        "y_pred=np.where(Y_TestScore>0.5,1,0)\n",
        "print(confusion_matrix(y_pred, y_test))\n",
        "print(\"Accuracy score is \"+str(accuracy_score(y_test,y_pred)))\n"
      ],
      "execution_count": 19,
      "outputs": [
        {
          "output_type": "stream",
          "text": [
            "[[1961  125]\n",
            " [ 135   79]]\n",
            "Accuracy score is 0.8869565217391304\n"
          ],
          "name": "stdout"
        }
      ]
    },
    {
      "metadata": {
        "id": "7EtzNGPder5I",
        "colab_type": "code",
        "colab": {
          "base_uri": "https://localhost:8080/",
          "height": 134
        },
        "outputId": "4de17aaf-8cfd-4d7b-af39-e8831829227d"
      },
      "cell_type": "code",
      "source": [
        "from sklearn.discriminant_analysis import LinearDiscriminantAnalysis as LDA\n",
        "\n",
        "lda = LDA(n_components=2)  \n",
        "lda.fit_transform(X_train, y_train)  \n"
      ],
      "execution_count": 20,
      "outputs": [
        {
          "output_type": "execute_result",
          "data": {
            "text/plain": [
              "array([[-0.39886209],\n",
              "       [ 2.40033006],\n",
              "       [ 0.7361476 ],\n",
              "       ...,\n",
              "       [ 1.08170446],\n",
              "       [ 0.01509714],\n",
              "       [-0.0259436 ]])"
            ]
          },
          "metadata": {
            "tags": []
          },
          "execution_count": 20
        }
      ]
    },
    {
      "metadata": {
        "id": "ypt1MzDGgz5G",
        "colab_type": "code",
        "outputId": "f1c78d74-8b74-40f2-e682-d84e707f6cc1",
        "colab": {
          "base_uri": "https://localhost:8080/",
          "height": 67
        }
      },
      "cell_type": "code",
      "source": [
        "y_pred = lda.predict(X_test) \n",
        "print(confusion_matrix(y_test,y_pred))\n",
        "print(\"Accuracy score is \"+str(accuracy_score(y_test,y_pred)))\n"
      ],
      "execution_count": 21,
      "outputs": [
        {
          "output_type": "stream",
          "text": [
            "[[1968  128]\n",
            " [ 127   77]]\n",
            "Accuracy score is 0.8891304347826087\n"
          ],
          "name": "stdout"
        }
      ]
    }
  ]
}