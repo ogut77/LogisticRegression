{
  "nbformat": 4,
  "nbformat_minor": 0,
  "metadata": {
    "colab": {
      "name": "NaiveBayesUnderSamp.ipynb",
      "version": "0.3.2",
      "provenance": [],
      "collapsed_sections": [],
      "include_colab_link": true
    },
    "kernelspec": {
      "name": "python3",
      "display_name": "Python 3"
    }
  },
  "cells": [
    {
      "cell_type": "markdown",
      "metadata": {
        "id": "view-in-github",
        "colab_type": "text"
      },
      "source": [
        "<a href=\"https://colab.research.google.com/github/ogut77/LogisticRegression/blob/master/NaiveBayesUnderSamp.ipynb\" target=\"_parent\"><img src=\"https://colab.research.google.com/assets/colab-badge.svg\" alt=\"Open In Colab\"/></a>"
      ]
    },
    {
      "metadata": {
        "id": "ignXcp2Vguie",
        "colab_type": "code",
        "outputId": "0cd37505-081e-4763-91b2-14991361de4c",
        "colab": {
          "base_uri": "https://localhost:8080/",
          "height": 121
        }
      },
      "cell_type": "code",
      "source": [
        "import pandas as pd\n",
        "from google.colab import drive\n",
        "\n",
        "# This will prompt for authorization.\n",
        "drive.mount('/content/drive')"
      ],
      "execution_count": 1,
      "outputs": [
        {
          "output_type": "stream",
          "text": [
            "Go to this URL in a browser: https://accounts.google.com/o/oauth2/auth?client_id=947318989803-6bn6qk8qdgf4n4g3pfee6491hc0brc4i.apps.googleusercontent.com&redirect_uri=urn%3Aietf%3Awg%3Aoauth%3A2.0%3Aoob&scope=email%20https%3A%2F%2Fwww.googleapis.com%2Fauth%2Fdocs.test%20https%3A%2F%2Fwww.googleapis.com%2Fauth%2Fdrive%20https%3A%2F%2Fwww.googleapis.com%2Fauth%2Fdrive.photos.readonly%20https%3A%2F%2Fwww.googleapis.com%2Fauth%2Fpeopleapi.readonly&response_type=code\n",
            "\n",
            "Enter your authorization code:\n",
            "··········\n",
            "Mounted at /content/drive\n"
          ],
          "name": "stdout"
        }
      ]
    },
    {
      "metadata": {
        "id": "wbwUv1Elg2LK",
        "colab_type": "code",
        "outputId": "31abcdf1-4205-4cab-ff07-3db2e682ca30",
        "colab": {
          "base_uri": "https://localhost:8080/",
          "height": 155
        }
      },
      "cell_type": "code",
      "source": [
        "d2 = pd.read_csv('/content/drive/My Drive/Santander/train.csv')\n",
        "d2.drop(['Unnamed: 0'], axis = 1, inplace = True)\n",
        "d2.drop(['ID_code'], axis = 1, inplace = True)\n",
        "d2.head(2)"
      ],
      "execution_count": 8,
      "outputs": [
        {
          "output_type": "execute_result",
          "data": {
            "text/html": [
              "<div>\n",
              "<style scoped>\n",
              "    .dataframe tbody tr th:only-of-type {\n",
              "        vertical-align: middle;\n",
              "    }\n",
              "\n",
              "    .dataframe tbody tr th {\n",
              "        vertical-align: top;\n",
              "    }\n",
              "\n",
              "    .dataframe thead th {\n",
              "        text-align: right;\n",
              "    }\n",
              "</style>\n",
              "<table border=\"1\" class=\"dataframe\">\n",
              "  <thead>\n",
              "    <tr style=\"text-align: right;\">\n",
              "      <th></th>\n",
              "      <th>target</th>\n",
              "      <th>var_0</th>\n",
              "      <th>var_1</th>\n",
              "      <th>var_2</th>\n",
              "      <th>var_3</th>\n",
              "      <th>var_4</th>\n",
              "      <th>var_5</th>\n",
              "      <th>var_6</th>\n",
              "      <th>var_7</th>\n",
              "      <th>var_8</th>\n",
              "      <th>...</th>\n",
              "      <th>var_190</th>\n",
              "      <th>var_191</th>\n",
              "      <th>var_192</th>\n",
              "      <th>var_193</th>\n",
              "      <th>var_194</th>\n",
              "      <th>var_195</th>\n",
              "      <th>var_196</th>\n",
              "      <th>var_197</th>\n",
              "      <th>var_198</th>\n",
              "      <th>var_199</th>\n",
              "    </tr>\n",
              "  </thead>\n",
              "  <tbody>\n",
              "    <tr>\n",
              "      <th>0</th>\n",
              "      <td>0</td>\n",
              "      <td>8.9255</td>\n",
              "      <td>-6.7863</td>\n",
              "      <td>11.9081</td>\n",
              "      <td>5.093</td>\n",
              "      <td>11.4607</td>\n",
              "      <td>-9.2834</td>\n",
              "      <td>5.1187</td>\n",
              "      <td>18.6266</td>\n",
              "      <td>-4.9200</td>\n",
              "      <td>...</td>\n",
              "      <td>4.4354</td>\n",
              "      <td>3.9642</td>\n",
              "      <td>3.1364</td>\n",
              "      <td>1.6910</td>\n",
              "      <td>18.5227</td>\n",
              "      <td>-2.3978</td>\n",
              "      <td>7.8784</td>\n",
              "      <td>8.5635</td>\n",
              "      <td>12.7803</td>\n",
              "      <td>-1.0914</td>\n",
              "    </tr>\n",
              "    <tr>\n",
              "      <th>1</th>\n",
              "      <td>0</td>\n",
              "      <td>11.5006</td>\n",
              "      <td>-4.1473</td>\n",
              "      <td>13.8588</td>\n",
              "      <td>5.389</td>\n",
              "      <td>12.3622</td>\n",
              "      <td>7.0433</td>\n",
              "      <td>5.6208</td>\n",
              "      <td>16.5338</td>\n",
              "      <td>3.1468</td>\n",
              "      <td>...</td>\n",
              "      <td>7.6421</td>\n",
              "      <td>7.7214</td>\n",
              "      <td>2.5837</td>\n",
              "      <td>10.9516</td>\n",
              "      <td>15.4305</td>\n",
              "      <td>2.0339</td>\n",
              "      <td>8.1267</td>\n",
              "      <td>8.7889</td>\n",
              "      <td>18.3560</td>\n",
              "      <td>1.9518</td>\n",
              "    </tr>\n",
              "  </tbody>\n",
              "</table>\n",
              "<p>2 rows × 201 columns</p>\n",
              "</div>"
            ],
            "text/plain": [
              "   target    var_0   var_1    var_2  var_3    var_4   var_5   var_6    var_7  \\\n",
              "0       0   8.9255 -6.7863  11.9081  5.093  11.4607 -9.2834  5.1187  18.6266   \n",
              "1       0  11.5006 -4.1473  13.8588  5.389  12.3622  7.0433  5.6208  16.5338   \n",
              "\n",
              "    var_8   ...     var_190  var_191  var_192  var_193  var_194  var_195  \\\n",
              "0 -4.9200   ...      4.4354   3.9642   3.1364   1.6910  18.5227  -2.3978   \n",
              "1  3.1468   ...      7.6421   7.7214   2.5837  10.9516  15.4305   2.0339   \n",
              "\n",
              "   var_196  var_197  var_198  var_199  \n",
              "0   7.8784   8.5635  12.7803  -1.0914  \n",
              "1   8.1267   8.7889  18.3560   1.9518  \n",
              "\n",
              "[2 rows x 201 columns]"
            ]
          },
          "metadata": {
            "tags": []
          },
          "execution_count": 8
        }
      ]
    },
    {
      "metadata": {
        "id": "Re14xCE_QHd6",
        "colab_type": "code",
        "colab": {}
      },
      "cell_type": "code",
      "source": [
        "for col in d2.columns:\n",
        "   d2.hist(column=col)\n",
        " "
      ],
      "execution_count": 0,
      "outputs": []
    },
    {
      "metadata": {
        "id": "ltzLsSdfg6N3",
        "colab_type": "code",
        "outputId": "1f9582ea-5642-4818-e0b1-71eba9beaf0d",
        "colab": {
          "base_uri": "https://localhost:8080/",
          "height": 333
        }
      },
      "cell_type": "code",
      "source": [
        "d2.describe()"
      ],
      "execution_count": 0,
      "outputs": [
        {
          "output_type": "execute_result",
          "data": {
            "text/html": [
              "<div>\n",
              "<style scoped>\n",
              "    .dataframe tbody tr th:only-of-type {\n",
              "        vertical-align: middle;\n",
              "    }\n",
              "\n",
              "    .dataframe tbody tr th {\n",
              "        vertical-align: top;\n",
              "    }\n",
              "\n",
              "    .dataframe thead th {\n",
              "        text-align: right;\n",
              "    }\n",
              "</style>\n",
              "<table border=\"1\" class=\"dataframe\">\n",
              "  <thead>\n",
              "    <tr style=\"text-align: right;\">\n",
              "      <th></th>\n",
              "      <th>target</th>\n",
              "      <th>var_0</th>\n",
              "      <th>var_1</th>\n",
              "      <th>var_2</th>\n",
              "      <th>var_3</th>\n",
              "      <th>var_4</th>\n",
              "      <th>var_5</th>\n",
              "      <th>var_6</th>\n",
              "      <th>var_7</th>\n",
              "      <th>var_8</th>\n",
              "      <th>...</th>\n",
              "      <th>var_190</th>\n",
              "      <th>var_191</th>\n",
              "      <th>var_192</th>\n",
              "      <th>var_193</th>\n",
              "      <th>var_194</th>\n",
              "      <th>var_195</th>\n",
              "      <th>var_196</th>\n",
              "      <th>var_197</th>\n",
              "      <th>var_198</th>\n",
              "      <th>var_199</th>\n",
              "    </tr>\n",
              "  </thead>\n",
              "  <tbody>\n",
              "    <tr>\n",
              "      <th>count</th>\n",
              "      <td>200000.000000</td>\n",
              "      <td>200000.000000</td>\n",
              "      <td>200000.000000</td>\n",
              "      <td>200000.000000</td>\n",
              "      <td>200000.000000</td>\n",
              "      <td>200000.000000</td>\n",
              "      <td>200000.000000</td>\n",
              "      <td>200000.000000</td>\n",
              "      <td>200000.000000</td>\n",
              "      <td>200000.000000</td>\n",
              "      <td>...</td>\n",
              "      <td>200000.000000</td>\n",
              "      <td>200000.000000</td>\n",
              "      <td>200000.000000</td>\n",
              "      <td>200000.000000</td>\n",
              "      <td>200000.000000</td>\n",
              "      <td>200000.000000</td>\n",
              "      <td>200000.000000</td>\n",
              "      <td>200000.000000</td>\n",
              "      <td>200000.000000</td>\n",
              "      <td>200000.000000</td>\n",
              "    </tr>\n",
              "    <tr>\n",
              "      <th>mean</th>\n",
              "      <td>0.100490</td>\n",
              "      <td>10.679914</td>\n",
              "      <td>-1.627622</td>\n",
              "      <td>10.715192</td>\n",
              "      <td>6.796529</td>\n",
              "      <td>11.078333</td>\n",
              "      <td>-5.065317</td>\n",
              "      <td>5.408949</td>\n",
              "      <td>16.545850</td>\n",
              "      <td>0.284162</td>\n",
              "      <td>...</td>\n",
              "      <td>3.234440</td>\n",
              "      <td>7.438408</td>\n",
              "      <td>1.927839</td>\n",
              "      <td>3.331774</td>\n",
              "      <td>17.993784</td>\n",
              "      <td>-0.142088</td>\n",
              "      <td>2.303335</td>\n",
              "      <td>8.908158</td>\n",
              "      <td>15.870720</td>\n",
              "      <td>-3.326537</td>\n",
              "    </tr>\n",
              "    <tr>\n",
              "      <th>std</th>\n",
              "      <td>0.300653</td>\n",
              "      <td>3.040051</td>\n",
              "      <td>4.050044</td>\n",
              "      <td>2.640894</td>\n",
              "      <td>2.043319</td>\n",
              "      <td>1.623150</td>\n",
              "      <td>7.863267</td>\n",
              "      <td>0.866607</td>\n",
              "      <td>3.418076</td>\n",
              "      <td>3.332634</td>\n",
              "      <td>...</td>\n",
              "      <td>4.559922</td>\n",
              "      <td>3.023272</td>\n",
              "      <td>1.478423</td>\n",
              "      <td>3.992030</td>\n",
              "      <td>3.135162</td>\n",
              "      <td>1.429372</td>\n",
              "      <td>5.454369</td>\n",
              "      <td>0.921625</td>\n",
              "      <td>3.010945</td>\n",
              "      <td>10.438015</td>\n",
              "    </tr>\n",
              "    <tr>\n",
              "      <th>min</th>\n",
              "      <td>0.000000</td>\n",
              "      <td>0.408400</td>\n",
              "      <td>-15.043400</td>\n",
              "      <td>2.117100</td>\n",
              "      <td>-0.040200</td>\n",
              "      <td>5.074800</td>\n",
              "      <td>-32.562600</td>\n",
              "      <td>2.347300</td>\n",
              "      <td>5.349700</td>\n",
              "      <td>-10.505500</td>\n",
              "      <td>...</td>\n",
              "      <td>-14.093300</td>\n",
              "      <td>-2.691700</td>\n",
              "      <td>-3.814500</td>\n",
              "      <td>-11.783400</td>\n",
              "      <td>8.694400</td>\n",
              "      <td>-5.261000</td>\n",
              "      <td>-14.209600</td>\n",
              "      <td>5.960600</td>\n",
              "      <td>6.299300</td>\n",
              "      <td>-38.852800</td>\n",
              "    </tr>\n",
              "    <tr>\n",
              "      <th>25%</th>\n",
              "      <td>0.000000</td>\n",
              "      <td>8.453850</td>\n",
              "      <td>-4.740025</td>\n",
              "      <td>8.722475</td>\n",
              "      <td>5.254075</td>\n",
              "      <td>9.883175</td>\n",
              "      <td>-11.200350</td>\n",
              "      <td>4.767700</td>\n",
              "      <td>13.943800</td>\n",
              "      <td>-2.317800</td>\n",
              "      <td>...</td>\n",
              "      <td>-0.058825</td>\n",
              "      <td>5.157400</td>\n",
              "      <td>0.889775</td>\n",
              "      <td>0.584600</td>\n",
              "      <td>15.629800</td>\n",
              "      <td>-1.170700</td>\n",
              "      <td>-1.946925</td>\n",
              "      <td>8.252800</td>\n",
              "      <td>13.829700</td>\n",
              "      <td>-11.208475</td>\n",
              "    </tr>\n",
              "    <tr>\n",
              "      <th>50%</th>\n",
              "      <td>0.000000</td>\n",
              "      <td>10.524750</td>\n",
              "      <td>-1.608050</td>\n",
              "      <td>10.580000</td>\n",
              "      <td>6.825000</td>\n",
              "      <td>11.108250</td>\n",
              "      <td>-4.833150</td>\n",
              "      <td>5.385100</td>\n",
              "      <td>16.456800</td>\n",
              "      <td>0.393700</td>\n",
              "      <td>...</td>\n",
              "      <td>3.203600</td>\n",
              "      <td>7.347750</td>\n",
              "      <td>1.901300</td>\n",
              "      <td>3.396350</td>\n",
              "      <td>17.957950</td>\n",
              "      <td>-0.172700</td>\n",
              "      <td>2.408900</td>\n",
              "      <td>8.888200</td>\n",
              "      <td>15.934050</td>\n",
              "      <td>-2.819550</td>\n",
              "    </tr>\n",
              "    <tr>\n",
              "      <th>75%</th>\n",
              "      <td>0.000000</td>\n",
              "      <td>12.758200</td>\n",
              "      <td>1.358625</td>\n",
              "      <td>12.516700</td>\n",
              "      <td>8.324100</td>\n",
              "      <td>12.261125</td>\n",
              "      <td>0.924800</td>\n",
              "      <td>6.003000</td>\n",
              "      <td>19.102900</td>\n",
              "      <td>2.937900</td>\n",
              "      <td>...</td>\n",
              "      <td>6.406200</td>\n",
              "      <td>9.512525</td>\n",
              "      <td>2.949500</td>\n",
              "      <td>6.205800</td>\n",
              "      <td>20.396525</td>\n",
              "      <td>0.829600</td>\n",
              "      <td>6.556725</td>\n",
              "      <td>9.593300</td>\n",
              "      <td>18.064725</td>\n",
              "      <td>4.836800</td>\n",
              "    </tr>\n",
              "    <tr>\n",
              "      <th>max</th>\n",
              "      <td>1.000000</td>\n",
              "      <td>20.315000</td>\n",
              "      <td>10.376800</td>\n",
              "      <td>19.353000</td>\n",
              "      <td>13.188300</td>\n",
              "      <td>16.671400</td>\n",
              "      <td>17.251600</td>\n",
              "      <td>8.447700</td>\n",
              "      <td>27.691800</td>\n",
              "      <td>10.151300</td>\n",
              "      <td>...</td>\n",
              "      <td>18.440900</td>\n",
              "      <td>16.716500</td>\n",
              "      <td>8.402400</td>\n",
              "      <td>18.281800</td>\n",
              "      <td>27.928800</td>\n",
              "      <td>4.272900</td>\n",
              "      <td>18.321500</td>\n",
              "      <td>12.000400</td>\n",
              "      <td>26.079100</td>\n",
              "      <td>28.500700</td>\n",
              "    </tr>\n",
              "  </tbody>\n",
              "</table>\n",
              "<p>8 rows × 201 columns</p>\n",
              "</div>"
            ],
            "text/plain": [
              "              target          var_0          var_1          var_2  \\\n",
              "count  200000.000000  200000.000000  200000.000000  200000.000000   \n",
              "mean        0.100490      10.679914      -1.627622      10.715192   \n",
              "std         0.300653       3.040051       4.050044       2.640894   \n",
              "min         0.000000       0.408400     -15.043400       2.117100   \n",
              "25%         0.000000       8.453850      -4.740025       8.722475   \n",
              "50%         0.000000      10.524750      -1.608050      10.580000   \n",
              "75%         0.000000      12.758200       1.358625      12.516700   \n",
              "max         1.000000      20.315000      10.376800      19.353000   \n",
              "\n",
              "               var_3          var_4          var_5          var_6  \\\n",
              "count  200000.000000  200000.000000  200000.000000  200000.000000   \n",
              "mean        6.796529      11.078333      -5.065317       5.408949   \n",
              "std         2.043319       1.623150       7.863267       0.866607   \n",
              "min        -0.040200       5.074800     -32.562600       2.347300   \n",
              "25%         5.254075       9.883175     -11.200350       4.767700   \n",
              "50%         6.825000      11.108250      -4.833150       5.385100   \n",
              "75%         8.324100      12.261125       0.924800       6.003000   \n",
              "max        13.188300      16.671400      17.251600       8.447700   \n",
              "\n",
              "               var_7          var_8      ...              var_190  \\\n",
              "count  200000.000000  200000.000000      ...        200000.000000   \n",
              "mean       16.545850       0.284162      ...             3.234440   \n",
              "std         3.418076       3.332634      ...             4.559922   \n",
              "min         5.349700     -10.505500      ...           -14.093300   \n",
              "25%        13.943800      -2.317800      ...            -0.058825   \n",
              "50%        16.456800       0.393700      ...             3.203600   \n",
              "75%        19.102900       2.937900      ...             6.406200   \n",
              "max        27.691800      10.151300      ...            18.440900   \n",
              "\n",
              "             var_191        var_192        var_193        var_194  \\\n",
              "count  200000.000000  200000.000000  200000.000000  200000.000000   \n",
              "mean        7.438408       1.927839       3.331774      17.993784   \n",
              "std         3.023272       1.478423       3.992030       3.135162   \n",
              "min        -2.691700      -3.814500     -11.783400       8.694400   \n",
              "25%         5.157400       0.889775       0.584600      15.629800   \n",
              "50%         7.347750       1.901300       3.396350      17.957950   \n",
              "75%         9.512525       2.949500       6.205800      20.396525   \n",
              "max        16.716500       8.402400      18.281800      27.928800   \n",
              "\n",
              "             var_195        var_196        var_197        var_198  \\\n",
              "count  200000.000000  200000.000000  200000.000000  200000.000000   \n",
              "mean       -0.142088       2.303335       8.908158      15.870720   \n",
              "std         1.429372       5.454369       0.921625       3.010945   \n",
              "min        -5.261000     -14.209600       5.960600       6.299300   \n",
              "25%        -1.170700      -1.946925       8.252800      13.829700   \n",
              "50%        -0.172700       2.408900       8.888200      15.934050   \n",
              "75%         0.829600       6.556725       9.593300      18.064725   \n",
              "max         4.272900      18.321500      12.000400      26.079100   \n",
              "\n",
              "             var_199  \n",
              "count  200000.000000  \n",
              "mean       -3.326537  \n",
              "std        10.438015  \n",
              "min       -38.852800  \n",
              "25%       -11.208475  \n",
              "50%        -2.819550  \n",
              "75%         4.836800  \n",
              "max        28.500700  \n",
              "\n",
              "[8 rows x 201 columns]"
            ]
          },
          "metadata": {
            "tags": []
          },
          "execution_count": 117
        }
      ]
    },
    {
      "metadata": {
        "id": "DG-T7P-HhAcA",
        "colab_type": "code",
        "outputId": "adab2ebc-6fc8-4063-c834-d9aeb38278a6",
        "colab": {
          "base_uri": "https://localhost:8080/",
          "height": 34
        }
      },
      "cell_type": "code",
      "source": [
        "from sklearn.model_selection import train_test_split\n",
        "\n",
        "df, te = train_test_split(d2, test_size=0.2)\n",
        "df.shape"
      ],
      "execution_count": 3,
      "outputs": [
        {
          "output_type": "execute_result",
          "data": {
            "text/plain": [
              "(160000, 201)"
            ]
          },
          "metadata": {
            "tags": []
          },
          "execution_count": 3
        }
      ]
    },
    {
      "metadata": {
        "id": "SSJW2ArGin1s",
        "colab_type": "code",
        "colab": {}
      },
      "cell_type": "code",
      "source": [
        "no_frauds = len(df[df['target'] == 1])\n",
        "non_fraud_indices = df[df.target == 0].index\n",
        "import numpy as np\n",
        "random_indices = np.random.choice(non_fraud_indices,no_frauds, replace=False)\n",
        "fraud_indices = df[df.target == 1].index\n",
        "under_sample_indices = np.concatenate([fraud_indices,random_indices])\n",
        "under_sample = df.loc[under_sample_indices]\n",
        "df=under_sample.copy()\n"
      ],
      "execution_count": 0,
      "outputs": []
    },
    {
      "metadata": {
        "id": "7GLmWEGZEbJj",
        "colab_type": "code",
        "outputId": "9459c361-004f-45a0-9126-6ccf19392352",
        "colab": {
          "base_uri": "https://localhost:8080/",
          "height": 333
        }
      },
      "cell_type": "code",
      "source": [
        "df.describe()"
      ],
      "execution_count": 0,
      "outputs": [
        {
          "output_type": "execute_result",
          "data": {
            "text/html": [
              "<div>\n",
              "<style scoped>\n",
              "    .dataframe tbody tr th:only-of-type {\n",
              "        vertical-align: middle;\n",
              "    }\n",
              "\n",
              "    .dataframe tbody tr th {\n",
              "        vertical-align: top;\n",
              "    }\n",
              "\n",
              "    .dataframe thead th {\n",
              "        text-align: right;\n",
              "    }\n",
              "</style>\n",
              "<table border=\"1\" class=\"dataframe\">\n",
              "  <thead>\n",
              "    <tr style=\"text-align: right;\">\n",
              "      <th></th>\n",
              "      <th>target</th>\n",
              "      <th>var_0</th>\n",
              "      <th>var_1</th>\n",
              "      <th>var_2</th>\n",
              "      <th>var_3</th>\n",
              "      <th>var_4</th>\n",
              "      <th>var_5</th>\n",
              "      <th>var_6</th>\n",
              "      <th>var_7</th>\n",
              "      <th>var_8</th>\n",
              "      <th>...</th>\n",
              "      <th>var_190</th>\n",
              "      <th>var_191</th>\n",
              "      <th>var_192</th>\n",
              "      <th>var_193</th>\n",
              "      <th>var_194</th>\n",
              "      <th>var_195</th>\n",
              "      <th>var_196</th>\n",
              "      <th>var_197</th>\n",
              "      <th>var_198</th>\n",
              "      <th>var_199</th>\n",
              "    </tr>\n",
              "  </thead>\n",
              "  <tbody>\n",
              "    <tr>\n",
              "      <th>count</th>\n",
              "      <td>32184.000000</td>\n",
              "      <td>32184.000000</td>\n",
              "      <td>32184.000000</td>\n",
              "      <td>32184.000000</td>\n",
              "      <td>32184.000000</td>\n",
              "      <td>32184.000000</td>\n",
              "      <td>32184.000000</td>\n",
              "      <td>32184.000000</td>\n",
              "      <td>32184.000000</td>\n",
              "      <td>32184.000000</td>\n",
              "      <td>...</td>\n",
              "      <td>32184.000000</td>\n",
              "      <td>32184.000000</td>\n",
              "      <td>32184.000000</td>\n",
              "      <td>32184.000000</td>\n",
              "      <td>32184.000000</td>\n",
              "      <td>32184.000000</td>\n",
              "      <td>32184.000000</td>\n",
              "      <td>32184.000000</td>\n",
              "      <td>32184.000000</td>\n",
              "      <td>32184.000000</td>\n",
              "    </tr>\n",
              "    <tr>\n",
              "      <th>mean</th>\n",
              "      <td>0.500000</td>\n",
              "      <td>10.915777</td>\n",
              "      <td>-1.350917</td>\n",
              "      <td>10.903039</td>\n",
              "      <td>6.849213</td>\n",
              "      <td>11.107204</td>\n",
              "      <td>-4.788007</td>\n",
              "      <td>5.487249</td>\n",
              "      <td>16.530729</td>\n",
              "      <td>0.366424</td>\n",
              "      <td>...</td>\n",
              "      <td>3.574997</td>\n",
              "      <td>7.625745</td>\n",
              "      <td>1.852783</td>\n",
              "      <td>3.235540</td>\n",
              "      <td>17.901657</td>\n",
              "      <td>-0.091948</td>\n",
              "      <td>2.472573</td>\n",
              "      <td>8.866013</td>\n",
              "      <td>15.667178</td>\n",
              "      <td>-2.988203</td>\n",
              "    </tr>\n",
              "    <tr>\n",
              "      <th>std</th>\n",
              "      <td>0.500008</td>\n",
              "      <td>3.150531</td>\n",
              "      <td>4.141988</td>\n",
              "      <td>2.744559</td>\n",
              "      <td>2.068340</td>\n",
              "      <td>1.635172</td>\n",
              "      <td>7.991766</td>\n",
              "      <td>0.896818</td>\n",
              "      <td>3.417401</td>\n",
              "      <td>3.337077</td>\n",
              "      <td>...</td>\n",
              "      <td>4.680444</td>\n",
              "      <td>3.106034</td>\n",
              "      <td>1.479643</td>\n",
              "      <td>4.033301</td>\n",
              "      <td>3.160259</td>\n",
              "      <td>1.448912</td>\n",
              "      <td>5.484542</td>\n",
              "      <td>0.937120</td>\n",
              "      <td>3.124586</td>\n",
              "      <td>10.380451</td>\n",
              "    </tr>\n",
              "    <tr>\n",
              "      <th>min</th>\n",
              "      <td>0.000000</td>\n",
              "      <td>0.930200</td>\n",
              "      <td>-14.037000</td>\n",
              "      <td>2.946200</td>\n",
              "      <td>0.373600</td>\n",
              "      <td>5.876200</td>\n",
              "      <td>-26.218000</td>\n",
              "      <td>2.758200</td>\n",
              "      <td>7.302400</td>\n",
              "      <td>-10.505500</td>\n",
              "      <td>...</td>\n",
              "      <td>-11.878800</td>\n",
              "      <td>-2.343000</td>\n",
              "      <td>-3.317700</td>\n",
              "      <td>-11.783400</td>\n",
              "      <td>9.649200</td>\n",
              "      <td>-5.018500</td>\n",
              "      <td>-14.020400</td>\n",
              "      <td>6.119000</td>\n",
              "      <td>6.558700</td>\n",
              "      <td>-38.852800</td>\n",
              "    </tr>\n",
              "    <tr>\n",
              "      <th>25%</th>\n",
              "      <td>0.000000</td>\n",
              "      <td>8.592175</td>\n",
              "      <td>-4.503200</td>\n",
              "      <td>8.812600</td>\n",
              "      <td>5.296900</td>\n",
              "      <td>9.899700</td>\n",
              "      <td>-11.021100</td>\n",
              "      <td>4.816375</td>\n",
              "      <td>13.928400</td>\n",
              "      <td>-2.234275</td>\n",
              "      <td>...</td>\n",
              "      <td>0.159775</td>\n",
              "      <td>5.270375</td>\n",
              "      <td>0.805475</td>\n",
              "      <td>0.468250</td>\n",
              "      <td>15.536000</td>\n",
              "      <td>-1.145400</td>\n",
              "      <td>-1.753050</td>\n",
              "      <td>8.215500</td>\n",
              "      <td>13.575525</td>\n",
              "      <td>-10.769350</td>\n",
              "    </tr>\n",
              "    <tr>\n",
              "      <th>50%</th>\n",
              "      <td>0.500000</td>\n",
              "      <td>10.745900</td>\n",
              "      <td>-1.316650</td>\n",
              "      <td>10.770500</td>\n",
              "      <td>6.879300</td>\n",
              "      <td>11.144950</td>\n",
              "      <td>-4.556700</td>\n",
              "      <td>5.473200</td>\n",
              "      <td>16.419150</td>\n",
              "      <td>0.481000</td>\n",
              "      <td>...</td>\n",
              "      <td>3.540300</td>\n",
              "      <td>7.545050</td>\n",
              "      <td>1.803500</td>\n",
              "      <td>3.314000</td>\n",
              "      <td>17.871700</td>\n",
              "      <td>-0.125500</td>\n",
              "      <td>2.637850</td>\n",
              "      <td>8.853800</td>\n",
              "      <td>15.734150</td>\n",
              "      <td>-2.492250</td>\n",
              "    </tr>\n",
              "    <tr>\n",
              "      <th>75%</th>\n",
              "      <td>1.000000</td>\n",
              "      <td>13.039400</td>\n",
              "      <td>1.657800</td>\n",
              "      <td>12.733350</td>\n",
              "      <td>8.389300</td>\n",
              "      <td>12.301300</td>\n",
              "      <td>1.181025</td>\n",
              "      <td>6.100400</td>\n",
              "      <td>19.060925</td>\n",
              "      <td>3.026150</td>\n",
              "      <td>...</td>\n",
              "      <td>6.841450</td>\n",
              "      <td>9.708800</td>\n",
              "      <td>2.872425</td>\n",
              "      <td>6.136150</td>\n",
              "      <td>20.314400</td>\n",
              "      <td>0.892800</td>\n",
              "      <td>6.683950</td>\n",
              "      <td>9.560100</td>\n",
              "      <td>17.938600</td>\n",
              "      <td>5.143750</td>\n",
              "    </tr>\n",
              "    <tr>\n",
              "      <th>max</th>\n",
              "      <td>1.000000</td>\n",
              "      <td>19.559900</td>\n",
              "      <td>9.475400</td>\n",
              "      <td>19.353000</td>\n",
              "      <td>12.977300</td>\n",
              "      <td>15.960400</td>\n",
              "      <td>16.907300</td>\n",
              "      <td>8.037900</td>\n",
              "      <td>27.060600</td>\n",
              "      <td>9.627200</td>\n",
              "      <td>...</td>\n",
              "      <td>17.043900</td>\n",
              "      <td>16.684600</td>\n",
              "      <td>7.679100</td>\n",
              "      <td>16.782600</td>\n",
              "      <td>27.295300</td>\n",
              "      <td>4.088100</td>\n",
              "      <td>17.161400</td>\n",
              "      <td>11.706900</td>\n",
              "      <td>26.079100</td>\n",
              "      <td>24.564600</td>\n",
              "    </tr>\n",
              "  </tbody>\n",
              "</table>\n",
              "<p>8 rows × 201 columns</p>\n",
              "</div>"
            ],
            "text/plain": [
              "             target         var_0         var_1         var_2         var_3  \\\n",
              "count  32184.000000  32184.000000  32184.000000  32184.000000  32184.000000   \n",
              "mean       0.500000     10.915777     -1.350917     10.903039      6.849213   \n",
              "std        0.500008      3.150531      4.141988      2.744559      2.068340   \n",
              "min        0.000000      0.930200    -14.037000      2.946200      0.373600   \n",
              "25%        0.000000      8.592175     -4.503200      8.812600      5.296900   \n",
              "50%        0.500000     10.745900     -1.316650     10.770500      6.879300   \n",
              "75%        1.000000     13.039400      1.657800     12.733350      8.389300   \n",
              "max        1.000000     19.559900      9.475400     19.353000     12.977300   \n",
              "\n",
              "              var_4         var_5         var_6         var_7         var_8  \\\n",
              "count  32184.000000  32184.000000  32184.000000  32184.000000  32184.000000   \n",
              "mean      11.107204     -4.788007      5.487249     16.530729      0.366424   \n",
              "std        1.635172      7.991766      0.896818      3.417401      3.337077   \n",
              "min        5.876200    -26.218000      2.758200      7.302400    -10.505500   \n",
              "25%        9.899700    -11.021100      4.816375     13.928400     -2.234275   \n",
              "50%       11.144950     -4.556700      5.473200     16.419150      0.481000   \n",
              "75%       12.301300      1.181025      6.100400     19.060925      3.026150   \n",
              "max       15.960400     16.907300      8.037900     27.060600      9.627200   \n",
              "\n",
              "           ...            var_190       var_191       var_192       var_193  \\\n",
              "count      ...       32184.000000  32184.000000  32184.000000  32184.000000   \n",
              "mean       ...           3.574997      7.625745      1.852783      3.235540   \n",
              "std        ...           4.680444      3.106034      1.479643      4.033301   \n",
              "min        ...         -11.878800     -2.343000     -3.317700    -11.783400   \n",
              "25%        ...           0.159775      5.270375      0.805475      0.468250   \n",
              "50%        ...           3.540300      7.545050      1.803500      3.314000   \n",
              "75%        ...           6.841450      9.708800      2.872425      6.136150   \n",
              "max        ...          17.043900     16.684600      7.679100     16.782600   \n",
              "\n",
              "            var_194       var_195       var_196       var_197       var_198  \\\n",
              "count  32184.000000  32184.000000  32184.000000  32184.000000  32184.000000   \n",
              "mean      17.901657     -0.091948      2.472573      8.866013     15.667178   \n",
              "std        3.160259      1.448912      5.484542      0.937120      3.124586   \n",
              "min        9.649200     -5.018500    -14.020400      6.119000      6.558700   \n",
              "25%       15.536000     -1.145400     -1.753050      8.215500     13.575525   \n",
              "50%       17.871700     -0.125500      2.637850      8.853800     15.734150   \n",
              "75%       20.314400      0.892800      6.683950      9.560100     17.938600   \n",
              "max       27.295300      4.088100     17.161400     11.706900     26.079100   \n",
              "\n",
              "            var_199  \n",
              "count  32184.000000  \n",
              "mean      -2.988203  \n",
              "std       10.380451  \n",
              "min      -38.852800  \n",
              "25%      -10.769350  \n",
              "50%       -2.492250  \n",
              "75%        5.143750  \n",
              "max       24.564600  \n",
              "\n",
              "[8 rows x 201 columns]"
            ]
          },
          "metadata": {
            "tags": []
          },
          "execution_count": 120
        }
      ]
    },
    {
      "metadata": {
        "id": "vmpCqGwxEn9v",
        "colab_type": "code",
        "colab": {}
      },
      "cell_type": "code",
      "source": [
        "X_train=df.iloc[:,1:]\n",
        "X_test=te.iloc[:,1:]\n",
        "y_train=df.iloc[:,0:1]\n",
        "y_test=te.iloc[:,0:1]"
      ],
      "execution_count": 0,
      "outputs": []
    },
    {
      "metadata": {
        "id": "5pp1prKGPIna",
        "colab_type": "code",
        "colab": {}
      },
      "cell_type": "code",
      "source": [
        "from sklearn.preprocessing import StandardScaler\n",
        "\n",
        "sc = StandardScaler()  \n",
        "X_train2 = sc.fit_transform(X_train) \n",
        "X_train=pd.DataFrame(X_train2, columns = X_train.columns)\n",
        "\n",
        "X_test2 = sc.fit_transform(X_test) \n",
        "X_test=pd.DataFrame(X_test2, columns = X_train.columns)\n"
      ],
      "execution_count": 0,
      "outputs": []
    },
    {
      "metadata": {
        "id": "Z21K8quKFQWs",
        "colab_type": "code",
        "colab": {}
      },
      "cell_type": "code",
      "source": [
        "def ldaf(X_train, y_train, X_test, y_test):\n",
        "  print(X_test.shape)\n",
        "  from sklearn.discriminant_analysis import LinearDiscriminantAnalysis as LDA\n",
        "  from sklearn.metrics import accuracy_score,confusion_matrix\n",
        "  from sklearn.metrics import roc_curve, auc, roc_auc_score\n",
        "  import matplotlib.pyplot as plt\n",
        "  lda = LDA(n_components=2)  \n",
        "  lda.fit_transform(X_train, y_train)\n",
        "\n",
        "  y_pred = lda.predict(X_test) \n",
        "  predictions = lda.predict_proba(X_test)\n",
        "  print(confusion_matrix(y_test,y_pred))\n",
        "  print(\"Accuracy score is \"+str(accuracy_score(y_test,y_pred)))\n",
        "  false_positive_rate, true_positive_rate, thresholds = roc_curve(y_test, y_pred)\n",
        "  print(\"Area under ROC is \"+str(auc(false_positive_rate, true_positive_rate)))\n",
        "  return auc(false_positive_rate, true_positive_rate)"
      ],
      "execution_count": 0,
      "outputs": []
    },
    {
      "metadata": {
        "id": "vQTd4HrQFZjK",
        "colab_type": "code",
        "outputId": "00735126-16df-4e3d-894d-71baff19d253",
        "colab": {
          "base_uri": "https://localhost:8080/",
          "height": 171
        }
      },
      "cell_type": "code",
      "source": [
        "ldaf(X_train, y_train, X_test, y_test)"
      ],
      "execution_count": 0,
      "outputs": [
        {
          "output_type": "stream",
          "text": [
            "(40000, 200)\n"
          ],
          "name": "stdout"
        },
        {
          "output_type": "stream",
          "text": [
            "/usr/local/lib/python3.6/dist-packages/sklearn/utils/validation.py:761: DataConversionWarning: A column-vector y was passed when a 1d array was expected. Please change the shape of y to (n_samples, ), for example using ravel().\n",
            "  y = column_or_1d(y, warn=True)\n"
          ],
          "name": "stderr"
        },
        {
          "output_type": "stream",
          "text": [
            "[[28255  7739]\n",
            " [  911  3095]]\n",
            "Accuracy score is 0.78375\n",
            "Area under ROC is 0.7787915282158165\n"
          ],
          "name": "stdout"
        },
        {
          "output_type": "execute_result",
          "data": {
            "text/plain": [
              "0.7787915282158165"
            ]
          },
          "metadata": {
            "tags": []
          },
          "execution_count": 130
        }
      ]
    },
    {
      "metadata": {
        "id": "XkKH7smoK36k",
        "colab_type": "code",
        "outputId": "ad9ea051-2d53-4594-d372-a0b04f81da9d",
        "colab": {
          "base_uri": "https://localhost:8080/",
          "height": 154
        }
      },
      "cell_type": "code",
      "source": [
        "from sklearn.ensemble import RandomForestClassifier\n",
        "from sklearn.metrics import confusion_matrix,accuracy_score\n",
        "from sklearn.metrics import roc_curve, auc, roc_auc_score\n",
        "\n",
        "RFC = RandomForestClassifier(n_estimators=50)  \n",
        "             \n",
        "RFC.fit(X_train, y_train)  \n",
        "y_pred = RFC.predict(X_test)\n",
        "\n",
        "\n",
        "\n",
        "print(confusion_matrix(y_test,y_pred))\n",
        "print(\"Accuracy score is \"+str(accuracy_score(y_test,y_pred)))\n",
        "false_positive_rate, true_positive_rate, thresholds = roc_curve(y_test, y_pred)\n",
        "print(auc(false_positive_rate, true_positive_rate))\n",
        "print(roc_auc_score(y_test, y_pred))"
      ],
      "execution_count": 0,
      "outputs": [
        {
          "output_type": "stream",
          "text": [
            "/usr/local/lib/python3.6/dist-packages/ipykernel_launcher.py:7: DataConversionWarning: A column-vector y was passed when a 1d array was expected. Please change the shape of y to (n_samples,), for example using ravel().\n",
            "  import sys\n"
          ],
          "name": "stderr"
        },
        {
          "output_type": "stream",
          "text": [
            "[[26362  9673]\n",
            " [ 1119  2846]]\n",
            "Accuracy score is 0.7302\n",
            "0.7246735563067362\n",
            "0.7246735563067362\n"
          ],
          "name": "stdout"
        }
      ]
    },
    {
      "metadata": {
        "id": "zyIRzhJYLX9Q",
        "colab_type": "code",
        "outputId": "b7926d4b-f7b3-4f14-c6dd-df4fce6f1cce",
        "colab": {
          "base_uri": "https://localhost:8080/",
          "height": 188
        }
      },
      "cell_type": "code",
      "source": [
        "from xgboost import XGBClassifier\n",
        "from sklearn.metrics import accuracy_score,confusion_matrix\n",
        "from sklearn.metrics import roc_curve, auc, roc_auc_score\n",
        "import matplotlib.pyplot as plt\n",
        "model = XGBClassifier()\n",
        "model.fit(X_train, y_train)\n",
        "y_pred = model.predict(X_test)\n",
        "predictions = model.predict_proba(X_test)\n",
        "\n",
        "print(confusion_matrix(y_test,y_pred))\n",
        "print(\"Accuracy score is \"+str(accuracy_score(y_test,y_pred)))\n",
        "false_positive_rate, true_positive_rate, thresholds = roc_curve(y_test, y_pred)\n",
        "print(auc(false_positive_rate, true_positive_rate))\n",
        "print(roc_auc_score(y_test, y_pred))"
      ],
      "execution_count": 0,
      "outputs": [
        {
          "output_type": "stream",
          "text": [
            "/usr/local/lib/python3.6/dist-packages/sklearn/preprocessing/label.py:219: DataConversionWarning: A column-vector y was passed when a 1d array was expected. Please change the shape of y to (n_samples, ), for example using ravel().\n",
            "  y = column_or_1d(y, warn=True)\n",
            "/usr/local/lib/python3.6/dist-packages/sklearn/preprocessing/label.py:252: DataConversionWarning: A column-vector y was passed when a 1d array was expected. Please change the shape of y to (n_samples, ), for example using ravel().\n",
            "  y = column_or_1d(y, warn=True)\n"
          ],
          "name": "stderr"
        },
        {
          "output_type": "stream",
          "text": [
            "[[28332  7703]\n",
            " [ 1133  2832]]\n",
            "Accuracy score is 0.7791\n",
            "0.7502426445075555\n",
            "0.7502426445075555\n"
          ],
          "name": "stdout"
        }
      ]
    },
    {
      "metadata": {
        "id": "_NKXwQlrLgLR",
        "colab_type": "code",
        "outputId": "b9afbfb4-789f-4695-cbee-a1844f42a933",
        "colab": {
          "base_uri": "https://localhost:8080/",
          "height": 205
        }
      },
      "cell_type": "code",
      "source": [
        "from sklearn.linear_model import LogisticRegression \n",
        "from sklearn.metrics import confusion_matrix,accuracy_score\n",
        "from sklearn.metrics import roc_curve, auc, roc_auc_score\n",
        "\n",
        "LR=LogisticRegression()\n",
        "LR.fit(X_train, y_train)\n",
        "y_pred = LR.predict(X_test)\n",
        "print(LogisticRegression(fit_intercept=True).get_params(deep=True))\n",
        "print(confusion_matrix(y_test,y_pred))\n",
        "print(\"Accuracy score is \"+str(accuracy_score(y_test,y_pred)))\n",
        "false_positive_rate, true_positive_rate, thresholds = roc_curve(y_test, y_pred)\n",
        "print(auc(false_positive_rate, true_positive_rate))\n",
        "print(roc_auc_score(y_test, y_pred))"
      ],
      "execution_count": 0,
      "outputs": [
        {
          "output_type": "stream",
          "text": [
            "/usr/local/lib/python3.6/dist-packages/sklearn/linear_model/logistic.py:433: FutureWarning: Default solver will be changed to 'lbfgs' in 0.22. Specify a solver to silence this warning.\n",
            "  FutureWarning)\n",
            "/usr/local/lib/python3.6/dist-packages/sklearn/utils/validation.py:761: DataConversionWarning: A column-vector y was passed when a 1d array was expected. Please change the shape of y to (n_samples, ), for example using ravel().\n",
            "  y = column_or_1d(y, warn=True)\n"
          ],
          "name": "stderr"
        },
        {
          "output_type": "stream",
          "text": [
            "{'C': 1.0, 'class_weight': None, 'dual': False, 'fit_intercept': True, 'intercept_scaling': 1, 'max_iter': 100, 'multi_class': 'warn', 'n_jobs': None, 'penalty': 'l2', 'random_state': None, 'solver': 'warn', 'tol': 0.0001, 'verbose': 0, 'warm_start': False}\n",
            "[[20184 15707]\n",
            " [  409  3700]]\n",
            "Accuracy score is 0.5971\n",
            "0.7314158979190387\n",
            "0.7314158979190387\n"
          ],
          "name": "stdout"
        }
      ]
    },
    {
      "metadata": {
        "id": "m5YhjEM1YWXL",
        "colab_type": "code",
        "colab": {}
      },
      "cell_type": "code",
      "source": [
        "def logistic_feature_importance(m,df):\n",
        "    df=pd.DataFrame(df)\n",
        "    return pd.DataFrame({'cols':df.columns, 'imp':abs(m.coef_[0])}).sort_values('imp', ascending=False)"
      ],
      "execution_count": 0,
      "outputs": []
    },
    {
      "metadata": {
        "id": "dh006mPTYYDD",
        "colab_type": "code",
        "outputId": "5d8e5658-fe54-4f61-be03-e22e0231e94f",
        "colab": {
          "base_uri": "https://localhost:8080/",
          "height": 34
        }
      },
      "cell_type": "code",
      "source": [
        "lfi=logistic_feature_importance(LR,X_train);print(len(lfi.cols))"
      ],
      "execution_count": 0,
      "outputs": [
        {
          "output_type": "stream",
          "text": [
            "200\n"
          ],
          "name": "stdout"
        }
      ]
    },
    {
      "metadata": {
        "id": "s5DNL6iZYZt8",
        "colab_type": "code",
        "colab": {}
      },
      "cell_type": "code",
      "source": [
        "def nb(X_train, y_train, X_test, y_test):\n",
        " from sklearn.naive_bayes import GaussianNB\n",
        " from sklearn import metrics\n",
        " from sklearn.metrics import confusion_matrix,accuracy_score\n",
        " from sklearn.metrics import roc_curve, auc, roc_auc_score\n",
        " gnb = GaussianNB()\n",
        " gnb.fit(X_train, y_train)\n",
        "\n",
        " y_pred = gnb.predict(X_test)\n",
        " y_pred=pd.DataFrame(y_pred)\n",
        " print(confusion_matrix(y_test,y_pred))\n",
        " return (roc_auc_score(y_test, y_pred))"
      ],
      "execution_count": 0,
      "outputs": []
    },
    {
      "metadata": {
        "id": "_muEOadCa-w0",
        "colab_type": "code",
        "outputId": "41149754-461b-4566-c6c4-4cb57e1f7ff2",
        "colab": {
          "base_uri": "https://localhost:8080/",
          "height": 121
        }
      },
      "cell_type": "code",
      "source": [
        "nb(X_train, y_train, X_test, y_test)"
      ],
      "execution_count": 7,
      "outputs": [
        {
          "output_type": "stream",
          "text": [
            "/usr/local/lib/python3.6/dist-packages/sklearn/utils/validation.py:761: DataConversionWarning: A column-vector y was passed when a 1d array was expected. Please change the shape of y to (n_samples, ), for example using ravel().\n",
            "  y = column_or_1d(y, warn=True)\n"
          ],
          "name": "stderr"
        },
        {
          "output_type": "stream",
          "text": [
            "[[29009  6948]\n",
            " [  810  3233]]\n"
          ],
          "name": "stdout"
        },
        {
          "output_type": "execute_result",
          "data": {
            "text/plain": [
              "0.8032114595118083"
            ]
          },
          "metadata": {
            "tags": []
          },
          "execution_count": 7
        }
      ]
    },
    {
      "metadata": {
        "id": "v9UjZalRY5BX",
        "colab_type": "code",
        "colab": {}
      },
      "cell_type": "code",
      "source": [
        "for i in range(len(lfi.cols)-1,190,-1):\n",
        "   to_keep = lfi.cols[0:i]\n",
        "   print(len(to_keep))\n",
        "   X_train3=X_train[to_keep].copy()\n",
        "   X_train3=pd.DataFrame(X_train3)\n",
        "   X_test3=X_test[to_keep].copy()\n",
        "   X_test3=pd.DataFrame(X_test3)\n",
        "   print(nb(X_train3, y_train, X_test3, y_test))\n",
        "  "
      ],
      "execution_count": 0,
      "outputs": []
    },
    {
      "metadata": {
        "id": "zVVoiYiFnwrj",
        "colab_type": "code",
        "colab": {}
      },
      "cell_type": "code",
      "source": [
        "for i in range(len(lfi.cols)-1,100,-1):\n",
        "   to_keep = lfi.cols[0:i]\n",
        "   print(len(to_keep))\n",
        "   X_train3=X_train[to_keep].copy()\n",
        "   X_train3=pd.DataFrame(X_train3)\n",
        "   X_test3=X_test[to_keep].copy()\n",
        "   X_test3=pd.DataFrame(X_test3)\n",
        "   print(ldaf(X_train3, y_train, X_test3, y_test))\n",
        "  "
      ],
      "execution_count": 0,
      "outputs": []
    },
    {
      "metadata": {
        "id": "M1_ue3QgY9se",
        "colab_type": "code",
        "colab": {}
      },
      "cell_type": "code",
      "source": [
        "X_train=X_train[to_keep].copy()\n",
        "X_test=X_test[to_keep].copy()\n"
      ],
      "execution_count": 0,
      "outputs": []
    },
    {
      "metadata": {
        "id": "OjG84Fm0LtcR",
        "colab_type": "code",
        "colab": {}
      },
      "cell_type": "code",
      "source": [
        "from sklearn.naive_bayes import GaussianNB\n",
        "from sklearn import metrics\n",
        "\n",
        "gnb = GaussianNB()\n",
        "gnb.fit(X_train, y_train)\n",
        "from sklearn.metrics import confusion_matrix,accuracy_score\n",
        "from sklearn.metrics import roc_curve, auc, roc_auc_score\n",
        "\n",
        "y_pred = gnb.predict(X_test)\n",
        "y_pred=pd.DataFrame(y_pred)\n",
        "y_pred.head()\n",
        "print(confusion_matrix(y_test,y_pred))\n",
        "print(\"Accuracy score is \"+str(accuracy_score(y_test,y_pred)))\n",
        "false_positive_rate, true_positive_rate, thresholds = roc_curve(y_test, y_pred)\n",
        "print(auc(false_positive_rate, true_positive_rate))\n",
        "print(roc_auc_score(y_test, y_pred))"
      ],
      "execution_count": 0,
      "outputs": []
    },
    {
      "metadata": {
        "id": "eKgSTFdAVBf0",
        "colab_type": "code",
        "colab": {}
      },
      "cell_type": "code",
      "source": [
        ""
      ],
      "execution_count": 0,
      "outputs": []
    },
    {
      "metadata": {
        "id": "5XfRp1eUMy3R",
        "colab_type": "code",
        "colab": {}
      },
      "cell_type": "code",
      "source": [
        "import numpy as np\n",
        "import pandas as pd\n",
        "import lightgbm\n",
        "from sklearn.model_selection import train_test_split\n",
        "from sklearn.preprocessing import LabelBinarizer\n",
        "\n",
        "train_data = lightgbm.Dataset(X_train, label=y_train)\n",
        "test_data = lightgbm.Dataset(X_test, label=y_test)\n",
        "parameters = {\n",
        "    'application': 'binary',\n",
        "    'objective': 'binary',\n",
        "    'metric': 'auc',\n",
        "    'is_unbalance': 'true',\n",
        "    'boosting': 'dart',\n",
        "    'num_leaves': 31,\n",
        "    'feature_fraction': 0.5,\n",
        "    'bagging_fraction': 0.5,\n",
        "    'bagging_freq': 20,\n",
        "    'learning_rate': 0.05,\n",
        "    'verbose': 0\n",
        "}\n",
        "\n",
        "modellbm = lightgbm.train(parameters,\n",
        "                       train_data,\n",
        "                       valid_sets=test_data,\n",
        "                       num_boost_round=5000,\n",
        "                       early_stopping_rounds=100)"
      ],
      "execution_count": 0,
      "outputs": []
    },
    {
      "metadata": {
        "id": "DOH1xxOaNTYb",
        "colab_type": "code",
        "colab": {}
      },
      "cell_type": "code",
      "source": [
        ""
      ],
      "execution_count": 0,
      "outputs": []
    },
    {
      "metadata": {
        "id": "BrAz8y7RT4_b",
        "colab_type": "code",
        "outputId": "0f485865-b9ed-483f-882b-20dba4a4d4fe",
        "colab": {
          "base_uri": "https://localhost:8080/",
          "height": 172
        }
      },
      "cell_type": "code",
      "source": [
        "submission = pd.read_csv('/content/drive/My Drive/Santander/test.csv')\n",
        "submission.head(2)\n",
        "\n"
      ],
      "execution_count": 0,
      "outputs": [
        {
          "output_type": "execute_result",
          "data": {
            "text/html": [
              "<div>\n",
              "<style scoped>\n",
              "    .dataframe tbody tr th:only-of-type {\n",
              "        vertical-align: middle;\n",
              "    }\n",
              "\n",
              "    .dataframe tbody tr th {\n",
              "        vertical-align: top;\n",
              "    }\n",
              "\n",
              "    .dataframe thead th {\n",
              "        text-align: right;\n",
              "    }\n",
              "</style>\n",
              "<table border=\"1\" class=\"dataframe\">\n",
              "  <thead>\n",
              "    <tr style=\"text-align: right;\">\n",
              "      <th></th>\n",
              "      <th>Unnamed: 0</th>\n",
              "      <th>ID_code</th>\n",
              "      <th>var_0</th>\n",
              "      <th>var_1</th>\n",
              "      <th>var_2</th>\n",
              "      <th>var_3</th>\n",
              "      <th>var_4</th>\n",
              "      <th>var_5</th>\n",
              "      <th>var_6</th>\n",
              "      <th>var_7</th>\n",
              "      <th>...</th>\n",
              "      <th>var_190</th>\n",
              "      <th>var_191</th>\n",
              "      <th>var_192</th>\n",
              "      <th>var_193</th>\n",
              "      <th>var_194</th>\n",
              "      <th>var_195</th>\n",
              "      <th>var_196</th>\n",
              "      <th>var_197</th>\n",
              "      <th>var_198</th>\n",
              "      <th>var_199</th>\n",
              "    </tr>\n",
              "  </thead>\n",
              "  <tbody>\n",
              "    <tr>\n",
              "      <th>0</th>\n",
              "      <td>0</td>\n",
              "      <td>test_0</td>\n",
              "      <td>11.0656</td>\n",
              "      <td>7.7798</td>\n",
              "      <td>12.9536</td>\n",
              "      <td>9.4292</td>\n",
              "      <td>11.4327</td>\n",
              "      <td>-2.3805</td>\n",
              "      <td>5.8493</td>\n",
              "      <td>18.2675</td>\n",
              "      <td>...</td>\n",
              "      <td>-2.1556</td>\n",
              "      <td>11.8495</td>\n",
              "      <td>-1.4300</td>\n",
              "      <td>2.4508</td>\n",
              "      <td>13.7112</td>\n",
              "      <td>2.4669</td>\n",
              "      <td>4.3654</td>\n",
              "      <td>10.7200</td>\n",
              "      <td>15.4722</td>\n",
              "      <td>-8.7197</td>\n",
              "    </tr>\n",
              "    <tr>\n",
              "      <th>1</th>\n",
              "      <td>1</td>\n",
              "      <td>test_1</td>\n",
              "      <td>8.5304</td>\n",
              "      <td>1.2543</td>\n",
              "      <td>11.3047</td>\n",
              "      <td>5.1858</td>\n",
              "      <td>9.1974</td>\n",
              "      <td>-4.0117</td>\n",
              "      <td>6.0196</td>\n",
              "      <td>18.6316</td>\n",
              "      <td>...</td>\n",
              "      <td>10.6165</td>\n",
              "      <td>8.8349</td>\n",
              "      <td>0.9403</td>\n",
              "      <td>10.1282</td>\n",
              "      <td>15.5765</td>\n",
              "      <td>0.4773</td>\n",
              "      <td>-1.4852</td>\n",
              "      <td>9.8714</td>\n",
              "      <td>19.1293</td>\n",
              "      <td>-20.9760</td>\n",
              "    </tr>\n",
              "  </tbody>\n",
              "</table>\n",
              "<p>2 rows × 202 columns</p>\n",
              "</div>"
            ],
            "text/plain": [
              "   Unnamed: 0 ID_code    var_0   var_1    var_2   var_3    var_4   var_5  \\\n",
              "0           0  test_0  11.0656  7.7798  12.9536  9.4292  11.4327 -2.3805   \n",
              "1           1  test_1   8.5304  1.2543  11.3047  5.1858   9.1974 -4.0117   \n",
              "\n",
              "    var_6    var_7   ...     var_190  var_191  var_192  var_193  var_194  \\\n",
              "0  5.8493  18.2675   ...     -2.1556  11.8495  -1.4300   2.4508  13.7112   \n",
              "1  6.0196  18.6316   ...     10.6165   8.8349   0.9403  10.1282  15.5765   \n",
              "\n",
              "   var_195  var_196  var_197  var_198  var_199  \n",
              "0   2.4669   4.3654  10.7200  15.4722  -8.7197  \n",
              "1   0.4773  -1.4852   9.8714  19.1293 -20.9760  \n",
              "\n",
              "[2 rows x 202 columns]"
            ]
          },
          "metadata": {
            "tags": []
          },
          "execution_count": 42
        }
      ]
    },
    {
      "metadata": {
        "id": "ROpoctBTUOJv",
        "colab_type": "code",
        "outputId": "8085adf1-80df-47a5-94d8-63b722948d2f",
        "colab": {
          "base_uri": "https://localhost:8080/",
          "height": 101
        }
      },
      "cell_type": "code",
      "source": [
        "\n",
        "y_pred = modellbm.predict(X_test)\n",
        "y_pred=np.where(y_pred>0.5,1,0)\n",
        "y_pred=pd.DataFrame(y_pred)\n",
        "y_pred.describe()\n",
        "from sklearn.metrics import confusion_matrix,accuracy_score\n",
        "from sklearn.metrics import roc_curve, auc, roc_auc_score\n",
        "\n",
        "\n",
        "print(confusion_matrix(y_test,y_pred))\n",
        "print(\"Accuracy score is \"+str(accuracy_score(y_test,y_pred)))\n",
        "false_positive_rate, true_positive_rate, thresholds = roc_curve(y_test, y_pred)\n",
        "print(auc(false_positive_rate, true_positive_rate))\n",
        "print(roc_auc_score(y_test, y_pred))\n"
      ],
      "execution_count": 0,
      "outputs": [
        {
          "output_type": "stream",
          "text": [
            "[[28902  7133]\n",
            " [  767  3198]]\n",
            "Accuracy score is 0.8025\n",
            "0.8043054680445013\n",
            "0.8043054680445013\n"
          ],
          "name": "stdout"
        }
      ]
    },
    {
      "metadata": {
        "id": "1cm8PZmNYppy",
        "colab_type": "code",
        "outputId": "7f2d545a-cc86-42fc-b28d-2149a37d90ac",
        "colab": {
          "base_uri": "https://localhost:8080/",
          "height": 195
        }
      },
      "cell_type": "code",
      "source": [
        "y=pd.DataFrame(y)\n",
        "y.head()"
      ],
      "execution_count": 0,
      "outputs": [
        {
          "output_type": "execute_result",
          "data": {
            "text/html": [
              "<div>\n",
              "<style scoped>\n",
              "    .dataframe tbody tr th:only-of-type {\n",
              "        vertical-align: middle;\n",
              "    }\n",
              "\n",
              "    .dataframe tbody tr th {\n",
              "        vertical-align: top;\n",
              "    }\n",
              "\n",
              "    .dataframe thead th {\n",
              "        text-align: right;\n",
              "    }\n",
              "</style>\n",
              "<table border=\"1\" class=\"dataframe\">\n",
              "  <thead>\n",
              "    <tr style=\"text-align: right;\">\n",
              "      <th></th>\n",
              "      <th>0</th>\n",
              "    </tr>\n",
              "  </thead>\n",
              "  <tbody>\n",
              "    <tr>\n",
              "      <th>0</th>\n",
              "      <td>1</td>\n",
              "    </tr>\n",
              "    <tr>\n",
              "      <th>1</th>\n",
              "      <td>1</td>\n",
              "    </tr>\n",
              "    <tr>\n",
              "      <th>2</th>\n",
              "      <td>1</td>\n",
              "    </tr>\n",
              "    <tr>\n",
              "      <th>3</th>\n",
              "      <td>1</td>\n",
              "    </tr>\n",
              "    <tr>\n",
              "      <th>4</th>\n",
              "      <td>0</td>\n",
              "    </tr>\n",
              "  </tbody>\n",
              "</table>\n",
              "</div>"
            ],
            "text/plain": [
              "   0\n",
              "0  1\n",
              "1  1\n",
              "2  1\n",
              "3  1\n",
              "4  0"
            ]
          },
          "metadata": {
            "tags": []
          },
          "execution_count": 44
        }
      ]
    },
    {
      "metadata": {
        "id": "7LriSeupXMMV",
        "colab_type": "code",
        "colab": {}
      },
      "cell_type": "code",
      "source": [
        "output = pd.DataFrame({'id': ids, 'target': y})\n",
        "output.to_csv(\"/content/drive/My Drive/Santander/submission.csv\", index=False)"
      ],
      "execution_count": 0,
      "outputs": []
    },
    {
      "metadata": {
        "id": "QcS1Xc6ftrv-",
        "colab_type": "code",
        "outputId": "6401f058-6fb6-4c8f-b510-f09f6a4fa60a",
        "colab": {
          "base_uri": "https://localhost:8080/",
          "height": 101
        }
      },
      "cell_type": "code",
      "source": [
        "from sklearn.metrics import confusion_matrix,accuracy_score\n",
        "from sklearn.metrics import roc_curve, auc, roc_auc_score\n",
        "\n",
        "\n",
        "print(confusion_matrix(y_test,y_pred))\n",
        "print(\"Accuracy score is \"+str(accuracy_score(y_test,y_pred)))\n",
        "false_positive_rate, true_positive_rate, thresholds = roc_curve(y_test, y_pred)\n",
        "print(auc(false_positive_rate, true_positive_rate))\n",
        "print(roc_auc_score(y_test, y_pred))"
      ],
      "execution_count": 0,
      "outputs": [
        {
          "output_type": "stream",
          "text": [
            "[[28332  7703]\n",
            " [ 1133  2832]]\n",
            "Accuracy score is 0.7791\n",
            "0.7502426445075555\n",
            "0.7502426445075555\n"
          ],
          "name": "stdout"
        }
      ]
    }
  ]
}