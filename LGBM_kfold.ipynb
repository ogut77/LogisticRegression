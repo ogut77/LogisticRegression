{
  "nbformat": 4,
  "nbformat_minor": 0,
  "metadata": {
    "colab": {
      "name": "LGBM-kfold.ipynb",
      "version": "0.3.2",
      "provenance": [],
      "include_colab_link": true
    },
    "kernelspec": {
      "name": "python3",
      "display_name": "Python 3"
    }
  },
  "cells": [
    {
      "cell_type": "markdown",
      "metadata": {
        "id": "view-in-github",
        "colab_type": "text"
      },
      "source": [
        "<a href=\"https://colab.research.google.com/github/ogut77/LogisticRegression/blob/master/LGBM_kfold.ipynb\" target=\"_parent\"><img src=\"https://colab.research.google.com/assets/colab-badge.svg\" alt=\"Open In Colab\"/></a>"
      ]
    },
    {
      "metadata": {
        "id": "pkm3p-bipK-x",
        "colab_type": "code",
        "colab": {
          "base_uri": "https://localhost:8080/",
          "height": 121
        },
        "outputId": "aedd106e-c6fa-4ee3-abf4-cf74979c2f6d"
      },
      "cell_type": "code",
      "source": [
        "import pandas as pd\n",
        "from google.colab import drive\n",
        "\n",
        "# This will prompt for authorization.\n",
        "drive.mount('/content/drive')"
      ],
      "execution_count": 1,
      "outputs": [
        {
          "output_type": "stream",
          "text": [
            "Go to this URL in a browser: https://accounts.google.com/o/oauth2/auth?client_id=947318989803-6bn6qk8qdgf4n4g3pfee6491hc0brc4i.apps.googleusercontent.com&redirect_uri=urn%3Aietf%3Awg%3Aoauth%3A2.0%3Aoob&scope=email%20https%3A%2F%2Fwww.googleapis.com%2Fauth%2Fdocs.test%20https%3A%2F%2Fwww.googleapis.com%2Fauth%2Fdrive%20https%3A%2F%2Fwww.googleapis.com%2Fauth%2Fdrive.photos.readonly%20https%3A%2F%2Fwww.googleapis.com%2Fauth%2Fpeopleapi.readonly&response_type=code\n",
            "\n",
            "Enter your authorization code:\n",
            "··········\n",
            "Mounted at /content/drive\n"
          ],
          "name": "stdout"
        }
      ]
    },
    {
      "metadata": {
        "id": "K1is3Ms_qDBt",
        "colab_type": "code",
        "colab": {
          "base_uri": "https://localhost:8080/",
          "height": 474
        },
        "outputId": "e2da9d9e-7a56-4975-8b2d-918840abde2a"
      },
      "cell_type": "code",
      "source": [
        "import pandas as pd\n",
        "import numpy as np\n",
        "\n",
        "from sklearn.metrics import roc_auc_score\n",
        "from sklearn.model_selection import KFold\n",
        "\n",
        "from lightgbm import LGBMClassifier\n",
        "import gc\n",
        "\n",
        "# CSV Data Loading\n",
        "data = pd.read_csv('/content/drive/My Drive/Santander/train.csv')\n",
        "test = pd.read_csv('/content/drive/My Drive/Santander/test.csv')\n",
        "sub = pd.read_csv('/content/drive/My Drive/Santander/sample_submission.csv')\n",
        "\n",
        "\n",
        "y = data['target']\n",
        "del data['target']\n",
        "data.drop(['Unnamed: 0','ID_code'], axis=1, inplace=True)\n",
        "test.drop(['Unnamed: 0','ID_code'], axis=1, inplace=True)\n",
        "\n",
        "\n",
        "# Modeling\n",
        "folds = KFold(n_splits=5, shuffle=True, random_state=123)\n",
        "oof_preds = np.zeros(data.shape[0])\n",
        "sub_preds = np.zeros(test.shape[0])\n",
        "for n_fold, (trn_idx, val_idx) in enumerate(folds.split(data)):\n",
        "    trn_x, trn_y = data.iloc[trn_idx], y.iloc[trn_idx]\n",
        "    val_x, val_y = data.iloc[val_idx], y.iloc[val_idx]\n",
        "    \n",
        "    clf = LGBMClassifier(\n",
        "        n_estimators=2000,\n",
        "        learning_rate=0.1,\n",
        "        num_leaves=123,\n",
        "        colsample_bytree=.8,\n",
        "        subsample=.9,\n",
        "        max_depth=15,\n",
        "        reg_alpha=.1,\n",
        "        reg_lambda=.1,\n",
        "        min_split_gain=.01,\n",
        "        min_child_weight=2\n",
        "    )\n",
        "    \n",
        "    clf.fit(trn_x, trn_y, \n",
        "            eval_set= [(trn_x, trn_y), (val_x, val_y)], \n",
        "            eval_metric='auc', verbose=250, early_stopping_rounds=150\n",
        "           )\n",
        "    \n",
        "    oof_preds[val_idx] = clf.predict_proba(val_x, num_iteration=clf.best_iteration_)[:, 1]\n",
        "    sub_preds += clf.predict_proba(test, num_iteration=clf.best_iteration_)[:, 1] / folds.n_splits\n",
        "    \n",
        "    print('Fold %2d AUC : %.6f' % (n_fold + 1, roc_auc_score(val_y, oof_preds[val_idx])))\n",
        "    del clf, trn_x, trn_y, val_x, val_y\n",
        "    gc.collect()\n",
        "    \n",
        "print('Full AUC score %.6f' % roc_auc_score(y, oof_preds))   \n",
        "\n",
        "sub['target'] = sub_preds\n",
        "\n",
        "sub.to_csv('/content/drive/My Drive/Santander/submissionLight.csv', index=False, float_format='%.8f')"
      ],
      "execution_count": 3,
      "outputs": [
        {
          "output_type": "stream",
          "text": [
            "Training until validation scores don't improve for 150 rounds.\n",
            "[250]\ttraining's auc: 0.999838\ttraining's binary_logloss: 0.0639669\tvalid_1's auc: 0.881791\tvalid_1's binary_logloss: 0.225034\n",
            "Early stopping, best iteration is:\n",
            "[233]\ttraining's auc: 0.999682\ttraining's binary_logloss: 0.0693493\tvalid_1's auc: 0.881377\tvalid_1's binary_logloss: 0.22466\n",
            "Fold  1 AUC : 0.881377\n",
            "Training until validation scores don't improve for 150 rounds.\n",
            "[250]\ttraining's auc: 0.999862\ttraining's binary_logloss: 0.0648364\tvalid_1's auc: 0.886181\tvalid_1's binary_logloss: 0.217501\n",
            "Early stopping, best iteration is:\n",
            "[236]\ttraining's auc: 0.999748\ttraining's binary_logloss: 0.0692357\tvalid_1's auc: 0.886111\tvalid_1's binary_logloss: 0.217336\n",
            "Fold  2 AUC : 0.886111\n",
            "Training until validation scores don't improve for 150 rounds.\n",
            "[250]\ttraining's auc: 0.999876\ttraining's binary_logloss: 0.0634816\tvalid_1's auc: 0.875854\tvalid_1's binary_logloss: 0.229124\n",
            "Early stopping, best iteration is:\n",
            "[234]\ttraining's auc: 0.999759\ttraining's binary_logloss: 0.0684801\tvalid_1's auc: 0.875266\tvalid_1's binary_logloss: 0.228801\n",
            "Fold  3 AUC : 0.875266\n",
            "Training until validation scores don't improve for 150 rounds.\n",
            "[250]\ttraining's auc: 0.99985\ttraining's binary_logloss: 0.064538\tvalid_1's auc: 0.884601\tvalid_1's binary_logloss: 0.219571\n",
            "Early stopping, best iteration is:\n",
            "[243]\ttraining's auc: 0.999802\ttraining's binary_logloss: 0.0666741\tvalid_1's auc: 0.884616\tvalid_1's binary_logloss: 0.219423\n",
            "Fold  4 AUC : 0.884616\n",
            "Training until validation scores don't improve for 150 rounds.\n",
            "[250]\ttraining's auc: 0.999839\ttraining's binary_logloss: 0.0643803\tvalid_1's auc: 0.87887\tvalid_1's binary_logloss: 0.220858\n",
            "Early stopping, best iteration is:\n",
            "[241]\ttraining's auc: 0.999785\ttraining's binary_logloss: 0.0671925\tvalid_1's auc: 0.878705\tvalid_1's binary_logloss: 0.220669\n",
            "Fold  5 AUC : 0.878705\n",
            "Full AUC score 0.881185\n"
          ],
          "name": "stdout"
        }
      ]
    }
  ]
}