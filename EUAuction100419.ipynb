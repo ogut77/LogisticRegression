{
  "nbformat": 4,
  "nbformat_minor": 0,
  "metadata": {
    "colab": {
      "name": "EUAuction100419.ipynb",
      "version": "0.3.2",
      "provenance": [],
      "collapsed_sections": [],
      "include_colab_link": true
    },
    "kernelspec": {
      "name": "python3",
      "display_name": "Python 3"
    }
  },
  "cells": [
    {
      "cell_type": "markdown",
      "metadata": {
        "id": "view-in-github",
        "colab_type": "text"
      },
      "source": [
        "<a href=\"https://colab.research.google.com/github/ogut77/LogisticRegression/blob/master/EUAuction100419.ipynb\" target=\"_parent\"><img src=\"https://colab.research.google.com/assets/colab-badge.svg\" alt=\"Open In Colab\"/></a>"
      ]
    },
    {
      "metadata": {
        "id": "5Oy-FBOFe7K1",
        "colab_type": "code",
        "outputId": "4bf03c39-6dd2-449e-d9c2-bd96eae40b3d",
        "colab": {
          "base_uri": "https://localhost:8080/",
          "height": 121
        }
      },
      "cell_type": "code",
      "source": [
        "import pandas as pd\n",
        "from google.colab import drive\n",
        "\n",
        "# This will prompt for authorization.\n",
        "drive.mount('/content/drive')\n",
        "   "
      ],
      "execution_count": 2,
      "outputs": [
        {
          "output_type": "stream",
          "text": [
            "Go to this URL in a browser: https://accounts.google.com/o/oauth2/auth?client_id=947318989803-6bn6qk8qdgf4n4g3pfee6491hc0brc4i.apps.googleusercontent.com&redirect_uri=urn%3Aietf%3Awg%3Aoauth%3A2.0%3Aoob&scope=email%20https%3A%2F%2Fwww.googleapis.com%2Fauth%2Fdocs.test%20https%3A%2F%2Fwww.googleapis.com%2Fauth%2Fdrive%20https%3A%2F%2Fwww.googleapis.com%2Fauth%2Fdrive.photos.readonly%20https%3A%2F%2Fwww.googleapis.com%2Fauth%2Fpeopleapi.readonly&response_type=code\n",
            "\n",
            "Enter your authorization code:\n",
            "··········\n",
            "Mounted at /content/drive\n"
          ],
          "name": "stdout"
        }
      ]
    },
    {
      "metadata": {
        "id": "MSyUmxzm4vZW",
        "colab_type": "code",
        "outputId": "7ea4a818-88d2-456d-ddbb-25559359a2f0",
        "colab": {
          "base_uri": "https://localhost:8080/",
          "height": 84
        }
      },
      "cell_type": "code",
      "source": [
        "!ls '/content/drive/My Drive/'\n"
      ],
      "execution_count": 0,
      "outputs": [
        {
          "output_type": "stream",
          "text": [
            " 2009.csv   2013.csv   2017.csv\t\t  ml-latesta\n",
            " 2010.csv   2014.csv   Bulldozer\t  ml-latest-smalla\n",
            " 2011.csv   2015.csv  'Colab Notebooks'   Santander\n",
            " 2012.csv   2016.csv   dt.csv\t\t  shakespeare.txt\n"
          ],
          "name": "stdout"
        }
      ]
    },
    {
      "metadata": {
        "id": "2h6Qc1znLFkF",
        "colab_type": "code",
        "outputId": "631a2e36-402a-45d0-b360-9123669b643f",
        "colab": {
          "base_uri": "https://localhost:8080/",
          "height": 272
        }
      },
      "cell_type": "code",
      "source": [
        "\n",
        "d2010=pd.read_csv('/content/drive/My Drive/2010.csv')\n",
        "d2011=pd.read_csv('/content/drive/My Drive/2011.csv')\n",
        "d2012=pd.read_csv('/content/drive/My Drive/2012.csv')\n",
        "d2013=pd.read_csv('/content/drive/My Drive/2013.csv')\n",
        "d2014=pd.read_csv('/content/drive/My Drive/2014.csv')\n",
        "d2015=pd.read_csv('/content/drive/My Drive/2015.csv')\n",
        "d2016=pd.read_csv('/content/drive/My Drive/2016.csv')\n",
        "d2017=pd.read_csv('/content/drive/My Drive/2017.csv')\n",
        "\n",
        "\n",
        "\n"
      ],
      "execution_count": 0,
      "outputs": [
        {
          "output_type": "stream",
          "text": [
            "/usr/local/lib/python3.6/dist-packages/IPython/core/interactiveshell.py:2718: DtypeWarning: Columns (27) have mixed types. Specify dtype option on import or set low_memory=False.\n",
            "  interactivity=interactivity, compiler=compiler, result=result)\n",
            "/usr/local/lib/python3.6/dist-packages/IPython/core/interactiveshell.py:2718: DtypeWarning: Columns (10,27) have mixed types. Specify dtype option on import or set low_memory=False.\n",
            "  interactivity=interactivity, compiler=compiler, result=result)\n",
            "/usr/local/lib/python3.6/dist-packages/IPython/core/interactiveshell.py:2718: DtypeWarning: Columns (18,28,39) have mixed types. Specify dtype option on import or set low_memory=False.\n",
            "  interactivity=interactivity, compiler=compiler, result=result)\n",
            "/usr/local/lib/python3.6/dist-packages/IPython/core/interactiveshell.py:2718: DtypeWarning: Columns (27,48) have mixed types. Specify dtype option on import or set low_memory=False.\n",
            "  interactivity=interactivity, compiler=compiler, result=result)\n",
            "/usr/local/lib/python3.6/dist-packages/IPython/core/interactiveshell.py:2718: DtypeWarning: Columns (8,15,21,22,27,30,42,49,51,53,58) have mixed types. Specify dtype option on import or set low_memory=False.\n",
            "  interactivity=interactivity, compiler=compiler, result=result)\n",
            "/usr/local/lib/python3.6/dist-packages/IPython/core/interactiveshell.py:2718: DtypeWarning: Columns (16) have mixed types. Specify dtype option on import or set low_memory=False.\n",
            "  interactivity=interactivity, compiler=compiler, result=result)\n",
            "/usr/local/lib/python3.6/dist-packages/IPython/core/interactiveshell.py:2718: DtypeWarning: Columns (16,18) have mixed types. Specify dtype option on import or set low_memory=False.\n",
            "  interactivity=interactivity, compiler=compiler, result=result)\n"
          ],
          "name": "stderr"
        }
      ]
    },
    {
      "metadata": {
        "id": "lzcbVz2cmHFm",
        "colab_type": "code",
        "colab": {}
      },
      "cell_type": "code",
      "source": [
        ""
      ],
      "execution_count": 0,
      "outputs": []
    },
    {
      "metadata": {
        "id": "d7o194foA53x",
        "colab_type": "code",
        "outputId": "0771fc4d-e0c9-4677-c1ed-13e3c3931325",
        "colab": {
          "base_uri": "https://localhost:8080/",
          "height": 118
        }
      },
      "cell_type": "code",
      "source": [
        "print(len(d2013))\n",
        "print(len(d2014))\n",
        "print(len(d2015))\n",
        "print(len(d2016))\n",
        "print(len(d2017))\n",
        "frames = [d2010,d2011,d2012, d2013, d2014,d2015, d2016,d2017]\n",
        "\n",
        "dt = pd.concat(frames)\n",
        "print(len(dt))"
      ],
      "execution_count": 0,
      "outputs": [
        {
          "output_type": "stream",
          "text": [
            "500221\n",
            "522344\n",
            "542597\n",
            "538181\n",
            "708840\n",
            "4231957\n"
          ],
          "name": "stdout"
        }
      ]
    },
    {
      "metadata": {
        "id": "F_3pyH6dLkzr",
        "colab_type": "code",
        "outputId": "1d6fd447-80e3-418c-8391-033d6f9c09e9",
        "colab": {
          "base_uri": "https://localhost:8080/",
          "height": 353
        }
      },
      "cell_type": "code",
      "source": [
        "\n",
        "dt['WIN_COUNTRY_CODE'].unique()\n",
        "# new data frame with split value columns \n",
        "new = dt[\"WIN_COUNTRY_CODE\"].str.split(\"---\", n = 1, expand = True) \n",
        "dt[\"WIN_COUNTRY_CODE\"]= new[0]\n",
        "dt['WIN_COUNTRY_CODE'].unique()\n"
      ],
      "execution_count": 0,
      "outputs": [
        {
          "output_type": "execute_result",
          "data": {
            "text/plain": [
              "array(['FR', 'HU', 'DE', nan, 'SE', 'PL', 'ES', 'NL', 'FI', 'DK', 'AT',\n",
              "       'RO', 'PT', 'IT', 'IE', 'UK', 'GR', 'SI', 'LT', 'CZ', 'LV', 'BE',\n",
              "       'BG', 'CH', 'HR', 'CA', 'CY', 'NO', 'EE', 'SK', 'US', 'LU', 'MT',\n",
              "       'ZW', 'KR', 'LI', 'JP', 'NZ', 'RS', 'IN', 'ZA', 'AE', 'DZ', 'MA',\n",
              "       'IS', 'MK', 'BH', 'SM', 'BY', 'UA', 'BR', 'AL', 'AW', 'BJ', 'RU',\n",
              "       'EG', 'TR', 'CN', 'AN', 'MU', 'UZ', 'IL', 'AF', 'SG', 'UG', 'TH',\n",
              "       'LK', 'AD', 'ME', 'HK', 'NE', 'UM', 'AU', 'PK', 'VN', 'PA', 'VG',\n",
              "       'MZ', 'ZM', 'VA', 'SA', 'KE', 'MN', 'UY', 'TZ', 'TW', 'CR', 'MY',\n",
              "       'LA', 'SV', 'SZ', 'OM', 'GI', 'GE', 'VI', 'SL', 'NG', 'IQ', 'TN',\n",
              "       'MC', 'BA', 'TV', 'PE', 'VU', 'IR', 'AM', 'TC', 'SN', 'BF', 'BD',\n",
              "       'TK', 'GL', 'CI', 'KG', 'KZ', 'FK', 'MD', 'JO', 'TD', 'GA', 'DJ',\n",
              "       'AR', 'CL', 'CD', 'SB', 'GS', 'SR', 'IO', 'ID', 'MR', 'NC', 'AI',\n",
              "       'FM', 'RE', 'LB', 'GP', 'MQ', 'BI', 'AO', 'JE', 'TJ', 'AG', 'ET',\n",
              "       'GM', 'BW', 'BB', 'GF', 'KP', 'CX', 'AZ', 'SH', 'KN', 'FO', 'CU',\n",
              "       'CF', 'ML', 'PF', 'YT', 'MH', 'CO', 'DO', 'LY', 'EC', 'NR', 'AX',\n",
              "       'MX', 'FJ', 'PM', 'BS', 'SD', 'TL', '1A', 'JM', 'GH', 'SC', 'PR',\n",
              "       'KH', 'BM', 'LS', 'CV', 'PH', 'MM', 'QA', 'ER', 'GT', 'TM', 'WF',\n",
              "       'BQ', 'GU', 'SY', 'NP', 'IM', 'BO', 'LR', 'VE', 'NF', 'PS', 'DM',\n",
              "       'MF', 'TO', 'SO', 'RW', 'MW', 'CM', 'KW', 'BT', 'PG', 'WS', 'CW',\n",
              "       'BZ', 'TT', 'NA', 'HT', 'GG', 'AS'], dtype=object)"
            ]
          },
          "metadata": {
            "tags": []
          },
          "execution_count": 5
        }
      ]
    },
    {
      "metadata": {
        "id": "EyP4v9nvnAu5",
        "colab_type": "code",
        "outputId": "05f40ef4-708d-45b7-cdc0-74eff82718df",
        "colab": {
          "base_uri": "https://localhost:8080/",
          "height": 2002
        }
      },
      "cell_type": "code",
      "source": [
        "dt.head().T\n"
      ],
      "execution_count": 0,
      "outputs": [
        {
          "output_type": "execute_result",
          "data": {
            "text/html": [
              "<div>\n",
              "<style scoped>\n",
              "    .dataframe tbody tr th:only-of-type {\n",
              "        vertical-align: middle;\n",
              "    }\n",
              "\n",
              "    .dataframe tbody tr th {\n",
              "        vertical-align: top;\n",
              "    }\n",
              "\n",
              "    .dataframe thead th {\n",
              "        text-align: right;\n",
              "    }\n",
              "</style>\n",
              "<table border=\"1\" class=\"dataframe\">\n",
              "  <thead>\n",
              "    <tr style=\"text-align: right;\">\n",
              "      <th></th>\n",
              "      <th>0</th>\n",
              "      <th>1</th>\n",
              "      <th>2</th>\n",
              "      <th>3</th>\n",
              "      <th>4</th>\n",
              "    </tr>\n",
              "  </thead>\n",
              "  <tbody>\n",
              "    <tr>\n",
              "      <th>ID_NOTICE_CAN</th>\n",
              "      <td>2009182880</td>\n",
              "      <td>2009182880</td>\n",
              "      <td>2009182880</td>\n",
              "      <td>2009182880</td>\n",
              "      <td>2009182880</td>\n",
              "    </tr>\n",
              "    <tr>\n",
              "      <th>TED_NOTICE_URL</th>\n",
              "      <td>ted.europa.eu/udl?uri=TED:NOTICE:182880-2009:T...</td>\n",
              "      <td>ted.europa.eu/udl?uri=TED:NOTICE:182880-2009:T...</td>\n",
              "      <td>ted.europa.eu/udl?uri=TED:NOTICE:182880-2009:T...</td>\n",
              "      <td>ted.europa.eu/udl?uri=TED:NOTICE:182880-2009:T...</td>\n",
              "      <td>ted.europa.eu/udl?uri=TED:NOTICE:182880-2009:T...</td>\n",
              "    </tr>\n",
              "    <tr>\n",
              "      <th>YEAR</th>\n",
              "      <td>2009</td>\n",
              "      <td>2009</td>\n",
              "      <td>2009</td>\n",
              "      <td>2009</td>\n",
              "      <td>2009</td>\n",
              "    </tr>\n",
              "    <tr>\n",
              "      <th>ID_TYPE</th>\n",
              "      <td>3</td>\n",
              "      <td>3</td>\n",
              "      <td>3</td>\n",
              "      <td>3</td>\n",
              "      <td>3</td>\n",
              "    </tr>\n",
              "    <tr>\n",
              "      <th>DT_DISPATCH</th>\n",
              "      <td>02-JUL-09</td>\n",
              "      <td>02-JUL-09</td>\n",
              "      <td>02-JUL-09</td>\n",
              "      <td>02-JUL-09</td>\n",
              "      <td>02-JUL-09</td>\n",
              "    </tr>\n",
              "    <tr>\n",
              "      <th>XSD_VERSION</th>\n",
              "      <td>D205</td>\n",
              "      <td>D205</td>\n",
              "      <td>D205</td>\n",
              "      <td>D205</td>\n",
              "      <td>D205</td>\n",
              "    </tr>\n",
              "    <tr>\n",
              "      <th>CANCELLED</th>\n",
              "      <td>0</td>\n",
              "      <td>0</td>\n",
              "      <td>0</td>\n",
              "      <td>0</td>\n",
              "      <td>0</td>\n",
              "    </tr>\n",
              "    <tr>\n",
              "      <th>CORRECTIONS</th>\n",
              "      <td>0</td>\n",
              "      <td>0</td>\n",
              "      <td>0</td>\n",
              "      <td>0</td>\n",
              "      <td>0</td>\n",
              "    </tr>\n",
              "    <tr>\n",
              "      <th>B_MULTIPLE_CAE</th>\n",
              "      <td>NaN</td>\n",
              "      <td>NaN</td>\n",
              "      <td>NaN</td>\n",
              "      <td>NaN</td>\n",
              "      <td>NaN</td>\n",
              "    </tr>\n",
              "    <tr>\n",
              "      <th>CAE_NAME</th>\n",
              "      <td>Wojewódzki Szpital Specjalistyczny im. Św. Raf...</td>\n",
              "      <td>Wojewódzki Szpital Specjalistyczny im. Św. Raf...</td>\n",
              "      <td>Wojewódzki Szpital Specjalistyczny im. Św. Raf...</td>\n",
              "      <td>Wojewódzki Szpital Specjalistyczny im. Św. Raf...</td>\n",
              "      <td>Wojewódzki Szpital Specjalistyczny im. Św. Raf...</td>\n",
              "    </tr>\n",
              "    <tr>\n",
              "      <th>CAE_NATIONALID</th>\n",
              "      <td>NaN</td>\n",
              "      <td>NaN</td>\n",
              "      <td>NaN</td>\n",
              "      <td>NaN</td>\n",
              "      <td>NaN</td>\n",
              "    </tr>\n",
              "    <tr>\n",
              "      <th>CAE_ADDRESS</th>\n",
              "      <td>ul. Czerwona Góra 10</td>\n",
              "      <td>ul. Czerwona Góra 10</td>\n",
              "      <td>ul. Czerwona Góra 10</td>\n",
              "      <td>ul. Czerwona Góra 10</td>\n",
              "      <td>ul. Czerwona Góra 10</td>\n",
              "    </tr>\n",
              "    <tr>\n",
              "      <th>CAE_TOWN</th>\n",
              "      <td>Chęciny</td>\n",
              "      <td>Chęciny</td>\n",
              "      <td>Chęciny</td>\n",
              "      <td>Chęciny</td>\n",
              "      <td>Chęciny</td>\n",
              "    </tr>\n",
              "    <tr>\n",
              "      <th>CAE_POSTAL_CODE</th>\n",
              "      <td>26-060</td>\n",
              "      <td>26-060</td>\n",
              "      <td>26-060</td>\n",
              "      <td>26-060</td>\n",
              "      <td>26-060</td>\n",
              "    </tr>\n",
              "    <tr>\n",
              "      <th>ISO_COUNTRY_CODE</th>\n",
              "      <td>PL</td>\n",
              "      <td>PL</td>\n",
              "      <td>PL</td>\n",
              "      <td>PL</td>\n",
              "      <td>PL</td>\n",
              "    </tr>\n",
              "    <tr>\n",
              "      <th>B_MULTIPLE_COUNTRY</th>\n",
              "      <td>NaN</td>\n",
              "      <td>NaN</td>\n",
              "      <td>NaN</td>\n",
              "      <td>NaN</td>\n",
              "      <td>NaN</td>\n",
              "    </tr>\n",
              "    <tr>\n",
              "      <th>ISO_COUNTRY_CODE_ALL</th>\n",
              "      <td>NaN</td>\n",
              "      <td>NaN</td>\n",
              "      <td>NaN</td>\n",
              "      <td>NaN</td>\n",
              "      <td>NaN</td>\n",
              "    </tr>\n",
              "    <tr>\n",
              "      <th>CAE_TYPE</th>\n",
              "      <td>6</td>\n",
              "      <td>6</td>\n",
              "      <td>6</td>\n",
              "      <td>6</td>\n",
              "      <td>6</td>\n",
              "    </tr>\n",
              "    <tr>\n",
              "      <th>EU_INST_CODE</th>\n",
              "      <td>NaN</td>\n",
              "      <td>NaN</td>\n",
              "      <td>NaN</td>\n",
              "      <td>NaN</td>\n",
              "      <td>NaN</td>\n",
              "    </tr>\n",
              "    <tr>\n",
              "      <th>MAIN_ACTIVITY</th>\n",
              "      <td>Health</td>\n",
              "      <td>Health</td>\n",
              "      <td>Health</td>\n",
              "      <td>Health</td>\n",
              "      <td>Health</td>\n",
              "    </tr>\n",
              "    <tr>\n",
              "      <th>B_ON_BEHALF</th>\n",
              "      <td>N</td>\n",
              "      <td>N</td>\n",
              "      <td>N</td>\n",
              "      <td>N</td>\n",
              "      <td>N</td>\n",
              "    </tr>\n",
              "    <tr>\n",
              "      <th>B_INVOLVES_JOINT_PROCUREMENT</th>\n",
              "      <td>NaN</td>\n",
              "      <td>NaN</td>\n",
              "      <td>NaN</td>\n",
              "      <td>NaN</td>\n",
              "      <td>NaN</td>\n",
              "    </tr>\n",
              "    <tr>\n",
              "      <th>B_AWARDED_BY_CENTRAL_BODY</th>\n",
              "      <td>NaN</td>\n",
              "      <td>NaN</td>\n",
              "      <td>NaN</td>\n",
              "      <td>NaN</td>\n",
              "      <td>NaN</td>\n",
              "    </tr>\n",
              "    <tr>\n",
              "      <th>TYPE_OF_CONTRACT</th>\n",
              "      <td>U</td>\n",
              "      <td>U</td>\n",
              "      <td>U</td>\n",
              "      <td>U</td>\n",
              "      <td>U</td>\n",
              "    </tr>\n",
              "    <tr>\n",
              "      <th>TAL_LOCATION_NUTS</th>\n",
              "      <td>NaN</td>\n",
              "      <td>NaN</td>\n",
              "      <td>NaN</td>\n",
              "      <td>NaN</td>\n",
              "      <td>NaN</td>\n",
              "    </tr>\n",
              "    <tr>\n",
              "      <th>B_FRA_AGREEMENT</th>\n",
              "      <td>N</td>\n",
              "      <td>N</td>\n",
              "      <td>N</td>\n",
              "      <td>N</td>\n",
              "      <td>N</td>\n",
              "    </tr>\n",
              "    <tr>\n",
              "      <th>FRA_ESTIMATED</th>\n",
              "      <td>NaN</td>\n",
              "      <td>NaN</td>\n",
              "      <td>NaN</td>\n",
              "      <td>NaN</td>\n",
              "      <td>NaN</td>\n",
              "    </tr>\n",
              "    <tr>\n",
              "      <th>B_FRA_CONTRACT</th>\n",
              "      <td>NaN</td>\n",
              "      <td>NaN</td>\n",
              "      <td>NaN</td>\n",
              "      <td>NaN</td>\n",
              "      <td>NaN</td>\n",
              "    </tr>\n",
              "    <tr>\n",
              "      <th>B_DYN_PURCH_SYST</th>\n",
              "      <td>NaN</td>\n",
              "      <td>NaN</td>\n",
              "      <td>NaN</td>\n",
              "      <td>NaN</td>\n",
              "      <td>NaN</td>\n",
              "    </tr>\n",
              "    <tr>\n",
              "      <th>CPV</th>\n",
              "      <td>3.3141e+07</td>\n",
              "      <td>3.3141e+07</td>\n",
              "      <td>3.3141e+07</td>\n",
              "      <td>3.3141e+07</td>\n",
              "      <td>3.3141e+07</td>\n",
              "    </tr>\n",
              "    <tr>\n",
              "      <th>...</th>\n",
              "      <td>...</td>\n",
              "      <td>...</td>\n",
              "      <td>...</td>\n",
              "      <td>...</td>\n",
              "      <td>...</td>\n",
              "    </tr>\n",
              "    <tr>\n",
              "      <th>CRIT_CODE</th>\n",
              "      <td>M</td>\n",
              "      <td>M</td>\n",
              "      <td>M</td>\n",
              "      <td>M</td>\n",
              "      <td>M</td>\n",
              "    </tr>\n",
              "    <tr>\n",
              "      <th>CRIT_PRICE_WEIGHT</th>\n",
              "      <td>NaN</td>\n",
              "      <td>NaN</td>\n",
              "      <td>NaN</td>\n",
              "      <td>NaN</td>\n",
              "      <td>NaN</td>\n",
              "    </tr>\n",
              "    <tr>\n",
              "      <th>CRIT_CRITERIA</th>\n",
              "      <td>NaN</td>\n",
              "      <td>NaN</td>\n",
              "      <td>NaN</td>\n",
              "      <td>NaN</td>\n",
              "      <td>NaN</td>\n",
              "    </tr>\n",
              "    <tr>\n",
              "      <th>CRIT_WEIGHTS</th>\n",
              "      <td>NaN</td>\n",
              "      <td>NaN</td>\n",
              "      <td>NaN</td>\n",
              "      <td>NaN</td>\n",
              "      <td>NaN</td>\n",
              "    </tr>\n",
              "    <tr>\n",
              "      <th>B_ELECTRONIC_AUCTION</th>\n",
              "      <td>N</td>\n",
              "      <td>N</td>\n",
              "      <td>N</td>\n",
              "      <td>N</td>\n",
              "      <td>N</td>\n",
              "    </tr>\n",
              "    <tr>\n",
              "      <th>NUMBER_AWARDS</th>\n",
              "      <td>52</td>\n",
              "      <td>52</td>\n",
              "      <td>52</td>\n",
              "      <td>52</td>\n",
              "      <td>52</td>\n",
              "    </tr>\n",
              "    <tr>\n",
              "      <th>ID_AWARD</th>\n",
              "      <td>2.92308e+06</td>\n",
              "      <td>2.92308e+06</td>\n",
              "      <td>2.92308e+06</td>\n",
              "      <td>2.92309e+06</td>\n",
              "      <td>2.92309e+06</td>\n",
              "    </tr>\n",
              "    <tr>\n",
              "      <th>ID_LOT_AWARDED</th>\n",
              "      <td>NaN</td>\n",
              "      <td>NaN</td>\n",
              "      <td>NaN</td>\n",
              "      <td>NaN</td>\n",
              "      <td>NaN</td>\n",
              "    </tr>\n",
              "    <tr>\n",
              "      <th>INFO_ON_NON_AWARD</th>\n",
              "      <td>NaN</td>\n",
              "      <td>NaN</td>\n",
              "      <td>NaN</td>\n",
              "      <td>NaN</td>\n",
              "      <td>NaN</td>\n",
              "    </tr>\n",
              "    <tr>\n",
              "      <th>INFO_UNPUBLISHED</th>\n",
              "      <td>N</td>\n",
              "      <td>N</td>\n",
              "      <td>N</td>\n",
              "      <td>N</td>\n",
              "      <td>N</td>\n",
              "    </tr>\n",
              "    <tr>\n",
              "      <th>B_AWARDED_TO_A_GROUP</th>\n",
              "      <td>NaN</td>\n",
              "      <td>NaN</td>\n",
              "      <td>NaN</td>\n",
              "      <td>NaN</td>\n",
              "      <td>NaN</td>\n",
              "    </tr>\n",
              "    <tr>\n",
              "      <th>WIN_NAME</th>\n",
              "      <td>SKAMEX Sp. z o.o. Sp. k.</td>\n",
              "      <td>SKAMEX Sp. z o.o. Sp. k.</td>\n",
              "      <td>ADVANCE EUROPE Sp. z o.o. Biuro Techniczno-Han...</td>\n",
              "      <td>SKAMEX Sp. z o.o. Sp. k.</td>\n",
              "      <td>BERYL MED LTD.</td>\n",
              "    </tr>\n",
              "    <tr>\n",
              "      <th>WIN_NATIONALID</th>\n",
              "      <td>NaN</td>\n",
              "      <td>NaN</td>\n",
              "      <td>NaN</td>\n",
              "      <td>NaN</td>\n",
              "      <td>NaN</td>\n",
              "    </tr>\n",
              "    <tr>\n",
              "      <th>WIN_ADDRESS</th>\n",
              "      <td>ul. Częstochowska 38/52</td>\n",
              "      <td>ul. Częstochowska 38/52</td>\n",
              "      <td>ul. Skrzetuskiego 30/3</td>\n",
              "      <td>ul. Częstochowska 38/52</td>\n",
              "      <td>ul. Racławicka 46/6</td>\n",
              "    </tr>\n",
              "    <tr>\n",
              "      <th>WIN_TOWN</th>\n",
              "      <td>Łódź</td>\n",
              "      <td>Łódź</td>\n",
              "      <td>Warszawa</td>\n",
              "      <td>Łódź</td>\n",
              "      <td>Kraków</td>\n",
              "    </tr>\n",
              "    <tr>\n",
              "      <th>WIN_POSTAL_CODE</th>\n",
              "      <td>93-121</td>\n",
              "      <td>93-121</td>\n",
              "      <td>02-726</td>\n",
              "      <td>93-121</td>\n",
              "      <td>30-017</td>\n",
              "    </tr>\n",
              "    <tr>\n",
              "      <th>WIN_COUNTRY_CODE</th>\n",
              "      <td>NaN</td>\n",
              "      <td>NaN</td>\n",
              "      <td>NaN</td>\n",
              "      <td>NaN</td>\n",
              "      <td>NaN</td>\n",
              "    </tr>\n",
              "    <tr>\n",
              "      <th>B_CONTRACTOR_SME</th>\n",
              "      <td>NaN</td>\n",
              "      <td>NaN</td>\n",
              "      <td>NaN</td>\n",
              "      <td>NaN</td>\n",
              "      <td>NaN</td>\n",
              "    </tr>\n",
              "    <tr>\n",
              "      <th>CONTRACT_NUMBER</th>\n",
              "      <td>24</td>\n",
              "      <td>26</td>\n",
              "      <td>27</td>\n",
              "      <td>28</td>\n",
              "      <td>29</td>\n",
              "    </tr>\n",
              "    <tr>\n",
              "      <th>TITLE</th>\n",
              "      <td>NaN</td>\n",
              "      <td>NaN</td>\n",
              "      <td>NaN</td>\n",
              "      <td>NaN</td>\n",
              "      <td>NaN</td>\n",
              "    </tr>\n",
              "    <tr>\n",
              "      <th>NUMBER_OFFERS</th>\n",
              "      <td>1</td>\n",
              "      <td>2</td>\n",
              "      <td>1</td>\n",
              "      <td>1</td>\n",
              "      <td>4</td>\n",
              "    </tr>\n",
              "    <tr>\n",
              "      <th>NUMBER_TENDERS_SME</th>\n",
              "      <td>NaN</td>\n",
              "      <td>NaN</td>\n",
              "      <td>NaN</td>\n",
              "      <td>NaN</td>\n",
              "      <td>NaN</td>\n",
              "    </tr>\n",
              "    <tr>\n",
              "      <th>NUMBER_TENDERS_OTHER_EU</th>\n",
              "      <td>NaN</td>\n",
              "      <td>NaN</td>\n",
              "      <td>NaN</td>\n",
              "      <td>NaN</td>\n",
              "      <td>NaN</td>\n",
              "    </tr>\n",
              "    <tr>\n",
              "      <th>NUMBER_TENDERS_NON_EU</th>\n",
              "      <td>NaN</td>\n",
              "      <td>NaN</td>\n",
              "      <td>NaN</td>\n",
              "      <td>NaN</td>\n",
              "      <td>NaN</td>\n",
              "    </tr>\n",
              "    <tr>\n",
              "      <th>NUMBER_OFFERS_ELECTR</th>\n",
              "      <td>NaN</td>\n",
              "      <td>NaN</td>\n",
              "      <td>NaN</td>\n",
              "      <td>NaN</td>\n",
              "      <td>NaN</td>\n",
              "    </tr>\n",
              "    <tr>\n",
              "      <th>AWARD_EST_VALUE_EURO</th>\n",
              "      <td>NaN</td>\n",
              "      <td>NaN</td>\n",
              "      <td>NaN</td>\n",
              "      <td>NaN</td>\n",
              "      <td>NaN</td>\n",
              "    </tr>\n",
              "    <tr>\n",
              "      <th>AWARD_VALUE_EURO</th>\n",
              "      <td>5527.89</td>\n",
              "      <td>3641.74</td>\n",
              "      <td>1525.09</td>\n",
              "      <td>5922.45</td>\n",
              "      <td>942.79</td>\n",
              "    </tr>\n",
              "    <tr>\n",
              "      <th>AWARD_VALUE_EURO_FIN_1</th>\n",
              "      <td>5527.89</td>\n",
              "      <td>3641.74</td>\n",
              "      <td>1525.09</td>\n",
              "      <td>5922.45</td>\n",
              "      <td>942.79</td>\n",
              "    </tr>\n",
              "    <tr>\n",
              "      <th>B_SUBCONTRACTED</th>\n",
              "      <td>N</td>\n",
              "      <td>N</td>\n",
              "      <td>N</td>\n",
              "      <td>N</td>\n",
              "      <td>N</td>\n",
              "    </tr>\n",
              "    <tr>\n",
              "      <th>DT_AWARD</th>\n",
              "      <td>29-MAY-09</td>\n",
              "      <td>29-MAY-09</td>\n",
              "      <td>21-MAY-09</td>\n",
              "      <td>15-JUN-09</td>\n",
              "      <td>29-MAY-09</td>\n",
              "    </tr>\n",
              "  </tbody>\n",
              "</table>\n",
              "<p>71 rows × 5 columns</p>\n",
              "</div>"
            ],
            "text/plain": [
              "                                                                              0  \\\n",
              "ID_NOTICE_CAN                                                        2009182880   \n",
              "TED_NOTICE_URL                ted.europa.eu/udl?uri=TED:NOTICE:182880-2009:T...   \n",
              "YEAR                                                                       2009   \n",
              "ID_TYPE                                                                       3   \n",
              "DT_DISPATCH                                                           02-JUL-09   \n",
              "XSD_VERSION                                                                D205   \n",
              "CANCELLED                                                                     0   \n",
              "CORRECTIONS                                                                   0   \n",
              "B_MULTIPLE_CAE                                                              NaN   \n",
              "CAE_NAME                      Wojewódzki Szpital Specjalistyczny im. Św. Raf...   \n",
              "CAE_NATIONALID                                                              NaN   \n",
              "CAE_ADDRESS                                                ul. Czerwona Góra 10   \n",
              "CAE_TOWN                                                                Chęciny   \n",
              "CAE_POSTAL_CODE                                                          26-060   \n",
              "ISO_COUNTRY_CODE                                                             PL   \n",
              "B_MULTIPLE_COUNTRY                                                          NaN   \n",
              "ISO_COUNTRY_CODE_ALL                                                        NaN   \n",
              "CAE_TYPE                                                                      6   \n",
              "EU_INST_CODE                                                                NaN   \n",
              "MAIN_ACTIVITY                                                            Health   \n",
              "B_ON_BEHALF                                                                   N   \n",
              "B_INVOLVES_JOINT_PROCUREMENT                                                NaN   \n",
              "B_AWARDED_BY_CENTRAL_BODY                                                   NaN   \n",
              "TYPE_OF_CONTRACT                                                              U   \n",
              "TAL_LOCATION_NUTS                                                           NaN   \n",
              "B_FRA_AGREEMENT                                                               N   \n",
              "FRA_ESTIMATED                                                               NaN   \n",
              "B_FRA_CONTRACT                                                              NaN   \n",
              "B_DYN_PURCH_SYST                                                            NaN   \n",
              "CPV                                                                  3.3141e+07   \n",
              "...                                                                         ...   \n",
              "CRIT_CODE                                                                     M   \n",
              "CRIT_PRICE_WEIGHT                                                           NaN   \n",
              "CRIT_CRITERIA                                                               NaN   \n",
              "CRIT_WEIGHTS                                                                NaN   \n",
              "B_ELECTRONIC_AUCTION                                                          N   \n",
              "NUMBER_AWARDS                                                                52   \n",
              "ID_AWARD                                                            2.92308e+06   \n",
              "ID_LOT_AWARDED                                                              NaN   \n",
              "INFO_ON_NON_AWARD                                                           NaN   \n",
              "INFO_UNPUBLISHED                                                              N   \n",
              "B_AWARDED_TO_A_GROUP                                                        NaN   \n",
              "WIN_NAME                                               SKAMEX Sp. z o.o. Sp. k.   \n",
              "WIN_NATIONALID                                                              NaN   \n",
              "WIN_ADDRESS                                             ul. Częstochowska 38/52   \n",
              "WIN_TOWN                                                                   Łódź   \n",
              "WIN_POSTAL_CODE                                                          93-121   \n",
              "WIN_COUNTRY_CODE                                                            NaN   \n",
              "B_CONTRACTOR_SME                                                            NaN   \n",
              "CONTRACT_NUMBER                                                              24   \n",
              "TITLE                                                                       NaN   \n",
              "NUMBER_OFFERS                                                                 1   \n",
              "NUMBER_TENDERS_SME                                                          NaN   \n",
              "NUMBER_TENDERS_OTHER_EU                                                     NaN   \n",
              "NUMBER_TENDERS_NON_EU                                                       NaN   \n",
              "NUMBER_OFFERS_ELECTR                                                        NaN   \n",
              "AWARD_EST_VALUE_EURO                                                        NaN   \n",
              "AWARD_VALUE_EURO                                                        5527.89   \n",
              "AWARD_VALUE_EURO_FIN_1                                                  5527.89   \n",
              "B_SUBCONTRACTED                                                               N   \n",
              "DT_AWARD                                                              29-MAY-09   \n",
              "\n",
              "                                                                              1  \\\n",
              "ID_NOTICE_CAN                                                        2009182880   \n",
              "TED_NOTICE_URL                ted.europa.eu/udl?uri=TED:NOTICE:182880-2009:T...   \n",
              "YEAR                                                                       2009   \n",
              "ID_TYPE                                                                       3   \n",
              "DT_DISPATCH                                                           02-JUL-09   \n",
              "XSD_VERSION                                                                D205   \n",
              "CANCELLED                                                                     0   \n",
              "CORRECTIONS                                                                   0   \n",
              "B_MULTIPLE_CAE                                                              NaN   \n",
              "CAE_NAME                      Wojewódzki Szpital Specjalistyczny im. Św. Raf...   \n",
              "CAE_NATIONALID                                                              NaN   \n",
              "CAE_ADDRESS                                                ul. Czerwona Góra 10   \n",
              "CAE_TOWN                                                                Chęciny   \n",
              "CAE_POSTAL_CODE                                                          26-060   \n",
              "ISO_COUNTRY_CODE                                                             PL   \n",
              "B_MULTIPLE_COUNTRY                                                          NaN   \n",
              "ISO_COUNTRY_CODE_ALL                                                        NaN   \n",
              "CAE_TYPE                                                                      6   \n",
              "EU_INST_CODE                                                                NaN   \n",
              "MAIN_ACTIVITY                                                            Health   \n",
              "B_ON_BEHALF                                                                   N   \n",
              "B_INVOLVES_JOINT_PROCUREMENT                                                NaN   \n",
              "B_AWARDED_BY_CENTRAL_BODY                                                   NaN   \n",
              "TYPE_OF_CONTRACT                                                              U   \n",
              "TAL_LOCATION_NUTS                                                           NaN   \n",
              "B_FRA_AGREEMENT                                                               N   \n",
              "FRA_ESTIMATED                                                               NaN   \n",
              "B_FRA_CONTRACT                                                              NaN   \n",
              "B_DYN_PURCH_SYST                                                            NaN   \n",
              "CPV                                                                  3.3141e+07   \n",
              "...                                                                         ...   \n",
              "CRIT_CODE                                                                     M   \n",
              "CRIT_PRICE_WEIGHT                                                           NaN   \n",
              "CRIT_CRITERIA                                                               NaN   \n",
              "CRIT_WEIGHTS                                                                NaN   \n",
              "B_ELECTRONIC_AUCTION                                                          N   \n",
              "NUMBER_AWARDS                                                                52   \n",
              "ID_AWARD                                                            2.92308e+06   \n",
              "ID_LOT_AWARDED                                                              NaN   \n",
              "INFO_ON_NON_AWARD                                                           NaN   \n",
              "INFO_UNPUBLISHED                                                              N   \n",
              "B_AWARDED_TO_A_GROUP                                                        NaN   \n",
              "WIN_NAME                                               SKAMEX Sp. z o.o. Sp. k.   \n",
              "WIN_NATIONALID                                                              NaN   \n",
              "WIN_ADDRESS                                             ul. Częstochowska 38/52   \n",
              "WIN_TOWN                                                                   Łódź   \n",
              "WIN_POSTAL_CODE                                                          93-121   \n",
              "WIN_COUNTRY_CODE                                                            NaN   \n",
              "B_CONTRACTOR_SME                                                            NaN   \n",
              "CONTRACT_NUMBER                                                              26   \n",
              "TITLE                                                                       NaN   \n",
              "NUMBER_OFFERS                                                                 2   \n",
              "NUMBER_TENDERS_SME                                                          NaN   \n",
              "NUMBER_TENDERS_OTHER_EU                                                     NaN   \n",
              "NUMBER_TENDERS_NON_EU                                                       NaN   \n",
              "NUMBER_OFFERS_ELECTR                                                        NaN   \n",
              "AWARD_EST_VALUE_EURO                                                        NaN   \n",
              "AWARD_VALUE_EURO                                                        3641.74   \n",
              "AWARD_VALUE_EURO_FIN_1                                                  3641.74   \n",
              "B_SUBCONTRACTED                                                               N   \n",
              "DT_AWARD                                                              29-MAY-09   \n",
              "\n",
              "                                                                              2  \\\n",
              "ID_NOTICE_CAN                                                        2009182880   \n",
              "TED_NOTICE_URL                ted.europa.eu/udl?uri=TED:NOTICE:182880-2009:T...   \n",
              "YEAR                                                                       2009   \n",
              "ID_TYPE                                                                       3   \n",
              "DT_DISPATCH                                                           02-JUL-09   \n",
              "XSD_VERSION                                                                D205   \n",
              "CANCELLED                                                                     0   \n",
              "CORRECTIONS                                                                   0   \n",
              "B_MULTIPLE_CAE                                                              NaN   \n",
              "CAE_NAME                      Wojewódzki Szpital Specjalistyczny im. Św. Raf...   \n",
              "CAE_NATIONALID                                                              NaN   \n",
              "CAE_ADDRESS                                                ul. Czerwona Góra 10   \n",
              "CAE_TOWN                                                                Chęciny   \n",
              "CAE_POSTAL_CODE                                                          26-060   \n",
              "ISO_COUNTRY_CODE                                                             PL   \n",
              "B_MULTIPLE_COUNTRY                                                          NaN   \n",
              "ISO_COUNTRY_CODE_ALL                                                        NaN   \n",
              "CAE_TYPE                                                                      6   \n",
              "EU_INST_CODE                                                                NaN   \n",
              "MAIN_ACTIVITY                                                            Health   \n",
              "B_ON_BEHALF                                                                   N   \n",
              "B_INVOLVES_JOINT_PROCUREMENT                                                NaN   \n",
              "B_AWARDED_BY_CENTRAL_BODY                                                   NaN   \n",
              "TYPE_OF_CONTRACT                                                              U   \n",
              "TAL_LOCATION_NUTS                                                           NaN   \n",
              "B_FRA_AGREEMENT                                                               N   \n",
              "FRA_ESTIMATED                                                               NaN   \n",
              "B_FRA_CONTRACT                                                              NaN   \n",
              "B_DYN_PURCH_SYST                                                            NaN   \n",
              "CPV                                                                  3.3141e+07   \n",
              "...                                                                         ...   \n",
              "CRIT_CODE                                                                     M   \n",
              "CRIT_PRICE_WEIGHT                                                           NaN   \n",
              "CRIT_CRITERIA                                                               NaN   \n",
              "CRIT_WEIGHTS                                                                NaN   \n",
              "B_ELECTRONIC_AUCTION                                                          N   \n",
              "NUMBER_AWARDS                                                                52   \n",
              "ID_AWARD                                                            2.92308e+06   \n",
              "ID_LOT_AWARDED                                                              NaN   \n",
              "INFO_ON_NON_AWARD                                                           NaN   \n",
              "INFO_UNPUBLISHED                                                              N   \n",
              "B_AWARDED_TO_A_GROUP                                                        NaN   \n",
              "WIN_NAME                      ADVANCE EUROPE Sp. z o.o. Biuro Techniczno-Han...   \n",
              "WIN_NATIONALID                                                              NaN   \n",
              "WIN_ADDRESS                                              ul. Skrzetuskiego 30/3   \n",
              "WIN_TOWN                                                               Warszawa   \n",
              "WIN_POSTAL_CODE                                                          02-726   \n",
              "WIN_COUNTRY_CODE                                                            NaN   \n",
              "B_CONTRACTOR_SME                                                            NaN   \n",
              "CONTRACT_NUMBER                                                              27   \n",
              "TITLE                                                                       NaN   \n",
              "NUMBER_OFFERS                                                                 1   \n",
              "NUMBER_TENDERS_SME                                                          NaN   \n",
              "NUMBER_TENDERS_OTHER_EU                                                     NaN   \n",
              "NUMBER_TENDERS_NON_EU                                                       NaN   \n",
              "NUMBER_OFFERS_ELECTR                                                        NaN   \n",
              "AWARD_EST_VALUE_EURO                                                        NaN   \n",
              "AWARD_VALUE_EURO                                                        1525.09   \n",
              "AWARD_VALUE_EURO_FIN_1                                                  1525.09   \n",
              "B_SUBCONTRACTED                                                               N   \n",
              "DT_AWARD                                                              21-MAY-09   \n",
              "\n",
              "                                                                              3  \\\n",
              "ID_NOTICE_CAN                                                        2009182880   \n",
              "TED_NOTICE_URL                ted.europa.eu/udl?uri=TED:NOTICE:182880-2009:T...   \n",
              "YEAR                                                                       2009   \n",
              "ID_TYPE                                                                       3   \n",
              "DT_DISPATCH                                                           02-JUL-09   \n",
              "XSD_VERSION                                                                D205   \n",
              "CANCELLED                                                                     0   \n",
              "CORRECTIONS                                                                   0   \n",
              "B_MULTIPLE_CAE                                                              NaN   \n",
              "CAE_NAME                      Wojewódzki Szpital Specjalistyczny im. Św. Raf...   \n",
              "CAE_NATIONALID                                                              NaN   \n",
              "CAE_ADDRESS                                                ul. Czerwona Góra 10   \n",
              "CAE_TOWN                                                                Chęciny   \n",
              "CAE_POSTAL_CODE                                                          26-060   \n",
              "ISO_COUNTRY_CODE                                                             PL   \n",
              "B_MULTIPLE_COUNTRY                                                          NaN   \n",
              "ISO_COUNTRY_CODE_ALL                                                        NaN   \n",
              "CAE_TYPE                                                                      6   \n",
              "EU_INST_CODE                                                                NaN   \n",
              "MAIN_ACTIVITY                                                            Health   \n",
              "B_ON_BEHALF                                                                   N   \n",
              "B_INVOLVES_JOINT_PROCUREMENT                                                NaN   \n",
              "B_AWARDED_BY_CENTRAL_BODY                                                   NaN   \n",
              "TYPE_OF_CONTRACT                                                              U   \n",
              "TAL_LOCATION_NUTS                                                           NaN   \n",
              "B_FRA_AGREEMENT                                                               N   \n",
              "FRA_ESTIMATED                                                               NaN   \n",
              "B_FRA_CONTRACT                                                              NaN   \n",
              "B_DYN_PURCH_SYST                                                            NaN   \n",
              "CPV                                                                  3.3141e+07   \n",
              "...                                                                         ...   \n",
              "CRIT_CODE                                                                     M   \n",
              "CRIT_PRICE_WEIGHT                                                           NaN   \n",
              "CRIT_CRITERIA                                                               NaN   \n",
              "CRIT_WEIGHTS                                                                NaN   \n",
              "B_ELECTRONIC_AUCTION                                                          N   \n",
              "NUMBER_AWARDS                                                                52   \n",
              "ID_AWARD                                                            2.92309e+06   \n",
              "ID_LOT_AWARDED                                                              NaN   \n",
              "INFO_ON_NON_AWARD                                                           NaN   \n",
              "INFO_UNPUBLISHED                                                              N   \n",
              "B_AWARDED_TO_A_GROUP                                                        NaN   \n",
              "WIN_NAME                                               SKAMEX Sp. z o.o. Sp. k.   \n",
              "WIN_NATIONALID                                                              NaN   \n",
              "WIN_ADDRESS                                             ul. Częstochowska 38/52   \n",
              "WIN_TOWN                                                                   Łódź   \n",
              "WIN_POSTAL_CODE                                                          93-121   \n",
              "WIN_COUNTRY_CODE                                                            NaN   \n",
              "B_CONTRACTOR_SME                                                            NaN   \n",
              "CONTRACT_NUMBER                                                              28   \n",
              "TITLE                                                                       NaN   \n",
              "NUMBER_OFFERS                                                                 1   \n",
              "NUMBER_TENDERS_SME                                                          NaN   \n",
              "NUMBER_TENDERS_OTHER_EU                                                     NaN   \n",
              "NUMBER_TENDERS_NON_EU                                                       NaN   \n",
              "NUMBER_OFFERS_ELECTR                                                        NaN   \n",
              "AWARD_EST_VALUE_EURO                                                        NaN   \n",
              "AWARD_VALUE_EURO                                                        5922.45   \n",
              "AWARD_VALUE_EURO_FIN_1                                                  5922.45   \n",
              "B_SUBCONTRACTED                                                               N   \n",
              "DT_AWARD                                                              15-JUN-09   \n",
              "\n",
              "                                                                              4  \n",
              "ID_NOTICE_CAN                                                        2009182880  \n",
              "TED_NOTICE_URL                ted.europa.eu/udl?uri=TED:NOTICE:182880-2009:T...  \n",
              "YEAR                                                                       2009  \n",
              "ID_TYPE                                                                       3  \n",
              "DT_DISPATCH                                                           02-JUL-09  \n",
              "XSD_VERSION                                                                D205  \n",
              "CANCELLED                                                                     0  \n",
              "CORRECTIONS                                                                   0  \n",
              "B_MULTIPLE_CAE                                                              NaN  \n",
              "CAE_NAME                      Wojewódzki Szpital Specjalistyczny im. Św. Raf...  \n",
              "CAE_NATIONALID                                                              NaN  \n",
              "CAE_ADDRESS                                                ul. Czerwona Góra 10  \n",
              "CAE_TOWN                                                                Chęciny  \n",
              "CAE_POSTAL_CODE                                                          26-060  \n",
              "ISO_COUNTRY_CODE                                                             PL  \n",
              "B_MULTIPLE_COUNTRY                                                          NaN  \n",
              "ISO_COUNTRY_CODE_ALL                                                        NaN  \n",
              "CAE_TYPE                                                                      6  \n",
              "EU_INST_CODE                                                                NaN  \n",
              "MAIN_ACTIVITY                                                            Health  \n",
              "B_ON_BEHALF                                                                   N  \n",
              "B_INVOLVES_JOINT_PROCUREMENT                                                NaN  \n",
              "B_AWARDED_BY_CENTRAL_BODY                                                   NaN  \n",
              "TYPE_OF_CONTRACT                                                              U  \n",
              "TAL_LOCATION_NUTS                                                           NaN  \n",
              "B_FRA_AGREEMENT                                                               N  \n",
              "FRA_ESTIMATED                                                               NaN  \n",
              "B_FRA_CONTRACT                                                              NaN  \n",
              "B_DYN_PURCH_SYST                                                            NaN  \n",
              "CPV                                                                  3.3141e+07  \n",
              "...                                                                         ...  \n",
              "CRIT_CODE                                                                     M  \n",
              "CRIT_PRICE_WEIGHT                                                           NaN  \n",
              "CRIT_CRITERIA                                                               NaN  \n",
              "CRIT_WEIGHTS                                                                NaN  \n",
              "B_ELECTRONIC_AUCTION                                                          N  \n",
              "NUMBER_AWARDS                                                                52  \n",
              "ID_AWARD                                                            2.92309e+06  \n",
              "ID_LOT_AWARDED                                                              NaN  \n",
              "INFO_ON_NON_AWARD                                                           NaN  \n",
              "INFO_UNPUBLISHED                                                              N  \n",
              "B_AWARDED_TO_A_GROUP                                                        NaN  \n",
              "WIN_NAME                                                         BERYL MED LTD.  \n",
              "WIN_NATIONALID                                                              NaN  \n",
              "WIN_ADDRESS                                                 ul. Racławicka 46/6  \n",
              "WIN_TOWN                                                                 Kraków  \n",
              "WIN_POSTAL_CODE                                                          30-017  \n",
              "WIN_COUNTRY_CODE                                                            NaN  \n",
              "B_CONTRACTOR_SME                                                            NaN  \n",
              "CONTRACT_NUMBER                                                              29  \n",
              "TITLE                                                                       NaN  \n",
              "NUMBER_OFFERS                                                                 4  \n",
              "NUMBER_TENDERS_SME                                                          NaN  \n",
              "NUMBER_TENDERS_OTHER_EU                                                     NaN  \n",
              "NUMBER_TENDERS_NON_EU                                                       NaN  \n",
              "NUMBER_OFFERS_ELECTR                                                        NaN  \n",
              "AWARD_EST_VALUE_EURO                                                        NaN  \n",
              "AWARD_VALUE_EURO                                                         942.79  \n",
              "AWARD_VALUE_EURO_FIN_1                                                   942.79  \n",
              "B_SUBCONTRACTED                                                               N  \n",
              "DT_AWARD                                                              29-MAY-09  \n",
              "\n",
              "[71 rows x 5 columns]"
            ]
          },
          "metadata": {
            "tags": []
          },
          "execution_count": 9
        }
      ]
    },
    {
      "metadata": {
        "id": "eJeoyeNYSMD6",
        "colab_type": "code",
        "colab": {}
      },
      "cell_type": "code",
      "source": [
        "dt=dt[['ID_NOTICE_CAN','YEAR','CANCELLED','CAE_TOWN','ISO_COUNTRY_CODE' ,'CAE_TYPE', 'TYPE_OF_CONTRACT'  ,'CPV', 'B_GPA',\n",
        "              'VALUE_EURO', 'VALUE_EURO_FIN_1', 'VALUE_EURO_FIN_2', 'B_EU_FUNDS', 'TOP_TYPE', 'B_ACCELERATED' ,'CRIT_CODE',\n",
        "              'B_ELECTRONIC_AUCTION', 'ID_AWARD', 'WIN_TOWN', 'WIN_COUNTRY_CODE' ,'NUMBER_OFFERS','AWARD_EST_VALUE_EURO', 'AWARD_VALUE_EURO',\n",
        "              'AWARD_VALUE_EURO_FIN_1', 'B_SUBCONTRACTED', 'DT_AWARD']]\n",
        "dt = dt.drop(columns=['CANCELLED','B_EU_FUNDS','B_ACCELERATED','CRIT_CODE'])"
      ],
      "execution_count": 0,
      "outputs": []
    },
    {
      "metadata": {
        "id": "iTFHXI6AolSh",
        "colab_type": "code",
        "colab": {}
      },
      "cell_type": "code",
      "source": [
        "dt.to_csv(\"/content/drive/My Drive/dt.csv\")"
      ],
      "execution_count": 0,
      "outputs": []
    },
    {
      "metadata": {
        "id": "MChl7Fi2BiDv",
        "colab_type": "code",
        "colab": {}
      },
      "cell_type": "code",
      "source": [
        "dt=pd.read_csv('/content/drive/My Drive/dt.csv')"
      ],
      "execution_count": 0,
      "outputs": []
    },
    {
      "metadata": {
        "id": "SBRq6ZPrCEjf",
        "colab_type": "code",
        "outputId": "3ca97942-4b21-4c7d-cd1e-c3fd2899f73a",
        "colab": {
          "base_uri": "https://localhost:8080/",
          "height": 420
        }
      },
      "cell_type": "code",
      "source": [
        "dt.dtypes"
      ],
      "execution_count": 0,
      "outputs": [
        {
          "output_type": "execute_result",
          "data": {
            "text/plain": [
              "Unnamed: 0                  int64\n",
              "ID_NOTICE_CAN               int64\n",
              "YEAR                        int64\n",
              "CAE_TOWN                   object\n",
              "ISO_COUNTRY_CODE           object\n",
              "CAE_TYPE                   object\n",
              "TYPE_OF_CONTRACT           object\n",
              "CPV                       float64\n",
              "B_GPA                      object\n",
              "VALUE_EURO                float64\n",
              "VALUE_EURO_FIN_1          float64\n",
              "VALUE_EURO_FIN_2          float64\n",
              "TOP_TYPE                   object\n",
              "B_ELECTRONIC_AUCTION       object\n",
              "ID_AWARD                  float64\n",
              "WIN_TOWN                   object\n",
              "WIN_COUNTRY_CODE           object\n",
              "NUMBER_OFFERS             float64\n",
              "AWARD_EST_VALUE_EURO      float64\n",
              "AWARD_VALUE_EURO          float64\n",
              "AWARD_VALUE_EURO_FIN_1    float64\n",
              "B_SUBCONTRACTED            object\n",
              "DT_AWARD                   object\n",
              "dtype: object"
            ]
          },
          "metadata": {
            "tags": []
          },
          "execution_count": 66
        }
      ]
    },
    {
      "metadata": {
        "id": "iYIxS-k1ouqS",
        "colab_type": "code",
        "outputId": "abbaf6b2-3944-42b2-fe46-a2c3ac360163",
        "colab": {
          "base_uri": "https://localhost:8080/",
          "height": 84
        }
      },
      "cell_type": "code",
      "source": [
        "!ls '/content/drive/My Drive/'"
      ],
      "execution_count": 0,
      "outputs": [
        {
          "output_type": "stream",
          "text": [
            " 2009.csv   2013.csv   2017.csv\t\t  ml-latesta\n",
            " 2010.csv   2014.csv   Bulldozer\t  ml-latest-smalla\n",
            " 2011.csv   2015.csv  'Colab Notebooks'   Santander\n",
            " 2012.csv   2016.csv   dt.csv\t\t  shakespeare.txt\n"
          ],
          "name": "stdout"
        }
      ]
    },
    {
      "metadata": {
        "id": "1UT3h1CEXJBJ",
        "colab_type": "code",
        "outputId": "0aff25f8-e7b4-469d-fa93-ce3858aadbc3",
        "colab": {
          "base_uri": "https://localhost:8080/",
          "height": 50
        }
      },
      "cell_type": "code",
      "source": [
        "dt.rename(columns={'TOP_TYPE': 'PROCEDURE'}, inplace=True)\n",
        "print(dt['PROCEDURE'].unique())\n",
        "import numpy as np\n",
        "\n",
        "dt['PROCEDURE']=np.where(dt['PROCEDURE']==\"NOP\",\"NOC\",dt['PROCEDURE'])\n",
        "dt['PROCEDURE']=np.where(dt['PROCEDURE']==\"NIP\",\"NIC\",dt['PROCEDURE'])\n",
        "print(dt['PROCEDURE'].unique())"
      ],
      "execution_count": 4,
      "outputs": [
        {
          "output_type": "stream",
          "text": [
            "['OPE' 'NIC' 'RES' 'NOC' 'AWP' 'COD' nan 'NOP' 'NIP' 'INP']\n",
            "['OPE' 'NIC' 'RES' 'NOC' 'AWP' 'COD' nan 'INP']\n"
          ],
          "name": "stdout"
        }
      ]
    },
    {
      "metadata": {
        "id": "Qr46PFSieePo",
        "colab_type": "code",
        "outputId": "a92083a6-1dbb-40ce-a7e6-fe6438c2c62d",
        "colab": {
          "base_uri": "https://localhost:8080/",
          "height": 101
        }
      },
      "cell_type": "code",
      "source": [
        "new=dt['CPV'].astype(str)\n",
        "# make the new columns using string indexing\n",
        "dt['CPV'] = new.str[0:2]\n",
        "dt['CPV'].unique()"
      ],
      "execution_count": 5,
      "outputs": [
        {
          "output_type": "execute_result",
          "data": {
            "text/plain": [
              "array(['15', '33', '34', '16', '22', '48', '30', '91', '31', '38', '50',\n",
              "       '77', '66', '79', '71', '90', '72', '70', '60', '80', '55', '45',\n",
              "       '75', '63', '92', '73', '32', '39', '51', '85', '93', '64', '65',\n",
              "       '42', '43', '41', '44', '18', '98', 'na', '37', '19', '24', '76',\n",
              "       '14', '35'], dtype=object)"
            ]
          },
          "metadata": {
            "tags": []
          },
          "execution_count": 5
        }
      ]
    },
    {
      "metadata": {
        "id": "DWUmKsy-X4Vt",
        "colab_type": "code",
        "outputId": "31670298-3edc-479c-dcf2-6a227b2233ff",
        "colab": {
          "base_uri": "https://localhost:8080/",
          "height": 269
        }
      },
      "cell_type": "code",
      "source": [
        "dt.rename(columns={'CPV': 'SECTOR'}, inplace=True)\n",
        "print(dt.columns)\n",
        "dt.rename(columns={'ISO_COUNTRY_CODE': 'AUTHORITY_COUNTRY', 'WIN_COUNTRY_CODE': 'WINNER_COUNTRY'}, inplace=True)\n",
        "dt['FOREIGN_WINNER']=np.where((dt['AUTHORITY_COUNTRY']!=dt['WINNER_COUNTRY']),1,0)\n",
        "print(dt.columns)"
      ],
      "execution_count": 6,
      "outputs": [
        {
          "output_type": "stream",
          "text": [
            "Index(['Unnamed: 0', 'ID_NOTICE_CAN', 'YEAR', 'CAE_TOWN', 'ISO_COUNTRY_CODE',\n",
            "       'CAE_TYPE', 'TYPE_OF_CONTRACT', 'SECTOR', 'B_GPA', 'VALUE_EURO',\n",
            "       'VALUE_EURO_FIN_1', 'VALUE_EURO_FIN_2', 'PROCEDURE',\n",
            "       'B_ELECTRONIC_AUCTION', 'ID_AWARD', 'WIN_TOWN', 'WIN_COUNTRY_CODE',\n",
            "       'NUMBER_OFFERS', 'AWARD_EST_VALUE_EURO', 'AWARD_VALUE_EURO',\n",
            "       'AWARD_VALUE_EURO_FIN_1', 'B_SUBCONTRACTED', 'DT_AWARD'],\n",
            "      dtype='object')\n",
            "Index(['Unnamed: 0', 'ID_NOTICE_CAN', 'YEAR', 'CAE_TOWN', 'AUTHORITY_COUNTRY',\n",
            "       'CAE_TYPE', 'TYPE_OF_CONTRACT', 'SECTOR', 'B_GPA', 'VALUE_EURO',\n",
            "       'VALUE_EURO_FIN_1', 'VALUE_EURO_FIN_2', 'PROCEDURE',\n",
            "       'B_ELECTRONIC_AUCTION', 'ID_AWARD', 'WIN_TOWN', 'WINNER_COUNTRY',\n",
            "       'NUMBER_OFFERS', 'AWARD_EST_VALUE_EURO', 'AWARD_VALUE_EURO',\n",
            "       'AWARD_VALUE_EURO_FIN_1', 'B_SUBCONTRACTED', 'DT_AWARD',\n",
            "       'FOREIGN_WINNER'],\n",
            "      dtype='object')\n"
          ],
          "name": "stdout"
        }
      ]
    },
    {
      "metadata": {
        "id": "sow1pRukvfIn",
        "colab_type": "code",
        "outputId": "27cbdfa2-9f75-4a3d-ee76-3ef1a95a05c4",
        "colab": {
          "base_uri": "https://localhost:8080/",
          "height": 118
        }
      },
      "cell_type": "code",
      "source": [
        "dt['EU_COUNTRY']=np.where(dt['WINNER_COUNTRY']=='AT',1,0)\n",
        "dt['EU_COUNTRY']=np.where(dt['WINNER_COUNTRY']=='BE',1,dt['EU_COUNTRY'])\n",
        "dt['EU_COUNTRY']=np.where(((dt['WINNER_COUNTRY']=='BG')&(dt['YEAR']>2007)) ,1,dt['EU_COUNTRY'])\n",
        "dt['EU_COUNTRY']=np.where(dt['WINNER_COUNTRY']=='HR',1,dt['EU_COUNTRY'])\n",
        "dt['EU_COUNTRY']=np.where(dt['WINNER_COUNTRY']=='CY',1,dt['EU_COUNTRY'])\n",
        "dt['EU_COUNTRY']=np.where(((dt['WINNER_COUNTRY']=='CZ')&(dt['YEAR']>2007)) ,1,dt['EU_COUNTRY'])\n",
        "dt['EU_COUNTRY']=np.where(dt['WINNER_COUNTRY']=='DK',1,dt['EU_COUNTRY'])\n",
        "dt['EU_COUNTRY']=np.where(dt['WINNER_COUNTRY']=='EE',1,dt['EU_COUNTRY'])\n",
        "dt['EU_COUNTRY']=np.where(dt['WINNER_COUNTRY']=='FI',1,dt['EU_COUNTRY'])\n",
        "dt['EU_COUNTRY']=np.where(dt['WINNER_COUNTRY']=='FR',1,dt['EU_COUNTRY'])\n",
        "dt['EU_COUNTRY']=np.where(dt['WINNER_COUNTRY']=='DE',1,dt['EU_COUNTRY'])\n",
        "dt['EU_COUNTRY']=np.where(dt['WINNER_COUNTRY']=='GR',1,dt['EU_COUNTRY'])\n",
        "dt['EU_COUNTRY']=np.where(dt['WINNER_COUNTRY']=='HU',1,dt['EU_COUNTRY'])\n",
        "dt['EU_COUNTRY']=np.where(dt['WINNER_COUNTRY']=='IE',1,dt['EU_COUNTRY'])\n",
        "dt['EU_COUNTRY']=np.where(dt['WINNER_COUNTRY']=='IT',1,dt['EU_COUNTRY'])\n",
        "dt['EU_COUNTRY']=np.where(dt['WINNER_COUNTRY']=='LV',1,dt['EU_COUNTRY'])\n",
        "dt['EU_COUNTRY']=np.where(dt['WINNER_COUNTRY']=='LT',1,dt['EU_COUNTRY'])\n",
        "dt['EU_COUNTRY']=np.where(dt['WINNER_COUNTRY']=='LU',1,dt['EU_COUNTRY'])\n",
        "dt['EU_COUNTRY']=np.where(dt['WINNER_COUNTRY']=='MT',1,dt['EU_COUNTRY'])\n",
        "dt['EU_COUNTRY']=np.where(dt['WINNER_COUNTRY']=='NL',1,dt['EU_COUNTRY'])\n",
        "dt['EU_COUNTRY']=np.where(dt['WINNER_COUNTRY']=='PL',1,dt['EU_COUNTRY'])\n",
        "dt['EU_COUNTRY']=np.where(dt['WINNER_COUNTRY']=='PT',1,dt['EU_COUNTRY'])\n",
        "dt['EU_COUNTRY']=np.where(((dt['WINNER_COUNTRY']=='RO')&(dt['YEAR']>2007)) ,1,dt['EU_COUNTRY'])\n",
        "dt['EU_COUNTRY']=np.where(dt['WINNER_COUNTRY']=='SK',1,dt['EU_COUNTRY'])\n",
        "dt['EU_COUNTRY']=np.where(dt['WINNER_COUNTRY']=='SI',1,dt['EU_COUNTRY'])\n",
        "dt['EU_COUNTRY']=np.where(dt['WINNER_COUNTRY']=='ES',1,dt['EU_COUNTRY'])\n",
        "dt['EU_COUNTRY']=np.where(dt['WINNER_COUNTRY']=='SE',1,dt['EU_COUNTRY'])\n",
        "dt['EU_COUNTRY']=np.where(dt['WINNER_COUNTRY']=='GB',1,dt['EU_COUNTRY'])\n",
        "dt['EU_COUNTRY'].head()"
      ],
      "execution_count": 7,
      "outputs": [
        {
          "output_type": "execute_result",
          "data": {
            "text/plain": [
              "0    1\n",
              "1    1\n",
              "2    1\n",
              "3    1\n",
              "4    1\n",
              "Name: EU_COUNTRY, dtype: int64"
            ]
          },
          "metadata": {
            "tags": []
          },
          "execution_count": 7
        }
      ]
    },
    {
      "metadata": {
        "id": "_efqPpGQRVoD",
        "colab_type": "code",
        "colab": {
          "base_uri": "https://localhost:8080/",
          "height": 67
        },
        "outputId": "72190301-22d3-4b92-dba0-26847f8c073b"
      },
      "cell_type": "code",
      "source": [
        "dt['EU_COUNTRY'].value_counts()"
      ],
      "execution_count": 8,
      "outputs": [
        {
          "output_type": "execute_result",
          "data": {
            "text/plain": [
              "1    3239980\n",
              "0     991977\n",
              "Name: EU_COUNTRY, dtype: int64"
            ]
          },
          "metadata": {
            "tags": []
          },
          "execution_count": 8
        }
      ]
    },
    {
      "metadata": {
        "id": "nkU8cwNwvqIy",
        "colab_type": "code",
        "colab": {}
      },
      "cell_type": "code",
      "source": [
        "#g eu_foreign_winner = foreign_winner*eu_country\n",
        "#g non_eu_winner = (foreign_winner ==1 & eu_country ==0\n",
        "dt['EU_FOREIGN_WINNER']=dt['FOREIGN_WINNER']*dt['EU_COUNTRY']\n",
        "dt['NON_WINNER']=np.where((dt['FOREIGN_WINNER']==1)&(dt['EU_COUNTRY']==0),1,0)"
      ],
      "execution_count": 0,
      "outputs": []
    },
    {
      "metadata": {
        "id": "nTixkRz6uaXp",
        "colab_type": "code",
        "outputId": "b367ad0f-91ff-405e-af81-7079876bfe75",
        "colab": {
          "base_uri": "https://localhost:8080/",
          "height": 67
        }
      },
      "cell_type": "code",
      "source": [
        "print(dt.PROCEDURE.unique())\n",
        "print(len(dt.PROCEDURE.unique()))\n",
        "D_PROCEDURE=pd.get_dummies(dt.PROCEDURE, prefix='PROCEDURE').iloc[:, 1:]\n",
        "D_PROCEDURE.head()\n",
        "print(len(D_PROCEDURE.columns))\n",
        "\n",
        "\n"
      ],
      "execution_count": 10,
      "outputs": [
        {
          "output_type": "stream",
          "text": [
            "['OPE' 'NIC' 'RES' 'NOC' 'AWP' 'COD' nan 'INP']\n",
            "8\n",
            "6\n"
          ],
          "name": "stdout"
        }
      ]
    },
    {
      "metadata": {
        "id": "Hc84SZxHu6l2",
        "colab_type": "code",
        "outputId": "42e2d422-3a45-4298-c61c-d99d23a6a07a",
        "colab": {
          "base_uri": "https://localhost:8080/",
          "height": 101
        }
      },
      "cell_type": "code",
      "source": [
        "print(dt.AUTHORITY_COUNTRY.unique())\n",
        "print(len(dt.AUTHORITY_COUNTRY.unique()))\n",
        "D_AUTHORITY_COUNTRY=pd.get_dummies(dt.AUTHORITY_COUNTRY, prefix='COUNTRY').iloc[:, 1:]\n",
        "print(len(D_AUTHORITY_COUNTRY.columns))\n"
      ],
      "execution_count": 11,
      "outputs": [
        {
          "output_type": "stream",
          "text": [
            "['FR' 'HU' 'DE' 'SE' 'PL' 'ES' 'NL' 'FI' 'DK' 'AT' 'RO' 'PT' 'IT' 'UK'\n",
            " 'BG' 'GR' 'SI' 'LT' 'BE' 'IE' 'LV' 'CY' 'NO' 'CH' 'MK' 'CZ' 'EE' 'SK'\n",
            " 'LU' 'MT' 'LI' 'IS' 'HR']\n",
            "33\n",
            "32\n"
          ],
          "name": "stdout"
        }
      ]
    },
    {
      "metadata": {
        "id": "6Upcb4v6xZiQ",
        "colab_type": "code",
        "outputId": "dd4ee9b6-ed1d-4644-f702-549edae25301",
        "colab": {
          "base_uri": "https://localhost:8080/",
          "height": 67
        }
      },
      "cell_type": "code",
      "source": [
        "print(dt.B_GPA.unique())\n",
        "print(len(dt.B_GPA.unique()))\n",
        "D_B_GPA=pd.get_dummies(dt.B_GPA, prefix='B_GPA').iloc[:, 1:]\n",
        "print(len(D_B_GPA.columns))\n",
        "\n"
      ],
      "execution_count": 12,
      "outputs": [
        {
          "output_type": "stream",
          "text": [
            "['Y' 'N' nan]\n",
            "3\n",
            "1\n"
          ],
          "name": "stdout"
        }
      ]
    },
    {
      "metadata": {
        "id": "A63E_oAIxs2p",
        "colab_type": "code",
        "outputId": "e623599e-c332-4497-91c1-40567c73d22c",
        "colab": {
          "base_uri": "https://localhost:8080/",
          "height": 67
        }
      },
      "cell_type": "code",
      "source": [
        "#Dummy variable for authority type. tab cae_type, g(aut_type_dum)\n",
        "print(dt.CAE_TYPE.unique())\n",
        "print(len(dt.CAE_TYPE.unique()))\n",
        "D_CAE_TYPE=pd.get_dummies(dt.CAE_TYPE, prefix='CAE_TYPE').iloc[:, 1:]\n",
        "print(len(D_CAE_TYPE.columns))\n",
        "\n",
        " "
      ],
      "execution_count": 13,
      "outputs": [
        {
          "output_type": "stream",
          "text": [
            "['8' '1' '6' 'R' '3' 'N' '4' '5A' '5' 'Z']\n",
            "10\n",
            "9\n"
          ],
          "name": "stdout"
        }
      ]
    },
    {
      "metadata": {
        "id": "WTNKMchDChCh",
        "colab_type": "code",
        "outputId": "c7d103d9-f37f-48cc-c15b-9fae646f0a75",
        "colab": {
          "base_uri": "https://localhost:8080/",
          "height": 202
        }
      },
      "cell_type": "code",
      "source": [
        "dt.CAE_TYPE.value_counts()"
      ],
      "execution_count": 14,
      "outputs": [
        {
          "output_type": "execute_result",
          "data": {
            "text/plain": [
              "6     1300338\n",
              "3      964287\n",
              "8      934316\n",
              "1      370073\n",
              "4      267910\n",
              "Z      216669\n",
              "R       87661\n",
              "N       71693\n",
              "5       17981\n",
              "5A       1029\n",
              "Name: CAE_TYPE, dtype: int64"
            ]
          },
          "metadata": {
            "tags": []
          },
          "execution_count": 14
        }
      ]
    },
    {
      "metadata": {
        "id": "HWtnWcJ4pvvS",
        "colab_type": "code",
        "outputId": "889fab32-5f59-4835-8c80-1e58b0856e44",
        "colab": {
          "base_uri": "https://localhost:8080/",
          "height": 67
        }
      },
      "cell_type": "code",
      "source": [
        "print(dt.B_ELECTRONIC_AUCTION.unique())\n",
        "print(len(dt.B_ELECTRONIC_AUCTION.unique()))\n",
        "D_ELECTRONIC_AUCTION=pd.get_dummies(dt.B_ELECTRONIC_AUCTION, prefix='B_ELECTRONIC_AUCTION').iloc[:, 1:]\n",
        "print(len(D_ELECTRONIC_AUCTION.columns))\n"
      ],
      "execution_count": 15,
      "outputs": [
        {
          "output_type": "stream",
          "text": [
            "['N' nan 'Y']\n",
            "3\n",
            "1\n"
          ],
          "name": "stdout"
        }
      ]
    },
    {
      "metadata": {
        "id": "ds4CL0-PCqRB",
        "colab_type": "code",
        "outputId": "57c28dc7-42c8-4b07-d8af-348ad12dfaa1",
        "colab": {
          "base_uri": "https://localhost:8080/",
          "height": 162
        }
      },
      "cell_type": "code",
      "source": [
        "B_ELECTRONIC_AUCTION_Y.value_counts()"
      ],
      "execution_count": 21,
      "outputs": [
        {
          "output_type": "error",
          "ename": "NameError",
          "evalue": "ignored",
          "traceback": [
            "\u001b[0;31m---------------------------------------------------------------------------\u001b[0m",
            "\u001b[0;31mNameError\u001b[0m                                 Traceback (most recent call last)",
            "\u001b[0;32m<ipython-input-21-fe4aa06bcbc1>\u001b[0m in \u001b[0;36m<module>\u001b[0;34m()\u001b[0m\n\u001b[0;32m----> 1\u001b[0;31m \u001b[0mB_ELECTRONIC_AUCTION_Y\u001b[0m\u001b[0;34m.\u001b[0m\u001b[0mvalue_counts\u001b[0m\u001b[0;34m(\u001b[0m\u001b[0;34m)\u001b[0m\u001b[0;34m\u001b[0m\u001b[0;34m\u001b[0m\u001b[0m\n\u001b[0m",
            "\u001b[0;31mNameError\u001b[0m: name 'B_ELECTRONIC_AUCTION_Y' is not defined"
          ]
        }
      ]
    },
    {
      "metadata": {
        "id": "CbX3kS9lqXpf",
        "colab_type": "code",
        "outputId": "e9965c60-3602-483b-d661-68ec0a10d1c6",
        "colab": {
          "base_uri": "https://localhost:8080/",
          "height": 284
        }
      },
      "cell_type": "code",
      "source": [
        "D_ELECTRONIC_AUCTION.describe()"
      ],
      "execution_count": 0,
      "outputs": [
        {
          "output_type": "execute_result",
          "data": {
            "text/html": [
              "<div>\n",
              "<style scoped>\n",
              "    .dataframe tbody tr th:only-of-type {\n",
              "        vertical-align: middle;\n",
              "    }\n",
              "\n",
              "    .dataframe tbody tr th {\n",
              "        vertical-align: top;\n",
              "    }\n",
              "\n",
              "    .dataframe thead th {\n",
              "        text-align: right;\n",
              "    }\n",
              "</style>\n",
              "<table border=\"1\" class=\"dataframe\">\n",
              "  <thead>\n",
              "    <tr style=\"text-align: right;\">\n",
              "      <th></th>\n",
              "      <th>B_ELECTRONIC_AUCTION_Y</th>\n",
              "    </tr>\n",
              "  </thead>\n",
              "  <tbody>\n",
              "    <tr>\n",
              "      <th>count</th>\n",
              "      <td>4.231957e+06</td>\n",
              "    </tr>\n",
              "    <tr>\n",
              "      <th>mean</th>\n",
              "      <td>3.214943e-02</td>\n",
              "    </tr>\n",
              "    <tr>\n",
              "      <th>std</th>\n",
              "      <td>1.763969e-01</td>\n",
              "    </tr>\n",
              "    <tr>\n",
              "      <th>min</th>\n",
              "      <td>0.000000e+00</td>\n",
              "    </tr>\n",
              "    <tr>\n",
              "      <th>25%</th>\n",
              "      <td>0.000000e+00</td>\n",
              "    </tr>\n",
              "    <tr>\n",
              "      <th>50%</th>\n",
              "      <td>0.000000e+00</td>\n",
              "    </tr>\n",
              "    <tr>\n",
              "      <th>75%</th>\n",
              "      <td>0.000000e+00</td>\n",
              "    </tr>\n",
              "    <tr>\n",
              "      <th>max</th>\n",
              "      <td>1.000000e+00</td>\n",
              "    </tr>\n",
              "  </tbody>\n",
              "</table>\n",
              "</div>"
            ],
            "text/plain": [
              "       B_ELECTRONIC_AUCTION_Y\n",
              "count            4.231957e+06\n",
              "mean             3.214943e-02\n",
              "std              1.763969e-01\n",
              "min              0.000000e+00\n",
              "25%              0.000000e+00\n",
              "50%              0.000000e+00\n",
              "75%              0.000000e+00\n",
              "max              1.000000e+00"
            ]
          },
          "metadata": {
            "tags": []
          },
          "execution_count": 29
        }
      ]
    },
    {
      "metadata": {
        "id": "S594nY5A290q",
        "colab_type": "code",
        "outputId": "193b7920-196b-4435-cd9d-67d926e60148",
        "colab": {
          "base_uri": "https://localhost:8080/",
          "height": 118
        }
      },
      "cell_type": "code",
      "source": [
        "print(dt.SECTOR.unique())\n",
        "print(len(dt.SECTOR.unique()))\n",
        "D_SECTOR=pd.get_dummies(dt.SECTOR, prefix='SECTOR').iloc[:, 1:]\n",
        "print(len(D_SECTOR.columns))\n"
      ],
      "execution_count": 22,
      "outputs": [
        {
          "output_type": "stream",
          "text": [
            "['15' '33' '34' '16' '22' '48' '30' '91' '31' '38' '50' '77' '66' '79'\n",
            " '71' '90' '72' '70' '60' '80' '55' '45' '75' '63' '92' '73' '32' '39'\n",
            " '51' '85' '93' '64' '65' '42' '43' '41' '44' '18' '98' 'na' '37' '19'\n",
            " '24' '76' '14' '35']\n",
            "46\n",
            "45\n"
          ],
          "name": "stdout"
        }
      ]
    },
    {
      "metadata": {
        "id": "LnmDBotg7MPC",
        "colab_type": "code",
        "outputId": "b5f5728a-95f0-4e65-b246-601b885076a2",
        "colab": {
          "base_uri": "https://localhost:8080/",
          "height": 151
        }
      },
      "cell_type": "code",
      "source": [
        "# drop if award_est_value ==.. drop if award_value_euro ==.\n",
        "dt.columns"
      ],
      "execution_count": 23,
      "outputs": [
        {
          "output_type": "execute_result",
          "data": {
            "text/plain": [
              "Index(['Unnamed: 0', 'ID_NOTICE_CAN', 'YEAR', 'CAE_TOWN', 'AUTHORITY_COUNTRY',\n",
              "       'CAE_TYPE', 'TYPE_OF_CONTRACT', 'SECTOR', 'B_GPA', 'VALUE_EURO',\n",
              "       'VALUE_EURO_FIN_1', 'VALUE_EURO_FIN_2', 'PROCEDURE',\n",
              "       'B_ELECTRONIC_AUCTION', 'ID_AWARD', 'WIN_TOWN', 'WINNER_COUNTRY',\n",
              "       'NUMBER_OFFERS', 'AWARD_EST_VALUE_EURO', 'AWARD_VALUE_EURO',\n",
              "       'AWARD_VALUE_EURO_FIN_1', 'B_SUBCONTRACTED', 'DT_AWARD',\n",
              "       'FOREIGN_WINNER', 'EU_COUNTRY', 'EU_FOREIGN_WINNER', 'NON_WINNER'],\n",
              "      dtype='object')"
            ]
          },
          "metadata": {
            "tags": []
          },
          "execution_count": 23
        }
      ]
    },
    {
      "metadata": {
        "id": "T61XseY5WQFd",
        "colab_type": "code",
        "outputId": "59af6c23-fe64-4898-e7fa-724b88633015",
        "colab": {
          "base_uri": "https://localhost:8080/",
          "height": 67
        }
      },
      "cell_type": "code",
      "source": [
        "print(dt.YEAR.unique())\n",
        "print(len(dt.YEAR.unique()))\n",
        "D_YEAR=pd.get_dummies(dt.YEAR, prefix='YEAR').iloc[:, 1:]\n",
        "print(len(D_YEAR.columns))\n"
      ],
      "execution_count": 24,
      "outputs": [
        {
          "output_type": "stream",
          "text": [
            "[2010 2011 2012 2013 2014 2015 2016 2017]\n",
            "8\n",
            "7\n"
          ],
          "name": "stdout"
        }
      ]
    },
    {
      "metadata": {
        "id": "ExoX1kkpZrbX",
        "colab_type": "code",
        "colab": {}
      },
      "cell_type": "code",
      "source": [
        "yX = pd.concat([dt['AWARD_VALUE_EURO'],dt['AWARD_EST_VALUE_EURO'],dt['NUMBER_OFFERS'],dt.YEAR,D_SECTOR,D_B_GPA,D_PROCEDURE,D_CAE_TYPE,D_ELECTRONIC_AUCTION], axis=1)\n"
      ],
      "execution_count": 0,
      "outputs": []
    },
    {
      "metadata": {
        "id": "qBCKCDd619e0",
        "colab_type": "code",
        "outputId": "e8f1dd27-ff47-4cbd-ed92-74fe92d2aa77",
        "colab": {
          "base_uri": "https://localhost:8080/",
          "height": 286
        }
      },
      "cell_type": "code",
      "source": [
        "print(yX.columns)\n",
        "len(yX)"
      ],
      "execution_count": 0,
      "outputs": [
        {
          "output_type": "stream",
          "text": [
            "Index(['AWARD_VALUE_EURO', 'AWARD_EST_VALUE_EURO', 'NUMBER_OFFERS', 'YEAR',\n",
            "       'SECTOR_15', 'SECTOR_16', 'SECTOR_18', 'SECTOR_19', 'SECTOR_22',\n",
            "       'SECTOR_24', 'SECTOR_30', 'SECTOR_31', 'SECTOR_32', 'SECTOR_33',\n",
            "       'SECTOR_34', 'SECTOR_35', 'SECTOR_37', 'SECTOR_38', 'SECTOR_39',\n",
            "       'SECTOR_41', 'SECTOR_42', 'SECTOR_43', 'SECTOR_44', 'SECTOR_45',\n",
            "       'SECTOR_48', 'SECTOR_50', 'SECTOR_51', 'SECTOR_55', 'SECTOR_60',\n",
            "       'SECTOR_63', 'SECTOR_64', 'SECTOR_65', 'SECTOR_66', 'SECTOR_70',\n",
            "       'SECTOR_71', 'SECTOR_72', 'SECTOR_73', 'SECTOR_75', 'SECTOR_76',\n",
            "       'SECTOR_77', 'SECTOR_79', 'SECTOR_80', 'SECTOR_85', 'SECTOR_90',\n",
            "       'SECTOR_91', 'SECTOR_92', 'SECTOR_93', 'SECTOR_98', 'SECTOR_na',\n",
            "       'B_GPA_Y', 'PROCEDURE_COD', 'PROCEDURE_INP', 'PROCEDURE_NIC',\n",
            "       'PROCEDURE_NOC', 'PROCEDURE_OPE', 'PROCEDURE_RES', 'CAE_TYPE_3',\n",
            "       'CAE_TYPE_4', 'CAE_TYPE_5', 'CAE_TYPE_5A', 'CAE_TYPE_6', 'CAE_TYPE_8',\n",
            "       'CAE_TYPE_N', 'CAE_TYPE_R', 'CAE_TYPE_Z', 'B_ELECTRONIC_AUCTION_Y'],\n",
            "      dtype='object')\n"
          ],
          "name": "stdout"
        },
        {
          "output_type": "execute_result",
          "data": {
            "text/plain": [
              "4231957"
            ]
          },
          "metadata": {
            "tags": []
          },
          "execution_count": 112
        }
      ]
    },
    {
      "metadata": {
        "id": "56FUVhiTaq4t",
        "colab_type": "code",
        "outputId": "429c7dd1-9b7c-485f-ff89-de810f268b89",
        "colab": {
          "base_uri": "https://localhost:8080/",
          "height": 34
        }
      },
      "cell_type": "code",
      "source": [
        "yX = yX[pd.notnull(yX['AWARD_VALUE_EURO'])]\n",
        "yX = yX[yX['AWARD_VALUE_EURO'] != 0]\n",
        "len(yX)\n",
        "\n"
      ],
      "execution_count": 26,
      "outputs": [
        {
          "output_type": "execute_result",
          "data": {
            "text/plain": [
              "2875612"
            ]
          },
          "metadata": {
            "tags": []
          },
          "execution_count": 26
        }
      ]
    },
    {
      "metadata": {
        "id": "y983RQy_2OiQ",
        "colab_type": "code",
        "outputId": "aa93d65f-7de0-4426-a828-7550b0c16417",
        "colab": {
          "base_uri": "https://localhost:8080/",
          "height": 34
        }
      },
      "cell_type": "code",
      "source": [
        "yX = yX[pd.notnull(yX['AWARD_EST_VALUE_EURO'])]\n",
        "yX = yX[yX['AWARD_EST_VALUE_EURO'] != 0]\n",
        "len(yX)\n",
        "\n"
      ],
      "execution_count": 27,
      "outputs": [
        {
          "output_type": "execute_result",
          "data": {
            "text/plain": [
              "1476395"
            ]
          },
          "metadata": {
            "tags": []
          },
          "execution_count": 27
        }
      ]
    },
    {
      "metadata": {
        "id": "tvW0BfKb2Wc6",
        "colab_type": "code",
        "outputId": "51b6e784-0cdc-47bf-b782-b76664b10c6c",
        "colab": {
          "base_uri": "https://localhost:8080/",
          "height": 34
        }
      },
      "cell_type": "code",
      "source": [
        "yX = yX[pd.notnull(yX['NUMBER_OFFERS'])]\n",
        "yX = yX[yX['NUMBER_OFFERS'] != 0]\n",
        "len(yX)"
      ],
      "execution_count": 28,
      "outputs": [
        {
          "output_type": "execute_result",
          "data": {
            "text/plain": [
              "1433056"
            ]
          },
          "metadata": {
            "tags": []
          },
          "execution_count": 28
        }
      ]
    },
    {
      "metadata": {
        "id": "URwhUOth2e0v",
        "colab_type": "code",
        "outputId": "a0b95486-faec-473a-ebc6-239807fdbc0d",
        "colab": {
          "base_uri": "https://localhost:8080/",
          "height": 34
        }
      },
      "cell_type": "code",
      "source": [
        "\n",
        "yX['LNRATIO']=(np.log(yX['AWARD_VALUE_EURO']))/(np.log(yX['AWARD_EST_VALUE_EURO']))\n",
        "yX = yX[pd.notnull(yX['LNRATIO'])]\n",
        "len(yX)\n"
      ],
      "execution_count": 29,
      "outputs": [
        {
          "output_type": "execute_result",
          "data": {
            "text/plain": [
              "1431543"
            ]
          },
          "metadata": {
            "tags": []
          },
          "execution_count": 29
        }
      ]
    },
    {
      "metadata": {
        "id": "lWmCx0iO3xmt",
        "colab_type": "code",
        "colab": {}
      },
      "cell_type": "code",
      "source": [
        "#log of 'df_train['month'] = pd.to_datetime(df_train.Date).dt.month\n",
        "yX['LN_AWARD_VALUE_EURO'] = np.log(yX['AWARD_VALUE_EURO'])\n",
        "yX['LN_AWARD_EST_VALUE_EURO'] = np.log(yX['AWARD_EST_VALUE_EURO'])"
      ],
      "execution_count": 0,
      "outputs": []
    },
    {
      "metadata": {
        "id": "Vq2i9KbOSVan",
        "colab_type": "code",
        "colab": {}
      },
      "cell_type": "code",
      "source": [
        "#LNRatıo 2 ten küçük ve -2 den büyğk\n",
        "yX = yX[(yX.LNRATIO>-2) & (yX.LNRATIO<2)]\n"
      ],
      "execution_count": 0,
      "outputs": []
    },
    {
      "metadata": {
        "id": "GtMm-QBmr4ro",
        "colab_type": "code",
        "outputId": "db4ca773-87ca-4f61-c31c-212e4dd69fc9",
        "colab": {
          "base_uri": "https://localhost:8080/",
          "height": 168
        }
      },
      "cell_type": "code",
      "source": [
        "yX['LNRATIO'].describe()"
      ],
      "execution_count": 34,
      "outputs": [
        {
          "output_type": "execute_result",
          "data": {
            "text/plain": [
              "count    1.430356e+06\n",
              "mean     9.716092e-01\n",
              "std      1.022233e-01\n",
              "min     -1.981354e+00\n",
              "25%      9.708891e-01\n",
              "50%      9.949262e-01\n",
              "75%      1.000000e+00\n",
              "max      1.999035e+00\n",
              "Name: LNRATIO, dtype: float64"
            ]
          },
          "metadata": {
            "tags": []
          },
          "execution_count": 34
        }
      ]
    },
    {
      "metadata": {
        "id": "PAo227hHrP6S",
        "colab_type": "code",
        "outputId": "b6bb96d4-933d-4a34-a065-8b85d8ca8617",
        "colab": {
          "base_uri": "https://localhost:8080/",
          "height": 286
        }
      },
      "cell_type": "code",
      "source": [
        "yX['LNRATIO'].hist(bins=100)\n"
      ],
      "execution_count": 35,
      "outputs": [
        {
          "output_type": "execute_result",
          "data": {
            "text/plain": [
              "<matplotlib.axes._subplots.AxesSubplot at 0x7fa0869803c8>"
            ]
          },
          "metadata": {
            "tags": []
          },
          "execution_count": 35
        },
        {
          "output_type": "display_data",
          "data": {
            "image/png": "[encoded data removed]",
            "text/plain": [
              "<Figure size 432x288 with 1 Axes>"
            ]
          },
          "metadata": {
            "tags": []
          }
        }
      ]
    },
    {
      "metadata": {
        "id": "qwZeshz3KVH-",
        "colab_type": "code",
        "outputId": "5f84db2f-3550-4f69-8a51-6c7737ac3ff7",
        "colab": {
          "base_uri": "https://localhost:8080/",
          "height": 286
        }
      },
      "cell_type": "code",
      "source": [
        "yX['LN_AWARD_VALUE_EURO'].hist(bins=1000)"
      ],
      "execution_count": 36,
      "outputs": [
        {
          "output_type": "execute_result",
          "data": {
            "text/plain": [
              "<matplotlib.axes._subplots.AxesSubplot at 0x7fa086855f60>"
            ]
          },
          "metadata": {
            "tags": []
          },
          "execution_count": 36
        },
        {
          "output_type": "display_data",
          "data": {
            "image/png": "[encoded data removed]",
            "text/plain": [
              "<Figure size 432x288 with 1 Axes>"
            ]
          },
          "metadata": {
            "tags": []
          }
        }
      ]
    },
    {
      "metadata": {
        "id": "2R9IzhXCr2Ja",
        "colab_type": "code",
        "outputId": "c9229746-0fc6-4993-816f-3a46bb1ac707",
        "colab": {
          "base_uri": "https://localhost:8080/",
          "height": 286
        }
      },
      "cell_type": "code",
      "source": [
        "yX['LN_AWARD_EST_VALUE_EURO'].hist(bins=1000)"
      ],
      "execution_count": 37,
      "outputs": [
        {
          "output_type": "execute_result",
          "data": {
            "text/plain": [
              "<matplotlib.axes._subplots.AxesSubplot at 0x7fa086992208>"
            ]
          },
          "metadata": {
            "tags": []
          },
          "execution_count": 37
        },
        {
          "output_type": "display_data",
          "data": {
            "image/png": "[encoded data removed]",
            "text/plain": [
              "<Figure size 432x288 with 1 Axes>"
            ]
          },
          "metadata": {
            "tags": []
          }
        }
      ]
    },
    {
      "metadata": {
        "id": "Nnb5AfWgcZTF",
        "colab_type": "code",
        "colab": {}
      },
      "cell_type": "code",
      "source": [
        ""
      ],
      "execution_count": 0,
      "outputs": []
    },
    {
      "metadata": {
        "id": "SUHNKCankbZ_",
        "colab_type": "code",
        "outputId": "ac32758f-5145-4521-e688-fa21667e18ec",
        "colab": {
          "base_uri": "https://localhost:8080/",
          "height": 286
        }
      },
      "cell_type": "code",
      "source": [
        "yX.columns"
      ],
      "execution_count": 38,
      "outputs": [
        {
          "output_type": "execute_result",
          "data": {
            "text/plain": [
              "Index(['AWARD_VALUE_EURO', 'AWARD_EST_VALUE_EURO', 'NUMBER_OFFERS', 'YEAR',\n",
              "       'SECTOR_15', 'SECTOR_16', 'SECTOR_18', 'SECTOR_19', 'SECTOR_22',\n",
              "       'SECTOR_24', 'SECTOR_30', 'SECTOR_31', 'SECTOR_32', 'SECTOR_33',\n",
              "       'SECTOR_34', 'SECTOR_35', 'SECTOR_37', 'SECTOR_38', 'SECTOR_39',\n",
              "       'SECTOR_41', 'SECTOR_42', 'SECTOR_43', 'SECTOR_44', 'SECTOR_45',\n",
              "       'SECTOR_48', 'SECTOR_50', 'SECTOR_51', 'SECTOR_55', 'SECTOR_60',\n",
              "       'SECTOR_63', 'SECTOR_64', 'SECTOR_65', 'SECTOR_66', 'SECTOR_70',\n",
              "       'SECTOR_71', 'SECTOR_72', 'SECTOR_73', 'SECTOR_75', 'SECTOR_76',\n",
              "       'SECTOR_77', 'SECTOR_79', 'SECTOR_80', 'SECTOR_85', 'SECTOR_90',\n",
              "       'SECTOR_91', 'SECTOR_92', 'SECTOR_93', 'SECTOR_98', 'SECTOR_na',\n",
              "       'B_GPA_Y', 'PROCEDURE_COD', 'PROCEDURE_INP', 'PROCEDURE_NIC',\n",
              "       'PROCEDURE_NOC', 'PROCEDURE_OPE', 'PROCEDURE_RES', 'CAE_TYPE_3',\n",
              "       'CAE_TYPE_4', 'CAE_TYPE_5', 'CAE_TYPE_5A', 'CAE_TYPE_6', 'CAE_TYPE_8',\n",
              "       'CAE_TYPE_N', 'CAE_TYPE_R', 'CAE_TYPE_Z', 'B_ELECTRONIC_AUCTION_Y',\n",
              "       'LNRATIO', 'LN_AWARD_VALUE_EURO', 'LN_AWARD_EST_VALUE_EURO'],\n",
              "      dtype='object')"
            ]
          },
          "metadata": {
            "tags": []
          },
          "execution_count": 38
        }
      ]
    },
    {
      "metadata": {
        "id": "i-GP06HGl_lG",
        "colab_type": "code",
        "colab": {}
      },
      "cell_type": "code",
      "source": [
        "train=yX[(yX.YEAR<2016)]\n",
        "valid=yX[(yX.YEAR==2016)]\n",
        "test=yX[(yX.YEAR==2017)]"
      ],
      "execution_count": 0,
      "outputs": []
    },
    {
      "metadata": {
        "id": "4Bm9jfr_l_1N",
        "colab_type": "code",
        "colab": {}
      },
      "cell_type": "code",
      "source": [
        "#drop YEAR\n",
        "y_train = train.LNRATIO\n",
        "X_train = train.drop(['AWARD_VALUE_EURO', 'AWARD_EST_VALUE_EURO', 'LNRATIO', 'LN_AWARD_VALUE_EURO'], axis=1)\n",
        "y_valid = valid.LNRATIO\n",
        "X_valid = valid.drop(['AWARD_VALUE_EURO', 'AWARD_EST_VALUE_EURO', 'LNRATIO','LN_AWARD_VALUE_EURO'], axis=1)\n",
        "y_test = test.LNRATIO\n",
        "X_test = test.drop(['AWARD_VALUE_EURO', 'AWARD_EST_VALUE_EURO',  'LNRATIO' ,'LN_AWARD_VALUE_EURO'], axis=1)\n"
      ],
      "execution_count": 0,
      "outputs": []
    },
    {
      "metadata": {
        "id": "8Rqcg7Q6clku",
        "colab_type": "code",
        "outputId": "71ba1d9f-4e2e-4024-b0f5-7c37e95c4d1c",
        "colab": {
          "base_uri": "https://localhost:8080/",
          "height": 269
        }
      },
      "cell_type": "code",
      "source": [
        "X_train.columns"
      ],
      "execution_count": 41,
      "outputs": [
        {
          "output_type": "execute_result",
          "data": {
            "text/plain": [
              "Index(['NUMBER_OFFERS', 'YEAR', 'SECTOR_15', 'SECTOR_16', 'SECTOR_18',\n",
              "       'SECTOR_19', 'SECTOR_22', 'SECTOR_24', 'SECTOR_30', 'SECTOR_31',\n",
              "       'SECTOR_32', 'SECTOR_33', 'SECTOR_34', 'SECTOR_35', 'SECTOR_37',\n",
              "       'SECTOR_38', 'SECTOR_39', 'SECTOR_41', 'SECTOR_42', 'SECTOR_43',\n",
              "       'SECTOR_44', 'SECTOR_45', 'SECTOR_48', 'SECTOR_50', 'SECTOR_51',\n",
              "       'SECTOR_55', 'SECTOR_60', 'SECTOR_63', 'SECTOR_64', 'SECTOR_65',\n",
              "       'SECTOR_66', 'SECTOR_70', 'SECTOR_71', 'SECTOR_72', 'SECTOR_73',\n",
              "       'SECTOR_75', 'SECTOR_76', 'SECTOR_77', 'SECTOR_79', 'SECTOR_80',\n",
              "       'SECTOR_85', 'SECTOR_90', 'SECTOR_91', 'SECTOR_92', 'SECTOR_93',\n",
              "       'SECTOR_98', 'SECTOR_na', 'B_GPA_Y', 'PROCEDURE_COD', 'PROCEDURE_INP',\n",
              "       'PROCEDURE_NIC', 'PROCEDURE_NOC', 'PROCEDURE_OPE', 'PROCEDURE_RES',\n",
              "       'CAE_TYPE_3', 'CAE_TYPE_4', 'CAE_TYPE_5', 'CAE_TYPE_5A', 'CAE_TYPE_6',\n",
              "       'CAE_TYPE_8', 'CAE_TYPE_N', 'CAE_TYPE_R', 'CAE_TYPE_Z',\n",
              "       'B_ELECTRONIC_AUCTION_Y', 'LN_AWARD_EST_VALUE_EURO'],\n",
              "      dtype='object')"
            ]
          },
          "metadata": {
            "tags": []
          },
          "execution_count": 41
        }
      ]
    },
    {
      "metadata": {
        "id": "x2FKI7wmbauS",
        "colab_type": "code",
        "outputId": "8bddb7f9-d5a3-4ef2-b218-734a4e67c18a",
        "colab": {
          "base_uri": "https://localhost:8080/",
          "height": 1582
        }
      },
      "cell_type": "code",
      "source": [
        "from sklearn import datasets, linear_model\n",
        "from sklearn.metrics import mean_squared_error, r2_score\n",
        "import statsmodels.api as sm\n",
        "mOLS = sm.OLS(y_train, X_train).fit()\n",
        "print(mOLS.summary())\n",
        "\n",
        "\n",
        "\n",
        "# Print out the statistics\n",
        "\n",
        "# Fit and make the predictions by the model\n"
      ],
      "execution_count": 43,
      "outputs": [
        {
          "output_type": "stream",
          "text": [
            "/usr/local/lib/python3.6/dist-packages/statsmodels/compat/pandas.py:56: FutureWarning: The pandas.core.datetools module is deprecated and will be removed in a future version. Please use the pandas.tseries module instead.\n",
            "  from pandas.core import datetools\n"
          ],
          "name": "stderr"
        },
        {
          "output_type": "stream",
          "text": [
            "                            OLS Regression Results                            \n",
            "==============================================================================\n",
            "Dep. Variable:                LNRATIO   R-squared:                       0.991\n",
            "Model:                            OLS   Adj. R-squared:                  0.991\n",
            "Method:                 Least Squares   F-statistic:                 1.833e+06\n",
            "Date:                Wed, 10 Apr 2019   Prob (F-statistic):               0.00\n",
            "Time:                        22:17:42   Log-Likelihood:             9.9893e+05\n",
            "No. Observations:             1016546   AIC:                        -1.998e+06\n",
            "Df Residuals:                 1016482   BIC:                        -1.997e+06\n",
            "Df Model:                          64                                         \n",
            "Covariance Type:            nonrobust                                         \n",
            "===========================================================================================\n",
            "                              coef    std err          t      P>|t|      [0.025      0.975]\n",
            "-------------------------------------------------------------------------------------------\n",
            "NUMBER_OFFERS            1.803e-05    1.7e-06     10.587      0.000    1.47e-05    2.14e-05\n",
            "YEAR                        0.0005   9.95e-07    513.385      0.000       0.001       0.001\n",
            "SECTOR_15                  -0.0158      0.002     -8.276      0.000      -0.020      -0.012\n",
            "SECTOR_16                  -0.0011      0.003     -0.330      0.741      -0.007       0.005\n",
            "SECTOR_18                  -0.0078      0.002     -3.553      0.000      -0.012      -0.004\n",
            "SECTOR_19                  -0.0073      0.004     -2.047      0.041      -0.014      -0.000\n",
            "SECTOR_22                  -0.0107      0.002     -4.610      0.000      -0.015      -0.006\n",
            "SECTOR_24                  -0.0219      0.002    -10.144      0.000      -0.026      -0.018\n",
            "SECTOR_30                  -0.0130      0.002     -6.818      0.000      -0.017      -0.009\n",
            "SECTOR_31                  -0.0124      0.002     -5.966      0.000      -0.017      -0.008\n",
            "SECTOR_32                  -0.0017      0.002     -0.824      0.410      -0.006       0.002\n",
            "SECTOR_33                  -0.0310      0.002    -16.856      0.000      -0.035      -0.027\n",
            "SECTOR_34                  -0.0037      0.002     -1.923      0.055      -0.007    7.13e-05\n",
            "SECTOR_35                  -0.0030      0.002     -1.279      0.201      -0.007       0.002\n",
            "SECTOR_37                  -0.0005      0.003     -0.148      0.882      -0.007       0.006\n",
            "SECTOR_38                  -0.0071      0.002     -3.727      0.000      -0.011      -0.003\n",
            "SECTOR_39                  -0.0183      0.002     -9.157      0.000      -0.022      -0.014\n",
            "SECTOR_41                   0.0015      0.007      0.220      0.826      -0.012       0.015\n",
            "SECTOR_42                  -0.0032      0.002     -1.545      0.122      -0.007       0.001\n",
            "SECTOR_43                  -0.0055      0.002     -2.395      0.017      -0.010      -0.001\n",
            "SECTOR_44                  -0.0063      0.002     -3.112      0.002      -0.010      -0.002\n",
            "SECTOR_45                  -0.0011      0.002     -0.608      0.543      -0.005       0.003\n",
            "SECTOR_48                  -0.0010      0.002     -0.463      0.643      -0.005       0.003\n",
            "SECTOR_50                  -0.0198      0.002    -10.303      0.000      -0.024      -0.016\n",
            "SECTOR_51                  -0.0007      0.004     -0.183      0.855      -0.008       0.006\n",
            "SECTOR_55                  -0.0123      0.002     -5.816      0.000      -0.016      -0.008\n",
            "SECTOR_60                  -0.0099      0.002     -4.932      0.000      -0.014      -0.006\n",
            "SECTOR_63                  -0.0071      0.002     -2.905      0.004      -0.012      -0.002\n",
            "SECTOR_64                  -0.0304      0.002    -14.383      0.000      -0.035      -0.026\n",
            "SECTOR_65                  -0.0410      0.002    -16.449      0.000      -0.046      -0.036\n",
            "SECTOR_66                  -0.0135      0.002     -6.874      0.000      -0.017      -0.010\n",
            "SECTOR_70                  -0.0455      0.003    -18.042      0.000      -0.050      -0.041\n",
            "SECTOR_71                  -0.0285      0.002    -14.938      0.000      -0.032      -0.025\n",
            "SECTOR_72                  -0.0058      0.002     -2.920      0.003      -0.010      -0.002\n",
            "SECTOR_73                  -0.0040      0.002     -1.644      0.100      -0.009       0.001\n",
            "SECTOR_75                  -0.0011      0.003     -0.378      0.706      -0.007       0.005\n",
            "SECTOR_76                  -0.0320      0.003     -9.545      0.000      -0.039      -0.025\n",
            "SECTOR_77                  -0.0389      0.002    -20.613      0.000      -0.043      -0.035\n",
            "SECTOR_79                  -0.0260      0.002    -13.473      0.000      -0.030      -0.022\n",
            "SECTOR_80                  -0.0482      0.002    -25.342      0.000      -0.052      -0.044\n",
            "SECTOR_85                  -0.0253      0.002    -13.095      0.000      -0.029      -0.022\n",
            "SECTOR_90                  -0.0159      0.002     -8.400      0.000      -0.020      -0.012\n",
            "SECTOR_91                  -0.0015      0.002     -0.721      0.471      -0.005       0.003\n",
            "SECTOR_92                  -0.0003      0.002     -0.152      0.879      -0.005       0.004\n",
            "SECTOR_93                  -0.0090      0.002     -4.190      0.000      -0.013      -0.005\n",
            "SECTOR_98                  -0.0115      0.002     -4.856      0.000      -0.016      -0.007\n",
            "SECTOR_na                  -0.0007      0.003     -0.202      0.840      -0.008       0.006\n",
            "B_GPA_Y                     0.0034      0.000     16.223      0.000       0.003       0.004\n",
            "PROCEDURE_COD               0.0224      0.003      6.801      0.000       0.016       0.029\n",
            "PROCEDURE_INP           -8.462e-18   1.86e-18     -4.544      0.000   -1.21e-17   -4.81e-18\n",
            "PROCEDURE_NIC               0.0090      0.001      9.767      0.000       0.007       0.011\n",
            "PROCEDURE_NOC               0.0091      0.001     10.985      0.000       0.007       0.011\n",
            "PROCEDURE_OPE              -0.0025      0.001     -3.991      0.000      -0.004      -0.001\n",
            "PROCEDURE_RES               0.0063      0.001      7.831      0.000       0.005       0.008\n",
            "CAE_TYPE_3                  0.0096      0.000     23.931      0.000       0.009       0.010\n",
            "CAE_TYPE_4                  0.0171      0.001     33.046      0.000       0.016       0.018\n",
            "CAE_TYPE_5                  0.0159      0.001     11.532      0.000       0.013       0.019\n",
            "CAE_TYPE_5A                 0.0220      0.007      3.321      0.001       0.009       0.035\n",
            "CAE_TYPE_6                  0.0125      0.000     34.953      0.000       0.012       0.013\n",
            "CAE_TYPE_8                  0.0058      0.000     15.984      0.000       0.005       0.007\n",
            "CAE_TYPE_N                  0.0149      0.001     19.334      0.000       0.013       0.016\n",
            "CAE_TYPE_R                  0.0120      0.001     17.181      0.000       0.011       0.013\n",
            "CAE_TYPE_Z                  0.0197      0.001     21.341      0.000       0.018       0.022\n",
            "B_ELECTRONIC_AUCTION_Y     -0.0085      0.000    -19.823      0.000      -0.009      -0.008\n",
            "LN_AWARD_EST_VALUE_EURO    -0.0040   3.81e-05   -104.337      0.000      -0.004      -0.004\n",
            "==============================================================================\n",
            "Omnibus:                   991985.474   Durbin-Watson:                   0.917\n",
            "Prob(Omnibus):                  0.000   Jarque-Bera (JB):        108046234.020\n",
            "Skew:                          -4.515   Prob(JB):                         0.00\n",
            "Kurtosis:                      52.693   Cond. No.                     1.01e+16\n",
            "==============================================================================\n",
            "\n",
            "Warnings:\n",
            "[1] Standard Errors assume that the covariance matrix of the errors is correctly specified.\n",
            "[2] The smallest eigenvalue is 4.04e-20. This might indicate that there are\n",
            "strong multicollinearity problems or that the design matrix is singular.\n"
          ],
          "name": "stdout"
        }
      ]
    },
    {
      "metadata": {
        "id": "rMTGWoqtS9YS",
        "colab_type": "code",
        "colab": {}
      },
      "cell_type": "code",
      "source": [
        "import math\n",
        "from scipy.stats import spearmanr\n",
        "def rmse(x,y): return math.sqrt(((x-y)**2).mean())\n",
        "def print_score(m):\n",
        "    print('Train rmse '+str(rmse(m.predict(X_train), y_train)))\n",
        "    print('Valid rmse '+str(rmse(m.predict(X_valid), y_valid)))\n",
        "    print('Test  rmse '+str(rmse(m.predict(X_test), y_test)))\n",
        "    print('Valid '+str(spearmanr(m.predict(X_valid),y_valid)))\n",
        "    print('Test  '+str(spearmanr(m.predict(X_test),y_test)))"
      ],
      "execution_count": 0,
      "outputs": []
    },
    {
      "metadata": {
        "id": "x5WozUtuM_GN",
        "colab_type": "code",
        "outputId": "1d8fb2a4-cd47-4fc4-d55d-b5393c61d676",
        "colab": {
          "base_uri": "https://localhost:8080/",
          "height": 101
        }
      },
      "cell_type": "code",
      "source": [
        "print_score(mOLS)"
      ],
      "execution_count": 99,
      "outputs": [
        {
          "output_type": "stream",
          "text": [
            "Train rmse 0.09057207809704944\n",
            "Valid rmse 0.10579410159980854\n",
            "Test  rmse 0.13505533262771724\n",
            "Valid SpearmanrResult(correlation=0.08288641043614868, pvalue=9.569166133190016e-270)\n",
            "Test  SpearmanrResult(correlation=0.09460473301764899, pvalue=0.0)\n"
          ],
          "name": "stdout"
        }
      ]
    },
    {
      "metadata": {
        "id": "Onbg9Twq1rf2",
        "colab_type": "code",
        "outputId": "12bc6c4a-0f7a-4d9b-ea7c-741a97c2c9b0",
        "colab": {
          "base_uri": "https://localhost:8080/",
          "height": 34
        }
      },
      "cell_type": "code",
      "source": [
        "import lightgbm as lgb\n",
        "import pandas as pd\n",
        "import numpy as np\n",
        "from scipy.stats import spearmanr\n",
        "from sklearn.preprocessing import QuantileTransformer\n",
        "import matplotlib.pyplot as plt\n",
        "d_train = lgb.Dataset(X_train, label=y_train)\n",
        "\n",
        "params = {}\n",
        "params['learning_rate'] = 0.1 # 0.004 # shrinkage_rate\n",
        "params['sub_feature'] = 0.35    # feature_fraction (small values => use very different submodels)\n",
        "params['min_data'] = 500        # min_data_in_leaf\n",
        "params['max_depth'] = 2\n",
        "params['objective'] = 'regression'\n",
        "nboost=130\n",
        "\n",
        "reg = lgb.train(params, d_train, nboost)\n",
        "y_pred = reg.predict(X_valid)\n",
        "\n",
        "\n"
      ],
      "execution_count": 100,
      "outputs": [
        {
          "output_type": "execute_result",
          "data": {
            "text/plain": [
              "SpearmanrResult(correlation=0.22033443807109132, pvalue=0.0)"
            ]
          },
          "metadata": {
            "tags": []
          },
          "execution_count": 100
        }
      ]
    },
    {
      "metadata": {
        "id": "WXSTfETpOw3L",
        "colab_type": "code",
        "outputId": "71f50d90-3940-4b00-ebbe-266fe268f1c0",
        "colab": {
          "base_uri": "https://localhost:8080/",
          "height": 101
        }
      },
      "cell_type": "code",
      "source": [
        "print_score(reg)"
      ],
      "execution_count": 101,
      "outputs": [
        {
          "output_type": "stream",
          "text": [
            "Train rmse 0.08752449327179158\n",
            "Valid rmse 0.10302026209048269\n",
            "Test  rmse 0.1330138309972311\n",
            "Valid SpearmanrResult(correlation=0.22033443807109135, pvalue=0.0)\n",
            "Test  SpearmanrResult(correlation=0.2000938054814441, pvalue=0.0)\n"
          ],
          "name": "stdout"
        }
      ]
    },
    {
      "metadata": {
        "id": "bmDYV3TR8LT2",
        "colab_type": "code",
        "outputId": "459b4277-fb0b-477e-b4bc-1343708c555a",
        "colab": {
          "base_uri": "https://localhost:8080/",
          "height": 353
        }
      },
      "cell_type": "code",
      "source": [
        "from sklearn.metrics import roc_auc_score\n",
        "from sklearn.model_selection import KFold\n",
        "\n",
        "from lightgbm import LGBMRegressor\n",
        "import gc\n",
        "\n",
        "clf = LGBMRegressor(learning_rate = 0.01, # 0.004 # shrinkage_rate,\n",
        "sub_feature = 0.35 ,   # feature_fraction (small values => use very different submodels),\n",
        "min_data = 100   ,    # min_data_in_leaf,\n",
        "max_depth = 3)\n",
        "\n",
        "clf.fit(\n",
        "    X_train, \n",
        "    y_train, \n",
        "   eval_metric=\"rmse\",\n",
        "    eval_set=[(X_train, y_train), (X_valid, y_valid)],   verbose=10,early_stopping_rounds = 100)\n",
        "   "
      ],
      "execution_count": 72,
      "outputs": [
        {
          "output_type": "stream",
          "text": [
            "Training until validation scores don't improve for 100 rounds.\n",
            "[10]\ttraining's rmse: 0.0913938\ttraining's l2: 0.00835283\tvalid_1's rmse: 0.10649\tvalid_1's l2: 0.0113402\n",
            "[20]\ttraining's rmse: 0.0912395\ttraining's l2: 0.00832465\tvalid_1's rmse: 0.106387\tvalid_1's l2: 0.0113181\n",
            "[30]\ttraining's rmse: 0.0910467\ttraining's l2: 0.0082895\tvalid_1's rmse: 0.10623\tvalid_1's l2: 0.0112848\n",
            "[40]\ttraining's rmse: 0.0908558\ttraining's l2: 0.00825478\tvalid_1's rmse: 0.106045\tvalid_1's l2: 0.0112455\n",
            "[50]\ttraining's rmse: 0.0906586\ttraining's l2: 0.00821898\tvalid_1's rmse: 0.105855\tvalid_1's l2: 0.0112052\n",
            "[60]\ttraining's rmse: 0.090538\ttraining's l2: 0.00819713\tvalid_1's rmse: 0.105757\tvalid_1's l2: 0.0111845\n",
            "[70]\ttraining's rmse: 0.0904174\ttraining's l2: 0.00817531\tvalid_1's rmse: 0.105647\tvalid_1's l2: 0.0111612\n",
            "[80]\ttraining's rmse: 0.0903381\ttraining's l2: 0.00816097\tvalid_1's rmse: 0.105588\tvalid_1's l2: 0.0111489\n",
            "[90]\ttraining's rmse: 0.0901716\ttraining's l2: 0.00813091\tvalid_1's rmse: 0.105428\tvalid_1's l2: 0.0111151\n",
            "[100]\ttraining's rmse: 0.0900288\ttraining's l2: 0.00810518\tvalid_1's rmse: 0.105303\tvalid_1's l2: 0.0110887\n",
            "Did not meet early stopping. Best iteration is:\n",
            "[100]\ttraining's rmse: 0.0900288\ttraining's l2: 0.00810518\tvalid_1's rmse: 0.105303\tvalid_1's l2: 0.0110887\n"
          ],
          "name": "stdout"
        },
        {
          "output_type": "execute_result",
          "data": {
            "text/plain": [
              "LGBMRegressor(boosting_type='gbdt', class_weight=None, colsample_bytree=1.0,\n",
              "       importance_type='split', learning_rate=0.01, max_depth=3,\n",
              "       min_child_samples=20, min_child_weight=0.001, min_data=100,\n",
              "       min_split_gain=0.0, n_estimators=100, n_jobs=-1, num_leaves=31,\n",
              "       objective=None, random_state=None, reg_alpha=0.0, reg_lambda=0.0,\n",
              "       silent=True, sub_feature=0.35, subsample=1.0,\n",
              "       subsample_for_bin=200000, subsample_freq=0)"
            ]
          },
          "metadata": {
            "tags": []
          },
          "execution_count": 72
        }
      ]
    },
    {
      "metadata": {
        "id": "uA5SvpXanqKG",
        "colab_type": "code",
        "colab": {
          "base_uri": "https://localhost:8080/",
          "height": 756
        },
        "outputId": "a64b12cb-f997-4e71-b8bc-3b1f0733b630"
      },
      "cell_type": "code",
      "source": [
        "from sklearn.metrics import roc_auc_score\n",
        "from sklearn.model_selection import KFold\n",
        "\n",
        "from lightgbm import LGBMRegressor\n",
        "import gc\n",
        "\n",
        "clf = LGBMRegressor(max_depth=3,boosting_type= 'gbdt',\n",
        "                               n_estimators=999999,\n",
        "                               learning_rate=0.1,\n",
        "                               colsample_bytree=0.3,\n",
        "                               num_leaves=500,\n",
        "                               metric='rmse',\n",
        "                              \n",
        "                               n_jobs=-1)\n",
        "\n",
        "clf.fit(\n",
        "    X_train, \n",
        "    y_train, \n",
        "   eval_metric=\"rmse\",\n",
        "    eval_set=[(X_train, y_train), (X_valid, y_valid)],   verbose=50,early_stopping_rounds = 300)\n",
        "   "
      ],
      "execution_count": 82,
      "outputs": [
        {
          "output_type": "stream",
          "text": [
            "Training until validation scores don't improve for 300 rounds.\n",
            "[50]\ttraining's rmse: 0.0870827\tvalid_1's rmse: 0.103029\n",
            "[100]\ttraining's rmse: 0.085657\tvalid_1's rmse: 0.102153\n",
            "[150]\ttraining's rmse: 0.0848225\tvalid_1's rmse: 0.101964\n",
            "[200]\ttraining's rmse: 0.0843201\tvalid_1's rmse: 0.101286\n",
            "[250]\ttraining's rmse: 0.0838962\tvalid_1's rmse: 0.100927\n",
            "[300]\ttraining's rmse: 0.0834731\tvalid_1's rmse: 0.100718\n",
            "[350]\ttraining's rmse: 0.0829825\tvalid_1's rmse: 0.100742\n",
            "[400]\ttraining's rmse: 0.0825794\tvalid_1's rmse: 0.100605\n",
            "[450]\ttraining's rmse: 0.0823351\tvalid_1's rmse: 0.100458\n",
            "[500]\ttraining's rmse: 0.0821577\tvalid_1's rmse: 0.100422\n",
            "[550]\ttraining's rmse: 0.0820008\tvalid_1's rmse: 0.100294\n",
            "[600]\ttraining's rmse: 0.0818309\tvalid_1's rmse: 0.100133\n",
            "[650]\ttraining's rmse: 0.0816229\tvalid_1's rmse: 0.10017\n",
            "[700]\ttraining's rmse: 0.0814523\tvalid_1's rmse: 0.100206\n",
            "[750]\ttraining's rmse: 0.081339\tvalid_1's rmse: 0.100102\n",
            "[800]\ttraining's rmse: 0.0812009\tvalid_1's rmse: 0.10006\n",
            "[850]\ttraining's rmse: 0.0810455\tvalid_1's rmse: 0.100047\n",
            "[900]\ttraining's rmse: 0.0809544\tvalid_1's rmse: 0.100103\n",
            "[950]\ttraining's rmse: 0.0808441\tvalid_1's rmse: 0.100106\n",
            "[1000]\ttraining's rmse: 0.0807238\tvalid_1's rmse: 0.100071\n",
            "[1050]\ttraining's rmse: 0.0806623\tvalid_1's rmse: 0.100063\n",
            "[1100]\ttraining's rmse: 0.0805308\tvalid_1's rmse: 0.10009\n",
            "[1150]\ttraining's rmse: 0.0803682\tvalid_1's rmse: 0.100032\n",
            "[1200]\ttraining's rmse: 0.080289\tvalid_1's rmse: 0.0999868\n",
            "[1250]\ttraining's rmse: 0.0802214\tvalid_1's rmse: 0.099975\n",
            "[1300]\ttraining's rmse: 0.0801525\tvalid_1's rmse: 0.0999614\n",
            "[1350]\ttraining's rmse: 0.0800915\tvalid_1's rmse: 0.0999431\n",
            "[1400]\ttraining's rmse: 0.0799897\tvalid_1's rmse: 0.09989\n",
            "[1450]\ttraining's rmse: 0.0799357\tvalid_1's rmse: 0.0999121\n",
            "[1500]\ttraining's rmse: 0.0799016\tvalid_1's rmse: 0.0999264\n",
            "[1550]\ttraining's rmse: 0.0798394\tvalid_1's rmse: 0.0999698\n",
            "[1600]\ttraining's rmse: 0.0797944\tvalid_1's rmse: 0.0999439\n",
            "[1650]\ttraining's rmse: 0.0797699\tvalid_1's rmse: 0.0999445\n",
            "[1700]\ttraining's rmse: 0.079739\tvalid_1's rmse: 0.099916\n",
            "Early stopping, best iteration is:\n",
            "[1426]\ttraining's rmse: 0.0799525\tvalid_1's rmse: 0.0998746\n"
          ],
          "name": "stdout"
        },
        {
          "output_type": "execute_result",
          "data": {
            "text/plain": [
              "LGBMRegressor(boosting_type='gbdt', class_weight=None, colsample_bytree=0.3,\n",
              "       importance_type='split', learning_rate=0.1, max_depth=3,\n",
              "       metric='rmse', min_child_samples=20, min_child_weight=0.001,\n",
              "       min_split_gain=0.0, n_estimators=999999, n_jobs=-1, num_leaves=500,\n",
              "       objective=None, random_state=None, reg_alpha=0.0, reg_lambda=0.0,\n",
              "       silent=True, subsample=1.0, subsample_for_bin=200000,\n",
              "       subsample_freq=0)"
            ]
          },
          "metadata": {
            "tags": []
          },
          "execution_count": 82
        }
      ]
    },
    {
      "metadata": {
        "id": "ZILiKNg9PNpf",
        "colab_type": "code",
        "outputId": "3b8d7353-db6f-421a-fe08-3c8fe7410cec",
        "colab": {
          "base_uri": "https://localhost:8080/",
          "height": 101
        }
      },
      "cell_type": "code",
      "source": [
        "print_score(clf)"
      ],
      "execution_count": 102,
      "outputs": [
        {
          "output_type": "stream",
          "text": [
            "Train rmse 0.07995252220886676\n",
            "Valid rmse 0.09987455888884458\n",
            "Test  rmse 0.13374132349994078\n",
            "Valid SpearmanrResult(correlation=0.2298039105219526, pvalue=0.0)\n",
            "Test  SpearmanrResult(correlation=0.20430777012026516, pvalue=0.0)\n"
          ],
          "name": "stdout"
        }
      ]
    },
    {
      "metadata": {
        "id": "Q_bNur2gGLxi",
        "colab_type": "code",
        "colab": {}
      },
      "cell_type": "code",
      "source": [
        "d_train = lgb.Dataset(X_train, label=y_train)\n",
        "d_train = lgb.Dataset(X_train, label=y_train)\n",
        "\n",
        "params = {}\n",
        "params['learning_rate'] = 0.1 # 0.004 # shrinkage_rate\n",
        "params['sub_feature'] = 0.35    # feature_fraction (small values => use very different submodels)\n",
        "params['min_data'] = 2        # min_data_in_leaf\n",
        "params['max_depth'] = -1\n",
        "\n",
        "nboost=130\n",
        "\n",
        "reg = lgb.train(params, d_train,nboost)\n",
        "pred = reg.predict(X_valid)\n",
        "\n",
        "n_minus = 30\n",
        "params['max_depth'] = -1\n",
        "reg = lgb.train(params, d_train, nboost-n_minus)\n",
        "alpha = 0.5\n",
        "pred = alpha*pred + (1-alpha)*reg.predict(X_valid)\n",
        "\n",
        "n_plus = 40\n",
        "params['max_depth'] = -1\n",
        "params['bagging_freq'] = 5\n",
        "params['bagging_fraction'] = 0.78\n",
        "params['learning_rate'] = 0.1\n",
        "reg = lgb.train(params, d_train, nboost+n_plus)\n",
        "\n",
        "alpha = 0.78\n",
        "y_predLGB2 = alpha*pred + (1-alpha)*reg.predict(X_valid)\n",
        "\n",
        "\n"
      ],
      "execution_count": 0,
      "outputs": []
    },
    {
      "metadata": {
        "id": "tl_qHVvrPc_T",
        "colab_type": "code",
        "outputId": "cb5adc25-193f-408e-ae70-987c9894cd4b",
        "colab": {
          "base_uri": "https://localhost:8080/",
          "height": 101
        }
      },
      "cell_type": "code",
      "source": [
        "print_score(reg)"
      ],
      "execution_count": 104,
      "outputs": [
        {
          "output_type": "stream",
          "text": [
            "Train rmse 0.0774521049131395\n",
            "Valid rmse 0.09984709298379753\n",
            "Test  rmse 0.1315645486969577\n",
            "Valid SpearmanrResult(correlation=0.24891026930986543, pvalue=0.0)\n",
            "Test  SpearmanrResult(correlation=0.2139131118573997, pvalue=0.0)\n"
          ],
          "name": "stdout"
        }
      ]
    },
    {
      "metadata": {
        "id": "SzIz2NJnG7JT",
        "colab_type": "code",
        "outputId": "b4bb49bb-d0d2-41d2-a382-40214986cea7",
        "colab": {
          "base_uri": "https://localhost:8080/",
          "height": 101
        }
      },
      "cell_type": "code",
      "source": [
        "import math\n",
        "import re\n",
        "\n",
        "from sklearn import metrics\n",
        "from sklearn.ensemble import RandomForestRegressor\n",
        "from pandas.api.types import is_numeric_dtype\n",
        "\n",
        "import matplotlib.pyplot as plt\n",
        "m = RandomForestRegressor(n_estimators=1, max_depth=3, bootstrap=False, n_jobs=-1)\n",
        "m.fit(X_train, y_train)\n",
        "y_predRF=m.predict(X_valid)\n",
        "print_score(m)\n",
        "\n"
      ],
      "execution_count": 105,
      "outputs": [
        {
          "output_type": "stream",
          "text": [
            "Train rmse 0.08857708895086958\n",
            "Valid rmse 0.10383447684074283\n",
            "Test  rmse 0.13388428195930757\n",
            "Valid SpearmanrResult(correlation=0.20064253499359652, pvalue=0.0)\n",
            "Test  SpearmanrResult(correlation=0.2189905808220823, pvalue=0.0)\n"
          ],
          "name": "stdout"
        }
      ]
    },
    {
      "metadata": {
        "id": "LfJFTWoyuB5f",
        "colab_type": "code",
        "outputId": "66ee99a6-4f9c-4a6b-baed-2ae9becae4cc",
        "colab": {
          "base_uri": "https://localhost:8080/",
          "height": 101
        }
      },
      "cell_type": "code",
      "source": [
        "m = RandomForestRegressor(n_estimators=1, max_depth=6, bootstrap=False, n_jobs=-1)\n",
        "m.fit(X_train, y_train)\n",
        "y_predRF=m.predict(X_valid)\n",
        "print_score(m)\n",
        "\n"
      ],
      "execution_count": 106,
      "outputs": [
        {
          "output_type": "stream",
          "text": [
            "Train rmse 0.08061367578793967\n",
            "Valid rmse 0.09985744179205057\n",
            "Test  rmse 0.13173243285549285\n",
            "Valid SpearmanrResult(correlation=0.22848280636271823, pvalue=0.0)\n",
            "Test  SpearmanrResult(correlation=0.20878597012099995, pvalue=0.0)\n"
          ],
          "name": "stdout"
        }
      ]
    },
    {
      "metadata": {
        "id": "Arxk4JStuNTx",
        "colab_type": "code",
        "outputId": "aa759b07-4cd4-4aa3-97b8-9fc6c0083657",
        "colab": {
          "base_uri": "https://localhost:8080/",
          "height": 101
        }
      },
      "cell_type": "code",
      "source": [
        "m = RandomForestRegressor(n_estimators=1, max_depth=10, bootstrap=False, n_jobs=-1)\n",
        "m.fit(X_train, y_train)\n",
        "y_predRF=m.predict(X_valid)\n",
        "print_score(m)\n",
        "\n"
      ],
      "execution_count": 107,
      "outputs": [
        {
          "output_type": "stream",
          "text": [
            "Train rmse 0.07533633220962248\n",
            "Valid rmse 0.10221263735036899\n",
            "Test  rmse 0.1330910763126516\n",
            "Valid SpearmanrResult(correlation=0.24564161012934033, pvalue=0.0)\n",
            "Test  SpearmanrResult(correlation=0.21647136610003204, pvalue=0.0)\n"
          ],
          "name": "stdout"
        }
      ]
    },
    {
      "metadata": {
        "id": "mtYkerWmrUym",
        "colab_type": "code",
        "outputId": "dfb1e15a-4b69-4d1e-e5cf-ca7e55fd7546",
        "colab": {
          "base_uri": "https://localhost:8080/",
          "height": 353
        }
      },
      "cell_type": "code",
      "source": [
        "from xgboost import XGBRegressor\n",
        "from xgboost import plot_importance\n",
        "mXGB = XGBRegressor(\n",
        "    max_depth=8,\n",
        "    n_estimators=1000,\n",
        "    min_child_weight=300, \n",
        "    colsample_bytree=0.8, \n",
        "    subsample=0.8, \n",
        "    eta=0.3,    \n",
        "    seed=42)\n",
        "\n",
        "mXGB.fit(\n",
        "    X_train, \n",
        "    y_train, \n",
        "    eval_metric=\"rmse\", \n",
        "    eval_set=[(X_train, y_train), (X_valid, y_valid)], \n",
        "    verbose=10, \n",
        "    early_stopping_rounds = 10)"
      ],
      "execution_count": 96,
      "outputs": [
        {
          "output_type": "stream",
          "text": [
            "[0]\tvalidation_0-rmse:0.435113\tvalidation_1-rmse:0.437673\n",
            "Multiple eval metrics have been passed: 'validation_1-rmse' will be used for early stopping.\n",
            "\n",
            "Will train until validation_1-rmse hasn't improved in 10 rounds.\n",
            "[10]\tvalidation_0-rmse:0.169609\tvalidation_1-rmse:0.178473\n",
            "[20]\tvalidation_0-rmse:0.094705\tvalidation_1-rmse:0.111364\n",
            "[30]\tvalidation_0-rmse:0.080235\tvalidation_1-rmse:0.100289\n",
            "[40]\tvalidation_0-rmse:0.078034\tvalidation_1-rmse:0.098833\n",
            "[50]\tvalidation_0-rmse:0.077576\tvalidation_1-rmse:0.098677\n",
            "[60]\tvalidation_0-rmse:0.077436\tvalidation_1-rmse:0.098618\n",
            "[70]\tvalidation_0-rmse:0.077335\tvalidation_1-rmse:0.09861\n",
            "Stopping. Best iteration:\n",
            "[65]\tvalidation_0-rmse:0.077387\tvalidation_1-rmse:0.098592\n",
            "\n"
          ],
          "name": "stdout"
        },
        {
          "output_type": "execute_result",
          "data": {
            "text/plain": [
              "XGBRegressor(base_score=0.5, booster='gbtree', colsample_bylevel=1,\n",
              "       colsample_bytree=0.8, eta=0.3, gamma=0, learning_rate=0.1,\n",
              "       max_delta_step=0, max_depth=8, min_child_weight=300, missing=None,\n",
              "       n_estimators=1000, n_jobs=1, nthread=None, objective='reg:linear',\n",
              "       random_state=0, reg_alpha=0, reg_lambda=1, scale_pos_weight=1,\n",
              "       seed=42, silent=True, subsample=0.8)"
            ]
          },
          "metadata": {
            "tags": []
          },
          "execution_count": 96
        }
      ]
    },
    {
      "metadata": {
        "id": "-zjyFjeCtmIl",
        "colab_type": "code",
        "outputId": "ec38d371-dc72-4f7a-bfc8-d4057e83bf66",
        "colab": {
          "base_uri": "https://localhost:8080/",
          "height": 101
        }
      },
      "cell_type": "code",
      "source": [
        "\n",
        "print_score(mXGB)\n"
      ],
      "execution_count": 108,
      "outputs": [
        {
          "output_type": "stream",
          "text": [
            "Train rmse 0.07728648590917814\n",
            "Valid rmse 0.09862472449541347\n",
            "Test  rmse 0.13168164420852133\n",
            "Valid SpearmanrResult(correlation=0.25204199464422733, pvalue=0.0)\n",
            "Test  SpearmanrResult(correlation=0.21019897774098528, pvalue=0.0)\n"
          ],
          "name": "stdout"
        }
      ]
    }
  ]
}